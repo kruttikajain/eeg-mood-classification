{
  "nbformat": 4,
  "nbformat_minor": 0,
  "metadata": {
    "kernelspec": {
      "display_name": "Python 3",
      "language": "python",
      "name": "python3"
    },
    "language_info": {
      "codemirror_mode": {
        "name": "ipython",
        "version": 3
      },
      "file_extension": ".py",
      "mimetype": "text/x-python",
      "name": "python",
      "nbconvert_exporter": "python",
      "pygments_lexer": "ipython3",
      "version": "3.7.6"
    },
    "colab": {
      "name": "CNN Baseline.ipynb",
      "provenance": []
    }
  },
  "cells": [
    {
      "cell_type": "code",
      "metadata": {
        "id": "XtZyMdquHZe6",
        "colab_type": "code",
        "colab": {
          "base_uri": "https://localhost:8080/",
          "height": 81
        },
        "outputId": "74ae0e07-3033-4b9e-df14-c0a6e68c917b"
      },
      "source": [
        "from keras.preprocessing.image import array_to_img, img_to_array, load_img, ImageDataGenerator"
      ],
      "execution_count": 5,
      "outputs": [
        {
          "output_type": "stream",
          "text": [
            "Using TensorFlow backend.\n"
          ],
          "name": "stderr"
        },
        {
          "output_type": "display_data",
          "data": {
            "text/html": [
              "<p style=\"color: red;\">\n",
              "The default version of TensorFlow in Colab will soon switch to TensorFlow 2.x.<br>\n",
              "We recommend you <a href=\"https://www.tensorflow.org/guide/migrate\" target=\"_blank\">upgrade</a> now \n",
              "or ensure your notebook will continue to use TensorFlow 1.x via the <code>%tensorflow_version 1.x</code> magic:\n",
              "<a href=\"https://colab.research.google.com/notebooks/tensorflow_version.ipynb\" target=\"_blank\">more info</a>.</p>\n"
            ],
            "text/plain": [
              "<IPython.core.display.HTML object>"
            ]
          },
          "metadata": {
            "tags": []
          }
        }
      ]
    },
    {
      "cell_type": "code",
      "metadata": {
        "id": "oDot5tyiIVZo",
        "colab_type": "code",
        "colab": {
          "base_uri": "https://localhost:8080/",
          "height": 143
        },
        "outputId": "c07db9c6-aba8-44fc-b069-052e934cbacb"
      },
      "source": [
        "# Colab settings/mount\n",
        "from google.colab import drive\n",
        "drive.mount('/content/gdrive')\n",
        "%cd gdrive/My\\ Drive/CSE\\ 240/Project/Data"
      ],
      "execution_count": 1,
      "outputs": [
        {
          "output_type": "stream",
          "text": [
            "Go to this URL in a browser: https://accounts.google.com/o/oauth2/auth?client_id=947318989803-6bn6qk8qdgf4n4g3pfee6491hc0brc4i.apps.googleusercontent.com&redirect_uri=urn%3aietf%3awg%3aoauth%3a2.0%3aoob&response_type=code&scope=email%20https%3a%2f%2fwww.googleapis.com%2fauth%2fdocs.test%20https%3a%2f%2fwww.googleapis.com%2fauth%2fdrive%20https%3a%2f%2fwww.googleapis.com%2fauth%2fdrive.photos.readonly%20https%3a%2f%2fwww.googleapis.com%2fauth%2fpeopleapi.readonly\n",
            "\n",
            "Enter your authorization code:\n",
            "··········\n",
            "Mounted at /content/gdrive\n",
            "/content/gdrive/My Drive/CSE 240/Project/Data\n"
          ],
          "name": "stdout"
        }
      ]
    },
    {
      "cell_type": "code",
      "metadata": {
        "id": "C9wUwPkmIqE_",
        "colab_type": "code",
        "colab": {
          "base_uri": "https://localhost:8080/",
          "height": 35
        },
        "outputId": "5b8ed161-4be8-4809-d90d-78a623fb0a38"
      },
      "source": [
        ""
      ],
      "execution_count": 2,
      "outputs": [
        {
          "output_type": "stream",
          "text": [
            "\u001b[0m\u001b[01;34mSpectrograms\u001b[0m/\n"
          ],
          "name": "stdout"
        }
      ]
    },
    {
      "cell_type": "code",
      "metadata": {
        "id": "sS-F1iC3HZfD",
        "colab_type": "code",
        "colab": {}
      },
      "source": [
        "img = load_img('Spectrograms/train/concentration/S001E02_AF3.png')"
      ],
      "execution_count": 0,
      "outputs": []
    },
    {
      "cell_type": "code",
      "metadata": {
        "id": "F-g_4KvFHZfL",
        "colab_type": "code",
        "colab": {
          "base_uri": "https://localhost:8080/",
          "height": 87
        },
        "outputId": "6af5bd27-cc07-4213-ba6d-054b54b75d2c"
      },
      "source": [
        "print(type(img))\n",
        "print(img.format)\n",
        "print(img.mode)\n",
        "print(img.size)"
      ],
      "execution_count": 13,
      "outputs": [
        {
          "output_type": "stream",
          "text": [
            "<class 'PIL.Image.Image'>\n",
            "None\n",
            "RGB\n",
            "(432, 288)\n"
          ],
          "name": "stdout"
        }
      ]
    },
    {
      "cell_type": "code",
      "metadata": {
        "id": "5smDQZ8ZHZfR",
        "colab_type": "code",
        "colab": {
          "base_uri": "https://localhost:8080/",
          "height": 87
        },
        "outputId": "e951d112-fe6f-46cb-d15b-5e1065a7c8a9"
      },
      "source": [
        "print(type(img))\n",
        "# convert to numpy array\n",
        "img_array = img_to_array(img)\n",
        "print(img_array.dtype)\n",
        "print(img_array.shape)\n",
        "# convert back to image\n",
        "img_pil = array_to_img(img_array)\n",
        "print(type(img))"
      ],
      "execution_count": 14,
      "outputs": [
        {
          "output_type": "stream",
          "text": [
            "<class 'PIL.Image.Image'>\n",
            "float32\n",
            "(288, 432, 3)\n",
            "<class 'PIL.Image.Image'>\n"
          ],
          "name": "stdout"
        }
      ]
    },
    {
      "cell_type": "code",
      "metadata": {
        "id": "jnYVP4KHHZfc",
        "colab_type": "code",
        "colab": {
          "base_uri": "https://localhost:8080/",
          "height": 1000
        },
        "outputId": "550c2301-0f66-41b2-98be-fe49abe90d67"
      },
      "source": [
        "import os\n",
        "import numpy as np\n",
        "import pandas as pd\n",
        "base_path = \"Spectrograms/concentration\"\n",
        "data_array = []\n",
        "for foldername in os.listdir(base_path):\n",
        "  print(foldername)\n",
        "  array = np.zeros((288,432,1))\n",
        "  for filename in os.listdir(os.path.join(base_path, foldername)):\n",
        "    example = foldername\n",
        "    channel = filename.split('.')[0].split(\"_\")[1]\n",
        "    filepath = os.path.join(os.path.join(base_path, foldername), filename)\n",
        "    #print(filename,filepath)\n",
        "    img = load_img(filepath)\n",
        "    img_array = img_to_array(img)\n",
        "    #print(img_array.shape, array.shape)\n",
        "    array = np.concatenate((array, img_array), axis=2)\n",
        "    #print(img_array.shape, array.shape)\n",
        "  data_array.append(np.delete(array,0,2))\n",
        "#print(data_array['S025E02'].shape)\n",
        "print(np.array(data_array).shape)"
      ],
      "execution_count": 63,
      "outputs": [
        {
          "output_type": "stream",
          "text": [
            "S001E02\n",
            "S001E04\n",
            "S002E04\n",
            "S003E04\n",
            "S005E04\n",
            "S006E04\n",
            "S009E04\n",
            "S008E04\n",
            "S007E04\n",
            "S010E04\n",
            "S011E04\n",
            "S014E04\n",
            "S012E04\n",
            "S013E04\n",
            "S016E04\n",
            "S015E04\n",
            "S020E04\n",
            "S019E04\n",
            "S018E04\n",
            "S017E04\n",
            "S023E04\n",
            "S022E04\n",
            "S021E04\n",
            "S026E04\n",
            "S025E04\n",
            "S024E04\n",
            "S030E04\n",
            "S029E04\n",
            "S028E04\n",
            "S027E04\n",
            "S002E02\n",
            "S004E02\n",
            "S003E02\n",
            "S008E02\n",
            "S007E02\n",
            "S006E02\n",
            "S005E02\n",
            "S011E02\n",
            "S010E02\n",
            "S009E02\n",
            "S013E02\n",
            "S012E02\n",
            "S015E02\n",
            "S014E02\n",
            "S018E02\n",
            "S017E02\n",
            "S016E02\n",
            "S021E02\n",
            "S020E02\n",
            "S019E02\n",
            "S025E02\n",
            "S024E02\n",
            "S023E02\n",
            "S022E02\n",
            "S026E02\n",
            "S029E02\n",
            "S028E02\n",
            "S027E02\n",
            "S004E04\n",
            "S030E02\n",
            "(60, 288, 432, 42)\n"
          ],
          "name": "stdout"
        }
      ]
    },
    {
      "cell_type": "code",
      "metadata": {
        "id": "1QX7rdZXHZfm",
        "colab_type": "code",
        "colab": {
          "base_uri": "https://localhost:8080/",
          "height": 70
        },
        "outputId": "299de186-b837-4e7d-c9a6-2dabfdaa544d"
      },
      "source": [
        "datagen = ImageDataGenerator()\n",
        "train_base_path = \"Spectrograms/train\"\n",
        "test_base_path = \"Spectrograms/test\"\n",
        "validation_base_path = \"Spectrograms/validation\"\n",
        "train_generator = datagen.flow_from_directory(\n",
        "        train_base_path,\n",
        "        target_size=(288, 432),\n",
        "        class_mode='binary')\n",
        "test_generator = datagen.flow_from_directory(\n",
        "        test_base_path,\n",
        "        target_size=(288, 432),\n",
        "        class_mode='binary')\n",
        "validation_generator = datagen.flow_from_directory(\n",
        "        validation_base_path,\n",
        "        target_size=(288, 432),\n",
        "        class_mode='binary')"
      ],
      "execution_count": 9,
      "outputs": [
        {
          "output_type": "stream",
          "text": [
            "Found 1344 images belonging to 2 classes.\n",
            "Found 168 images belonging to 2 classes.\n",
            "Found 168 images belonging to 2 classes.\n"
          ],
          "name": "stdout"
        }
      ]
    },
    {
      "cell_type": "code",
      "metadata": {
        "id": "N9ZzdNEHHZfx",
        "colab_type": "code",
        "colab": {
          "base_uri": "https://localhost:8080/",
          "height": 52
        },
        "outputId": "b5df5766-0a98-4107-e37a-6a26b63c186e"
      },
      "source": [
        "# confirm the iterator works\n",
        "batchX, batchy = train_generator.next()\n",
        "print('Batch shape=%s, min=%.3f, max=%.3f' % (batchX.shape, batchX.min(), batchX.max()))\n",
        "batchX, batchy = validation_generator.next()\n",
        "print('Batch shape=%s, min=%.3f, max=%.3f' % (batchX.shape, batchX.min(), batchX.max()))"
      ],
      "execution_count": 10,
      "outputs": [
        {
          "output_type": "stream",
          "text": [
            "Batch shape=(32, 288, 432, 3), min=0.000, max=255.000\n",
            "Batch shape=(32, 288, 432, 3), min=0.000, max=255.000\n"
          ],
          "name": "stdout"
        }
      ]
    },
    {
      "cell_type": "code",
      "metadata": {
        "id": "gWr9HkIrHZf3",
        "colab_type": "code",
        "colab": {},
        "outputId": "946cc62b-c175-4aba-d81a-2ce2ae4f11ce"
      },
      "source": [
        "from keras.models import Sequential\n",
        "from keras.layers import Conv2D, Dense, Flatten, MaxPooling2D\n",
        "\n",
        "#create model\n",
        "model = Sequential()\n",
        "#add model layers\n",
        "model.add(Conv2D(64, kernel_size=3, activation='relu', input_shape=(288, 432, 3)))\n",
        "model.add(MaxPooling2D(pool_size=(2, 2)))\n",
        "model.add(Conv2D(32, kernel_size=3, activation='relu'))\n",
        "model.add(MaxPooling2D(pool_size=(2, 2)))\n",
        "model.add(Flatten())\n",
        "model.add(Dense(100, activation='relu'))\n",
        "model.add(Dense(1, activation='sigmoid'))"
      ],
      "execution_count": 0,
      "outputs": [
        {
          "output_type": "stream",
          "text": [
            "WARNING:tensorflow:From C:\\Users\\omkar\\Anaconda3\\lib\\site-packages\\keras\\backend\\tensorflow_backend.py:74: The name tf.get_default_graph is deprecated. Please use tf.compat.v1.get_default_graph instead.\n",
            "\n",
            "WARNING:tensorflow:From C:\\Users\\omkar\\Anaconda3\\lib\\site-packages\\keras\\backend\\tensorflow_backend.py:517: The name tf.placeholder is deprecated. Please use tf.compat.v1.placeholder instead.\n",
            "\n",
            "WARNING:tensorflow:From C:\\Users\\omkar\\Anaconda3\\lib\\site-packages\\keras\\backend\\tensorflow_backend.py:4138: The name tf.random_uniform is deprecated. Please use tf.random.uniform instead.\n",
            "\n",
            "WARNING:tensorflow:From C:\\Users\\omkar\\Anaconda3\\lib\\site-packages\\keras\\backend\\tensorflow_backend.py:3976: The name tf.nn.max_pool is deprecated. Please use tf.nn.max_pool2d instead.\n",
            "\n"
          ],
          "name": "stdout"
        }
      ]
    },
    {
      "cell_type": "code",
      "metadata": {
        "id": "cmpc46zgHZf-",
        "colab_type": "code",
        "colab": {},
        "outputId": "ed7e13a6-76b8-49c0-83ad-18a4942948b5"
      },
      "source": [
        "model.compile(optimizer='adam', loss='binary_crossentropy', metrics=['accuracy'])"
      ],
      "execution_count": 0,
      "outputs": [
        {
          "output_type": "stream",
          "text": [
            "WARNING:tensorflow:From C:\\Users\\omkar\\Anaconda3\\lib\\site-packages\\keras\\optimizers.py:790: The name tf.train.Optimizer is deprecated. Please use tf.compat.v1.train.Optimizer instead.\n",
            "\n",
            "WARNING:tensorflow:From C:\\Users\\omkar\\Anaconda3\\lib\\site-packages\\keras\\backend\\tensorflow_backend.py:3376: The name tf.log is deprecated. Please use tf.math.log instead.\n",
            "\n",
            "WARNING:tensorflow:From C:\\Users\\omkar\\Anaconda3\\lib\\site-packages\\tensorflow_core\\python\\ops\\nn_impl.py:183: where (from tensorflow.python.ops.array_ops) is deprecated and will be removed in a future version.\n",
            "Instructions for updating:\n",
            "Use tf.where in 2.0, which has the same broadcast rule as np.where\n"
          ],
          "name": "stdout"
        }
      ]
    },
    {
      "cell_type": "code",
      "metadata": {
        "id": "sGN9jKEoHZgH",
        "colab_type": "code",
        "colab": {},
        "outputId": "b7e3d1ff-e709-4e68-a20c-6c8af10fa203"
      },
      "source": [
        "model.fit_generator(train_generator, epochs=10, steps_per_epoch=42, validation_data=validation_generator, validation_steps=6)"
      ],
      "execution_count": 0,
      "outputs": [
        {
          "output_type": "stream",
          "text": [
            "Epoch 1/10\n",
            "42/42 [==============================] - 195s 5s/step - loss: 7.8170 - acc: 0.5097 - val_loss: 7.9712 - val_acc: 0.5000\n",
            "Epoch 2/10\n",
            "42/42 [==============================] - 250s 6s/step - loss: 8.2796 - acc: 0.4807 - val_loss: 7.9712 - val_acc: 0.5000\n",
            "Epoch 3/10\n",
            "42/42 [==============================] - 206s 5s/step - loss: 7.8051 - acc: 0.5104 - val_loss: 7.9712 - val_acc: 0.5000\n",
            "Epoch 4/10\n",
            "42/42 [==============================] - 203s 5s/step - loss: 7.8763 - acc: 0.5060 - val_loss: 7.9712 - val_acc: 0.5000\n",
            "Epoch 5/10\n",
            "42/42 [==============================] - 196s 5s/step - loss: 8.1610 - acc: 0.4881 - val_loss: 7.9712 - val_acc: 0.5000\n",
            "Epoch 6/10\n",
            "42/42 [==============================] - 217s 5s/step - loss: 7.7814 - acc: 0.5119 - val_loss: 7.9712 - val_acc: 0.5000\n",
            "Epoch 7/10\n",
            "42/42 [==============================] - 236s 6s/step - loss: 8.1373 - acc: 0.4896 - val_loss: 7.9712 - val_acc: 0.5000\n",
            "Epoch 8/10\n",
            "42/42 [==============================] - 203s 5s/step - loss: 7.8170 - acc: 0.5097 - val_loss: 7.9712 - val_acc: 0.5000\n",
            "Epoch 9/10\n",
            "42/42 [==============================] - 201s 5s/step - loss: 8.0779 - acc: 0.4933 - val_loss: 7.9712 - val_acc: 0.5000\n",
            "Epoch 10/10\n",
            "42/42 [==============================] - 211s 5s/step - loss: 8.0305 - acc: 0.4963 - val_loss: 7.9712 - val_acc: 0.5000\n"
          ],
          "name": "stdout"
        },
        {
          "output_type": "execute_result",
          "data": {
            "text/plain": [
              "<keras.callbacks.History at 0x18589170d48>"
            ]
          },
          "metadata": {
            "tags": []
          },
          "execution_count": 7
        }
      ]
    },
    {
      "cell_type": "code",
      "metadata": {
        "id": "yp7fBqTLHZgS",
        "colab_type": "code",
        "colab": {}
      },
      "source": [
        "# evaluate model\n",
        "loss = model.evaluate_generator(test_generator, steps=6)"
      ],
      "execution_count": 0,
      "outputs": []
    },
    {
      "cell_type": "code",
      "metadata": {
        "id": "KCcWot8aHZga",
        "colab_type": "code",
        "colab": {},
        "outputId": "29b42c18-7694-4468-fd4e-7309b8f1dd12"
      },
      "source": [
        "print(loss)"
      ],
      "execution_count": 0,
      "outputs": [
        {
          "output_type": "stream",
          "text": [
            "[8.346871058146158, 0.48214285714285715]\n"
          ],
          "name": "stdout"
        }
      ]
    }
  ]
}