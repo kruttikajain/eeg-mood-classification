{
  "nbformat": 4,
  "nbformat_minor": 0,
  "metadata": {
    "kernelspec": {
      "name": "python3",
      "display_name": "Python 3"
    },
    "language_info": {
      "codemirror_mode": {
        "name": "ipython",
        "version": 3
      },
      "file_extension": ".py",
      "mimetype": "text/x-python",
      "name": "python",
      "nbconvert_exporter": "python",
      "pygments_lexer": "ipython3",
      "version": "3.7.6"
    },
    "colab": {
      "name": "EEG_relaxation_vs_concentration.ipynb",
      "provenance": []
    },
    "accelerator": "GPU"
  },
  "cells": [
    {
      "cell_type": "markdown",
      "metadata": {
        "id": "fx4Ce2AOZKcG",
        "colab_type": "text"
      },
      "source": [
        "## Introduction\n",
        "This notebook originated from the Kaggle bot! However, it only looked at the names of the EEG files in the directory.  Rafael has added the rest."
      ]
    },
    {
      "cell_type": "code",
      "metadata": {
        "id": "i392ddOAZQRz",
        "colab_type": "code",
        "outputId": "b27a03a8-948c-4fbe-b3bd-e74088008c3f",
        "colab": {
          "base_uri": "https://localhost:8080/",
          "height": 52
        }
      },
      "source": [
        "# Colab settings/mount\n",
        "from google.colab import drive\n",
        "drive.mount('/content/gdrive')\n",
        "%cd gdrive/My\\ Drive/CSE\\ 240/Project/Data/EEG"
      ],
      "execution_count": 1,
      "outputs": [
        {
          "output_type": "stream",
          "text": [
            "Drive already mounted at /content/gdrive; to attempt to forcibly remount, call drive.mount(\"/content/gdrive\", force_remount=True).\n",
            "/content/gdrive/My Drive/CSE 240/Project/Data/EEG\n"
          ],
          "name": "stdout"
        }
      ]
    },
    {
      "cell_type": "code",
      "metadata": {
        "id": "4j_5IDIMZTbf",
        "colab_type": "code",
        "outputId": "fff4e314-388e-4566-a577-154e134ffd5d",
        "colab": {
          "base_uri": "https://localhost:8080/",
          "height": 334
        }
      },
      "source": [
        "!ls"
      ],
      "execution_count": 2,
      "outputs": [
        {
          "output_type": "stream",
          "text": [
            "eeg_small.png  S006E04.edf  S011E02.edf  S015E04.edf  S020E02.edf  S024E04.edf\n",
            "S002E03.edf    S007E01.edf  S011E03.edf  S016E01.edf  S020E03.edf  S025E01.edf\n",
            "S002E04.edf    S007E02.edf  S011E04.edf  S016E02.edf  S020E04.edf  S025E02.edf\n",
            "S003E01.edf    S007E03.edf  S012E01.edf  S016E03.edf  S021E01.edf  S025E03.edf\n",
            "S003E02.edf    S007E04.edf  S012E02.edf  S016E04.edf  S021E02.edf  S025E04.edf\n",
            "S003E03.edf    S008E01.edf  S012E03.edf  S017E01.edf  S021E03.edf  S026E01.edf\n",
            "S003E04.edf    S008E02.edf  S012E04.edf  S017E02.edf  S021E04.edf  S026E02.edf\n",
            "S004E01.edf    S008E03.edf  S013E01.edf  S017E03.edf  S022E01.edf  S026E03.edf\n",
            "S004E02.edf    S008E04.edf  S013E02.edf  S017E04.edf  S022E02.edf  S026E04.edf\n",
            "S004E03.edf    S009E01.edf  S013E03.edf  S018E01.edf  S022E03.edf  S027E01.edf\n",
            "S004E04.edf    S009E02.edf  S013E04.edf  S018E02.edf  S022E04.edf  S027E02.edf\n",
            "S005E01.edf    S009E03.edf  S014E01.edf  S018E03.edf  S023E01.edf  S027E03.edf\n",
            "S005E02.edf    S009E04.edf  S014E02.edf  S018E04.edf  S023E02.edf  S027E04.edf\n",
            "S005E03.edf    S010E01.edf  S014E03.edf  S019E01.edf  S023E03.edf\n",
            "S005E04.edf    S010E02.edf  S014E04.edf  S019E02.edf  S023E04.edf\n",
            "S006E01.edf    S010E03.edf  S015E01.edf  S019E03.edf  S024E01.edf\n",
            "S006E02.edf    S010E04.edf  S015E02.edf  S019E04.edf  S024E02.edf\n",
            "S006E03.edf    S011E01.edf  S015E03.edf  S020E01.edf  S024E03.edf\n"
          ],
          "name": "stdout"
        }
      ]
    },
    {
      "cell_type": "code",
      "metadata": {
        "id": "kmKIM7K71i4t",
        "colab_type": "code",
        "colab": {
          "base_uri": "https://localhost:8080/",
          "height": 140
        },
        "outputId": "7e1b8621-32ee-46d8-acbe-3870dd7862b5"
      },
      "source": [
        "!pip install mne"
      ],
      "execution_count": 3,
      "outputs": [
        {
          "output_type": "stream",
          "text": [
            "Collecting mne\n",
            "\u001b[?25l  Downloading https://files.pythonhosted.org/packages/a1/7c/ad1b52a3fdd4be8f55e183f1eff7d76f48cd1bee83c5630f9c26770e032e/mne-0.19.2-py3-none-any.whl (6.4MB)\n",
            "\u001b[K     |████████████████████████████████| 6.4MB 3.2MB/s \n",
            "\u001b[?25hRequirement already satisfied: scipy>=0.17.1 in /usr/local/lib/python3.6/dist-packages (from mne) (1.4.1)\n",
            "Requirement already satisfied: numpy>=1.11.3 in /usr/local/lib/python3.6/dist-packages (from mne) (1.17.5)\n",
            "Installing collected packages: mne\n",
            "Successfully installed mne-0.19.2\n"
          ],
          "name": "stdout"
        }
      ]
    },
    {
      "cell_type": "code",
      "metadata": {
        "id": "cMDWpuKzZKcM",
        "colab_type": "code",
        "colab": {}
      },
      "source": [
        "import mne    # for reading .edf files (and much else)"
      ],
      "execution_count": 0,
      "outputs": []
    },
    {
      "cell_type": "code",
      "metadata": {
        "id": "Ng5_fguOZKcV",
        "colab_type": "code",
        "outputId": "66a07c28-4414-4f6f-d1de-f4cbf2081441",
        "colab": {
          "base_uri": "https://localhost:8080/",
          "height": 455
        }
      },
      "source": [
        "file = \"S001E01.edf\"\n",
        "data = mne.io.read_raw_edf(file)\n",
        "raw_data = data.get_data()\n",
        "# you can get the metadata included in the file and a list of all channels:\n",
        "info = data.info\n",
        "channels = data.ch_names"
      ],
      "execution_count": 5,
      "outputs": [
        {
          "output_type": "stream",
          "text": [
            "Extracting EDF parameters from /content/gdrive/My Drive/CSE 240/Project/Data/EEG/S001E01.edf...\n",
            "EDF file detected\n"
          ],
          "name": "stdout"
        },
        {
          "output_type": "error",
          "ename": "FileNotFoundError",
          "evalue": "ignored",
          "traceback": [
            "\u001b[0;31m---------------------------------------------------------------------------\u001b[0m",
            "\u001b[0;31mFileNotFoundError\u001b[0m                         Traceback (most recent call last)",
            "\u001b[0;32m<ipython-input-5-9ed88220114f>\u001b[0m in \u001b[0;36m<module>\u001b[0;34m()\u001b[0m\n\u001b[1;32m      1\u001b[0m \u001b[0mfile\u001b[0m \u001b[0;34m=\u001b[0m \u001b[0;34m\"S001E01.edf\"\u001b[0m\u001b[0;34m\u001b[0m\u001b[0;34m\u001b[0m\u001b[0m\n\u001b[0;32m----> 2\u001b[0;31m \u001b[0mdata\u001b[0m \u001b[0;34m=\u001b[0m \u001b[0mmne\u001b[0m\u001b[0;34m.\u001b[0m\u001b[0mio\u001b[0m\u001b[0;34m.\u001b[0m\u001b[0mread_raw_edf\u001b[0m\u001b[0;34m(\u001b[0m\u001b[0mfile\u001b[0m\u001b[0;34m)\u001b[0m\u001b[0;34m\u001b[0m\u001b[0;34m\u001b[0m\u001b[0m\n\u001b[0m\u001b[1;32m      3\u001b[0m \u001b[0mraw_data\u001b[0m \u001b[0;34m=\u001b[0m \u001b[0mdata\u001b[0m\u001b[0;34m.\u001b[0m\u001b[0mget_data\u001b[0m\u001b[0;34m(\u001b[0m\u001b[0;34m)\u001b[0m\u001b[0;34m\u001b[0m\u001b[0;34m\u001b[0m\u001b[0m\n\u001b[1;32m      4\u001b[0m \u001b[0;31m# you can get the metadata included in the file and a list of all channels:\u001b[0m\u001b[0;34m\u001b[0m\u001b[0;34m\u001b[0m\u001b[0;34m\u001b[0m\u001b[0m\n\u001b[1;32m      5\u001b[0m \u001b[0minfo\u001b[0m \u001b[0;34m=\u001b[0m \u001b[0mdata\u001b[0m\u001b[0;34m.\u001b[0m\u001b[0minfo\u001b[0m\u001b[0;34m\u001b[0m\u001b[0;34m\u001b[0m\u001b[0m\n",
            "\u001b[0;32m/usr/local/lib/python3.6/dist-packages/mne/io/edf/edf.py\u001b[0m in \u001b[0;36mread_raw_edf\u001b[0;34m(input_fname, montage, eog, misc, stim_channel, exclude, preload, verbose)\u001b[0m\n\u001b[1;32m   1171\u001b[0m     return RawEDF(input_fname=input_fname, montage=montage, eog=eog, misc=misc,\n\u001b[1;32m   1172\u001b[0m                   \u001b[0mstim_channel\u001b[0m\u001b[0;34m=\u001b[0m\u001b[0mstim_channel\u001b[0m\u001b[0;34m,\u001b[0m \u001b[0mexclude\u001b[0m\u001b[0;34m=\u001b[0m\u001b[0mexclude\u001b[0m\u001b[0;34m,\u001b[0m \u001b[0mpreload\u001b[0m\u001b[0;34m=\u001b[0m\u001b[0mpreload\u001b[0m\u001b[0;34m,\u001b[0m\u001b[0;34m\u001b[0m\u001b[0;34m\u001b[0m\u001b[0m\n\u001b[0;32m-> 1173\u001b[0;31m                   verbose=verbose)\n\u001b[0m\u001b[1;32m   1174\u001b[0m \u001b[0;34m\u001b[0m\u001b[0m\n\u001b[1;32m   1175\u001b[0m \u001b[0;34m\u001b[0m\u001b[0m\n",
            "\u001b[0;32m</usr/local/lib/python3.6/dist-packages/mne/externals/decorator.py:decorator-gen-157>\u001b[0m in \u001b[0;36m__init__\u001b[0;34m(self, input_fname, montage, eog, misc, stim_channel, exclude, preload, verbose)\u001b[0m\n",
            "\u001b[0;32m/usr/local/lib/python3.6/dist-packages/mne/utils/_logging.py\u001b[0m in \u001b[0;36mwrapper\u001b[0;34m(*args, **kwargs)\u001b[0m\n\u001b[1;32m     88\u001b[0m             \u001b[0;32mwith\u001b[0m \u001b[0muse_log_level\u001b[0m\u001b[0;34m(\u001b[0m\u001b[0mverbose_level\u001b[0m\u001b[0;34m)\u001b[0m\u001b[0;34m:\u001b[0m\u001b[0;34m\u001b[0m\u001b[0;34m\u001b[0m\u001b[0m\n\u001b[1;32m     89\u001b[0m                 \u001b[0;32mreturn\u001b[0m \u001b[0mfunction\u001b[0m\u001b[0;34m(\u001b[0m\u001b[0;34m*\u001b[0m\u001b[0margs\u001b[0m\u001b[0;34m,\u001b[0m \u001b[0;34m**\u001b[0m\u001b[0mkwargs\u001b[0m\u001b[0;34m)\u001b[0m\u001b[0;34m\u001b[0m\u001b[0;34m\u001b[0m\u001b[0m\n\u001b[0;32m---> 90\u001b[0;31m         \u001b[0;32mreturn\u001b[0m \u001b[0mfunction\u001b[0m\u001b[0;34m(\u001b[0m\u001b[0;34m*\u001b[0m\u001b[0margs\u001b[0m\u001b[0;34m,\u001b[0m \u001b[0;34m**\u001b[0m\u001b[0mkwargs\u001b[0m\u001b[0;34m)\u001b[0m\u001b[0;34m\u001b[0m\u001b[0;34m\u001b[0m\u001b[0m\n\u001b[0m\u001b[1;32m     91\u001b[0m     return FunctionMaker.create(\n\u001b[1;32m     92\u001b[0m         \u001b[0mfunction\u001b[0m\u001b[0;34m,\u001b[0m \u001b[0;34m'return decfunc(%(signature)s)'\u001b[0m\u001b[0;34m,\u001b[0m\u001b[0;34m\u001b[0m\u001b[0;34m\u001b[0m\u001b[0m\n",
            "\u001b[0;32m/usr/local/lib/python3.6/dist-packages/mne/io/edf/edf.py\u001b[0m in \u001b[0;36m__init__\u001b[0;34m(self, input_fname, montage, eog, misc, stim_channel, exclude, preload, verbose)\u001b[0m\n\u001b[1;32m    115\u001b[0m         info, edf_info, orig_units = _get_info(input_fname,\n\u001b[1;32m    116\u001b[0m                                                \u001b[0mstim_channel\u001b[0m\u001b[0;34m,\u001b[0m \u001b[0meog\u001b[0m\u001b[0;34m,\u001b[0m \u001b[0mmisc\u001b[0m\u001b[0;34m,\u001b[0m\u001b[0;34m\u001b[0m\u001b[0;34m\u001b[0m\u001b[0m\n\u001b[0;32m--> 117\u001b[0;31m                                                exclude, preload)\n\u001b[0m\u001b[1;32m    118\u001b[0m         \u001b[0mlogger\u001b[0m\u001b[0;34m.\u001b[0m\u001b[0minfo\u001b[0m\u001b[0;34m(\u001b[0m\u001b[0;34m'Creating raw.info structure...'\u001b[0m\u001b[0;34m)\u001b[0m\u001b[0;34m\u001b[0m\u001b[0;34m\u001b[0m\u001b[0m\n\u001b[1;32m    119\u001b[0m \u001b[0;34m\u001b[0m\u001b[0m\n",
            "\u001b[0;32m/usr/local/lib/python3.6/dist-packages/mne/io/edf/edf.py\u001b[0m in \u001b[0;36m_get_info\u001b[0;34m(fname, stim_channel, eog, misc, exclude, preload)\u001b[0m\n\u001b[1;32m    384\u001b[0m     \u001b[0mmisc\u001b[0m \u001b[0;34m=\u001b[0m \u001b[0mmisc\u001b[0m \u001b[0;32mif\u001b[0m \u001b[0mmisc\u001b[0m \u001b[0;32mis\u001b[0m \u001b[0;32mnot\u001b[0m \u001b[0;32mNone\u001b[0m \u001b[0;32melse\u001b[0m \u001b[0;34m[\u001b[0m\u001b[0;34m]\u001b[0m\u001b[0;34m\u001b[0m\u001b[0;34m\u001b[0m\u001b[0m\n\u001b[1;32m    385\u001b[0m \u001b[0;34m\u001b[0m\u001b[0m\n\u001b[0;32m--> 386\u001b[0;31m     \u001b[0medf_info\u001b[0m\u001b[0;34m,\u001b[0m \u001b[0morig_units\u001b[0m \u001b[0;34m=\u001b[0m \u001b[0m_read_header\u001b[0m\u001b[0;34m(\u001b[0m\u001b[0mfname\u001b[0m\u001b[0;34m,\u001b[0m \u001b[0mexclude\u001b[0m\u001b[0;34m)\u001b[0m\u001b[0;34m\u001b[0m\u001b[0;34m\u001b[0m\u001b[0m\n\u001b[0m\u001b[1;32m    387\u001b[0m \u001b[0;34m\u001b[0m\u001b[0m\n\u001b[1;32m    388\u001b[0m     \u001b[0;31m# XXX: `tal_ch_names` to pass to `_check_stim_channel` should be computed\u001b[0m\u001b[0;34m\u001b[0m\u001b[0;34m\u001b[0m\u001b[0;34m\u001b[0m\u001b[0m\n",
            "\u001b[0;32m/usr/local/lib/python3.6/dist-packages/mne/io/edf/edf.py\u001b[0m in \u001b[0;36m_read_header\u001b[0;34m(fname, exclude)\u001b[0m\n\u001b[1;32m    371\u001b[0m     \u001b[0mlogger\u001b[0m\u001b[0;34m.\u001b[0m\u001b[0minfo\u001b[0m\u001b[0;34m(\u001b[0m\u001b[0;34m'%s file detected'\u001b[0m \u001b[0;34m%\u001b[0m \u001b[0mext\u001b[0m\u001b[0;34m.\u001b[0m\u001b[0mupper\u001b[0m\u001b[0;34m(\u001b[0m\u001b[0;34m)\u001b[0m\u001b[0;34m)\u001b[0m\u001b[0;34m\u001b[0m\u001b[0;34m\u001b[0m\u001b[0m\n\u001b[1;32m    372\u001b[0m     \u001b[0;32mif\u001b[0m \u001b[0mext\u001b[0m \u001b[0;32min\u001b[0m \u001b[0;34m(\u001b[0m\u001b[0;34m'bdf'\u001b[0m\u001b[0;34m,\u001b[0m \u001b[0;34m'edf'\u001b[0m\u001b[0;34m)\u001b[0m\u001b[0;34m:\u001b[0m\u001b[0;34m\u001b[0m\u001b[0;34m\u001b[0m\u001b[0m\n\u001b[0;32m--> 373\u001b[0;31m         \u001b[0;32mreturn\u001b[0m \u001b[0m_read_edf_header\u001b[0m\u001b[0;34m(\u001b[0m\u001b[0mfname\u001b[0m\u001b[0;34m,\u001b[0m \u001b[0mexclude\u001b[0m\u001b[0;34m)\u001b[0m\u001b[0;34m\u001b[0m\u001b[0;34m\u001b[0m\u001b[0m\n\u001b[0m\u001b[1;32m    374\u001b[0m     \u001b[0;32melif\u001b[0m \u001b[0mext\u001b[0m \u001b[0;32min\u001b[0m \u001b[0;34m(\u001b[0m\u001b[0;34m'gdf'\u001b[0m\u001b[0;34m)\u001b[0m\u001b[0;34m:\u001b[0m\u001b[0;34m\u001b[0m\u001b[0;34m\u001b[0m\u001b[0m\n\u001b[1;32m    375\u001b[0m         \u001b[0;32mreturn\u001b[0m \u001b[0m_read_gdf_header\u001b[0m\u001b[0;34m(\u001b[0m\u001b[0mfname\u001b[0m\u001b[0;34m,\u001b[0m \u001b[0mexclude\u001b[0m\u001b[0;34m)\u001b[0m\u001b[0;34m,\u001b[0m \u001b[0;32mNone\u001b[0m\u001b[0;34m\u001b[0m\u001b[0;34m\u001b[0m\u001b[0m\n",
            "\u001b[0;32m/usr/local/lib/python3.6/dist-packages/mne/io/edf/edf.py\u001b[0m in \u001b[0;36m_read_edf_header\u001b[0;34m(fname, exclude)\u001b[0m\n\u001b[1;32m    517\u001b[0m     \u001b[0medf_info\u001b[0m \u001b[0;34m=\u001b[0m \u001b[0;34m{\u001b[0m\u001b[0;34m'events'\u001b[0m\u001b[0;34m:\u001b[0m \u001b[0;34m[\u001b[0m\u001b[0;34m]\u001b[0m\u001b[0;34m}\u001b[0m\u001b[0;34m\u001b[0m\u001b[0;34m\u001b[0m\u001b[0m\n\u001b[1;32m    518\u001b[0m \u001b[0;34m\u001b[0m\u001b[0m\n\u001b[0;32m--> 519\u001b[0;31m     \u001b[0;32mwith\u001b[0m \u001b[0mopen\u001b[0m\u001b[0;34m(\u001b[0m\u001b[0mfname\u001b[0m\u001b[0;34m,\u001b[0m \u001b[0;34m'rb'\u001b[0m\u001b[0;34m)\u001b[0m \u001b[0;32mas\u001b[0m \u001b[0mfid\u001b[0m\u001b[0;34m:\u001b[0m\u001b[0;34m\u001b[0m\u001b[0;34m\u001b[0m\u001b[0m\n\u001b[0m\u001b[1;32m    520\u001b[0m \u001b[0;34m\u001b[0m\u001b[0m\n\u001b[1;32m    521\u001b[0m         \u001b[0mfid\u001b[0m\u001b[0;34m.\u001b[0m\u001b[0mread\u001b[0m\u001b[0;34m(\u001b[0m\u001b[0;36m8\u001b[0m\u001b[0;34m)\u001b[0m  \u001b[0;31m# version (unused here)\u001b[0m\u001b[0;34m\u001b[0m\u001b[0;34m\u001b[0m\u001b[0m\n",
            "\u001b[0;31mFileNotFoundError\u001b[0m: [Errno 2] No such file or directory: '/content/gdrive/My Drive/CSE 240/Project/Data/EEG/S001E01.edf'"
          ]
        }
      ]
    },
    {
      "cell_type": "code",
      "metadata": {
        "id": "XjVJzVkVZKce",
        "colab_type": "code",
        "outputId": "da3a44c8-5530-4f74-fc73-04995f444695",
        "colab": {
          "base_uri": "https://localhost:8080/",
          "height": 686
        }
      },
      "source": [
        "info"
      ],
      "execution_count": 0,
      "outputs": [
        {
          "output_type": "execute_result",
          "data": {
            "text/plain": [
              "<Info | 16 non-empty fields\n",
              "    bads : list | 0 items\n",
              "    ch_names : list | AF3, F7, F3, FC5, T7, P7, O1, O2, P8, ...\n",
              "    chs : list | 14 items (EEG: 14)\n",
              "    comps : list | 0 items\n",
              "    custom_ref_applied : bool | False\n",
              "    dev_head_t : Transform | 3 items\n",
              "    events : list | 0 items\n",
              "    highpass : float | 0.0 Hz\n",
              "    hpi_meas : list | 0 items\n",
              "    hpi_results : list | 0 items\n",
              "    lowpass : float | 128.0 Hz\n",
              "    meas_date : tuple | 2018-06-13 14:34:37 GMT\n",
              "    nchan : int | 14\n",
              "    proc_history : list | 0 items\n",
              "    projs : list | 0 items\n",
              "    sfreq : float | 256.0 Hz\n",
              "    acq_pars : NoneType\n",
              "    acq_stim : NoneType\n",
              "    ctf_head_t : NoneType\n",
              "    description : NoneType\n",
              "    dev_ctf_t : NoneType\n",
              "    device_info : NoneType\n",
              "    dig : NoneType\n",
              "    experimenter : NoneType\n",
              "    file_id : NoneType\n",
              "    gantry_angle : NoneType\n",
              "    helium_info : NoneType\n",
              "    hpi_subsystem : NoneType\n",
              "    kit_system_id : NoneType\n",
              "    line_freq : NoneType\n",
              "    meas_id : NoneType\n",
              "    proj_id : NoneType\n",
              "    proj_name : NoneType\n",
              "    subject_info : NoneType\n",
              "    utc_offset : NoneType\n",
              "    xplotter_layout : NoneType\n",
              ">"
            ]
          },
          "metadata": {
            "tags": []
          },
          "execution_count": 17
        }
      ]
    },
    {
      "cell_type": "code",
      "metadata": {
        "id": "1bJRcylaZKcm",
        "colab_type": "code",
        "outputId": "4a5eaf9b-bdb5-46a2-8d63-d387bba2a274",
        "colab": {
          "base_uri": "https://localhost:8080/",
          "height": 263
        }
      },
      "source": [
        "channels"
      ],
      "execution_count": 0,
      "outputs": [
        {
          "output_type": "execute_result",
          "data": {
            "text/plain": [
              "['AF3',\n",
              " 'F7',\n",
              " 'F3',\n",
              " 'FC5',\n",
              " 'T7',\n",
              " 'P7',\n",
              " 'O1',\n",
              " 'O2',\n",
              " 'P8',\n",
              " 'T8',\n",
              " 'FC6',\n",
              " 'F4',\n",
              " 'F8',\n",
              " 'AF4']"
            ]
          },
          "metadata": {
            "tags": []
          },
          "execution_count": 18
        }
      ]
    },
    {
      "cell_type": "code",
      "metadata": {
        "id": "VBF7wvlyZKcu",
        "colab_type": "code",
        "outputId": "7f1704f5-c579-4ab2-c8c5-34f8abec5cd2",
        "colab": {
          "base_uri": "https://localhost:8080/",
          "height": 35
        }
      },
      "source": [
        "raw_data.shape"
      ],
      "execution_count": 0,
      "outputs": [
        {
          "output_type": "execute_result",
          "data": {
            "text/plain": [
              "(14, 46080)"
            ]
          },
          "metadata": {
            "tags": []
          },
          "execution_count": 19
        }
      ]
    },
    {
      "cell_type": "markdown",
      "metadata": {
        "id": "BM_jwwcjZKc1",
        "colab_type": "text"
      },
      "source": [
        "## Exploratory Analysis\n",
        "The following packages are often useful."
      ]
    },
    {
      "cell_type": "code",
      "metadata": {
        "_kg_hide-input": false,
        "id": "94-S8mj-ZKc3",
        "colab_type": "code",
        "colab": {}
      },
      "source": [
        "#from mpl_toolkits.mplot3d import Axes3D\n",
        "from sklearn.preprocessing import StandardScaler\n",
        "import matplotlib.pyplot as plt # plotting\n",
        "import numpy as np # linear algebra\n",
        "#import os # accessing directory structure\n",
        "#import pandas as pd # data processing, CSV file I/O (e.g. pd.read_csv)\n",
        "#from scipy.io import loadmat   # this function imports .MAT files (MatLab files) into Python (as directories)"
      ],
      "execution_count": 0,
      "outputs": []
    },
    {
      "cell_type": "markdown",
      "metadata": {
        "id": "dqbpTX1qZKc_",
        "colab_type": "text"
      },
      "source": [
        "### EEG Data\n",
        "\n",
        "The actual surface electrode readings are given in the dat6 array. For example, at time 1000 we have the following microvolt measurments at each of the 25 leads."
      ]
    },
    {
      "cell_type": "code",
      "metadata": {
        "scrolled": true,
        "id": "I1mU7sBPZKdB",
        "colab_type": "code",
        "outputId": "14ee4c13-dbe0-4ec2-f351-b248d363d172",
        "colab": {
          "base_uri": "https://localhost:8080/",
          "height": 87
        }
      },
      "source": [
        "raw_data[:, 1000]"
      ],
      "execution_count": 0,
      "outputs": [
        {
          "output_type": "execute_result",
          "data": {
            "text/plain": [
              "array([4.27519883e-05, 4.65109476e-05, 2.76258476e-05, 5.37701260e-05,\n",
              "       1.93465649e-05, 1.24181482e-05, 1.06720265e-05, 1.67187913e-05,\n",
              "       8.44941075e-05, 2.36010758e-05, 4.19182986e-05, 2.76447411e-05,\n",
              "       2.96294392e-05, 1.54665940e-04])"
            ]
          },
          "metadata": {
            "tags": []
          },
          "execution_count": 21
        }
      ]
    },
    {
      "cell_type": "markdown",
      "metadata": {
        "id": "ekD2wJKJZKdI",
        "colab_type": "text"
      },
      "source": [
        "Lets take a look at lead 10."
      ]
    },
    {
      "cell_type": "code",
      "metadata": {
        "id": "X8iqSDkmZKdK",
        "colab_type": "code",
        "outputId": "a88c511a-ac16-4474-fa48-692afd1baac2",
        "colab": {
          "base_uri": "https://localhost:8080/",
          "height": 246
        }
      },
      "source": [
        "channel = 1   # occipital lead  O1 \n",
        "raw_data[channel, : 50]"
      ],
      "execution_count": 0,
      "outputs": [
        {
          "output_type": "execute_result",
          "data": {
            "text/plain": [
              "array([ 8.65048524e-07,  2.36749975e-06,  2.36749975e-06,  8.65048524e-07,\n",
              "       -1.71058215e-06, -2.71221630e-06, -2.21139922e-06, -7.08947997e-07,\n",
              "       -2.08130922e-07, -7.08947997e-07, -1.71058215e-06, -2.21139922e-06,\n",
              "       -2.21139922e-06, -1.71058215e-06, -2.71221630e-06, -2.71221630e-06,\n",
              "       -1.20976507e-06,  2.36749975e-06,  4.44231334e-06,  1.86668267e-06,\n",
              "       -5.28784697e-06, -1.25139219e-05, -1.55903696e-05, -1.14407425e-05,\n",
              "       -3.28457867e-06,  5.44394749e-06,  1.10960259e-05,  1.20976601e-05,\n",
              "        1.00943918e-05,  7.01794401e-06,  3.94149627e-06,  2.36749975e-06,\n",
              "        1.86668267e-06,  2.36749975e-06,  3.94149627e-06,  5.44394749e-06,\n",
              "        5.94476457e-06,  4.44231334e-06, -2.08130922e-07, -6.36102641e-06,\n",
              "       -1.04391083e-05, -9.93829123e-06, -5.78866404e-06,  8.65048524e-07,\n",
              "        5.44394749e-06,  5.94476457e-06,  3.44067919e-06, -2.08130922e-07,\n",
              "       -3.28457867e-06, -5.28784697e-06])"
            ]
          },
          "metadata": {
            "tags": []
          },
          "execution_count": 22
        }
      ]
    },
    {
      "cell_type": "code",
      "metadata": {
        "id": "AnFZepb5ZKdR",
        "colab_type": "code",
        "outputId": "a997a917-3537-4614-b9b2-b5d36e16c9c6",
        "colab": {
          "base_uri": "https://localhost:8080/",
          "height": 35
        }
      },
      "source": [
        "channels[channel]"
      ],
      "execution_count": 0,
      "outputs": [
        {
          "output_type": "execute_result",
          "data": {
            "text/plain": [
              "'F7'"
            ]
          },
          "metadata": {
            "tags": []
          },
          "execution_count": 23
        }
      ]
    },
    {
      "cell_type": "code",
      "metadata": {
        "id": "oyl96jPjZKdY",
        "colab_type": "code",
        "outputId": "8d5f8c29-f8fb-48f5-ac11-73268f7eba0e",
        "colab": {
          "base_uri": "https://localhost:8080/",
          "height": 52
        }
      },
      "source": [
        "raw_data[channel,:]"
      ],
      "execution_count": 0,
      "outputs": [
        {
          "output_type": "execute_result",
          "data": {
            "text/plain": [
              "array([8.65048524e-07, 2.36749975e-06, 2.36749975e-06, ...,\n",
              "       9.41601150e-05, 9.31584809e-05, 8.95812161e-05])"
            ]
          },
          "metadata": {
            "tags": []
          },
          "execution_count": 24
        }
      ]
    },
    {
      "cell_type": "code",
      "metadata": {
        "id": "rfmHNdLoZKdf",
        "colab_type": "code",
        "outputId": "b7b6004a-d00a-48d4-d39c-80980c5cffbf",
        "colab": {
          "base_uri": "https://localhost:8080/",
          "height": 238
        }
      },
      "source": [
        "%matplotlib inline\n",
        "\n",
        "import matplotlib.pyplot as plt\n",
        "\n",
        "x = np.linspace(0, len(raw_data[channel, :]) / 256., len(raw_data[channel, :]))\n",
        "y = raw_data[channel, :]\n",
        "\n",
        "plt.plot(x, y)\n",
        "plt.title('Lead #' + channels[channel]) \n",
        "plt.xlabel('Seconds'); plt.ylabel('microvolts')\n",
        "plt.show()"
      ],
      "execution_count": 7,
      "outputs": [
        {
          "output_type": "error",
          "ename": "NameError",
          "evalue": "ignored",
          "traceback": [
            "\u001b[0;31m---------------------------------------------------------------------------\u001b[0m",
            "\u001b[0;31mNameError\u001b[0m                                 Traceback (most recent call last)",
            "\u001b[0;32m<ipython-input-7-95ceaa4fe592>\u001b[0m in \u001b[0;36m<module>\u001b[0;34m()\u001b[0m\n\u001b[1;32m      3\u001b[0m \u001b[0;32mimport\u001b[0m \u001b[0mmatplotlib\u001b[0m\u001b[0;34m.\u001b[0m\u001b[0mpyplot\u001b[0m \u001b[0;32mas\u001b[0m \u001b[0mplt\u001b[0m\u001b[0;34m\u001b[0m\u001b[0;34m\u001b[0m\u001b[0m\n\u001b[1;32m      4\u001b[0m \u001b[0;34m\u001b[0m\u001b[0m\n\u001b[0;32m----> 5\u001b[0;31m \u001b[0mx\u001b[0m \u001b[0;34m=\u001b[0m \u001b[0mnp\u001b[0m\u001b[0;34m.\u001b[0m\u001b[0mlinspace\u001b[0m\u001b[0;34m(\u001b[0m\u001b[0;36m0\u001b[0m\u001b[0;34m,\u001b[0m \u001b[0mlen\u001b[0m\u001b[0;34m(\u001b[0m\u001b[0mraw_data\u001b[0m\u001b[0;34m[\u001b[0m\u001b[0mchannel\u001b[0m\u001b[0;34m,\u001b[0m \u001b[0;34m:\u001b[0m\u001b[0;34m]\u001b[0m\u001b[0;34m)\u001b[0m \u001b[0;34m/\u001b[0m \u001b[0;36m256.\u001b[0m\u001b[0;34m,\u001b[0m \u001b[0mlen\u001b[0m\u001b[0;34m(\u001b[0m\u001b[0mraw_data\u001b[0m\u001b[0;34m[\u001b[0m\u001b[0mchannel\u001b[0m\u001b[0;34m,\u001b[0m \u001b[0;34m:\u001b[0m\u001b[0;34m]\u001b[0m\u001b[0;34m)\u001b[0m\u001b[0;34m)\u001b[0m\u001b[0;34m\u001b[0m\u001b[0;34m\u001b[0m\u001b[0m\n\u001b[0m\u001b[1;32m      6\u001b[0m \u001b[0my\u001b[0m \u001b[0;34m=\u001b[0m \u001b[0mraw_data\u001b[0m\u001b[0;34m[\u001b[0m\u001b[0mchannel\u001b[0m\u001b[0;34m,\u001b[0m \u001b[0;34m:\u001b[0m\u001b[0;34m]\u001b[0m\u001b[0;34m\u001b[0m\u001b[0;34m\u001b[0m\u001b[0m\n\u001b[1;32m      7\u001b[0m \u001b[0;34m\u001b[0m\u001b[0m\n",
            "\u001b[0;31mNameError\u001b[0m: name 'np' is not defined"
          ]
        }
      ]
    },
    {
      "cell_type": "markdown",
      "metadata": {
        "id": "bTeHQY0YZKdl",
        "colab_type": "text"
      },
      "source": [
        "Let's create a spectrogram for this lead."
      ]
    },
    {
      "cell_type": "code",
      "metadata": {
        "id": "3xgaWem9ZKdr",
        "colab_type": "code",
        "outputId": "e0293e93-21a6-4ccc-e494-d28332b0c256",
        "colab": {
          "base_uri": "https://localhost:8080/",
          "height": 255
        }
      },
      "source": [
        "from scipy import signal\n",
        "plt.set_cmap('jet')\n",
        "x = raw_data[channel, 1280:2560]\n",
        "print(x)\n",
        "#x = raw_data[channel, 1280:2561]\n",
        "#fs = 256  # Assume 512 Hz sampling rate for now...   # SampFreq[0, 0] \n",
        "#f, t, Sxx = signal.spectrogram(x, fs, window = signal.tukey(512, .25))\n",
        "fs = 256  # Assume 512 Hz sampling rate for now...   # SampFreq[0, 0] \n",
        "f, t, Sxx = signal.spectrogram(x, fs, window = signal.tukey(256), noverlap = 204)\n",
        "\n",
        "plt.pcolormesh(t, f, np.log10(Sxx))\n",
        "plt.ylabel('Frequency [Hz]')\n",
        "plt.xlabel('Time [sec]')\n",
        "plt.title('Lead ' + str(channel)) # + LsEEG[channel]\n",
        "\n",
        "#plt.show()\n",
        "fig, ax = plt.subplots( nrows=1, ncols=1 )\n",
        "fig.figsize= (800, 800)\n",
        "ax.pcolormesh(t, f, np.log10(Sxx))\n",
        "fig.savefig('eeg_small.png')   # save the figure to file\n",
        "plt.close(fig)\n"
      ],
      "execution_count": 8,
      "outputs": [
        {
          "output_type": "error",
          "ename": "NameError",
          "evalue": "ignored",
          "traceback": [
            "\u001b[0;31m---------------------------------------------------------------------------\u001b[0m",
            "\u001b[0;31mNameError\u001b[0m                                 Traceback (most recent call last)",
            "\u001b[0;32m<ipython-input-8-2106dc4937a1>\u001b[0m in \u001b[0;36m<module>\u001b[0;34m()\u001b[0m\n\u001b[1;32m      1\u001b[0m \u001b[0;32mfrom\u001b[0m \u001b[0mscipy\u001b[0m \u001b[0;32mimport\u001b[0m \u001b[0msignal\u001b[0m\u001b[0;34m\u001b[0m\u001b[0;34m\u001b[0m\u001b[0m\n\u001b[1;32m      2\u001b[0m \u001b[0mplt\u001b[0m\u001b[0;34m.\u001b[0m\u001b[0mset_cmap\u001b[0m\u001b[0;34m(\u001b[0m\u001b[0;34m'jet'\u001b[0m\u001b[0;34m)\u001b[0m\u001b[0;34m\u001b[0m\u001b[0;34m\u001b[0m\u001b[0m\n\u001b[0;32m----> 3\u001b[0;31m \u001b[0mx\u001b[0m \u001b[0;34m=\u001b[0m \u001b[0mraw_data\u001b[0m\u001b[0;34m[\u001b[0m\u001b[0mchannel\u001b[0m\u001b[0;34m,\u001b[0m \u001b[0;36m1280\u001b[0m\u001b[0;34m:\u001b[0m\u001b[0;36m2560\u001b[0m\u001b[0;34m]\u001b[0m\u001b[0;34m\u001b[0m\u001b[0;34m\u001b[0m\u001b[0m\n\u001b[0m\u001b[1;32m      4\u001b[0m \u001b[0mprint\u001b[0m\u001b[0;34m(\u001b[0m\u001b[0mx\u001b[0m\u001b[0;34m)\u001b[0m\u001b[0;34m\u001b[0m\u001b[0;34m\u001b[0m\u001b[0m\n\u001b[1;32m      5\u001b[0m \u001b[0;31m#x = raw_data[channel, 1280:2561]\u001b[0m\u001b[0;34m\u001b[0m\u001b[0;34m\u001b[0m\u001b[0;34m\u001b[0m\u001b[0m\n",
            "\u001b[0;31mNameError\u001b[0m: name 'raw_data' is not defined"
          ]
        },
        {
          "output_type": "display_data",
          "data": {
            "text/plain": [
              "<Figure size 432x288 with 0 Axes>"
            ]
          },
          "metadata": {
            "tags": []
          }
        }
      ]
    },
    {
      "cell_type": "code",
      "metadata": {
        "id": "KG4PynIZZKdw",
        "colab_type": "code",
        "outputId": "01067f10-044e-49d4-ffb0-0f1ab8559a95",
        "colab": {
          "base_uri": "https://localhost:8080/",
          "height": 35
        }
      },
      "source": [
        "print(len(t))"
      ],
      "execution_count": 0,
      "outputs": [
        {
          "output_type": "stream",
          "text": [
            "20\n"
          ],
          "name": "stdout"
        }
      ]
    },
    {
      "cell_type": "markdown",
      "metadata": {
        "id": "NSrHuewxZKd2",
        "colab_type": "text"
      },
      "source": [
        "## Run this to generate images"
      ]
    },
    {
      "cell_type": "code",
      "metadata": {
        "id": "Ixwol7MjZKd4",
        "colab_type": "code",
        "outputId": "d438f22d-88d6-4102-cd99-fee070e0516f",
        "colab": {
          "base_uri": "https://localhost:8080/",
          "height": 1000
        }
      },
      "source": [
        "import matplotlib.pyplot as plt # plotting\n",
        "import mne\n",
        "import numpy as np # linear algebra\n",
        "import os\n",
        "from scipy import signal\n",
        "from sklearn.preprocessing import StandardScaler\n",
        "\n",
        "# If folders don't exist already create them in the home directory.\n",
        "if not os.path.exists(\"raw_images\"):\n",
        "    os.mkdir(\"raw_images\")\n",
        "if not os.path.exists(\"raw_images/relaxed\"):\n",
        "    os.mkdir(\"raw_images/relaxed\")\n",
        "if not os.path.exists(\"raw_images/concentration\"):\n",
        "    os.mkdir(\"raw_images/concentration\")\n",
        "if not os.path.exists(\"spectrogram_images\"):\n",
        "    os.mkdir(\"spectrogram_images\")\n",
        "if not os.path.exists(\"spectrogram_images/relaxed\"):\n",
        "    os.mkdir(\"spectrogram_images/relaxed\")\n",
        "if not os.path.exists(\"spectrogram_images/concentration\"):\n",
        "    os.mkdir(\"spectrogram_images/concentration\")\n",
        "\n",
        "for filename in os.listdir('.'):\n",
        "    file_name = os.path.join('.',filename)\n",
        "  \n",
        "    file_type = 0 if filename.split(\".\")[0].endswith(\"E01\") or filename.split(\".\")[0].endswith(\"E03\") else 1\n",
        "    data = mne.io.read_raw_edf(file_name)\n",
        "    raw_data = data.get_data()\n",
        "    info = data.info\n",
        "    channels = data.ch_names\n",
        "    for part in range(36):\n",
        "        for index, channel in enumerate(channels):\n",
        "            print(\"Processing %s channel of file %s part %s.\" % (channel, filename, part))\n",
        "            folder_name = filename.split(\".\")[0] + \"_\" + str(part)\n",
        "            '''\n",
        "            folder_path = os.path.join('raw_images/relaxed',folder_name) if file_type == 0 else os.path.join('raw_images/concentration',folder_name)\n",
        "            if not os.path.exists(folder_path):\n",
        "                print(\"creating folder %s.\" % (folder_name))\n",
        "                os.mkdir(folder_path)\n",
        "            new_filename = \"%s_%s.png\" % (folder_name, channel)\n",
        "            # path to store raw time domain images of the signals\n",
        "            # choose folder based on file type\n",
        "            start = part * 1280\n",
        "            end = (part+1) * 1280\n",
        "            new_file_path = os.path.join(folder_path, new_filename)\n",
        "            x = np.linspace(0, len(raw_data[index, start:end]) / 256., len(raw_data[index, start:end]))\n",
        "            y = raw_data[index, start:end]\n",
        "            fig, ax = plt.subplots( nrows=1, ncols=1 )\n",
        "            fig.figsize= (800, 800)\n",
        "            ax.plot(x, y)\n",
        "            #ax.title('Lead #' + channel) \n",
        "            #ax.xlabel('Seconds'); plt.ylabel('microvolts')\n",
        "            fig.savefig(new_file_path)   # save the figure to file\n",
        "            plt.close(fig)\n",
        "            #plt.plot(x, y)\n",
        "            #plt.show()\n",
        "            '''\n",
        "            start = part * 1280\n",
        "            end = (part+1) * 1280\n",
        "            # path to store frequency domain spectrogram images of the signals\n",
        "            folder_path = os.path.join('spectrogram_images/relaxed',folder_name) if file_type == 0 else os.path.join('spectrogram_images/concentration',folder_name)\n",
        "            if not os.path.exists(folder_path):\n",
        "                print(\"creating folder %s.\" % (folder_name))\n",
        "                os.mkdir(folder_path)\n",
        "            new_filename = \"%s_%s.png\" % (folder_name, channel)\n",
        "            new_file_path = os.path.join(folder_path, new_filename)\n",
        "            x = raw_data[index, start:end]\n",
        "            fs = 256  # Assume 512 Hz sampling rate for now...   # SampFreq[0, 0] \n",
        "            #f, t, Sxx = signal.spectrogram(x, fs, window = signal.tukey(512, .25))\n",
        "            f, t, Sxx = signal.spectrogram(x, fs, window = signal.tukey(256), noverlap = 204)\n",
        "            fig, ax = plt.subplots( nrows=1, ncols=1 )\n",
        "            fig.figsize= (800, 800)\n",
        "            ax.pcolormesh(t, f, np.log10(Sxx))\n",
        "            #ax.ylabel('Frequency [Hz]')\n",
        "            #ax.xlabel('Time [sec]')\n",
        "            #plt.title('Lead ' + channel) # + LsEEG[channel]\n",
        "            #ax.set_cmap('jet')\n",
        "            #plt.show()\n",
        "            fig.savefig(new_file_path)   # save the figure to file\n",
        "            plt.close(fig)\n",
        "    \n",
        "    '''\n",
        "    f = pyedflib.EdfReader(file_name)\n",
        "    n = f.signals_in_file\n",
        "    signal_labels = f.getSignalLabels()\n",
        "    sigbufs = np.zeros((n, f.getNSamples()[0]))\n",
        "    for i in np.arange(n):\n",
        "        sigbufs[i, :] = f.readSignal(i)\n",
        "    new_filename = filename.replace(\".edf\",\".csv\")\n",
        "    new_file_path = os.path.join('spectrogram_files',new_filename)\n",
        "    os.mkdir(new_file_path)\n",
        "    with open(new_file_path, mode='w') as record_file:\n",
        "        record_writer = csv.writer(record_file, delimiter=',', quotechar='\"', quoting=csv.QUOTE_MINIMAL)\n",
        "        for record in sigbufs:\n",
        "            record_writer.writerow(record)\n",
        "    '''"
      ],
      "execution_count": 9,
      "outputs": [
        {
          "output_type": "stream",
          "text": [
            "Extracting EDF parameters from /content/gdrive/My Drive/CSE 240/Project/Data/EEG/S002E03.edf...\n",
            "EDF file detected\n",
            "Setting channel info structure...\n",
            "Creating raw.info structure...\n",
            "Processing AF3 channel of file S002E03.edf part 0.\n",
            "creating folder S002E03_0.\n",
            "creating folder S002E03_0.\n",
            "Processing F7 channel of file S002E03.edf part 0.\n",
            "Processing F3 channel of file S002E03.edf part 0.\n",
            "Processing FC5 channel of file S002E03.edf part 0.\n",
            "Processing T7 channel of file S002E03.edf part 0.\n",
            "Processing P7 channel of file S002E03.edf part 0.\n",
            "Processing O1 channel of file S002E03.edf part 0.\n",
            "Processing O2 channel of file S002E03.edf part 0.\n",
            "Processing P8 channel of file S002E03.edf part 0.\n"
          ],
          "name": "stdout"
        },
        {
          "output_type": "stream",
          "text": [
            "/usr/local/lib/python3.6/dist-packages/ipykernel_launcher.py:69: RuntimeWarning: divide by zero encountered in log10\n"
          ],
          "name": "stderr"
        },
        {
          "output_type": "stream",
          "text": [
            "Processing T8 channel of file S002E03.edf part 0.\n",
            "Processing FC6 channel of file S002E03.edf part 0.\n",
            "Processing F4 channel of file S002E03.edf part 0.\n",
            "Processing F8 channel of file S002E03.edf part 0.\n",
            "Processing AF4 channel of file S002E03.edf part 0.\n",
            "Processing AF3 channel of file S002E03.edf part 1.\n",
            "creating folder S002E03_1.\n",
            "creating folder S002E03_1.\n",
            "Processing F7 channel of file S002E03.edf part 1.\n",
            "Processing F3 channel of file S002E03.edf part 1.\n",
            "Processing FC5 channel of file S002E03.edf part 1.\n",
            "Processing T7 channel of file S002E03.edf part 1.\n",
            "Processing P7 channel of file S002E03.edf part 1.\n",
            "Processing O1 channel of file S002E03.edf part 1.\n",
            "Processing O2 channel of file S002E03.edf part 1.\n",
            "Processing P8 channel of file S002E03.edf part 1.\n"
          ],
          "name": "stdout"
        },
        {
          "output_type": "stream",
          "text": [
            "/usr/local/lib/python3.6/dist-packages/ipykernel_launcher.py:69: RuntimeWarning: divide by zero encountered in log10\n"
          ],
          "name": "stderr"
        },
        {
          "output_type": "stream",
          "text": [
            "Processing T8 channel of file S002E03.edf part 1.\n",
            "Processing FC6 channel of file S002E03.edf part 1.\n",
            "Processing F4 channel of file S002E03.edf part 1.\n",
            "Processing F8 channel of file S002E03.edf part 1.\n",
            "Processing AF4 channel of file S002E03.edf part 1.\n",
            "Processing AF3 channel of file S002E03.edf part 2.\n",
            "creating folder S002E03_2.\n",
            "creating folder S002E03_2.\n",
            "Processing F7 channel of file S002E03.edf part 2.\n",
            "Processing F3 channel of file S002E03.edf part 2.\n",
            "Processing FC5 channel of file S002E03.edf part 2.\n",
            "Processing T7 channel of file S002E03.edf part 2.\n",
            "Processing P7 channel of file S002E03.edf part 2.\n",
            "Processing O1 channel of file S002E03.edf part 2.\n",
            "Processing O2 channel of file S002E03.edf part 2.\n",
            "Processing P8 channel of file S002E03.edf part 2.\n",
            "Processing T8 channel of file S002E03.edf part 2.\n"
          ],
          "name": "stdout"
        },
        {
          "output_type": "stream",
          "text": [
            "/usr/local/lib/python3.6/dist-packages/ipykernel_launcher.py:69: RuntimeWarning: divide by zero encountered in log10\n"
          ],
          "name": "stderr"
        },
        {
          "output_type": "stream",
          "text": [
            "Processing FC6 channel of file S002E03.edf part 2.\n",
            "Processing F4 channel of file S002E03.edf part 2.\n",
            "Processing F8 channel of file S002E03.edf part 2.\n",
            "Processing AF4 channel of file S002E03.edf part 2.\n",
            "Processing AF3 channel of file S002E03.edf part 3.\n",
            "creating folder S002E03_3.\n",
            "creating folder S002E03_3.\n",
            "Processing F7 channel of file S002E03.edf part 3.\n",
            "Processing F3 channel of file S002E03.edf part 3.\n",
            "Processing FC5 channel of file S002E03.edf part 3.\n",
            "Processing T7 channel of file S002E03.edf part 3.\n",
            "Processing P7 channel of file S002E03.edf part 3.\n",
            "Processing O1 channel of file S002E03.edf part 3.\n",
            "Processing O2 channel of file S002E03.edf part 3.\n",
            "Processing P8 channel of file S002E03.edf part 3.\n",
            "Processing T8 channel of file S002E03.edf part 3.\n",
            "Processing FC6 channel of file S002E03.edf part 3.\n",
            "Processing F4 channel of file S002E03.edf part 3.\n",
            "Processing F8 channel of file S002E03.edf part 3.\n",
            "Processing AF4 channel of file S002E03.edf part 3.\n",
            "Processing AF3 channel of file S002E03.edf part 4.\n",
            "creating folder S002E03_4.\n",
            "creating folder S002E03_4.\n",
            "Processing F7 channel of file S002E03.edf part 4.\n",
            "Processing F3 channel of file S002E03.edf part 4.\n",
            "Processing FC5 channel of file S002E03.edf part 4.\n",
            "Processing T7 channel of file S002E03.edf part 4.\n",
            "Processing P7 channel of file S002E03.edf part 4.\n",
            "Processing O1 channel of file S002E03.edf part 4.\n",
            "Processing O2 channel of file S002E03.edf part 4.\n",
            "Processing P8 channel of file S002E03.edf part 4.\n",
            "Processing T8 channel of file S002E03.edf part 4.\n"
          ],
          "name": "stdout"
        },
        {
          "output_type": "stream",
          "text": [
            "/usr/local/lib/python3.6/dist-packages/ipykernel_launcher.py:69: RuntimeWarning: divide by zero encountered in log10\n"
          ],
          "name": "stderr"
        },
        {
          "output_type": "stream",
          "text": [
            "Processing FC6 channel of file S002E03.edf part 4.\n",
            "Processing F4 channel of file S002E03.edf part 4.\n",
            "Processing F8 channel of file S002E03.edf part 4.\n",
            "Processing AF4 channel of file S002E03.edf part 4.\n",
            "Processing AF3 channel of file S002E03.edf part 5.\n",
            "creating folder S002E03_5.\n",
            "creating folder S002E03_5.\n",
            "Processing F7 channel of file S002E03.edf part 5.\n",
            "Processing F3 channel of file S002E03.edf part 5.\n",
            "Processing FC5 channel of file S002E03.edf part 5.\n",
            "Processing T7 channel of file S002E03.edf part 5.\n",
            "Processing P7 channel of file S002E03.edf part 5.\n",
            "Processing O1 channel of file S002E03.edf part 5.\n",
            "Processing O2 channel of file S002E03.edf part 5.\n",
            "Processing P8 channel of file S002E03.edf part 5.\n",
            "Processing T8 channel of file S002E03.edf part 5.\n"
          ],
          "name": "stdout"
        },
        {
          "output_type": "stream",
          "text": [
            "/usr/local/lib/python3.6/dist-packages/ipykernel_launcher.py:69: RuntimeWarning: divide by zero encountered in log10\n"
          ],
          "name": "stderr"
        },
        {
          "output_type": "stream",
          "text": [
            "Processing FC6 channel of file S002E03.edf part 5.\n",
            "Processing F4 channel of file S002E03.edf part 5.\n",
            "Processing F8 channel of file S002E03.edf part 5.\n",
            "Processing AF4 channel of file S002E03.edf part 5.\n",
            "Processing AF3 channel of file S002E03.edf part 6.\n",
            "creating folder S002E03_6.\n",
            "creating folder S002E03_6.\n",
            "Processing F7 channel of file S002E03.edf part 6.\n",
            "Processing F3 channel of file S002E03.edf part 6.\n",
            "Processing FC5 channel of file S002E03.edf part 6.\n",
            "Processing T7 channel of file S002E03.edf part 6.\n",
            "Processing P7 channel of file S002E03.edf part 6.\n",
            "Processing O1 channel of file S002E03.edf part 6.\n",
            "Processing O2 channel of file S002E03.edf part 6.\n",
            "Processing P8 channel of file S002E03.edf part 6.\n",
            "Processing T8 channel of file S002E03.edf part 6.\n"
          ],
          "name": "stdout"
        },
        {
          "output_type": "stream",
          "text": [
            "/usr/local/lib/python3.6/dist-packages/ipykernel_launcher.py:69: RuntimeWarning: divide by zero encountered in log10\n"
          ],
          "name": "stderr"
        },
        {
          "output_type": "stream",
          "text": [
            "Processing FC6 channel of file S002E03.edf part 6.\n",
            "Processing F4 channel of file S002E03.edf part 6.\n",
            "Processing F8 channel of file S002E03.edf part 6.\n",
            "Processing AF4 channel of file S002E03.edf part 6.\n",
            "Processing AF3 channel of file S002E03.edf part 7.\n",
            "creating folder S002E03_7.\n",
            "creating folder S002E03_7.\n",
            "Processing F7 channel of file S002E03.edf part 7.\n",
            "Processing F3 channel of file S002E03.edf part 7.\n",
            "Processing FC5 channel of file S002E03.edf part 7.\n",
            "Processing T7 channel of file S002E03.edf part 7.\n",
            "Processing P7 channel of file S002E03.edf part 7.\n",
            "Processing O1 channel of file S002E03.edf part 7.\n",
            "Processing O2 channel of file S002E03.edf part 7.\n",
            "Processing P8 channel of file S002E03.edf part 7.\n",
            "Processing T8 channel of file S002E03.edf part 7.\n",
            "Processing FC6 channel of file S002E03.edf part 7.\n",
            "Processing F4 channel of file S002E03.edf part 7.\n",
            "Processing F8 channel of file S002E03.edf part 7.\n",
            "Processing AF4 channel of file S002E03.edf part 7.\n",
            "Processing AF3 channel of file S002E03.edf part 8.\n",
            "creating folder S002E03_8.\n",
            "creating folder S002E03_8.\n",
            "Processing F7 channel of file S002E03.edf part 8.\n",
            "Processing F3 channel of file S002E03.edf part 8.\n",
            "Processing FC5 channel of file S002E03.edf part 8.\n",
            "Processing T7 channel of file S002E03.edf part 8.\n",
            "Processing P7 channel of file S002E03.edf part 8.\n",
            "Processing O1 channel of file S002E03.edf part 8.\n",
            "Processing O2 channel of file S002E03.edf part 8.\n",
            "Processing P8 channel of file S002E03.edf part 8.\n"
          ],
          "name": "stdout"
        },
        {
          "output_type": "stream",
          "text": [
            "/usr/local/lib/python3.6/dist-packages/ipykernel_launcher.py:69: RuntimeWarning: divide by zero encountered in log10\n"
          ],
          "name": "stderr"
        },
        {
          "output_type": "stream",
          "text": [
            "Processing T8 channel of file S002E03.edf part 8.\n",
            "Processing FC6 channel of file S002E03.edf part 8.\n",
            "Processing F4 channel of file S002E03.edf part 8.\n",
            "Processing F8 channel of file S002E03.edf part 8.\n",
            "Processing AF4 channel of file S002E03.edf part 8.\n",
            "Processing AF3 channel of file S002E03.edf part 9.\n",
            "creating folder S002E03_9.\n",
            "creating folder S002E03_9.\n",
            "Processing F7 channel of file S002E03.edf part 9.\n",
            "Processing F3 channel of file S002E03.edf part 9.\n",
            "Processing FC5 channel of file S002E03.edf part 9.\n",
            "Processing T7 channel of file S002E03.edf part 9.\n",
            "Processing P7 channel of file S002E03.edf part 9.\n",
            "Processing O1 channel of file S002E03.edf part 9.\n",
            "Processing O2 channel of file S002E03.edf part 9.\n",
            "Processing P8 channel of file S002E03.edf part 9.\n",
            "Processing T8 channel of file S002E03.edf part 9.\n",
            "Processing FC6 channel of file S002E03.edf part 9.\n",
            "Processing F4 channel of file S002E03.edf part 9.\n",
            "Processing F8 channel of file S002E03.edf part 9.\n",
            "Processing AF4 channel of file S002E03.edf part 9.\n",
            "Processing AF3 channel of file S002E03.edf part 10.\n",
            "creating folder S002E03_10.\n",
            "creating folder S002E03_10.\n",
            "Processing F7 channel of file S002E03.edf part 10.\n",
            "Processing F3 channel of file S002E03.edf part 10.\n",
            "Processing FC5 channel of file S002E03.edf part 10.\n",
            "Processing T7 channel of file S002E03.edf part 10.\n",
            "Processing P7 channel of file S002E03.edf part 10.\n",
            "Processing O1 channel of file S002E03.edf part 10.\n",
            "Processing O2 channel of file S002E03.edf part 10.\n",
            "Processing P8 channel of file S002E03.edf part 10.\n",
            "Processing T8 channel of file S002E03.edf part 10.\n",
            "Processing FC6 channel of file S002E03.edf part 10.\n",
            "Processing F4 channel of file S002E03.edf part 10.\n",
            "Processing F8 channel of file S002E03.edf part 10.\n",
            "Processing AF4 channel of file S002E03.edf part 10.\n",
            "Processing AF3 channel of file S002E03.edf part 11.\n",
            "creating folder S002E03_11.\n",
            "creating folder S002E03_11.\n",
            "Processing F7 channel of file S002E03.edf part 11.\n",
            "Processing F3 channel of file S002E03.edf part 11.\n",
            "Processing FC5 channel of file S002E03.edf part 11.\n",
            "Processing T7 channel of file S002E03.edf part 11.\n",
            "Processing P7 channel of file S002E03.edf part 11.\n",
            "Processing O1 channel of file S002E03.edf part 11.\n",
            "Processing O2 channel of file S002E03.edf part 11.\n",
            "Processing P8 channel of file S002E03.edf part 11.\n"
          ],
          "name": "stdout"
        },
        {
          "output_type": "stream",
          "text": [
            "/usr/local/lib/python3.6/dist-packages/ipykernel_launcher.py:69: RuntimeWarning: divide by zero encountered in log10\n"
          ],
          "name": "stderr"
        },
        {
          "output_type": "stream",
          "text": [
            "Processing T8 channel of file S002E03.edf part 11.\n",
            "Processing FC6 channel of file S002E03.edf part 11.\n",
            "Processing F4 channel of file S002E03.edf part 11.\n",
            "Processing F8 channel of file S002E03.edf part 11.\n",
            "Processing AF4 channel of file S002E03.edf part 11.\n",
            "Processing AF3 channel of file S002E03.edf part 12.\n",
            "creating folder S002E03_12.\n",
            "creating folder S002E03_12.\n",
            "Processing F7 channel of file S002E03.edf part 12.\n",
            "Processing F3 channel of file S002E03.edf part 12.\n",
            "Processing FC5 channel of file S002E03.edf part 12.\n",
            "Processing T7 channel of file S002E03.edf part 12.\n",
            "Processing P7 channel of file S002E03.edf part 12.\n",
            "Processing O1 channel of file S002E03.edf part 12.\n",
            "Processing O2 channel of file S002E03.edf part 12.\n",
            "Processing P8 channel of file S002E03.edf part 12.\n",
            "Processing T8 channel of file S002E03.edf part 12.\n",
            "Processing FC6 channel of file S002E03.edf part 12.\n",
            "Processing F4 channel of file S002E03.edf part 12.\n",
            "Processing F8 channel of file S002E03.edf part 12.\n",
            "Processing AF4 channel of file S002E03.edf part 12.\n",
            "Processing AF3 channel of file S002E03.edf part 13.\n",
            "creating folder S002E03_13.\n",
            "creating folder S002E03_13.\n",
            "Processing F7 channel of file S002E03.edf part 13.\n",
            "Processing F3 channel of file S002E03.edf part 13.\n",
            "Processing FC5 channel of file S002E03.edf part 13.\n",
            "Processing T7 channel of file S002E03.edf part 13.\n",
            "Processing P7 channel of file S002E03.edf part 13.\n",
            "Processing O1 channel of file S002E03.edf part 13.\n",
            "Processing O2 channel of file S002E03.edf part 13.\n",
            "Processing P8 channel of file S002E03.edf part 13.\n",
            "Processing T8 channel of file S002E03.edf part 13.\n"
          ],
          "name": "stdout"
        },
        {
          "output_type": "stream",
          "text": [
            "/usr/local/lib/python3.6/dist-packages/ipykernel_launcher.py:69: RuntimeWarning: divide by zero encountered in log10\n"
          ],
          "name": "stderr"
        },
        {
          "output_type": "stream",
          "text": [
            "Processing FC6 channel of file S002E03.edf part 13.\n",
            "Processing F4 channel of file S002E03.edf part 13.\n",
            "Processing F8 channel of file S002E03.edf part 13.\n",
            "Processing AF4 channel of file S002E03.edf part 13.\n",
            "Processing AF3 channel of file S002E03.edf part 14.\n",
            "creating folder S002E03_14.\n",
            "creating folder S002E03_14.\n",
            "Processing F7 channel of file S002E03.edf part 14.\n",
            "Processing F3 channel of file S002E03.edf part 14.\n",
            "Processing FC5 channel of file S002E03.edf part 14.\n",
            "Processing T7 channel of file S002E03.edf part 14.\n",
            "Processing P7 channel of file S002E03.edf part 14.\n",
            "Processing O1 channel of file S002E03.edf part 14.\n",
            "Processing O2 channel of file S002E03.edf part 14.\n",
            "Processing P8 channel of file S002E03.edf part 14.\n",
            "Processing T8 channel of file S002E03.edf part 14.\n"
          ],
          "name": "stdout"
        },
        {
          "output_type": "stream",
          "text": [
            "/usr/local/lib/python3.6/dist-packages/ipykernel_launcher.py:69: RuntimeWarning: divide by zero encountered in log10\n"
          ],
          "name": "stderr"
        },
        {
          "output_type": "stream",
          "text": [
            "Processing FC6 channel of file S002E03.edf part 14.\n",
            "Processing F4 channel of file S002E03.edf part 14.\n",
            "Processing F8 channel of file S002E03.edf part 14.\n",
            "Processing AF4 channel of file S002E03.edf part 14.\n",
            "Processing AF3 channel of file S002E03.edf part 15.\n",
            "creating folder S002E03_15.\n",
            "creating folder S002E03_15.\n",
            "Processing F7 channel of file S002E03.edf part 15.\n",
            "Processing F3 channel of file S002E03.edf part 15.\n",
            "Processing FC5 channel of file S002E03.edf part 15.\n",
            "Processing T7 channel of file S002E03.edf part 15.\n",
            "Processing P7 channel of file S002E03.edf part 15.\n",
            "Processing O1 channel of file S002E03.edf part 15.\n",
            "Processing O2 channel of file S002E03.edf part 15.\n",
            "Processing P8 channel of file S002E03.edf part 15.\n",
            "Processing T8 channel of file S002E03.edf part 15.\n"
          ],
          "name": "stdout"
        },
        {
          "output_type": "stream",
          "text": [
            "/usr/local/lib/python3.6/dist-packages/ipykernel_launcher.py:69: RuntimeWarning: divide by zero encountered in log10\n"
          ],
          "name": "stderr"
        },
        {
          "output_type": "stream",
          "text": [
            "Processing FC6 channel of file S002E03.edf part 15.\n",
            "Processing F4 channel of file S002E03.edf part 15.\n",
            "Processing F8 channel of file S002E03.edf part 15.\n",
            "Processing AF4 channel of file S002E03.edf part 15.\n",
            "Processing AF3 channel of file S002E03.edf part 16.\n",
            "creating folder S002E03_16.\n",
            "creating folder S002E03_16.\n",
            "Processing F7 channel of file S002E03.edf part 16.\n",
            "Processing F3 channel of file S002E03.edf part 16.\n",
            "Processing FC5 channel of file S002E03.edf part 16.\n",
            "Processing T7 channel of file S002E03.edf part 16.\n",
            "Processing P7 channel of file S002E03.edf part 16.\n",
            "Processing O1 channel of file S002E03.edf part 16.\n",
            "Processing O2 channel of file S002E03.edf part 16.\n",
            "Processing P8 channel of file S002E03.edf part 16.\n"
          ],
          "name": "stdout"
        },
        {
          "output_type": "stream",
          "text": [
            "/usr/local/lib/python3.6/dist-packages/ipykernel_launcher.py:69: RuntimeWarning: divide by zero encountered in log10\n"
          ],
          "name": "stderr"
        },
        {
          "output_type": "stream",
          "text": [
            "Processing T8 channel of file S002E03.edf part 16.\n",
            "Processing FC6 channel of file S002E03.edf part 16.\n",
            "Processing F4 channel of file S002E03.edf part 16.\n",
            "Processing F8 channel of file S002E03.edf part 16.\n",
            "Processing AF4 channel of file S002E03.edf part 16.\n",
            "Processing AF3 channel of file S002E03.edf part 17.\n",
            "creating folder S002E03_17.\n",
            "creating folder S002E03_17.\n",
            "Processing F7 channel of file S002E03.edf part 17.\n",
            "Processing F3 channel of file S002E03.edf part 17.\n",
            "Processing FC5 channel of file S002E03.edf part 17.\n",
            "Processing T7 channel of file S002E03.edf part 17.\n",
            "Processing P7 channel of file S002E03.edf part 17.\n",
            "Processing O1 channel of file S002E03.edf part 17.\n",
            "Processing O2 channel of file S002E03.edf part 17.\n",
            "Processing P8 channel of file S002E03.edf part 17.\n",
            "Processing T8 channel of file S002E03.edf part 17.\n"
          ],
          "name": "stdout"
        },
        {
          "output_type": "stream",
          "text": [
            "/usr/local/lib/python3.6/dist-packages/ipykernel_launcher.py:69: RuntimeWarning: divide by zero encountered in log10\n"
          ],
          "name": "stderr"
        },
        {
          "output_type": "stream",
          "text": [
            "Processing FC6 channel of file S002E03.edf part 17.\n",
            "Processing F4 channel of file S002E03.edf part 17.\n",
            "Processing F8 channel of file S002E03.edf part 17.\n",
            "Processing AF4 channel of file S002E03.edf part 17.\n",
            "Processing AF3 channel of file S002E03.edf part 18.\n",
            "creating folder S002E03_18.\n",
            "creating folder S002E03_18.\n",
            "Processing F7 channel of file S002E03.edf part 18.\n",
            "Processing F3 channel of file S002E03.edf part 18.\n",
            "Processing FC5 channel of file S002E03.edf part 18.\n",
            "Processing T7 channel of file S002E03.edf part 18.\n",
            "Processing P7 channel of file S002E03.edf part 18.\n",
            "Processing O1 channel of file S002E03.edf part 18.\n",
            "Processing O2 channel of file S002E03.edf part 18.\n",
            "Processing P8 channel of file S002E03.edf part 18.\n"
          ],
          "name": "stdout"
        },
        {
          "output_type": "stream",
          "text": [
            "/usr/local/lib/python3.6/dist-packages/ipykernel_launcher.py:69: RuntimeWarning: divide by zero encountered in log10\n"
          ],
          "name": "stderr"
        },
        {
          "output_type": "stream",
          "text": [
            "Processing T8 channel of file S002E03.edf part 18.\n",
            "Processing FC6 channel of file S002E03.edf part 18.\n",
            "Processing F4 channel of file S002E03.edf part 18.\n",
            "Processing F8 channel of file S002E03.edf part 18.\n",
            "Processing AF4 channel of file S002E03.edf part 18.\n",
            "Processing AF3 channel of file S002E03.edf part 19.\n",
            "creating folder S002E03_19.\n",
            "creating folder S002E03_19.\n",
            "Processing F7 channel of file S002E03.edf part 19.\n",
            "Processing F3 channel of file S002E03.edf part 19.\n",
            "Processing FC5 channel of file S002E03.edf part 19.\n",
            "Processing T7 channel of file S002E03.edf part 19.\n",
            "Processing P7 channel of file S002E03.edf part 19.\n",
            "Processing O1 channel of file S002E03.edf part 19.\n",
            "Processing O2 channel of file S002E03.edf part 19.\n",
            "Processing P8 channel of file S002E03.edf part 19.\n"
          ],
          "name": "stdout"
        },
        {
          "output_type": "stream",
          "text": [
            "/usr/local/lib/python3.6/dist-packages/ipykernel_launcher.py:69: RuntimeWarning: divide by zero encountered in log10\n"
          ],
          "name": "stderr"
        },
        {
          "output_type": "stream",
          "text": [
            "Processing T8 channel of file S002E03.edf part 19.\n",
            "Processing FC6 channel of file S002E03.edf part 19.\n",
            "Processing F4 channel of file S002E03.edf part 19.\n",
            "Processing F8 channel of file S002E03.edf part 19.\n",
            "Processing AF4 channel of file S002E03.edf part 19.\n",
            "Processing AF3 channel of file S002E03.edf part 20.\n",
            "creating folder S002E03_20.\n",
            "creating folder S002E03_20.\n",
            "Processing F7 channel of file S002E03.edf part 20.\n",
            "Processing F3 channel of file S002E03.edf part 20.\n",
            "Processing FC5 channel of file S002E03.edf part 20.\n",
            "Processing T7 channel of file S002E03.edf part 20.\n",
            "Processing P7 channel of file S002E03.edf part 20.\n",
            "Processing O1 channel of file S002E03.edf part 20.\n",
            "Processing O2 channel of file S002E03.edf part 20.\n",
            "Processing P8 channel of file S002E03.edf part 20.\n",
            "Processing T8 channel of file S002E03.edf part 20.\n"
          ],
          "name": "stdout"
        },
        {
          "output_type": "stream",
          "text": [
            "/usr/local/lib/python3.6/dist-packages/ipykernel_launcher.py:69: RuntimeWarning: divide by zero encountered in log10\n"
          ],
          "name": "stderr"
        },
        {
          "output_type": "stream",
          "text": [
            "Processing FC6 channel of file S002E03.edf part 20.\n",
            "Processing F4 channel of file S002E03.edf part 20.\n",
            "Processing F8 channel of file S002E03.edf part 20.\n",
            "Processing AF4 channel of file S002E03.edf part 20.\n",
            "Processing AF3 channel of file S002E03.edf part 21.\n",
            "creating folder S002E03_21.\n",
            "creating folder S002E03_21.\n",
            "Processing F7 channel of file S002E03.edf part 21.\n",
            "Processing F3 channel of file S002E03.edf part 21.\n",
            "Processing FC5 channel of file S002E03.edf part 21.\n",
            "Processing T7 channel of file S002E03.edf part 21.\n",
            "Processing P7 channel of file S002E03.edf part 21.\n",
            "Processing O1 channel of file S002E03.edf part 21.\n",
            "Processing O2 channel of file S002E03.edf part 21.\n",
            "Processing P8 channel of file S002E03.edf part 21.\n",
            "Processing T8 channel of file S002E03.edf part 21.\n"
          ],
          "name": "stdout"
        },
        {
          "output_type": "stream",
          "text": [
            "/usr/local/lib/python3.6/dist-packages/ipykernel_launcher.py:69: RuntimeWarning: divide by zero encountered in log10\n"
          ],
          "name": "stderr"
        },
        {
          "output_type": "stream",
          "text": [
            "Processing FC6 channel of file S002E03.edf part 21.\n",
            "Processing F4 channel of file S002E03.edf part 21.\n",
            "Processing F8 channel of file S002E03.edf part 21.\n",
            "Processing AF4 channel of file S002E03.edf part 21.\n",
            "Processing AF3 channel of file S002E03.edf part 22.\n",
            "creating folder S002E03_22.\n",
            "creating folder S002E03_22.\n",
            "Processing F7 channel of file S002E03.edf part 22.\n",
            "Processing F3 channel of file S002E03.edf part 22.\n",
            "Processing FC5 channel of file S002E03.edf part 22.\n",
            "Processing T7 channel of file S002E03.edf part 22.\n",
            "Processing P7 channel of file S002E03.edf part 22.\n",
            "Processing O1 channel of file S002E03.edf part 22.\n",
            "Processing O2 channel of file S002E03.edf part 22.\n",
            "Processing P8 channel of file S002E03.edf part 22.\n",
            "Processing T8 channel of file S002E03.edf part 22.\n"
          ],
          "name": "stdout"
        },
        {
          "output_type": "stream",
          "text": [
            "/usr/local/lib/python3.6/dist-packages/ipykernel_launcher.py:69: RuntimeWarning: divide by zero encountered in log10\n"
          ],
          "name": "stderr"
        },
        {
          "output_type": "stream",
          "text": [
            "Processing FC6 channel of file S002E03.edf part 22.\n",
            "Processing F4 channel of file S002E03.edf part 22.\n",
            "Processing F8 channel of file S002E03.edf part 22.\n",
            "Processing AF4 channel of file S002E03.edf part 22.\n",
            "Processing AF3 channel of file S002E03.edf part 23.\n",
            "creating folder S002E03_23.\n",
            "creating folder S002E03_23.\n",
            "Processing F7 channel of file S002E03.edf part 23.\n",
            "Processing F3 channel of file S002E03.edf part 23.\n",
            "Processing FC5 channel of file S002E03.edf part 23.\n",
            "Processing T7 channel of file S002E03.edf part 23.\n",
            "Processing P7 channel of file S002E03.edf part 23.\n",
            "Processing O1 channel of file S002E03.edf part 23.\n",
            "Processing O2 channel of file S002E03.edf part 23.\n",
            "Processing P8 channel of file S002E03.edf part 23.\n"
          ],
          "name": "stdout"
        },
        {
          "output_type": "stream",
          "text": [
            "/usr/local/lib/python3.6/dist-packages/ipykernel_launcher.py:69: RuntimeWarning: divide by zero encountered in log10\n"
          ],
          "name": "stderr"
        },
        {
          "output_type": "stream",
          "text": [
            "Processing T8 channel of file S002E03.edf part 23.\n",
            "Processing FC6 channel of file S002E03.edf part 23.\n",
            "Processing F4 channel of file S002E03.edf part 23.\n",
            "Processing F8 channel of file S002E03.edf part 23.\n",
            "Processing AF4 channel of file S002E03.edf part 23.\n",
            "Processing AF3 channel of file S002E03.edf part 24.\n",
            "creating folder S002E03_24.\n",
            "creating folder S002E03_24.\n",
            "Processing F7 channel of file S002E03.edf part 24.\n",
            "Processing F3 channel of file S002E03.edf part 24.\n",
            "Processing FC5 channel of file S002E03.edf part 24.\n",
            "Processing T7 channel of file S002E03.edf part 24.\n",
            "Processing P7 channel of file S002E03.edf part 24.\n",
            "Processing O1 channel of file S002E03.edf part 24.\n",
            "Processing O2 channel of file S002E03.edf part 24.\n",
            "Processing P8 channel of file S002E03.edf part 24.\n"
          ],
          "name": "stdout"
        },
        {
          "output_type": "stream",
          "text": [
            "/usr/local/lib/python3.6/dist-packages/ipykernel_launcher.py:69: RuntimeWarning: divide by zero encountered in log10\n"
          ],
          "name": "stderr"
        },
        {
          "output_type": "stream",
          "text": [
            "Processing T8 channel of file S002E03.edf part 24.\n",
            "Processing FC6 channel of file S002E03.edf part 24.\n",
            "Processing F4 channel of file S002E03.edf part 24.\n",
            "Processing F8 channel of file S002E03.edf part 24.\n",
            "Processing AF4 channel of file S002E03.edf part 24.\n",
            "Processing AF3 channel of file S002E03.edf part 25.\n",
            "creating folder S002E03_25.\n",
            "creating folder S002E03_25.\n",
            "Processing F7 channel of file S002E03.edf part 25.\n",
            "Processing F3 channel of file S002E03.edf part 25.\n",
            "Processing FC5 channel of file S002E03.edf part 25.\n",
            "Processing T7 channel of file S002E03.edf part 25.\n",
            "Processing P7 channel of file S002E03.edf part 25.\n",
            "Processing O1 channel of file S002E03.edf part 25.\n",
            "Processing O2 channel of file S002E03.edf part 25.\n",
            "Processing P8 channel of file S002E03.edf part 25.\n",
            "Processing T8 channel of file S002E03.edf part 25.\n"
          ],
          "name": "stdout"
        },
        {
          "output_type": "stream",
          "text": [
            "/usr/local/lib/python3.6/dist-packages/ipykernel_launcher.py:69: RuntimeWarning: divide by zero encountered in log10\n"
          ],
          "name": "stderr"
        },
        {
          "output_type": "stream",
          "text": [
            "Processing FC6 channel of file S002E03.edf part 25.\n",
            "Processing F4 channel of file S002E03.edf part 25.\n",
            "Processing F8 channel of file S002E03.edf part 25.\n",
            "Processing AF4 channel of file S002E03.edf part 25.\n",
            "Processing AF3 channel of file S002E03.edf part 26.\n",
            "creating folder S002E03_26.\n",
            "creating folder S002E03_26.\n",
            "Processing F7 channel of file S002E03.edf part 26.\n",
            "Processing F3 channel of file S002E03.edf part 26.\n",
            "Processing FC5 channel of file S002E03.edf part 26.\n",
            "Processing T7 channel of file S002E03.edf part 26.\n",
            "Processing P7 channel of file S002E03.edf part 26.\n",
            "Processing O1 channel of file S002E03.edf part 26.\n",
            "Processing O2 channel of file S002E03.edf part 26.\n",
            "Processing P8 channel of file S002E03.edf part 26.\n",
            "Processing T8 channel of file S002E03.edf part 26.\n"
          ],
          "name": "stdout"
        },
        {
          "output_type": "stream",
          "text": [
            "/usr/local/lib/python3.6/dist-packages/ipykernel_launcher.py:69: RuntimeWarning: divide by zero encountered in log10\n"
          ],
          "name": "stderr"
        },
        {
          "output_type": "stream",
          "text": [
            "Processing FC6 channel of file S002E03.edf part 26.\n",
            "Processing F4 channel of file S002E03.edf part 26.\n",
            "Processing F8 channel of file S002E03.edf part 26.\n",
            "Processing AF4 channel of file S002E03.edf part 26.\n",
            "Processing AF3 channel of file S002E03.edf part 27.\n",
            "creating folder S002E03_27.\n",
            "creating folder S002E03_27.\n",
            "Processing F7 channel of file S002E03.edf part 27.\n",
            "Processing F3 channel of file S002E03.edf part 27.\n",
            "Processing FC5 channel of file S002E03.edf part 27.\n",
            "Processing T7 channel of file S002E03.edf part 27.\n",
            "Processing P7 channel of file S002E03.edf part 27.\n",
            "Processing O1 channel of file S002E03.edf part 27.\n",
            "Processing O2 channel of file S002E03.edf part 27.\n",
            "Processing P8 channel of file S002E03.edf part 27.\n",
            "Processing T8 channel of file S002E03.edf part 27.\n"
          ],
          "name": "stdout"
        },
        {
          "output_type": "stream",
          "text": [
            "/usr/local/lib/python3.6/dist-packages/ipykernel_launcher.py:69: RuntimeWarning: divide by zero encountered in log10\n"
          ],
          "name": "stderr"
        },
        {
          "output_type": "stream",
          "text": [
            "Processing FC6 channel of file S002E03.edf part 27.\n",
            "Processing F4 channel of file S002E03.edf part 27.\n",
            "Processing F8 channel of file S002E03.edf part 27.\n",
            "Processing AF4 channel of file S002E03.edf part 27.\n",
            "Processing AF3 channel of file S002E03.edf part 28.\n",
            "creating folder S002E03_28.\n",
            "creating folder S002E03_28.\n",
            "Processing F7 channel of file S002E03.edf part 28.\n",
            "Processing F3 channel of file S002E03.edf part 28.\n",
            "Processing FC5 channel of file S002E03.edf part 28.\n",
            "Processing T7 channel of file S002E03.edf part 28.\n",
            "Processing P7 channel of file S002E03.edf part 28.\n",
            "Processing O1 channel of file S002E03.edf part 28.\n",
            "Processing O2 channel of file S002E03.edf part 28.\n",
            "Processing P8 channel of file S002E03.edf part 28.\n"
          ],
          "name": "stdout"
        },
        {
          "output_type": "stream",
          "text": [
            "/usr/local/lib/python3.6/dist-packages/ipykernel_launcher.py:69: RuntimeWarning: divide by zero encountered in log10\n"
          ],
          "name": "stderr"
        },
        {
          "output_type": "stream",
          "text": [
            "Processing T8 channel of file S002E03.edf part 28.\n",
            "Processing FC6 channel of file S002E03.edf part 28.\n",
            "Processing F4 channel of file S002E03.edf part 28.\n",
            "Processing F8 channel of file S002E03.edf part 28.\n",
            "Processing AF4 channel of file S002E03.edf part 28.\n",
            "Processing AF3 channel of file S002E03.edf part 29.\n",
            "creating folder S002E03_29.\n",
            "creating folder S002E03_29.\n",
            "Processing F7 channel of file S002E03.edf part 29.\n",
            "Processing F3 channel of file S002E03.edf part 29.\n",
            "Processing FC5 channel of file S002E03.edf part 29.\n",
            "Processing T7 channel of file S002E03.edf part 29.\n",
            "Processing P7 channel of file S002E03.edf part 29.\n",
            "Processing O1 channel of file S002E03.edf part 29.\n",
            "Processing O2 channel of file S002E03.edf part 29.\n",
            "Processing P8 channel of file S002E03.edf part 29.\n",
            "Processing T8 channel of file S002E03.edf part 29.\n"
          ],
          "name": "stdout"
        },
        {
          "output_type": "stream",
          "text": [
            "/usr/local/lib/python3.6/dist-packages/ipykernel_launcher.py:69: RuntimeWarning: divide by zero encountered in log10\n"
          ],
          "name": "stderr"
        },
        {
          "output_type": "stream",
          "text": [
            "Processing FC6 channel of file S002E03.edf part 29.\n",
            "Processing F4 channel of file S002E03.edf part 29.\n",
            "Processing F8 channel of file S002E03.edf part 29.\n",
            "Processing AF4 channel of file S002E03.edf part 29.\n",
            "Processing AF3 channel of file S002E03.edf part 30.\n",
            "creating folder S002E03_30.\n",
            "creating folder S002E03_30.\n",
            "Processing F7 channel of file S002E03.edf part 30.\n",
            "Processing F3 channel of file S002E03.edf part 30.\n",
            "Processing FC5 channel of file S002E03.edf part 30.\n",
            "Processing T7 channel of file S002E03.edf part 30.\n",
            "Processing P7 channel of file S002E03.edf part 30.\n",
            "Processing O1 channel of file S002E03.edf part 30.\n",
            "Processing O2 channel of file S002E03.edf part 30.\n",
            "Processing P8 channel of file S002E03.edf part 30.\n"
          ],
          "name": "stdout"
        },
        {
          "output_type": "stream",
          "text": [
            "/usr/local/lib/python3.6/dist-packages/ipykernel_launcher.py:69: RuntimeWarning: divide by zero encountered in log10\n"
          ],
          "name": "stderr"
        },
        {
          "output_type": "stream",
          "text": [
            "Processing T8 channel of file S002E03.edf part 30.\n",
            "Processing FC6 channel of file S002E03.edf part 30.\n",
            "Processing F4 channel of file S002E03.edf part 30.\n",
            "Processing F8 channel of file S002E03.edf part 30.\n",
            "Processing AF4 channel of file S002E03.edf part 30.\n",
            "Processing AF3 channel of file S002E03.edf part 31.\n",
            "creating folder S002E03_31.\n",
            "creating folder S002E03_31.\n",
            "Processing F7 channel of file S002E03.edf part 31.\n",
            "Processing F3 channel of file S002E03.edf part 31.\n",
            "Processing FC5 channel of file S002E03.edf part 31.\n",
            "Processing T7 channel of file S002E03.edf part 31.\n",
            "Processing P7 channel of file S002E03.edf part 31.\n",
            "Processing O1 channel of file S002E03.edf part 31.\n",
            "Processing O2 channel of file S002E03.edf part 31.\n",
            "Processing P8 channel of file S002E03.edf part 31.\n",
            "Processing T8 channel of file S002E03.edf part 31.\n"
          ],
          "name": "stdout"
        },
        {
          "output_type": "stream",
          "text": [
            "/usr/local/lib/python3.6/dist-packages/ipykernel_launcher.py:69: RuntimeWarning: divide by zero encountered in log10\n"
          ],
          "name": "stderr"
        },
        {
          "output_type": "stream",
          "text": [
            "Processing FC6 channel of file S002E03.edf part 31.\n",
            "Processing F4 channel of file S002E03.edf part 31.\n",
            "Processing F8 channel of file S002E03.edf part 31.\n",
            "Processing AF4 channel of file S002E03.edf part 31.\n",
            "Processing AF3 channel of file S002E03.edf part 32.\n",
            "creating folder S002E03_32.\n",
            "creating folder S002E03_32.\n",
            "Processing F7 channel of file S002E03.edf part 32.\n",
            "Processing F3 channel of file S002E03.edf part 32.\n",
            "Processing FC5 channel of file S002E03.edf part 32.\n",
            "Processing T7 channel of file S002E03.edf part 32.\n",
            "Processing P7 channel of file S002E03.edf part 32.\n",
            "Processing O1 channel of file S002E03.edf part 32.\n",
            "Processing O2 channel of file S002E03.edf part 32.\n",
            "Processing P8 channel of file S002E03.edf part 32.\n",
            "Processing T8 channel of file S002E03.edf part 32.\n"
          ],
          "name": "stdout"
        },
        {
          "output_type": "stream",
          "text": [
            "/usr/local/lib/python3.6/dist-packages/ipykernel_launcher.py:69: RuntimeWarning: divide by zero encountered in log10\n"
          ],
          "name": "stderr"
        },
        {
          "output_type": "stream",
          "text": [
            "Processing FC6 channel of file S002E03.edf part 32.\n",
            "Processing F4 channel of file S002E03.edf part 32.\n",
            "Processing F8 channel of file S002E03.edf part 32.\n",
            "Processing AF4 channel of file S002E03.edf part 32.\n",
            "Processing AF3 channel of file S002E03.edf part 33.\n",
            "creating folder S002E03_33.\n",
            "creating folder S002E03_33.\n",
            "Processing F7 channel of file S002E03.edf part 33.\n",
            "Processing F3 channel of file S002E03.edf part 33.\n",
            "Processing FC5 channel of file S002E03.edf part 33.\n",
            "Processing T7 channel of file S002E03.edf part 33.\n",
            "Processing P7 channel of file S002E03.edf part 33.\n",
            "Processing O1 channel of file S002E03.edf part 33.\n",
            "Processing O2 channel of file S002E03.edf part 33.\n",
            "Processing P8 channel of file S002E03.edf part 33.\n",
            "Processing T8 channel of file S002E03.edf part 33.\n"
          ],
          "name": "stdout"
        },
        {
          "output_type": "stream",
          "text": [
            "/usr/local/lib/python3.6/dist-packages/ipykernel_launcher.py:69: RuntimeWarning: divide by zero encountered in log10\n"
          ],
          "name": "stderr"
        },
        {
          "output_type": "stream",
          "text": [
            "Processing FC6 channel of file S002E03.edf part 33.\n",
            "Processing F4 channel of file S002E03.edf part 33.\n",
            "Processing F8 channel of file S002E03.edf part 33.\n",
            "Processing AF4 channel of file S002E03.edf part 33.\n",
            "Processing AF3 channel of file S002E03.edf part 34.\n",
            "creating folder S002E03_34.\n",
            "creating folder S002E03_34.\n",
            "Processing F7 channel of file S002E03.edf part 34.\n",
            "Processing F3 channel of file S002E03.edf part 34.\n",
            "Processing FC5 channel of file S002E03.edf part 34.\n",
            "Processing T7 channel of file S002E03.edf part 34.\n",
            "Processing P7 channel of file S002E03.edf part 34.\n",
            "Processing O1 channel of file S002E03.edf part 34.\n",
            "Processing O2 channel of file S002E03.edf part 34.\n",
            "Processing P8 channel of file S002E03.edf part 34.\n",
            "Processing T8 channel of file S002E03.edf part 34.\n"
          ],
          "name": "stdout"
        },
        {
          "output_type": "stream",
          "text": [
            "/usr/local/lib/python3.6/dist-packages/ipykernel_launcher.py:69: RuntimeWarning: divide by zero encountered in log10\n"
          ],
          "name": "stderr"
        },
        {
          "output_type": "stream",
          "text": [
            "Processing FC6 channel of file S002E03.edf part 34.\n",
            "Processing F4 channel of file S002E03.edf part 34.\n",
            "Processing F8 channel of file S002E03.edf part 34.\n",
            "Processing AF4 channel of file S002E03.edf part 34.\n",
            "Processing AF3 channel of file S002E03.edf part 35.\n",
            "creating folder S002E03_35.\n",
            "creating folder S002E03_35.\n",
            "Processing F7 channel of file S002E03.edf part 35.\n",
            "Processing F3 channel of file S002E03.edf part 35.\n",
            "Processing FC5 channel of file S002E03.edf part 35.\n",
            "Processing T7 channel of file S002E03.edf part 35.\n",
            "Processing P7 channel of file S002E03.edf part 35.\n",
            "Processing O1 channel of file S002E03.edf part 35.\n",
            "Processing O2 channel of file S002E03.edf part 35.\n",
            "Processing P8 channel of file S002E03.edf part 35.\n"
          ],
          "name": "stdout"
        },
        {
          "output_type": "stream",
          "text": [
            "/usr/local/lib/python3.6/dist-packages/ipykernel_launcher.py:69: RuntimeWarning: divide by zero encountered in log10\n"
          ],
          "name": "stderr"
        },
        {
          "output_type": "stream",
          "text": [
            "Processing T8 channel of file S002E03.edf part 35.\n",
            "Processing FC6 channel of file S002E03.edf part 35.\n",
            "Processing F4 channel of file S002E03.edf part 35.\n",
            "Processing F8 channel of file S002E03.edf part 35.\n",
            "Processing AF4 channel of file S002E03.edf part 35.\n",
            "Extracting EDF parameters from /content/gdrive/My Drive/CSE 240/Project/Data/EEG/S002E04.edf...\n",
            "EDF file detected\n",
            "Setting channel info structure...\n",
            "Creating raw.info structure...\n",
            "Processing AF3 channel of file S002E04.edf part 0.\n",
            "creating folder S002E04_0.\n",
            "creating folder S002E04_0.\n",
            "Processing F7 channel of file S002E04.edf part 0.\n",
            "Processing F3 channel of file S002E04.edf part 0.\n",
            "Processing FC5 channel of file S002E04.edf part 0.\n",
            "Processing T7 channel of file S002E04.edf part 0.\n",
            "Processing P7 channel of file S002E04.edf part 0.\n",
            "Processing O1 channel of file S002E04.edf part 0.\n",
            "Processing O2 channel of file S002E04.edf part 0.\n",
            "Processing P8 channel of file S002E04.edf part 0.\n"
          ],
          "name": "stdout"
        },
        {
          "output_type": "stream",
          "text": [
            "/usr/local/lib/python3.6/dist-packages/ipykernel_launcher.py:69: RuntimeWarning: divide by zero encountered in log10\n"
          ],
          "name": "stderr"
        },
        {
          "output_type": "stream",
          "text": [
            "Processing T8 channel of file S002E04.edf part 0.\n",
            "Processing FC6 channel of file S002E04.edf part 0.\n",
            "Processing F4 channel of file S002E04.edf part 0.\n",
            "Processing F8 channel of file S002E04.edf part 0.\n",
            "Processing AF4 channel of file S002E04.edf part 0.\n",
            "Processing AF3 channel of file S002E04.edf part 1.\n",
            "creating folder S002E04_1.\n",
            "creating folder S002E04_1.\n",
            "Processing F7 channel of file S002E04.edf part 1.\n",
            "Processing F3 channel of file S002E04.edf part 1.\n",
            "Processing FC5 channel of file S002E04.edf part 1.\n",
            "Processing T7 channel of file S002E04.edf part 1.\n",
            "Processing P7 channel of file S002E04.edf part 1.\n",
            "Processing O1 channel of file S002E04.edf part 1.\n",
            "Processing O2 channel of file S002E04.edf part 1.\n",
            "Processing P8 channel of file S002E04.edf part 1.\n",
            "Processing T8 channel of file S002E04.edf part 1.\n"
          ],
          "name": "stdout"
        },
        {
          "output_type": "stream",
          "text": [
            "/usr/local/lib/python3.6/dist-packages/ipykernel_launcher.py:69: RuntimeWarning: divide by zero encountered in log10\n"
          ],
          "name": "stderr"
        },
        {
          "output_type": "stream",
          "text": [
            "Processing FC6 channel of file S002E04.edf part 1.\n",
            "Processing F4 channel of file S002E04.edf part 1.\n",
            "Processing F8 channel of file S002E04.edf part 1.\n",
            "Processing AF4 channel of file S002E04.edf part 1.\n",
            "Processing AF3 channel of file S002E04.edf part 2.\n",
            "creating folder S002E04_2.\n",
            "creating folder S002E04_2.\n",
            "Processing F7 channel of file S002E04.edf part 2.\n",
            "Processing F3 channel of file S002E04.edf part 2.\n",
            "Processing FC5 channel of file S002E04.edf part 2.\n",
            "Processing T7 channel of file S002E04.edf part 2.\n",
            "Processing P7 channel of file S002E04.edf part 2.\n",
            "Processing O1 channel of file S002E04.edf part 2.\n",
            "Processing O2 channel of file S002E04.edf part 2.\n",
            "Processing P8 channel of file S002E04.edf part 2.\n"
          ],
          "name": "stdout"
        },
        {
          "output_type": "stream",
          "text": [
            "/usr/local/lib/python3.6/dist-packages/ipykernel_launcher.py:69: RuntimeWarning: divide by zero encountered in log10\n"
          ],
          "name": "stderr"
        },
        {
          "output_type": "stream",
          "text": [
            "Processing T8 channel of file S002E04.edf part 2.\n",
            "Processing FC6 channel of file S002E04.edf part 2.\n",
            "Processing F4 channel of file S002E04.edf part 2.\n",
            "Processing F8 channel of file S002E04.edf part 2.\n",
            "Processing AF4 channel of file S002E04.edf part 2.\n",
            "Processing AF3 channel of file S002E04.edf part 3.\n",
            "creating folder S002E04_3.\n",
            "creating folder S002E04_3.\n",
            "Processing F7 channel of file S002E04.edf part 3.\n",
            "Processing F3 channel of file S002E04.edf part 3.\n",
            "Processing FC5 channel of file S002E04.edf part 3.\n",
            "Processing T7 channel of file S002E04.edf part 3.\n",
            "Processing P7 channel of file S002E04.edf part 3.\n",
            "Processing O1 channel of file S002E04.edf part 3.\n",
            "Processing O2 channel of file S002E04.edf part 3.\n",
            "Processing P8 channel of file S002E04.edf part 3.\n",
            "Processing T8 channel of file S002E04.edf part 3.\n"
          ],
          "name": "stdout"
        },
        {
          "output_type": "stream",
          "text": [
            "/usr/local/lib/python3.6/dist-packages/ipykernel_launcher.py:69: RuntimeWarning: divide by zero encountered in log10\n"
          ],
          "name": "stderr"
        },
        {
          "output_type": "stream",
          "text": [
            "Processing FC6 channel of file S002E04.edf part 3.\n",
            "Processing F4 channel of file S002E04.edf part 3.\n",
            "Processing F8 channel of file S002E04.edf part 3.\n",
            "Processing AF4 channel of file S002E04.edf part 3.\n",
            "Processing AF3 channel of file S002E04.edf part 4.\n",
            "creating folder S002E04_4.\n",
            "creating folder S002E04_4.\n",
            "Processing F7 channel of file S002E04.edf part 4.\n",
            "Processing F3 channel of file S002E04.edf part 4.\n",
            "Processing FC5 channel of file S002E04.edf part 4.\n",
            "Processing T7 channel of file S002E04.edf part 4.\n",
            "Processing P7 channel of file S002E04.edf part 4.\n",
            "Processing O1 channel of file S002E04.edf part 4.\n",
            "Processing O2 channel of file S002E04.edf part 4.\n",
            "Processing P8 channel of file S002E04.edf part 4.\n",
            "Processing T8 channel of file S002E04.edf part 4.\n",
            "Processing FC6 channel of file S002E04.edf part 4.\n",
            "Processing F4 channel of file S002E04.edf part 4.\n",
            "Processing F8 channel of file S002E04.edf part 4.\n",
            "Processing AF4 channel of file S002E04.edf part 4.\n",
            "Processing AF3 channel of file S002E04.edf part 5.\n",
            "creating folder S002E04_5.\n",
            "creating folder S002E04_5.\n",
            "Processing F7 channel of file S002E04.edf part 5.\n",
            "Processing F3 channel of file S002E04.edf part 5.\n",
            "Processing FC5 channel of file S002E04.edf part 5.\n",
            "Processing T7 channel of file S002E04.edf part 5.\n",
            "Processing P7 channel of file S002E04.edf part 5.\n",
            "Processing O1 channel of file S002E04.edf part 5.\n",
            "Processing O2 channel of file S002E04.edf part 5.\n",
            "Processing P8 channel of file S002E04.edf part 5.\n",
            "Processing T8 channel of file S002E04.edf part 5.\n",
            "Processing FC6 channel of file S002E04.edf part 5.\n",
            "Processing F4 channel of file S002E04.edf part 5.\n",
            "Processing F8 channel of file S002E04.edf part 5.\n",
            "Processing AF4 channel of file S002E04.edf part 5.\n",
            "Processing AF3 channel of file S002E04.edf part 6.\n",
            "creating folder S002E04_6.\n",
            "creating folder S002E04_6.\n",
            "Processing F7 channel of file S002E04.edf part 6.\n",
            "Processing F3 channel of file S002E04.edf part 6.\n",
            "Processing FC5 channel of file S002E04.edf part 6.\n",
            "Processing T7 channel of file S002E04.edf part 6.\n",
            "Processing P7 channel of file S002E04.edf part 6.\n",
            "Processing O1 channel of file S002E04.edf part 6.\n",
            "Processing O2 channel of file S002E04.edf part 6.\n",
            "Processing P8 channel of file S002E04.edf part 6.\n",
            "Processing T8 channel of file S002E04.edf part 6.\n",
            "Processing FC6 channel of file S002E04.edf part 6.\n",
            "Processing F4 channel of file S002E04.edf part 6.\n",
            "Processing F8 channel of file S002E04.edf part 6.\n",
            "Processing AF4 channel of file S002E04.edf part 6.\n",
            "Processing AF3 channel of file S002E04.edf part 7.\n",
            "creating folder S002E04_7.\n",
            "creating folder S002E04_7.\n",
            "Processing F7 channel of file S002E04.edf part 7.\n",
            "Processing F3 channel of file S002E04.edf part 7.\n",
            "Processing FC5 channel of file S002E04.edf part 7.\n",
            "Processing T7 channel of file S002E04.edf part 7.\n",
            "Processing P7 channel of file S002E04.edf part 7.\n",
            "Processing O1 channel of file S002E04.edf part 7.\n",
            "Processing O2 channel of file S002E04.edf part 7.\n",
            "Processing P8 channel of file S002E04.edf part 7.\n",
            "Processing T8 channel of file S002E04.edf part 7.\n",
            "Processing FC6 channel of file S002E04.edf part 7.\n",
            "Processing F4 channel of file S002E04.edf part 7.\n",
            "Processing F8 channel of file S002E04.edf part 7.\n",
            "Processing AF4 channel of file S002E04.edf part 7.\n",
            "Processing AF3 channel of file S002E04.edf part 8.\n",
            "creating folder S002E04_8.\n",
            "creating folder S002E04_8.\n",
            "Processing F7 channel of file S002E04.edf part 8.\n",
            "Processing F3 channel of file S002E04.edf part 8.\n",
            "Processing FC5 channel of file S002E04.edf part 8.\n",
            "Processing T7 channel of file S002E04.edf part 8.\n",
            "Processing P7 channel of file S002E04.edf part 8.\n",
            "Processing O1 channel of file S002E04.edf part 8.\n",
            "Processing O2 channel of file S002E04.edf part 8.\n",
            "Processing P8 channel of file S002E04.edf part 8.\n",
            "Processing T8 channel of file S002E04.edf part 8.\n",
            "Processing FC6 channel of file S002E04.edf part 8.\n",
            "Processing F4 channel of file S002E04.edf part 8.\n",
            "Processing F8 channel of file S002E04.edf part 8.\n",
            "Processing AF4 channel of file S002E04.edf part 8.\n",
            "Processing AF3 channel of file S002E04.edf part 9.\n",
            "creating folder S002E04_9.\n",
            "creating folder S002E04_9.\n",
            "Processing F7 channel of file S002E04.edf part 9.\n",
            "Processing F3 channel of file S002E04.edf part 9.\n",
            "Processing FC5 channel of file S002E04.edf part 9.\n",
            "Processing T7 channel of file S002E04.edf part 9.\n",
            "Processing P7 channel of file S002E04.edf part 9.\n",
            "Processing O1 channel of file S002E04.edf part 9.\n",
            "Processing O2 channel of file S002E04.edf part 9.\n",
            "Processing P8 channel of file S002E04.edf part 9.\n",
            "Processing T8 channel of file S002E04.edf part 9.\n",
            "Processing FC6 channel of file S002E04.edf part 9.\n",
            "Processing F4 channel of file S002E04.edf part 9.\n",
            "Processing F8 channel of file S002E04.edf part 9.\n",
            "Processing AF4 channel of file S002E04.edf part 9.\n",
            "Processing AF3 channel of file S002E04.edf part 10.\n",
            "creating folder S002E04_10.\n",
            "creating folder S002E04_10.\n",
            "Processing F7 channel of file S002E04.edf part 10.\n",
            "Processing F3 channel of file S002E04.edf part 10.\n",
            "Processing FC5 channel of file S002E04.edf part 10.\n",
            "Processing T7 channel of file S002E04.edf part 10.\n",
            "Processing P7 channel of file S002E04.edf part 10.\n",
            "Processing O1 channel of file S002E04.edf part 10.\n",
            "Processing O2 channel of file S002E04.edf part 10.\n",
            "Processing P8 channel of file S002E04.edf part 10.\n",
            "Processing T8 channel of file S002E04.edf part 10.\n",
            "Processing FC6 channel of file S002E04.edf part 10.\n",
            "Processing F4 channel of file S002E04.edf part 10.\n",
            "Processing F8 channel of file S002E04.edf part 10.\n",
            "Processing AF4 channel of file S002E04.edf part 10.\n",
            "Processing AF3 channel of file S002E04.edf part 11.\n",
            "creating folder S002E04_11.\n",
            "creating folder S002E04_11.\n",
            "Processing F7 channel of file S002E04.edf part 11.\n",
            "Processing F3 channel of file S002E04.edf part 11.\n",
            "Processing FC5 channel of file S002E04.edf part 11.\n",
            "Processing T7 channel of file S002E04.edf part 11.\n",
            "Processing P7 channel of file S002E04.edf part 11.\n",
            "Processing O1 channel of file S002E04.edf part 11.\n",
            "Processing O2 channel of file S002E04.edf part 11.\n",
            "Processing P8 channel of file S002E04.edf part 11.\n",
            "Processing T8 channel of file S002E04.edf part 11.\n",
            "Processing FC6 channel of file S002E04.edf part 11.\n",
            "Processing F4 channel of file S002E04.edf part 11.\n",
            "Processing F8 channel of file S002E04.edf part 11.\n",
            "Processing AF4 channel of file S002E04.edf part 11.\n",
            "Processing AF3 channel of file S002E04.edf part 12.\n",
            "creating folder S002E04_12.\n",
            "creating folder S002E04_12.\n",
            "Processing F7 channel of file S002E04.edf part 12.\n",
            "Processing F3 channel of file S002E04.edf part 12.\n",
            "Processing FC5 channel of file S002E04.edf part 12.\n",
            "Processing T7 channel of file S002E04.edf part 12.\n",
            "Processing P7 channel of file S002E04.edf part 12.\n",
            "Processing O1 channel of file S002E04.edf part 12.\n",
            "Processing O2 channel of file S002E04.edf part 12.\n",
            "Processing P8 channel of file S002E04.edf part 12.\n",
            "Processing T8 channel of file S002E04.edf part 12.\n",
            "Processing FC6 channel of file S002E04.edf part 12.\n",
            "Processing F4 channel of file S002E04.edf part 12.\n",
            "Processing F8 channel of file S002E04.edf part 12.\n",
            "Processing AF4 channel of file S002E04.edf part 12.\n",
            "Processing AF3 channel of file S002E04.edf part 13.\n",
            "creating folder S002E04_13.\n",
            "creating folder S002E04_13.\n",
            "Processing F7 channel of file S002E04.edf part 13.\n",
            "Processing F3 channel of file S002E04.edf part 13.\n",
            "Processing FC5 channel of file S002E04.edf part 13.\n",
            "Processing T7 channel of file S002E04.edf part 13.\n",
            "Processing P7 channel of file S002E04.edf part 13.\n",
            "Processing O1 channel of file S002E04.edf part 13.\n",
            "Processing O2 channel of file S002E04.edf part 13.\n",
            "Processing P8 channel of file S002E04.edf part 13.\n",
            "Processing T8 channel of file S002E04.edf part 13.\n"
          ],
          "name": "stdout"
        },
        {
          "output_type": "stream",
          "text": [
            "/usr/local/lib/python3.6/dist-packages/ipykernel_launcher.py:69: RuntimeWarning: divide by zero encountered in log10\n"
          ],
          "name": "stderr"
        },
        {
          "output_type": "stream",
          "text": [
            "Processing FC6 channel of file S002E04.edf part 13.\n",
            "Processing F4 channel of file S002E04.edf part 13.\n",
            "Processing F8 channel of file S002E04.edf part 13.\n",
            "Processing AF4 channel of file S002E04.edf part 13.\n",
            "Processing AF3 channel of file S002E04.edf part 14.\n",
            "creating folder S002E04_14.\n",
            "creating folder S002E04_14.\n",
            "Processing F7 channel of file S002E04.edf part 14.\n",
            "Processing F3 channel of file S002E04.edf part 14.\n",
            "Processing FC5 channel of file S002E04.edf part 14.\n",
            "Processing T7 channel of file S002E04.edf part 14.\n",
            "Processing P7 channel of file S002E04.edf part 14.\n",
            "Processing O1 channel of file S002E04.edf part 14.\n",
            "Processing O2 channel of file S002E04.edf part 14.\n",
            "Processing P8 channel of file S002E04.edf part 14.\n"
          ],
          "name": "stdout"
        },
        {
          "output_type": "stream",
          "text": [
            "/usr/local/lib/python3.6/dist-packages/ipykernel_launcher.py:69: RuntimeWarning: divide by zero encountered in log10\n"
          ],
          "name": "stderr"
        },
        {
          "output_type": "stream",
          "text": [
            "Processing T8 channel of file S002E04.edf part 14.\n",
            "Processing FC6 channel of file S002E04.edf part 14.\n",
            "Processing F4 channel of file S002E04.edf part 14.\n",
            "Processing F8 channel of file S002E04.edf part 14.\n",
            "Processing AF4 channel of file S002E04.edf part 14.\n",
            "Processing AF3 channel of file S002E04.edf part 15.\n",
            "creating folder S002E04_15.\n",
            "creating folder S002E04_15.\n",
            "Processing F7 channel of file S002E04.edf part 15.\n",
            "Processing F3 channel of file S002E04.edf part 15.\n",
            "Processing FC5 channel of file S002E04.edf part 15.\n",
            "Processing T7 channel of file S002E04.edf part 15.\n",
            "Processing P7 channel of file S002E04.edf part 15.\n",
            "Processing O1 channel of file S002E04.edf part 15.\n",
            "Processing O2 channel of file S002E04.edf part 15.\n",
            "Processing P8 channel of file S002E04.edf part 15.\n",
            "Processing T8 channel of file S002E04.edf part 15.\n"
          ],
          "name": "stdout"
        },
        {
          "output_type": "stream",
          "text": [
            "/usr/local/lib/python3.6/dist-packages/ipykernel_launcher.py:69: RuntimeWarning: divide by zero encountered in log10\n"
          ],
          "name": "stderr"
        },
        {
          "output_type": "stream",
          "text": [
            "Processing FC6 channel of file S002E04.edf part 15.\n",
            "Processing F4 channel of file S002E04.edf part 15.\n",
            "Processing F8 channel of file S002E04.edf part 15.\n",
            "Processing AF4 channel of file S002E04.edf part 15.\n",
            "Processing AF3 channel of file S002E04.edf part 16.\n",
            "creating folder S002E04_16.\n",
            "creating folder S002E04_16.\n",
            "Processing F7 channel of file S002E04.edf part 16.\n",
            "Processing F3 channel of file S002E04.edf part 16.\n",
            "Processing FC5 channel of file S002E04.edf part 16.\n",
            "Processing T7 channel of file S002E04.edf part 16.\n",
            "Processing P7 channel of file S002E04.edf part 16.\n",
            "Processing O1 channel of file S002E04.edf part 16.\n",
            "Processing O2 channel of file S002E04.edf part 16.\n",
            "Processing P8 channel of file S002E04.edf part 16.\n",
            "Processing T8 channel of file S002E04.edf part 16.\n"
          ],
          "name": "stdout"
        },
        {
          "output_type": "stream",
          "text": [
            "/usr/local/lib/python3.6/dist-packages/ipykernel_launcher.py:69: RuntimeWarning: divide by zero encountered in log10\n"
          ],
          "name": "stderr"
        },
        {
          "output_type": "stream",
          "text": [
            "Processing FC6 channel of file S002E04.edf part 16.\n",
            "Processing F4 channel of file S002E04.edf part 16.\n",
            "Processing F8 channel of file S002E04.edf part 16.\n",
            "Processing AF4 channel of file S002E04.edf part 16.\n",
            "Processing AF3 channel of file S002E04.edf part 17.\n",
            "creating folder S002E04_17.\n",
            "creating folder S002E04_17.\n",
            "Processing F7 channel of file S002E04.edf part 17.\n",
            "Processing F3 channel of file S002E04.edf part 17.\n",
            "Processing FC5 channel of file S002E04.edf part 17.\n",
            "Processing T7 channel of file S002E04.edf part 17.\n",
            "Processing P7 channel of file S002E04.edf part 17.\n",
            "Processing O1 channel of file S002E04.edf part 17.\n",
            "Processing O2 channel of file S002E04.edf part 17.\n",
            "Processing P8 channel of file S002E04.edf part 17.\n",
            "Processing T8 channel of file S002E04.edf part 17.\n"
          ],
          "name": "stdout"
        },
        {
          "output_type": "stream",
          "text": [
            "/usr/local/lib/python3.6/dist-packages/ipykernel_launcher.py:69: RuntimeWarning: divide by zero encountered in log10\n"
          ],
          "name": "stderr"
        },
        {
          "output_type": "stream",
          "text": [
            "Processing FC6 channel of file S002E04.edf part 17.\n",
            "Processing F4 channel of file S002E04.edf part 17.\n",
            "Processing F8 channel of file S002E04.edf part 17.\n",
            "Processing AF4 channel of file S002E04.edf part 17.\n",
            "Processing AF3 channel of file S002E04.edf part 18.\n",
            "creating folder S002E04_18.\n",
            "creating folder S002E04_18.\n",
            "Processing F7 channel of file S002E04.edf part 18.\n",
            "Processing F3 channel of file S002E04.edf part 18.\n",
            "Processing FC5 channel of file S002E04.edf part 18.\n",
            "Processing T7 channel of file S002E04.edf part 18.\n",
            "Processing P7 channel of file S002E04.edf part 18.\n",
            "Processing O1 channel of file S002E04.edf part 18.\n",
            "Processing O2 channel of file S002E04.edf part 18.\n",
            "Processing P8 channel of file S002E04.edf part 18.\n",
            "Processing T8 channel of file S002E04.edf part 18.\n"
          ],
          "name": "stdout"
        },
        {
          "output_type": "stream",
          "text": [
            "/usr/local/lib/python3.6/dist-packages/ipykernel_launcher.py:69: RuntimeWarning: divide by zero encountered in log10\n"
          ],
          "name": "stderr"
        },
        {
          "output_type": "stream",
          "text": [
            "Processing FC6 channel of file S002E04.edf part 18.\n",
            "Processing F4 channel of file S002E04.edf part 18.\n",
            "Processing F8 channel of file S002E04.edf part 18.\n",
            "Processing AF4 channel of file S002E04.edf part 18.\n",
            "Processing AF3 channel of file S002E04.edf part 19.\n",
            "creating folder S002E04_19.\n",
            "creating folder S002E04_19.\n",
            "Processing F7 channel of file S002E04.edf part 19.\n",
            "Processing F3 channel of file S002E04.edf part 19.\n",
            "Processing FC5 channel of file S002E04.edf part 19.\n",
            "Processing T7 channel of file S002E04.edf part 19.\n",
            "Processing P7 channel of file S002E04.edf part 19.\n",
            "Processing O1 channel of file S002E04.edf part 19.\n",
            "Processing O2 channel of file S002E04.edf part 19.\n",
            "Processing P8 channel of file S002E04.edf part 19.\n",
            "Processing T8 channel of file S002E04.edf part 19.\n"
          ],
          "name": "stdout"
        },
        {
          "output_type": "stream",
          "text": [
            "/usr/local/lib/python3.6/dist-packages/ipykernel_launcher.py:69: RuntimeWarning: divide by zero encountered in log10\n"
          ],
          "name": "stderr"
        },
        {
          "output_type": "stream",
          "text": [
            "Processing FC6 channel of file S002E04.edf part 19.\n",
            "Processing F4 channel of file S002E04.edf part 19.\n",
            "Processing F8 channel of file S002E04.edf part 19.\n",
            "Processing AF4 channel of file S002E04.edf part 19.\n",
            "Processing AF3 channel of file S002E04.edf part 20.\n",
            "creating folder S002E04_20.\n",
            "creating folder S002E04_20.\n",
            "Processing F7 channel of file S002E04.edf part 20.\n",
            "Processing F3 channel of file S002E04.edf part 20.\n",
            "Processing FC5 channel of file S002E04.edf part 20.\n",
            "Processing T7 channel of file S002E04.edf part 20.\n",
            "Processing P7 channel of file S002E04.edf part 20.\n",
            "Processing O1 channel of file S002E04.edf part 20.\n",
            "Processing O2 channel of file S002E04.edf part 20.\n",
            "Processing P8 channel of file S002E04.edf part 20.\n"
          ],
          "name": "stdout"
        },
        {
          "output_type": "stream",
          "text": [
            "/usr/local/lib/python3.6/dist-packages/ipykernel_launcher.py:69: RuntimeWarning: divide by zero encountered in log10\n"
          ],
          "name": "stderr"
        },
        {
          "output_type": "stream",
          "text": [
            "Processing T8 channel of file S002E04.edf part 20.\n",
            "Processing FC6 channel of file S002E04.edf part 20.\n",
            "Processing F4 channel of file S002E04.edf part 20.\n",
            "Processing F8 channel of file S002E04.edf part 20.\n",
            "Processing AF4 channel of file S002E04.edf part 20.\n",
            "Processing AF3 channel of file S002E04.edf part 21.\n",
            "creating folder S002E04_21.\n",
            "creating folder S002E04_21.\n",
            "Processing F7 channel of file S002E04.edf part 21.\n",
            "Processing F3 channel of file S002E04.edf part 21.\n",
            "Processing FC5 channel of file S002E04.edf part 21.\n",
            "Processing T7 channel of file S002E04.edf part 21.\n",
            "Processing P7 channel of file S002E04.edf part 21.\n",
            "Processing O1 channel of file S002E04.edf part 21.\n",
            "Processing O2 channel of file S002E04.edf part 21.\n",
            "Processing P8 channel of file S002E04.edf part 21.\n",
            "Processing T8 channel of file S002E04.edf part 21.\n"
          ],
          "name": "stdout"
        },
        {
          "output_type": "stream",
          "text": [
            "/usr/local/lib/python3.6/dist-packages/ipykernel_launcher.py:69: RuntimeWarning: divide by zero encountered in log10\n"
          ],
          "name": "stderr"
        },
        {
          "output_type": "stream",
          "text": [
            "Processing FC6 channel of file S002E04.edf part 21.\n",
            "Processing F4 channel of file S002E04.edf part 21.\n",
            "Processing F8 channel of file S002E04.edf part 21.\n",
            "Processing AF4 channel of file S002E04.edf part 21.\n",
            "Processing AF3 channel of file S002E04.edf part 22.\n",
            "creating folder S002E04_22.\n",
            "creating folder S002E04_22.\n",
            "Processing F7 channel of file S002E04.edf part 22.\n",
            "Processing F3 channel of file S002E04.edf part 22.\n",
            "Processing FC5 channel of file S002E04.edf part 22.\n",
            "Processing T7 channel of file S002E04.edf part 22.\n",
            "Processing P7 channel of file S002E04.edf part 22.\n",
            "Processing O1 channel of file S002E04.edf part 22.\n",
            "Processing O2 channel of file S002E04.edf part 22.\n",
            "Processing P8 channel of file S002E04.edf part 22.\n"
          ],
          "name": "stdout"
        },
        {
          "output_type": "stream",
          "text": [
            "/usr/local/lib/python3.6/dist-packages/ipykernel_launcher.py:69: RuntimeWarning: divide by zero encountered in log10\n"
          ],
          "name": "stderr"
        },
        {
          "output_type": "stream",
          "text": [
            "Processing T8 channel of file S002E04.edf part 22.\n",
            "Processing FC6 channel of file S002E04.edf part 22.\n",
            "Processing F4 channel of file S002E04.edf part 22.\n",
            "Processing F8 channel of file S002E04.edf part 22.\n",
            "Processing AF4 channel of file S002E04.edf part 22.\n",
            "Processing AF3 channel of file S002E04.edf part 23.\n",
            "creating folder S002E04_23.\n",
            "creating folder S002E04_23.\n",
            "Processing F7 channel of file S002E04.edf part 23.\n",
            "Processing F3 channel of file S002E04.edf part 23.\n",
            "Processing FC5 channel of file S002E04.edf part 23.\n",
            "Processing T7 channel of file S002E04.edf part 23.\n",
            "Processing P7 channel of file S002E04.edf part 23.\n",
            "Processing O1 channel of file S002E04.edf part 23.\n",
            "Processing O2 channel of file S002E04.edf part 23.\n",
            "Processing P8 channel of file S002E04.edf part 23.\n"
          ],
          "name": "stdout"
        },
        {
          "output_type": "stream",
          "text": [
            "/usr/local/lib/python3.6/dist-packages/ipykernel_launcher.py:69: RuntimeWarning: divide by zero encountered in log10\n"
          ],
          "name": "stderr"
        },
        {
          "output_type": "stream",
          "text": [
            "Processing T8 channel of file S002E04.edf part 23.\n",
            "Processing FC6 channel of file S002E04.edf part 23.\n",
            "Processing F4 channel of file S002E04.edf part 23.\n",
            "Processing F8 channel of file S002E04.edf part 23.\n",
            "Processing AF4 channel of file S002E04.edf part 23.\n",
            "Processing AF3 channel of file S002E04.edf part 24.\n",
            "creating folder S002E04_24.\n",
            "creating folder S002E04_24.\n",
            "Processing F7 channel of file S002E04.edf part 24.\n",
            "Processing F3 channel of file S002E04.edf part 24.\n",
            "Processing FC5 channel of file S002E04.edf part 24.\n",
            "Processing T7 channel of file S002E04.edf part 24.\n",
            "Processing P7 channel of file S002E04.edf part 24.\n",
            "Processing O1 channel of file S002E04.edf part 24.\n",
            "Processing O2 channel of file S002E04.edf part 24.\n",
            "Processing P8 channel of file S002E04.edf part 24.\n",
            "Processing T8 channel of file S002E04.edf part 24.\n"
          ],
          "name": "stdout"
        },
        {
          "output_type": "stream",
          "text": [
            "/usr/local/lib/python3.6/dist-packages/ipykernel_launcher.py:69: RuntimeWarning: divide by zero encountered in log10\n"
          ],
          "name": "stderr"
        },
        {
          "output_type": "stream",
          "text": [
            "Processing FC6 channel of file S002E04.edf part 24.\n",
            "Processing F4 channel of file S002E04.edf part 24.\n",
            "Processing F8 channel of file S002E04.edf part 24.\n",
            "Processing AF4 channel of file S002E04.edf part 24.\n",
            "Processing AF3 channel of file S002E04.edf part 25.\n",
            "creating folder S002E04_25.\n",
            "creating folder S002E04_25.\n",
            "Processing F7 channel of file S002E04.edf part 25.\n",
            "Processing F3 channel of file S002E04.edf part 25.\n",
            "Processing FC5 channel of file S002E04.edf part 25.\n",
            "Processing T7 channel of file S002E04.edf part 25.\n",
            "Processing P7 channel of file S002E04.edf part 25.\n",
            "Processing O1 channel of file S002E04.edf part 25.\n",
            "Processing O2 channel of file S002E04.edf part 25.\n",
            "Processing P8 channel of file S002E04.edf part 25.\n"
          ],
          "name": "stdout"
        },
        {
          "output_type": "stream",
          "text": [
            "/usr/local/lib/python3.6/dist-packages/ipykernel_launcher.py:69: RuntimeWarning: divide by zero encountered in log10\n"
          ],
          "name": "stderr"
        },
        {
          "output_type": "stream",
          "text": [
            "Processing T8 channel of file S002E04.edf part 25.\n",
            "Processing FC6 channel of file S002E04.edf part 25.\n",
            "Processing F4 channel of file S002E04.edf part 25.\n",
            "Processing F8 channel of file S002E04.edf part 25.\n",
            "Processing AF4 channel of file S002E04.edf part 25.\n",
            "Processing AF3 channel of file S002E04.edf part 26.\n",
            "creating folder S002E04_26.\n",
            "creating folder S002E04_26.\n",
            "Processing F7 channel of file S002E04.edf part 26.\n",
            "Processing F3 channel of file S002E04.edf part 26.\n",
            "Processing FC5 channel of file S002E04.edf part 26.\n",
            "Processing T7 channel of file S002E04.edf part 26.\n",
            "Processing P7 channel of file S002E04.edf part 26.\n",
            "Processing O1 channel of file S002E04.edf part 26.\n",
            "Processing O2 channel of file S002E04.edf part 26.\n",
            "Processing P8 channel of file S002E04.edf part 26.\n",
            "Processing T8 channel of file S002E04.edf part 26.\n"
          ],
          "name": "stdout"
        },
        {
          "output_type": "stream",
          "text": [
            "/usr/local/lib/python3.6/dist-packages/ipykernel_launcher.py:69: RuntimeWarning: divide by zero encountered in log10\n"
          ],
          "name": "stderr"
        },
        {
          "output_type": "stream",
          "text": [
            "Processing FC6 channel of file S002E04.edf part 26.\n",
            "Processing F4 channel of file S002E04.edf part 26.\n",
            "Processing F8 channel of file S002E04.edf part 26.\n",
            "Processing AF4 channel of file S002E04.edf part 26.\n",
            "Processing AF3 channel of file S002E04.edf part 27.\n",
            "creating folder S002E04_27.\n",
            "creating folder S002E04_27.\n",
            "Processing F7 channel of file S002E04.edf part 27.\n",
            "Processing F3 channel of file S002E04.edf part 27.\n",
            "Processing FC5 channel of file S002E04.edf part 27.\n",
            "Processing T7 channel of file S002E04.edf part 27.\n",
            "Processing P7 channel of file S002E04.edf part 27.\n",
            "Processing O1 channel of file S002E04.edf part 27.\n",
            "Processing O2 channel of file S002E04.edf part 27.\n",
            "Processing P8 channel of file S002E04.edf part 27.\n"
          ],
          "name": "stdout"
        },
        {
          "output_type": "stream",
          "text": [
            "/usr/local/lib/python3.6/dist-packages/ipykernel_launcher.py:69: RuntimeWarning: divide by zero encountered in log10\n"
          ],
          "name": "stderr"
        },
        {
          "output_type": "stream",
          "text": [
            "Processing T8 channel of file S002E04.edf part 27.\n",
            "Processing FC6 channel of file S002E04.edf part 27.\n",
            "Processing F4 channel of file S002E04.edf part 27.\n",
            "Processing F8 channel of file S002E04.edf part 27.\n",
            "Processing AF4 channel of file S002E04.edf part 27.\n",
            "Processing AF3 channel of file S002E04.edf part 28.\n",
            "creating folder S002E04_28.\n",
            "creating folder S002E04_28.\n",
            "Processing F7 channel of file S002E04.edf part 28.\n",
            "Processing F3 channel of file S002E04.edf part 28.\n",
            "Processing FC5 channel of file S002E04.edf part 28.\n",
            "Processing T7 channel of file S002E04.edf part 28.\n",
            "Processing P7 channel of file S002E04.edf part 28.\n",
            "Processing O1 channel of file S002E04.edf part 28.\n",
            "Processing O2 channel of file S002E04.edf part 28.\n",
            "Processing P8 channel of file S002E04.edf part 28.\n"
          ],
          "name": "stdout"
        },
        {
          "output_type": "stream",
          "text": [
            "/usr/local/lib/python3.6/dist-packages/ipykernel_launcher.py:69: RuntimeWarning: divide by zero encountered in log10\n"
          ],
          "name": "stderr"
        },
        {
          "output_type": "stream",
          "text": [
            "Processing T8 channel of file S002E04.edf part 28.\n",
            "Processing FC6 channel of file S002E04.edf part 28.\n",
            "Processing F4 channel of file S002E04.edf part 28.\n",
            "Processing F8 channel of file S002E04.edf part 28.\n",
            "Processing AF4 channel of file S002E04.edf part 28.\n",
            "Processing AF3 channel of file S002E04.edf part 29.\n",
            "creating folder S002E04_29.\n",
            "creating folder S002E04_29.\n",
            "Processing F7 channel of file S002E04.edf part 29.\n",
            "Processing F3 channel of file S002E04.edf part 29.\n",
            "Processing FC5 channel of file S002E04.edf part 29.\n",
            "Processing T7 channel of file S002E04.edf part 29.\n",
            "Processing P7 channel of file S002E04.edf part 29.\n",
            "Processing O1 channel of file S002E04.edf part 29.\n",
            "Processing O2 channel of file S002E04.edf part 29.\n",
            "Processing P8 channel of file S002E04.edf part 29.\n",
            "Processing T8 channel of file S002E04.edf part 29.\n"
          ],
          "name": "stdout"
        },
        {
          "output_type": "stream",
          "text": [
            "/usr/local/lib/python3.6/dist-packages/ipykernel_launcher.py:69: RuntimeWarning: divide by zero encountered in log10\n"
          ],
          "name": "stderr"
        },
        {
          "output_type": "stream",
          "text": [
            "Processing FC6 channel of file S002E04.edf part 29.\n",
            "Processing F4 channel of file S002E04.edf part 29.\n",
            "Processing F8 channel of file S002E04.edf part 29.\n",
            "Processing AF4 channel of file S002E04.edf part 29.\n",
            "Processing AF3 channel of file S002E04.edf part 30.\n",
            "creating folder S002E04_30.\n",
            "creating folder S002E04_30.\n",
            "Processing F7 channel of file S002E04.edf part 30.\n",
            "Processing F3 channel of file S002E04.edf part 30.\n",
            "Processing FC5 channel of file S002E04.edf part 30.\n",
            "Processing T7 channel of file S002E04.edf part 30.\n",
            "Processing P7 channel of file S002E04.edf part 30.\n",
            "Processing O1 channel of file S002E04.edf part 30.\n",
            "Processing O2 channel of file S002E04.edf part 30.\n",
            "Processing P8 channel of file S002E04.edf part 30.\n"
          ],
          "name": "stdout"
        },
        {
          "output_type": "stream",
          "text": [
            "/usr/local/lib/python3.6/dist-packages/ipykernel_launcher.py:69: RuntimeWarning: divide by zero encountered in log10\n"
          ],
          "name": "stderr"
        },
        {
          "output_type": "stream",
          "text": [
            "Processing T8 channel of file S002E04.edf part 30.\n",
            "Processing FC6 channel of file S002E04.edf part 30.\n",
            "Processing F4 channel of file S002E04.edf part 30.\n",
            "Processing F8 channel of file S002E04.edf part 30.\n",
            "Processing AF4 channel of file S002E04.edf part 30.\n",
            "Processing AF3 channel of file S002E04.edf part 31.\n",
            "creating folder S002E04_31.\n",
            "creating folder S002E04_31.\n",
            "Processing F7 channel of file S002E04.edf part 31.\n",
            "Processing F3 channel of file S002E04.edf part 31.\n",
            "Processing FC5 channel of file S002E04.edf part 31.\n",
            "Processing T7 channel of file S002E04.edf part 31.\n",
            "Processing P7 channel of file S002E04.edf part 31.\n",
            "Processing O1 channel of file S002E04.edf part 31.\n",
            "Processing O2 channel of file S002E04.edf part 31.\n",
            "Processing P8 channel of file S002E04.edf part 31.\n"
          ],
          "name": "stdout"
        },
        {
          "output_type": "stream",
          "text": [
            "/usr/local/lib/python3.6/dist-packages/ipykernel_launcher.py:69: RuntimeWarning: divide by zero encountered in log10\n"
          ],
          "name": "stderr"
        },
        {
          "output_type": "stream",
          "text": [
            "Processing T8 channel of file S002E04.edf part 31.\n",
            "Processing FC6 channel of file S002E04.edf part 31.\n",
            "Processing F4 channel of file S002E04.edf part 31.\n",
            "Processing F8 channel of file S002E04.edf part 31.\n",
            "Processing AF4 channel of file S002E04.edf part 31.\n",
            "Processing AF3 channel of file S002E04.edf part 32.\n",
            "creating folder S002E04_32.\n",
            "creating folder S002E04_32.\n",
            "Processing F7 channel of file S002E04.edf part 32.\n",
            "Processing F3 channel of file S002E04.edf part 32.\n",
            "Processing FC5 channel of file S002E04.edf part 32.\n",
            "Processing T7 channel of file S002E04.edf part 32.\n",
            "Processing P7 channel of file S002E04.edf part 32.\n",
            "Processing O1 channel of file S002E04.edf part 32.\n",
            "Processing O2 channel of file S002E04.edf part 32.\n",
            "Processing P8 channel of file S002E04.edf part 32.\n",
            "Processing T8 channel of file S002E04.edf part 32.\n"
          ],
          "name": "stdout"
        },
        {
          "output_type": "stream",
          "text": [
            "/usr/local/lib/python3.6/dist-packages/ipykernel_launcher.py:69: RuntimeWarning: divide by zero encountered in log10\n",
            "<string>:6: UserWarning: Warning: converting a masked element to nan.\n",
            "/usr/local/lib/python3.6/dist-packages/numpy/ma/core.py:711: UserWarning: Warning: converting a masked element to nan.\n",
            "  data = np.array(a, copy=False, subok=subok)\n"
          ],
          "name": "stderr"
        },
        {
          "output_type": "stream",
          "text": [
            "Processing FC6 channel of file S002E04.edf part 32.\n",
            "Processing F4 channel of file S002E04.edf part 32.\n",
            "Processing F8 channel of file S002E04.edf part 32.\n",
            "Processing AF4 channel of file S002E04.edf part 32.\n",
            "Processing AF3 channel of file S002E04.edf part 33.\n",
            "creating folder S002E04_33.\n",
            "creating folder S002E04_33.\n",
            "Processing F7 channel of file S002E04.edf part 33.\n",
            "Processing F3 channel of file S002E04.edf part 33.\n",
            "Processing FC5 channel of file S002E04.edf part 33.\n",
            "Processing T7 channel of file S002E04.edf part 33.\n",
            "Processing P7 channel of file S002E04.edf part 33.\n",
            "Processing O1 channel of file S002E04.edf part 33.\n",
            "Processing O2 channel of file S002E04.edf part 33.\n",
            "Processing P8 channel of file S002E04.edf part 33.\n"
          ],
          "name": "stdout"
        },
        {
          "output_type": "stream",
          "text": [
            "/usr/local/lib/python3.6/dist-packages/ipykernel_launcher.py:69: RuntimeWarning: divide by zero encountered in log10\n",
            "<string>:6: UserWarning: Warning: converting a masked element to nan.\n",
            "/usr/local/lib/python3.6/dist-packages/numpy/ma/core.py:711: UserWarning: Warning: converting a masked element to nan.\n",
            "  data = np.array(a, copy=False, subok=subok)\n"
          ],
          "name": "stderr"
        },
        {
          "output_type": "stream",
          "text": [
            "Processing T8 channel of file S002E04.edf part 33.\n",
            "Processing FC6 channel of file S002E04.edf part 33.\n",
            "Processing F4 channel of file S002E04.edf part 33.\n",
            "Processing F8 channel of file S002E04.edf part 33.\n",
            "Processing AF4 channel of file S002E04.edf part 33.\n",
            "Processing AF3 channel of file S002E04.edf part 34.\n",
            "creating folder S002E04_34.\n",
            "creating folder S002E04_34.\n",
            "Processing F7 channel of file S002E04.edf part 34.\n",
            "Processing F3 channel of file S002E04.edf part 34.\n",
            "Processing FC5 channel of file S002E04.edf part 34.\n",
            "Processing T7 channel of file S002E04.edf part 34.\n",
            "Processing P7 channel of file S002E04.edf part 34.\n",
            "Processing O1 channel of file S002E04.edf part 34.\n",
            "Processing O2 channel of file S002E04.edf part 34.\n",
            "Processing P8 channel of file S002E04.edf part 34.\n"
          ],
          "name": "stdout"
        },
        {
          "output_type": "stream",
          "text": [
            "/usr/local/lib/python3.6/dist-packages/ipykernel_launcher.py:69: RuntimeWarning: divide by zero encountered in log10\n",
            "<string>:6: UserWarning: Warning: converting a masked element to nan.\n",
            "/usr/local/lib/python3.6/dist-packages/numpy/ma/core.py:711: UserWarning: Warning: converting a masked element to nan.\n",
            "  data = np.array(a, copy=False, subok=subok)\n"
          ],
          "name": "stderr"
        },
        {
          "output_type": "stream",
          "text": [
            "Processing T8 channel of file S002E04.edf part 34.\n",
            "Processing FC6 channel of file S002E04.edf part 34.\n",
            "Processing F4 channel of file S002E04.edf part 34.\n",
            "Processing F8 channel of file S002E04.edf part 34.\n",
            "Processing AF4 channel of file S002E04.edf part 34.\n",
            "Processing AF3 channel of file S002E04.edf part 35.\n",
            "creating folder S002E04_35.\n",
            "creating folder S002E04_35.\n",
            "Processing F7 channel of file S002E04.edf part 35.\n",
            "Processing F3 channel of file S002E04.edf part 35.\n",
            "Processing FC5 channel of file S002E04.edf part 35.\n",
            "Processing T7 channel of file S002E04.edf part 35.\n",
            "Processing P7 channel of file S002E04.edf part 35.\n",
            "Processing O1 channel of file S002E04.edf part 35.\n",
            "Processing O2 channel of file S002E04.edf part 35.\n",
            "Processing P8 channel of file S002E04.edf part 35.\n"
          ],
          "name": "stdout"
        },
        {
          "output_type": "stream",
          "text": [
            "/usr/local/lib/python3.6/dist-packages/ipykernel_launcher.py:69: RuntimeWarning: divide by zero encountered in log10\n",
            "<string>:6: UserWarning: Warning: converting a masked element to nan.\n",
            "/usr/local/lib/python3.6/dist-packages/numpy/ma/core.py:711: UserWarning: Warning: converting a masked element to nan.\n",
            "  data = np.array(a, copy=False, subok=subok)\n"
          ],
          "name": "stderr"
        },
        {
          "output_type": "stream",
          "text": [
            "Processing T8 channel of file S002E04.edf part 35.\n",
            "Processing FC6 channel of file S002E04.edf part 35.\n",
            "Processing F4 channel of file S002E04.edf part 35.\n",
            "Processing F8 channel of file S002E04.edf part 35.\n",
            "Processing AF4 channel of file S002E04.edf part 35.\n",
            "Extracting EDF parameters from /content/gdrive/My Drive/CSE 240/Project/Data/EEG/S003E01.edf...\n",
            "EDF file detected\n",
            "Setting channel info structure...\n",
            "Creating raw.info structure...\n",
            "Processing AF3 channel of file S003E01.edf part 0.\n",
            "creating folder S003E01_0.\n",
            "creating folder S003E01_0.\n",
            "Processing F7 channel of file S003E01.edf part 0.\n",
            "Processing F3 channel of file S003E01.edf part 0.\n",
            "Processing FC5 channel of file S003E01.edf part 0.\n",
            "Processing T7 channel of file S003E01.edf part 0.\n",
            "Processing P7 channel of file S003E01.edf part 0.\n",
            "Processing O1 channel of file S003E01.edf part 0.\n",
            "Processing O2 channel of file S003E01.edf part 0.\n",
            "Processing P8 channel of file S003E01.edf part 0.\n"
          ],
          "name": "stdout"
        },
        {
          "output_type": "stream",
          "text": [
            "/usr/local/lib/python3.6/dist-packages/ipykernel_launcher.py:69: RuntimeWarning: divide by zero encountered in log10\n"
          ],
          "name": "stderr"
        },
        {
          "output_type": "stream",
          "text": [
            "Processing T8 channel of file S003E01.edf part 0.\n",
            "Processing FC6 channel of file S003E01.edf part 0.\n",
            "Processing F4 channel of file S003E01.edf part 0.\n",
            "Processing F8 channel of file S003E01.edf part 0.\n",
            "Processing AF4 channel of file S003E01.edf part 0.\n",
            "Processing AF3 channel of file S003E01.edf part 1.\n",
            "creating folder S003E01_1.\n",
            "creating folder S003E01_1.\n",
            "Processing F7 channel of file S003E01.edf part 1.\n",
            "Processing F3 channel of file S003E01.edf part 1.\n",
            "Processing FC5 channel of file S003E01.edf part 1.\n",
            "Processing T7 channel of file S003E01.edf part 1.\n",
            "Processing P7 channel of file S003E01.edf part 1.\n",
            "Processing O1 channel of file S003E01.edf part 1.\n",
            "Processing O2 channel of file S003E01.edf part 1.\n",
            "Processing P8 channel of file S003E01.edf part 1.\n",
            "Processing T8 channel of file S003E01.edf part 1.\n"
          ],
          "name": "stdout"
        },
        {
          "output_type": "stream",
          "text": [
            "/usr/local/lib/python3.6/dist-packages/ipykernel_launcher.py:69: RuntimeWarning: divide by zero encountered in log10\n"
          ],
          "name": "stderr"
        },
        {
          "output_type": "stream",
          "text": [
            "Processing FC6 channel of file S003E01.edf part 1.\n",
            "Processing F4 channel of file S003E01.edf part 1.\n",
            "Processing F8 channel of file S003E01.edf part 1.\n",
            "Processing AF4 channel of file S003E01.edf part 1.\n",
            "Processing AF3 channel of file S003E01.edf part 2.\n",
            "creating folder S003E01_2.\n",
            "creating folder S003E01_2.\n",
            "Processing F7 channel of file S003E01.edf part 2.\n",
            "Processing F3 channel of file S003E01.edf part 2.\n",
            "Processing FC5 channel of file S003E01.edf part 2.\n",
            "Processing T7 channel of file S003E01.edf part 2.\n",
            "Processing P7 channel of file S003E01.edf part 2.\n",
            "Processing O1 channel of file S003E01.edf part 2.\n",
            "Processing O2 channel of file S003E01.edf part 2.\n",
            "Processing P8 channel of file S003E01.edf part 2.\n"
          ],
          "name": "stdout"
        },
        {
          "output_type": "stream",
          "text": [
            "/usr/local/lib/python3.6/dist-packages/ipykernel_launcher.py:69: RuntimeWarning: divide by zero encountered in log10\n"
          ],
          "name": "stderr"
        },
        {
          "output_type": "stream",
          "text": [
            "Processing T8 channel of file S003E01.edf part 2.\n",
            "Processing FC6 channel of file S003E01.edf part 2.\n",
            "Processing F4 channel of file S003E01.edf part 2.\n",
            "Processing F8 channel of file S003E01.edf part 2.\n",
            "Processing AF4 channel of file S003E01.edf part 2.\n",
            "Processing AF3 channel of file S003E01.edf part 3.\n",
            "creating folder S003E01_3.\n",
            "creating folder S003E01_3.\n",
            "Processing F7 channel of file S003E01.edf part 3.\n",
            "Processing F3 channel of file S003E01.edf part 3.\n",
            "Processing FC5 channel of file S003E01.edf part 3.\n",
            "Processing T7 channel of file S003E01.edf part 3.\n",
            "Processing P7 channel of file S003E01.edf part 3.\n",
            "Processing O1 channel of file S003E01.edf part 3.\n",
            "Processing O2 channel of file S003E01.edf part 3.\n",
            "Processing P8 channel of file S003E01.edf part 3.\n"
          ],
          "name": "stdout"
        },
        {
          "output_type": "stream",
          "text": [
            "/usr/local/lib/python3.6/dist-packages/ipykernel_launcher.py:69: RuntimeWarning: divide by zero encountered in log10\n"
          ],
          "name": "stderr"
        },
        {
          "output_type": "stream",
          "text": [
            "Processing T8 channel of file S003E01.edf part 3.\n",
            "Processing FC6 channel of file S003E01.edf part 3.\n",
            "Processing F4 channel of file S003E01.edf part 3.\n",
            "Processing F8 channel of file S003E01.edf part 3.\n",
            "Processing AF4 channel of file S003E01.edf part 3.\n",
            "Processing AF3 channel of file S003E01.edf part 4.\n",
            "creating folder S003E01_4.\n",
            "creating folder S003E01_4.\n",
            "Processing F7 channel of file S003E01.edf part 4.\n",
            "Processing F3 channel of file S003E01.edf part 4.\n",
            "Processing FC5 channel of file S003E01.edf part 4.\n",
            "Processing T7 channel of file S003E01.edf part 4.\n",
            "Processing P7 channel of file S003E01.edf part 4.\n",
            "Processing O1 channel of file S003E01.edf part 4.\n",
            "Processing O2 channel of file S003E01.edf part 4.\n",
            "Processing P8 channel of file S003E01.edf part 4.\n",
            "Processing T8 channel of file S003E01.edf part 4.\n"
          ],
          "name": "stdout"
        },
        {
          "output_type": "stream",
          "text": [
            "/usr/local/lib/python3.6/dist-packages/ipykernel_launcher.py:69: RuntimeWarning: divide by zero encountered in log10\n"
          ],
          "name": "stderr"
        },
        {
          "output_type": "stream",
          "text": [
            "Processing FC6 channel of file S003E01.edf part 4.\n",
            "Processing F4 channel of file S003E01.edf part 4.\n",
            "Processing F8 channel of file S003E01.edf part 4.\n",
            "Processing AF4 channel of file S003E01.edf part 4.\n",
            "Processing AF3 channel of file S003E01.edf part 5.\n",
            "creating folder S003E01_5.\n",
            "creating folder S003E01_5.\n",
            "Processing F7 channel of file S003E01.edf part 5.\n",
            "Processing F3 channel of file S003E01.edf part 5.\n",
            "Processing FC5 channel of file S003E01.edf part 5.\n",
            "Processing T7 channel of file S003E01.edf part 5.\n",
            "Processing P7 channel of file S003E01.edf part 5.\n",
            "Processing O1 channel of file S003E01.edf part 5.\n",
            "Processing O2 channel of file S003E01.edf part 5.\n",
            "Processing P8 channel of file S003E01.edf part 5.\n"
          ],
          "name": "stdout"
        },
        {
          "output_type": "stream",
          "text": [
            "/usr/local/lib/python3.6/dist-packages/ipykernel_launcher.py:69: RuntimeWarning: divide by zero encountered in log10\n"
          ],
          "name": "stderr"
        },
        {
          "output_type": "stream",
          "text": [
            "Processing T8 channel of file S003E01.edf part 5.\n",
            "Processing FC6 channel of file S003E01.edf part 5.\n",
            "Processing F4 channel of file S003E01.edf part 5.\n",
            "Processing F8 channel of file S003E01.edf part 5.\n",
            "Processing AF4 channel of file S003E01.edf part 5.\n",
            "Processing AF3 channel of file S003E01.edf part 6.\n",
            "creating folder S003E01_6.\n",
            "creating folder S003E01_6.\n",
            "Processing F7 channel of file S003E01.edf part 6.\n",
            "Processing F3 channel of file S003E01.edf part 6.\n",
            "Processing FC5 channel of file S003E01.edf part 6.\n",
            "Processing T7 channel of file S003E01.edf part 6.\n",
            "Processing P7 channel of file S003E01.edf part 6.\n",
            "Processing O1 channel of file S003E01.edf part 6.\n",
            "Processing O2 channel of file S003E01.edf part 6.\n",
            "Processing P8 channel of file S003E01.edf part 6.\n",
            "Processing T8 channel of file S003E01.edf part 6.\n"
          ],
          "name": "stdout"
        },
        {
          "output_type": "stream",
          "text": [
            "/usr/local/lib/python3.6/dist-packages/ipykernel_launcher.py:69: RuntimeWarning: divide by zero encountered in log10\n"
          ],
          "name": "stderr"
        },
        {
          "output_type": "stream",
          "text": [
            "Processing FC6 channel of file S003E01.edf part 6.\n",
            "Processing F4 channel of file S003E01.edf part 6.\n",
            "Processing F8 channel of file S003E01.edf part 6.\n",
            "Processing AF4 channel of file S003E01.edf part 6.\n",
            "Processing AF3 channel of file S003E01.edf part 7.\n",
            "creating folder S003E01_7.\n",
            "creating folder S003E01_7.\n",
            "Processing F7 channel of file S003E01.edf part 7.\n",
            "Processing F3 channel of file S003E01.edf part 7.\n",
            "Processing FC5 channel of file S003E01.edf part 7.\n",
            "Processing T7 channel of file S003E01.edf part 7.\n",
            "Processing P7 channel of file S003E01.edf part 7.\n",
            "Processing O1 channel of file S003E01.edf part 7.\n",
            "Processing O2 channel of file S003E01.edf part 7.\n",
            "Processing P8 channel of file S003E01.edf part 7.\n"
          ],
          "name": "stdout"
        },
        {
          "output_type": "stream",
          "text": [
            "/usr/local/lib/python3.6/dist-packages/ipykernel_launcher.py:69: RuntimeWarning: divide by zero encountered in log10\n"
          ],
          "name": "stderr"
        },
        {
          "output_type": "stream",
          "text": [
            "Processing T8 channel of file S003E01.edf part 7.\n",
            "Processing FC6 channel of file S003E01.edf part 7.\n",
            "Processing F4 channel of file S003E01.edf part 7.\n",
            "Processing F8 channel of file S003E01.edf part 7.\n",
            "Processing AF4 channel of file S003E01.edf part 7.\n",
            "Processing AF3 channel of file S003E01.edf part 8.\n",
            "creating folder S003E01_8.\n",
            "creating folder S003E01_8.\n",
            "Processing F7 channel of file S003E01.edf part 8.\n",
            "Processing F3 channel of file S003E01.edf part 8.\n",
            "Processing FC5 channel of file S003E01.edf part 8.\n",
            "Processing T7 channel of file S003E01.edf part 8.\n",
            "Processing P7 channel of file S003E01.edf part 8.\n",
            "Processing O1 channel of file S003E01.edf part 8.\n",
            "Processing O2 channel of file S003E01.edf part 8.\n",
            "Processing P8 channel of file S003E01.edf part 8.\n",
            "Processing T8 channel of file S003E01.edf part 8.\n"
          ],
          "name": "stdout"
        },
        {
          "output_type": "stream",
          "text": [
            "/usr/local/lib/python3.6/dist-packages/ipykernel_launcher.py:69: RuntimeWarning: divide by zero encountered in log10\n"
          ],
          "name": "stderr"
        },
        {
          "output_type": "stream",
          "text": [
            "Processing FC6 channel of file S003E01.edf part 8.\n",
            "Processing F4 channel of file S003E01.edf part 8.\n",
            "Processing F8 channel of file S003E01.edf part 8.\n",
            "Processing AF4 channel of file S003E01.edf part 8.\n",
            "Processing AF3 channel of file S003E01.edf part 9.\n",
            "creating folder S003E01_9.\n",
            "creating folder S003E01_9.\n",
            "Processing F7 channel of file S003E01.edf part 9.\n",
            "Processing F3 channel of file S003E01.edf part 9.\n",
            "Processing FC5 channel of file S003E01.edf part 9.\n",
            "Processing T7 channel of file S003E01.edf part 9.\n",
            "Processing P7 channel of file S003E01.edf part 9.\n",
            "Processing O1 channel of file S003E01.edf part 9.\n",
            "Processing O2 channel of file S003E01.edf part 9.\n",
            "Processing P8 channel of file S003E01.edf part 9.\n"
          ],
          "name": "stdout"
        },
        {
          "output_type": "stream",
          "text": [
            "/usr/local/lib/python3.6/dist-packages/ipykernel_launcher.py:69: RuntimeWarning: divide by zero encountered in log10\n"
          ],
          "name": "stderr"
        },
        {
          "output_type": "stream",
          "text": [
            "Processing T8 channel of file S003E01.edf part 9.\n",
            "Processing FC6 channel of file S003E01.edf part 9.\n",
            "Processing F4 channel of file S003E01.edf part 9.\n",
            "Processing F8 channel of file S003E01.edf part 9.\n",
            "Processing AF4 channel of file S003E01.edf part 9.\n",
            "Processing AF3 channel of file S003E01.edf part 10.\n",
            "creating folder S003E01_10.\n",
            "creating folder S003E01_10.\n",
            "Processing F7 channel of file S003E01.edf part 10.\n",
            "Processing F3 channel of file S003E01.edf part 10.\n",
            "Processing FC5 channel of file S003E01.edf part 10.\n",
            "Processing T7 channel of file S003E01.edf part 10.\n",
            "Processing P7 channel of file S003E01.edf part 10.\n",
            "Processing O1 channel of file S003E01.edf part 10.\n",
            "Processing O2 channel of file S003E01.edf part 10.\n",
            "Processing P8 channel of file S003E01.edf part 10.\n",
            "Processing T8 channel of file S003E01.edf part 10.\n",
            "Processing FC6 channel of file S003E01.edf part 10.\n",
            "Processing F4 channel of file S003E01.edf part 10.\n",
            "Processing F8 channel of file S003E01.edf part 10.\n",
            "Processing AF4 channel of file S003E01.edf part 10.\n",
            "Processing AF3 channel of file S003E01.edf part 11.\n",
            "creating folder S003E01_11.\n",
            "creating folder S003E01_11.\n",
            "Processing F7 channel of file S003E01.edf part 11.\n",
            "Processing F3 channel of file S003E01.edf part 11.\n",
            "Processing FC5 channel of file S003E01.edf part 11.\n",
            "Processing T7 channel of file S003E01.edf part 11.\n",
            "Processing P7 channel of file S003E01.edf part 11.\n",
            "Processing O1 channel of file S003E01.edf part 11.\n",
            "Processing O2 channel of file S003E01.edf part 11.\n",
            "Processing P8 channel of file S003E01.edf part 11.\n",
            "Processing T8 channel of file S003E01.edf part 11.\n",
            "Processing FC6 channel of file S003E01.edf part 11.\n",
            "Processing F4 channel of file S003E01.edf part 11.\n",
            "Processing F8 channel of file S003E01.edf part 11.\n",
            "Processing AF4 channel of file S003E01.edf part 11.\n",
            "Processing AF3 channel of file S003E01.edf part 12.\n",
            "creating folder S003E01_12.\n",
            "creating folder S003E01_12.\n",
            "Processing F7 channel of file S003E01.edf part 12.\n",
            "Processing F3 channel of file S003E01.edf part 12.\n",
            "Processing FC5 channel of file S003E01.edf part 12.\n",
            "Processing T7 channel of file S003E01.edf part 12.\n",
            "Processing P7 channel of file S003E01.edf part 12.\n",
            "Processing O1 channel of file S003E01.edf part 12.\n",
            "Processing O2 channel of file S003E01.edf part 12.\n",
            "Processing P8 channel of file S003E01.edf part 12.\n",
            "Processing T8 channel of file S003E01.edf part 12.\n",
            "Processing FC6 channel of file S003E01.edf part 12.\n",
            "Processing F4 channel of file S003E01.edf part 12.\n",
            "Processing F8 channel of file S003E01.edf part 12.\n",
            "Processing AF4 channel of file S003E01.edf part 12.\n",
            "Processing AF3 channel of file S003E01.edf part 13.\n",
            "creating folder S003E01_13.\n",
            "creating folder S003E01_13.\n",
            "Processing F7 channel of file S003E01.edf part 13.\n",
            "Processing F3 channel of file S003E01.edf part 13.\n",
            "Processing FC5 channel of file S003E01.edf part 13.\n",
            "Processing T7 channel of file S003E01.edf part 13.\n",
            "Processing P7 channel of file S003E01.edf part 13.\n",
            "Processing O1 channel of file S003E01.edf part 13.\n",
            "Processing O2 channel of file S003E01.edf part 13.\n",
            "Processing P8 channel of file S003E01.edf part 13.\n"
          ],
          "name": "stdout"
        },
        {
          "output_type": "stream",
          "text": [
            "/usr/local/lib/python3.6/dist-packages/ipykernel_launcher.py:69: RuntimeWarning: divide by zero encountered in log10\n"
          ],
          "name": "stderr"
        },
        {
          "output_type": "stream",
          "text": [
            "Processing T8 channel of file S003E01.edf part 13.\n",
            "Processing FC6 channel of file S003E01.edf part 13.\n",
            "Processing F4 channel of file S003E01.edf part 13.\n",
            "Processing F8 channel of file S003E01.edf part 13.\n",
            "Processing AF4 channel of file S003E01.edf part 13.\n",
            "Processing AF3 channel of file S003E01.edf part 14.\n",
            "creating folder S003E01_14.\n",
            "creating folder S003E01_14.\n",
            "Processing F7 channel of file S003E01.edf part 14.\n",
            "Processing F3 channel of file S003E01.edf part 14.\n",
            "Processing FC5 channel of file S003E01.edf part 14.\n",
            "Processing T7 channel of file S003E01.edf part 14.\n",
            "Processing P7 channel of file S003E01.edf part 14.\n",
            "Processing O1 channel of file S003E01.edf part 14.\n",
            "Processing O2 channel of file S003E01.edf part 14.\n",
            "Processing P8 channel of file S003E01.edf part 14.\n",
            "Processing T8 channel of file S003E01.edf part 14.\n",
            "Processing FC6 channel of file S003E01.edf part 14.\n",
            "Processing F4 channel of file S003E01.edf part 14.\n",
            "Processing F8 channel of file S003E01.edf part 14.\n",
            "Processing AF4 channel of file S003E01.edf part 14.\n",
            "Processing AF3 channel of file S003E01.edf part 15.\n",
            "creating folder S003E01_15.\n",
            "creating folder S003E01_15.\n",
            "Processing F7 channel of file S003E01.edf part 15.\n",
            "Processing F3 channel of file S003E01.edf part 15.\n",
            "Processing FC5 channel of file S003E01.edf part 15.\n",
            "Processing T7 channel of file S003E01.edf part 15.\n",
            "Processing P7 channel of file S003E01.edf part 15.\n",
            "Processing O1 channel of file S003E01.edf part 15.\n",
            "Processing O2 channel of file S003E01.edf part 15.\n",
            "Processing P8 channel of file S003E01.edf part 15.\n",
            "Processing T8 channel of file S003E01.edf part 15.\n"
          ],
          "name": "stdout"
        },
        {
          "output_type": "stream",
          "text": [
            "/usr/local/lib/python3.6/dist-packages/ipykernel_launcher.py:69: RuntimeWarning: divide by zero encountered in log10\n"
          ],
          "name": "stderr"
        },
        {
          "output_type": "stream",
          "text": [
            "Processing FC6 channel of file S003E01.edf part 15.\n",
            "Processing F4 channel of file S003E01.edf part 15.\n",
            "Processing F8 channel of file S003E01.edf part 15.\n",
            "Processing AF4 channel of file S003E01.edf part 15.\n",
            "Processing AF3 channel of file S003E01.edf part 16.\n",
            "creating folder S003E01_16.\n",
            "creating folder S003E01_16.\n",
            "Processing F7 channel of file S003E01.edf part 16.\n",
            "Processing F3 channel of file S003E01.edf part 16.\n",
            "Processing FC5 channel of file S003E01.edf part 16.\n",
            "Processing T7 channel of file S003E01.edf part 16.\n",
            "Processing P7 channel of file S003E01.edf part 16.\n",
            "Processing O1 channel of file S003E01.edf part 16.\n",
            "Processing O2 channel of file S003E01.edf part 16.\n",
            "Processing P8 channel of file S003E01.edf part 16.\n",
            "Processing T8 channel of file S003E01.edf part 16.\n"
          ],
          "name": "stdout"
        },
        {
          "output_type": "stream",
          "text": [
            "/usr/local/lib/python3.6/dist-packages/ipykernel_launcher.py:69: RuntimeWarning: divide by zero encountered in log10\n"
          ],
          "name": "stderr"
        },
        {
          "output_type": "stream",
          "text": [
            "Processing FC6 channel of file S003E01.edf part 16.\n",
            "Processing F4 channel of file S003E01.edf part 16.\n",
            "Processing F8 channel of file S003E01.edf part 16.\n",
            "Processing AF4 channel of file S003E01.edf part 16.\n",
            "Processing AF3 channel of file S003E01.edf part 17.\n",
            "creating folder S003E01_17.\n",
            "creating folder S003E01_17.\n",
            "Processing F7 channel of file S003E01.edf part 17.\n",
            "Processing F3 channel of file S003E01.edf part 17.\n",
            "Processing FC5 channel of file S003E01.edf part 17.\n",
            "Processing T7 channel of file S003E01.edf part 17.\n",
            "Processing P7 channel of file S003E01.edf part 17.\n",
            "Processing O1 channel of file S003E01.edf part 17.\n",
            "Processing O2 channel of file S003E01.edf part 17.\n",
            "Processing P8 channel of file S003E01.edf part 17.\n",
            "Processing T8 channel of file S003E01.edf part 17.\n"
          ],
          "name": "stdout"
        },
        {
          "output_type": "stream",
          "text": [
            "/usr/local/lib/python3.6/dist-packages/ipykernel_launcher.py:69: RuntimeWarning: divide by zero encountered in log10\n"
          ],
          "name": "stderr"
        },
        {
          "output_type": "stream",
          "text": [
            "Processing FC6 channel of file S003E01.edf part 17.\n",
            "Processing F4 channel of file S003E01.edf part 17.\n",
            "Processing F8 channel of file S003E01.edf part 17.\n",
            "Processing AF4 channel of file S003E01.edf part 17.\n",
            "Processing AF3 channel of file S003E01.edf part 18.\n",
            "creating folder S003E01_18.\n",
            "creating folder S003E01_18.\n",
            "Processing F7 channel of file S003E01.edf part 18.\n",
            "Processing F3 channel of file S003E01.edf part 18.\n",
            "Processing FC5 channel of file S003E01.edf part 18.\n",
            "Processing T7 channel of file S003E01.edf part 18.\n",
            "Processing P7 channel of file S003E01.edf part 18.\n",
            "Processing O1 channel of file S003E01.edf part 18.\n",
            "Processing O2 channel of file S003E01.edf part 18.\n",
            "Processing P8 channel of file S003E01.edf part 18.\n"
          ],
          "name": "stdout"
        },
        {
          "output_type": "stream",
          "text": [
            "/usr/local/lib/python3.6/dist-packages/ipykernel_launcher.py:69: RuntimeWarning: divide by zero encountered in log10\n"
          ],
          "name": "stderr"
        },
        {
          "output_type": "stream",
          "text": [
            "Processing T8 channel of file S003E01.edf part 18.\n",
            "Processing FC6 channel of file S003E01.edf part 18.\n",
            "Processing F4 channel of file S003E01.edf part 18.\n",
            "Processing F8 channel of file S003E01.edf part 18.\n",
            "Processing AF4 channel of file S003E01.edf part 18.\n",
            "Processing AF3 channel of file S003E01.edf part 19.\n",
            "creating folder S003E01_19.\n",
            "creating folder S003E01_19.\n",
            "Processing F7 channel of file S003E01.edf part 19.\n",
            "Processing F3 channel of file S003E01.edf part 19.\n",
            "Processing FC5 channel of file S003E01.edf part 19.\n",
            "Processing T7 channel of file S003E01.edf part 19.\n",
            "Processing P7 channel of file S003E01.edf part 19.\n",
            "Processing O1 channel of file S003E01.edf part 19.\n",
            "Processing O2 channel of file S003E01.edf part 19.\n",
            "Processing P8 channel of file S003E01.edf part 19.\n",
            "Processing T8 channel of file S003E01.edf part 19.\n",
            "Processing FC6 channel of file S003E01.edf part 19.\n",
            "Processing F4 channel of file S003E01.edf part 19.\n",
            "Processing F8 channel of file S003E01.edf part 19.\n",
            "Processing AF4 channel of file S003E01.edf part 19.\n",
            "Processing AF3 channel of file S003E01.edf part 20.\n",
            "creating folder S003E01_20.\n",
            "creating folder S003E01_20.\n",
            "Processing F7 channel of file S003E01.edf part 20.\n",
            "Processing F3 channel of file S003E01.edf part 20.\n",
            "Processing FC5 channel of file S003E01.edf part 20.\n",
            "Processing T7 channel of file S003E01.edf part 20.\n",
            "Processing P7 channel of file S003E01.edf part 20.\n",
            "Processing O1 channel of file S003E01.edf part 20.\n",
            "Processing O2 channel of file S003E01.edf part 20.\n",
            "Processing P8 channel of file S003E01.edf part 20.\n",
            "Processing T8 channel of file S003E01.edf part 20.\n"
          ],
          "name": "stdout"
        },
        {
          "output_type": "stream",
          "text": [
            "/usr/local/lib/python3.6/dist-packages/ipykernel_launcher.py:69: RuntimeWarning: divide by zero encountered in log10\n"
          ],
          "name": "stderr"
        },
        {
          "output_type": "stream",
          "text": [
            "Processing FC6 channel of file S003E01.edf part 20.\n",
            "Processing F4 channel of file S003E01.edf part 20.\n",
            "Processing F8 channel of file S003E01.edf part 20.\n",
            "Processing AF4 channel of file S003E01.edf part 20.\n",
            "Processing AF3 channel of file S003E01.edf part 21.\n",
            "creating folder S003E01_21.\n",
            "creating folder S003E01_21.\n",
            "Processing F7 channel of file S003E01.edf part 21.\n",
            "Processing F3 channel of file S003E01.edf part 21.\n",
            "Processing FC5 channel of file S003E01.edf part 21.\n",
            "Processing T7 channel of file S003E01.edf part 21.\n",
            "Processing P7 channel of file S003E01.edf part 21.\n",
            "Processing O1 channel of file S003E01.edf part 21.\n",
            "Processing O2 channel of file S003E01.edf part 21.\n",
            "Processing P8 channel of file S003E01.edf part 21.\n"
          ],
          "name": "stdout"
        },
        {
          "output_type": "stream",
          "text": [
            "/usr/local/lib/python3.6/dist-packages/ipykernel_launcher.py:69: RuntimeWarning: divide by zero encountered in log10\n"
          ],
          "name": "stderr"
        },
        {
          "output_type": "stream",
          "text": [
            "Processing T8 channel of file S003E01.edf part 21.\n",
            "Processing FC6 channel of file S003E01.edf part 21.\n",
            "Processing F4 channel of file S003E01.edf part 21.\n",
            "Processing F8 channel of file S003E01.edf part 21.\n",
            "Processing AF4 channel of file S003E01.edf part 21.\n",
            "Processing AF3 channel of file S003E01.edf part 22.\n",
            "creating folder S003E01_22.\n",
            "creating folder S003E01_22.\n",
            "Processing F7 channel of file S003E01.edf part 22.\n",
            "Processing F3 channel of file S003E01.edf part 22.\n",
            "Processing FC5 channel of file S003E01.edf part 22.\n",
            "Processing T7 channel of file S003E01.edf part 22.\n",
            "Processing P7 channel of file S003E01.edf part 22.\n",
            "Processing O1 channel of file S003E01.edf part 22.\n",
            "Processing O2 channel of file S003E01.edf part 22.\n",
            "Processing P8 channel of file S003E01.edf part 22.\n",
            "Processing T8 channel of file S003E01.edf part 22.\n"
          ],
          "name": "stdout"
        },
        {
          "output_type": "stream",
          "text": [
            "/usr/local/lib/python3.6/dist-packages/ipykernel_launcher.py:69: RuntimeWarning: divide by zero encountered in log10\n"
          ],
          "name": "stderr"
        },
        {
          "output_type": "stream",
          "text": [
            "Processing FC6 channel of file S003E01.edf part 22.\n",
            "Processing F4 channel of file S003E01.edf part 22.\n",
            "Processing F8 channel of file S003E01.edf part 22.\n",
            "Processing AF4 channel of file S003E01.edf part 22.\n",
            "Processing AF3 channel of file S003E01.edf part 23.\n",
            "creating folder S003E01_23.\n",
            "creating folder S003E01_23.\n",
            "Processing F7 channel of file S003E01.edf part 23.\n",
            "Processing F3 channel of file S003E01.edf part 23.\n",
            "Processing FC5 channel of file S003E01.edf part 23.\n",
            "Processing T7 channel of file S003E01.edf part 23.\n",
            "Processing P7 channel of file S003E01.edf part 23.\n",
            "Processing O1 channel of file S003E01.edf part 23.\n",
            "Processing O2 channel of file S003E01.edf part 23.\n",
            "Processing P8 channel of file S003E01.edf part 23.\n"
          ],
          "name": "stdout"
        },
        {
          "output_type": "stream",
          "text": [
            "/usr/local/lib/python3.6/dist-packages/ipykernel_launcher.py:69: RuntimeWarning: divide by zero encountered in log10\n"
          ],
          "name": "stderr"
        },
        {
          "output_type": "stream",
          "text": [
            "Processing T8 channel of file S003E01.edf part 23.\n",
            "Processing FC6 channel of file S003E01.edf part 23.\n",
            "Processing F4 channel of file S003E01.edf part 23.\n",
            "Processing F8 channel of file S003E01.edf part 23.\n",
            "Processing AF4 channel of file S003E01.edf part 23.\n",
            "Processing AF3 channel of file S003E01.edf part 24.\n",
            "creating folder S003E01_24.\n",
            "creating folder S003E01_24.\n",
            "Processing F7 channel of file S003E01.edf part 24.\n",
            "Processing F3 channel of file S003E01.edf part 24.\n",
            "Processing FC5 channel of file S003E01.edf part 24.\n",
            "Processing T7 channel of file S003E01.edf part 24.\n",
            "Processing P7 channel of file S003E01.edf part 24.\n",
            "Processing O1 channel of file S003E01.edf part 24.\n",
            "Processing O2 channel of file S003E01.edf part 24.\n",
            "Processing P8 channel of file S003E01.edf part 24.\n",
            "Processing T8 channel of file S003E01.edf part 24.\n"
          ],
          "name": "stdout"
        },
        {
          "output_type": "stream",
          "text": [
            "/usr/local/lib/python3.6/dist-packages/ipykernel_launcher.py:69: RuntimeWarning: divide by zero encountered in log10\n"
          ],
          "name": "stderr"
        },
        {
          "output_type": "stream",
          "text": [
            "Processing FC6 channel of file S003E01.edf part 24.\n",
            "Processing F4 channel of file S003E01.edf part 24.\n",
            "Processing F8 channel of file S003E01.edf part 24.\n",
            "Processing AF4 channel of file S003E01.edf part 24.\n",
            "Processing AF3 channel of file S003E01.edf part 25.\n",
            "creating folder S003E01_25.\n",
            "creating folder S003E01_25.\n",
            "Processing F7 channel of file S003E01.edf part 25.\n",
            "Processing F3 channel of file S003E01.edf part 25.\n",
            "Processing FC5 channel of file S003E01.edf part 25.\n",
            "Processing T7 channel of file S003E01.edf part 25.\n",
            "Processing P7 channel of file S003E01.edf part 25.\n",
            "Processing O1 channel of file S003E01.edf part 25.\n",
            "Processing O2 channel of file S003E01.edf part 25.\n",
            "Processing P8 channel of file S003E01.edf part 25.\n"
          ],
          "name": "stdout"
        },
        {
          "output_type": "stream",
          "text": [
            "/usr/local/lib/python3.6/dist-packages/ipykernel_launcher.py:69: RuntimeWarning: divide by zero encountered in log10\n"
          ],
          "name": "stderr"
        },
        {
          "output_type": "stream",
          "text": [
            "Processing T8 channel of file S003E01.edf part 25.\n",
            "Processing FC6 channel of file S003E01.edf part 25.\n",
            "Processing F4 channel of file S003E01.edf part 25.\n",
            "Processing F8 channel of file S003E01.edf part 25.\n",
            "Processing AF4 channel of file S003E01.edf part 25.\n",
            "Processing AF3 channel of file S003E01.edf part 26.\n",
            "creating folder S003E01_26.\n",
            "creating folder S003E01_26.\n",
            "Processing F7 channel of file S003E01.edf part 26.\n",
            "Processing F3 channel of file S003E01.edf part 26.\n",
            "Processing FC5 channel of file S003E01.edf part 26.\n",
            "Processing T7 channel of file S003E01.edf part 26.\n",
            "Processing P7 channel of file S003E01.edf part 26.\n",
            "Processing O1 channel of file S003E01.edf part 26.\n",
            "Processing O2 channel of file S003E01.edf part 26.\n",
            "Processing P8 channel of file S003E01.edf part 26.\n",
            "Processing T8 channel of file S003E01.edf part 26.\n"
          ],
          "name": "stdout"
        },
        {
          "output_type": "stream",
          "text": [
            "/usr/local/lib/python3.6/dist-packages/ipykernel_launcher.py:69: RuntimeWarning: divide by zero encountered in log10\n"
          ],
          "name": "stderr"
        },
        {
          "output_type": "stream",
          "text": [
            "Processing FC6 channel of file S003E01.edf part 26.\n",
            "Processing F4 channel of file S003E01.edf part 26.\n",
            "Processing F8 channel of file S003E01.edf part 26.\n",
            "Processing AF4 channel of file S003E01.edf part 26.\n",
            "Processing AF3 channel of file S003E01.edf part 27.\n",
            "creating folder S003E01_27.\n",
            "creating folder S003E01_27.\n",
            "Processing F7 channel of file S003E01.edf part 27.\n",
            "Processing F3 channel of file S003E01.edf part 27.\n",
            "Processing FC5 channel of file S003E01.edf part 27.\n",
            "Processing T7 channel of file S003E01.edf part 27.\n",
            "Processing P7 channel of file S003E01.edf part 27.\n",
            "Processing O1 channel of file S003E01.edf part 27.\n",
            "Processing O2 channel of file S003E01.edf part 27.\n",
            "Processing P8 channel of file S003E01.edf part 27.\n",
            "Processing T8 channel of file S003E01.edf part 27.\n"
          ],
          "name": "stdout"
        },
        {
          "output_type": "stream",
          "text": [
            "/usr/local/lib/python3.6/dist-packages/ipykernel_launcher.py:69: RuntimeWarning: divide by zero encountered in log10\n"
          ],
          "name": "stderr"
        },
        {
          "output_type": "stream",
          "text": [
            "Processing FC6 channel of file S003E01.edf part 27.\n",
            "Processing F4 channel of file S003E01.edf part 27.\n",
            "Processing F8 channel of file S003E01.edf part 27.\n",
            "Processing AF4 channel of file S003E01.edf part 27.\n",
            "Processing AF3 channel of file S003E01.edf part 28.\n",
            "creating folder S003E01_28.\n",
            "creating folder S003E01_28.\n",
            "Processing F7 channel of file S003E01.edf part 28.\n",
            "Processing F3 channel of file S003E01.edf part 28.\n",
            "Processing FC5 channel of file S003E01.edf part 28.\n",
            "Processing T7 channel of file S003E01.edf part 28.\n",
            "Processing P7 channel of file S003E01.edf part 28.\n",
            "Processing O1 channel of file S003E01.edf part 28.\n",
            "Processing O2 channel of file S003E01.edf part 28.\n",
            "Processing P8 channel of file S003E01.edf part 28.\n"
          ],
          "name": "stdout"
        },
        {
          "output_type": "stream",
          "text": [
            "/usr/local/lib/python3.6/dist-packages/ipykernel_launcher.py:69: RuntimeWarning: divide by zero encountered in log10\n"
          ],
          "name": "stderr"
        },
        {
          "output_type": "stream",
          "text": [
            "Processing T8 channel of file S003E01.edf part 28.\n",
            "Processing FC6 channel of file S003E01.edf part 28.\n",
            "Processing F4 channel of file S003E01.edf part 28.\n",
            "Processing F8 channel of file S003E01.edf part 28.\n",
            "Processing AF4 channel of file S003E01.edf part 28.\n",
            "Processing AF3 channel of file S003E01.edf part 29.\n",
            "creating folder S003E01_29.\n",
            "creating folder S003E01_29.\n",
            "Processing F7 channel of file S003E01.edf part 29.\n",
            "Processing F3 channel of file S003E01.edf part 29.\n",
            "Processing FC5 channel of file S003E01.edf part 29.\n",
            "Processing T7 channel of file S003E01.edf part 29.\n",
            "Processing P7 channel of file S003E01.edf part 29.\n",
            "Processing O1 channel of file S003E01.edf part 29.\n",
            "Processing O2 channel of file S003E01.edf part 29.\n",
            "Processing P8 channel of file S003E01.edf part 29.\n"
          ],
          "name": "stdout"
        },
        {
          "output_type": "stream",
          "text": [
            "/usr/local/lib/python3.6/dist-packages/ipykernel_launcher.py:69: RuntimeWarning: divide by zero encountered in log10\n"
          ],
          "name": "stderr"
        },
        {
          "output_type": "stream",
          "text": [
            "Processing T8 channel of file S003E01.edf part 29.\n",
            "Processing FC6 channel of file S003E01.edf part 29.\n",
            "Processing F4 channel of file S003E01.edf part 29.\n",
            "Processing F8 channel of file S003E01.edf part 29.\n",
            "Processing AF4 channel of file S003E01.edf part 29.\n",
            "Processing AF3 channel of file S003E01.edf part 30.\n",
            "creating folder S003E01_30.\n",
            "creating folder S003E01_30.\n",
            "Processing F7 channel of file S003E01.edf part 30.\n",
            "Processing F3 channel of file S003E01.edf part 30.\n",
            "Processing FC5 channel of file S003E01.edf part 30.\n",
            "Processing T7 channel of file S003E01.edf part 30.\n",
            "Processing P7 channel of file S003E01.edf part 30.\n",
            "Processing O1 channel of file S003E01.edf part 30.\n",
            "Processing O2 channel of file S003E01.edf part 30.\n",
            "Processing P8 channel of file S003E01.edf part 30.\n"
          ],
          "name": "stdout"
        },
        {
          "output_type": "stream",
          "text": [
            "/usr/local/lib/python3.6/dist-packages/ipykernel_launcher.py:69: RuntimeWarning: divide by zero encountered in log10\n"
          ],
          "name": "stderr"
        },
        {
          "output_type": "stream",
          "text": [
            "Processing T8 channel of file S003E01.edf part 30.\n",
            "Processing FC6 channel of file S003E01.edf part 30.\n",
            "Processing F4 channel of file S003E01.edf part 30.\n",
            "Processing F8 channel of file S003E01.edf part 30.\n",
            "Processing AF4 channel of file S003E01.edf part 30.\n",
            "Processing AF3 channel of file S003E01.edf part 31.\n",
            "creating folder S003E01_31.\n",
            "creating folder S003E01_31.\n",
            "Processing F7 channel of file S003E01.edf part 31.\n",
            "Processing F3 channel of file S003E01.edf part 31.\n",
            "Processing FC5 channel of file S003E01.edf part 31.\n",
            "Processing T7 channel of file S003E01.edf part 31.\n",
            "Processing P7 channel of file S003E01.edf part 31.\n",
            "Processing O1 channel of file S003E01.edf part 31.\n",
            "Processing O2 channel of file S003E01.edf part 31.\n",
            "Processing P8 channel of file S003E01.edf part 31.\n"
          ],
          "name": "stdout"
        },
        {
          "output_type": "stream",
          "text": [
            "/usr/local/lib/python3.6/dist-packages/ipykernel_launcher.py:69: RuntimeWarning: divide by zero encountered in log10\n"
          ],
          "name": "stderr"
        },
        {
          "output_type": "stream",
          "text": [
            "Processing T8 channel of file S003E01.edf part 31.\n",
            "Processing FC6 channel of file S003E01.edf part 31.\n",
            "Processing F4 channel of file S003E01.edf part 31.\n",
            "Processing F8 channel of file S003E01.edf part 31.\n",
            "Processing AF4 channel of file S003E01.edf part 31.\n",
            "Processing AF3 channel of file S003E01.edf part 32.\n",
            "creating folder S003E01_32.\n",
            "creating folder S003E01_32.\n",
            "Processing F7 channel of file S003E01.edf part 32.\n",
            "Processing F3 channel of file S003E01.edf part 32.\n",
            "Processing FC5 channel of file S003E01.edf part 32.\n",
            "Processing T7 channel of file S003E01.edf part 32.\n",
            "Processing P7 channel of file S003E01.edf part 32.\n",
            "Processing O1 channel of file S003E01.edf part 32.\n",
            "Processing O2 channel of file S003E01.edf part 32.\n",
            "Processing P8 channel of file S003E01.edf part 32.\n"
          ],
          "name": "stdout"
        },
        {
          "output_type": "stream",
          "text": [
            "/usr/local/lib/python3.6/dist-packages/ipykernel_launcher.py:69: RuntimeWarning: divide by zero encountered in log10\n"
          ],
          "name": "stderr"
        },
        {
          "output_type": "stream",
          "text": [
            "Processing T8 channel of file S003E01.edf part 32.\n",
            "Processing FC6 channel of file S003E01.edf part 32.\n",
            "Processing F4 channel of file S003E01.edf part 32.\n",
            "Processing F8 channel of file S003E01.edf part 32.\n",
            "Processing AF4 channel of file S003E01.edf part 32.\n",
            "Processing AF3 channel of file S003E01.edf part 33.\n",
            "creating folder S003E01_33.\n",
            "creating folder S003E01_33.\n",
            "Processing F7 channel of file S003E01.edf part 33.\n",
            "Processing F3 channel of file S003E01.edf part 33.\n",
            "Processing FC5 channel of file S003E01.edf part 33.\n",
            "Processing T7 channel of file S003E01.edf part 33.\n",
            "Processing P7 channel of file S003E01.edf part 33.\n",
            "Processing O1 channel of file S003E01.edf part 33.\n",
            "Processing O2 channel of file S003E01.edf part 33.\n",
            "Processing P8 channel of file S003E01.edf part 33.\n",
            "Processing T8 channel of file S003E01.edf part 33.\n"
          ],
          "name": "stdout"
        },
        {
          "output_type": "stream",
          "text": [
            "/usr/local/lib/python3.6/dist-packages/ipykernel_launcher.py:69: RuntimeWarning: divide by zero encountered in log10\n"
          ],
          "name": "stderr"
        },
        {
          "output_type": "stream",
          "text": [
            "Processing FC6 channel of file S003E01.edf part 33.\n",
            "Processing F4 channel of file S003E01.edf part 33.\n",
            "Processing F8 channel of file S003E01.edf part 33.\n",
            "Processing AF4 channel of file S003E01.edf part 33.\n",
            "Processing AF3 channel of file S003E01.edf part 34.\n",
            "creating folder S003E01_34.\n",
            "creating folder S003E01_34.\n",
            "Processing F7 channel of file S003E01.edf part 34.\n",
            "Processing F3 channel of file S003E01.edf part 34.\n",
            "Processing FC5 channel of file S003E01.edf part 34.\n",
            "Processing T7 channel of file S003E01.edf part 34.\n",
            "Processing P7 channel of file S003E01.edf part 34.\n",
            "Processing O1 channel of file S003E01.edf part 34.\n",
            "Processing O2 channel of file S003E01.edf part 34.\n",
            "Processing P8 channel of file S003E01.edf part 34.\n",
            "Processing T8 channel of file S003E01.edf part 34.\n"
          ],
          "name": "stdout"
        },
        {
          "output_type": "stream",
          "text": [
            "/usr/local/lib/python3.6/dist-packages/ipykernel_launcher.py:69: RuntimeWarning: divide by zero encountered in log10\n"
          ],
          "name": "stderr"
        },
        {
          "output_type": "stream",
          "text": [
            "Processing FC6 channel of file S003E01.edf part 34.\n",
            "Processing F4 channel of file S003E01.edf part 34.\n",
            "Processing F8 channel of file S003E01.edf part 34.\n",
            "Processing AF4 channel of file S003E01.edf part 34.\n",
            "Processing AF3 channel of file S003E01.edf part 35.\n",
            "creating folder S003E01_35.\n",
            "creating folder S003E01_35.\n",
            "Processing F7 channel of file S003E01.edf part 35.\n",
            "Processing F3 channel of file S003E01.edf part 35.\n",
            "Processing FC5 channel of file S003E01.edf part 35.\n",
            "Processing T7 channel of file S003E01.edf part 35.\n",
            "Processing P7 channel of file S003E01.edf part 35.\n",
            "Processing O1 channel of file S003E01.edf part 35.\n",
            "Processing O2 channel of file S003E01.edf part 35.\n",
            "Processing P8 channel of file S003E01.edf part 35.\n"
          ],
          "name": "stdout"
        },
        {
          "output_type": "stream",
          "text": [
            "/usr/local/lib/python3.6/dist-packages/ipykernel_launcher.py:69: RuntimeWarning: divide by zero encountered in log10\n"
          ],
          "name": "stderr"
        },
        {
          "output_type": "stream",
          "text": [
            "Processing T8 channel of file S003E01.edf part 35.\n",
            "Processing FC6 channel of file S003E01.edf part 35.\n",
            "Processing F4 channel of file S003E01.edf part 35.\n",
            "Processing F8 channel of file S003E01.edf part 35.\n",
            "Processing AF4 channel of file S003E01.edf part 35.\n",
            "Extracting EDF parameters from /content/gdrive/My Drive/CSE 240/Project/Data/EEG/S003E02.edf...\n",
            "EDF file detected\n",
            "Setting channel info structure...\n",
            "Creating raw.info structure...\n",
            "Processing AF3 channel of file S003E02.edf part 0.\n",
            "creating folder S003E02_0.\n",
            "creating folder S003E02_0.\n",
            "Processing F7 channel of file S003E02.edf part 0.\n",
            "Processing F3 channel of file S003E02.edf part 0.\n",
            "Processing FC5 channel of file S003E02.edf part 0.\n",
            "Processing T7 channel of file S003E02.edf part 0.\n",
            "Processing P7 channel of file S003E02.edf part 0.\n",
            "Processing O1 channel of file S003E02.edf part 0.\n",
            "Processing O2 channel of file S003E02.edf part 0.\n",
            "Processing P8 channel of file S003E02.edf part 0.\n",
            "Processing T8 channel of file S003E02.edf part 0.\n"
          ],
          "name": "stdout"
        },
        {
          "output_type": "stream",
          "text": [
            "/usr/local/lib/python3.6/dist-packages/ipykernel_launcher.py:69: RuntimeWarning: divide by zero encountered in log10\n"
          ],
          "name": "stderr"
        },
        {
          "output_type": "stream",
          "text": [
            "Processing FC6 channel of file S003E02.edf part 0.\n",
            "Processing F4 channel of file S003E02.edf part 0.\n",
            "Processing F8 channel of file S003E02.edf part 0.\n",
            "Processing AF4 channel of file S003E02.edf part 0.\n",
            "Processing AF3 channel of file S003E02.edf part 1.\n",
            "creating folder S003E02_1.\n",
            "creating folder S003E02_1.\n",
            "Processing F7 channel of file S003E02.edf part 1.\n",
            "Processing F3 channel of file S003E02.edf part 1.\n",
            "Processing FC5 channel of file S003E02.edf part 1.\n",
            "Processing T7 channel of file S003E02.edf part 1.\n",
            "Processing P7 channel of file S003E02.edf part 1.\n",
            "Processing O1 channel of file S003E02.edf part 1.\n",
            "Processing O2 channel of file S003E02.edf part 1.\n",
            "Processing P8 channel of file S003E02.edf part 1.\n",
            "Processing T8 channel of file S003E02.edf part 1.\n"
          ],
          "name": "stdout"
        },
        {
          "output_type": "stream",
          "text": [
            "/usr/local/lib/python3.6/dist-packages/ipykernel_launcher.py:69: RuntimeWarning: divide by zero encountered in log10\n"
          ],
          "name": "stderr"
        },
        {
          "output_type": "stream",
          "text": [
            "Processing FC6 channel of file S003E02.edf part 1.\n",
            "Processing F4 channel of file S003E02.edf part 1.\n",
            "Processing F8 channel of file S003E02.edf part 1.\n",
            "Processing AF4 channel of file S003E02.edf part 1.\n",
            "Processing AF3 channel of file S003E02.edf part 2.\n",
            "creating folder S003E02_2.\n",
            "creating folder S003E02_2.\n",
            "Processing F7 channel of file S003E02.edf part 2.\n",
            "Processing F3 channel of file S003E02.edf part 2.\n",
            "Processing FC5 channel of file S003E02.edf part 2.\n",
            "Processing T7 channel of file S003E02.edf part 2.\n",
            "Processing P7 channel of file S003E02.edf part 2.\n",
            "Processing O1 channel of file S003E02.edf part 2.\n",
            "Processing O2 channel of file S003E02.edf part 2.\n",
            "Processing P8 channel of file S003E02.edf part 2.\n",
            "Processing T8 channel of file S003E02.edf part 2.\n"
          ],
          "name": "stdout"
        },
        {
          "output_type": "stream",
          "text": [
            "/usr/local/lib/python3.6/dist-packages/ipykernel_launcher.py:69: RuntimeWarning: divide by zero encountered in log10\n"
          ],
          "name": "stderr"
        },
        {
          "output_type": "stream",
          "text": [
            "Processing FC6 channel of file S003E02.edf part 2.\n",
            "Processing F4 channel of file S003E02.edf part 2.\n",
            "Processing F8 channel of file S003E02.edf part 2.\n",
            "Processing AF4 channel of file S003E02.edf part 2.\n",
            "Processing AF3 channel of file S003E02.edf part 3.\n",
            "creating folder S003E02_3.\n",
            "creating folder S003E02_3.\n",
            "Processing F7 channel of file S003E02.edf part 3.\n",
            "Processing F3 channel of file S003E02.edf part 3.\n",
            "Processing FC5 channel of file S003E02.edf part 3.\n",
            "Processing T7 channel of file S003E02.edf part 3.\n",
            "Processing P7 channel of file S003E02.edf part 3.\n",
            "Processing O1 channel of file S003E02.edf part 3.\n",
            "Processing O2 channel of file S003E02.edf part 3.\n",
            "Processing P8 channel of file S003E02.edf part 3.\n"
          ],
          "name": "stdout"
        },
        {
          "output_type": "stream",
          "text": [
            "/usr/local/lib/python3.6/dist-packages/ipykernel_launcher.py:69: RuntimeWarning: divide by zero encountered in log10\n"
          ],
          "name": "stderr"
        },
        {
          "output_type": "stream",
          "text": [
            "Processing T8 channel of file S003E02.edf part 3.\n",
            "Processing FC6 channel of file S003E02.edf part 3.\n",
            "Processing F4 channel of file S003E02.edf part 3.\n",
            "Processing F8 channel of file S003E02.edf part 3.\n",
            "Processing AF4 channel of file S003E02.edf part 3.\n",
            "Processing AF3 channel of file S003E02.edf part 4.\n",
            "creating folder S003E02_4.\n",
            "creating folder S003E02_4.\n",
            "Processing F7 channel of file S003E02.edf part 4.\n",
            "Processing F3 channel of file S003E02.edf part 4.\n",
            "Processing FC5 channel of file S003E02.edf part 4.\n",
            "Processing T7 channel of file S003E02.edf part 4.\n",
            "Processing P7 channel of file S003E02.edf part 4.\n",
            "Processing O1 channel of file S003E02.edf part 4.\n",
            "Processing O2 channel of file S003E02.edf part 4.\n",
            "Processing P8 channel of file S003E02.edf part 4.\n"
          ],
          "name": "stdout"
        },
        {
          "output_type": "stream",
          "text": [
            "/usr/local/lib/python3.6/dist-packages/ipykernel_launcher.py:69: RuntimeWarning: divide by zero encountered in log10\n"
          ],
          "name": "stderr"
        },
        {
          "output_type": "stream",
          "text": [
            "Processing T8 channel of file S003E02.edf part 4.\n",
            "Processing FC6 channel of file S003E02.edf part 4.\n",
            "Processing F4 channel of file S003E02.edf part 4.\n",
            "Processing F8 channel of file S003E02.edf part 4.\n",
            "Processing AF4 channel of file S003E02.edf part 4.\n",
            "Processing AF3 channel of file S003E02.edf part 5.\n",
            "creating folder S003E02_5.\n",
            "creating folder S003E02_5.\n",
            "Processing F7 channel of file S003E02.edf part 5.\n",
            "Processing F3 channel of file S003E02.edf part 5.\n",
            "Processing FC5 channel of file S003E02.edf part 5.\n",
            "Processing T7 channel of file S003E02.edf part 5.\n",
            "Processing P7 channel of file S003E02.edf part 5.\n",
            "Processing O1 channel of file S003E02.edf part 5.\n",
            "Processing O2 channel of file S003E02.edf part 5.\n",
            "Processing P8 channel of file S003E02.edf part 5.\n"
          ],
          "name": "stdout"
        },
        {
          "output_type": "stream",
          "text": [
            "/usr/local/lib/python3.6/dist-packages/ipykernel_launcher.py:69: RuntimeWarning: divide by zero encountered in log10\n"
          ],
          "name": "stderr"
        },
        {
          "output_type": "stream",
          "text": [
            "Processing T8 channel of file S003E02.edf part 5.\n",
            "Processing FC6 channel of file S003E02.edf part 5.\n",
            "Processing F4 channel of file S003E02.edf part 5.\n",
            "Processing F8 channel of file S003E02.edf part 5.\n",
            "Processing AF4 channel of file S003E02.edf part 5.\n",
            "Processing AF3 channel of file S003E02.edf part 6.\n",
            "creating folder S003E02_6.\n",
            "creating folder S003E02_6.\n",
            "Processing F7 channel of file S003E02.edf part 6.\n",
            "Processing F3 channel of file S003E02.edf part 6.\n",
            "Processing FC5 channel of file S003E02.edf part 6.\n",
            "Processing T7 channel of file S003E02.edf part 6.\n",
            "Processing P7 channel of file S003E02.edf part 6.\n",
            "Processing O1 channel of file S003E02.edf part 6.\n",
            "Processing O2 channel of file S003E02.edf part 6.\n",
            "Processing P8 channel of file S003E02.edf part 6.\n",
            "Processing T8 channel of file S003E02.edf part 6.\n"
          ],
          "name": "stdout"
        },
        {
          "output_type": "stream",
          "text": [
            "/usr/local/lib/python3.6/dist-packages/ipykernel_launcher.py:69: RuntimeWarning: divide by zero encountered in log10\n"
          ],
          "name": "stderr"
        },
        {
          "output_type": "stream",
          "text": [
            "Processing FC6 channel of file S003E02.edf part 6.\n",
            "Processing F4 channel of file S003E02.edf part 6.\n",
            "Processing F8 channel of file S003E02.edf part 6.\n",
            "Processing AF4 channel of file S003E02.edf part 6.\n",
            "Processing AF3 channel of file S003E02.edf part 7.\n",
            "creating folder S003E02_7.\n",
            "creating folder S003E02_7.\n",
            "Processing F7 channel of file S003E02.edf part 7.\n",
            "Processing F3 channel of file S003E02.edf part 7.\n",
            "Processing FC5 channel of file S003E02.edf part 7.\n",
            "Processing T7 channel of file S003E02.edf part 7.\n",
            "Processing P7 channel of file S003E02.edf part 7.\n",
            "Processing O1 channel of file S003E02.edf part 7.\n",
            "Processing O2 channel of file S003E02.edf part 7.\n",
            "Processing P8 channel of file S003E02.edf part 7.\n",
            "Processing T8 channel of file S003E02.edf part 7.\n"
          ],
          "name": "stdout"
        },
        {
          "output_type": "stream",
          "text": [
            "/usr/local/lib/python3.6/dist-packages/ipykernel_launcher.py:69: RuntimeWarning: divide by zero encountered in log10\n"
          ],
          "name": "stderr"
        },
        {
          "output_type": "stream",
          "text": [
            "Processing FC6 channel of file S003E02.edf part 7.\n",
            "Processing F4 channel of file S003E02.edf part 7.\n",
            "Processing F8 channel of file S003E02.edf part 7.\n",
            "Processing AF4 channel of file S003E02.edf part 7.\n",
            "Processing AF3 channel of file S003E02.edf part 8.\n",
            "creating folder S003E02_8.\n",
            "creating folder S003E02_8.\n",
            "Processing F7 channel of file S003E02.edf part 8.\n",
            "Processing F3 channel of file S003E02.edf part 8.\n",
            "Processing FC5 channel of file S003E02.edf part 8.\n",
            "Processing T7 channel of file S003E02.edf part 8.\n",
            "Processing P7 channel of file S003E02.edf part 8.\n",
            "Processing O1 channel of file S003E02.edf part 8.\n",
            "Processing O2 channel of file S003E02.edf part 8.\n",
            "Processing P8 channel of file S003E02.edf part 8.\n"
          ],
          "name": "stdout"
        },
        {
          "output_type": "stream",
          "text": [
            "/usr/local/lib/python3.6/dist-packages/ipykernel_launcher.py:69: RuntimeWarning: divide by zero encountered in log10\n"
          ],
          "name": "stderr"
        },
        {
          "output_type": "stream",
          "text": [
            "Processing T8 channel of file S003E02.edf part 8.\n",
            "Processing FC6 channel of file S003E02.edf part 8.\n",
            "Processing F4 channel of file S003E02.edf part 8.\n",
            "Processing F8 channel of file S003E02.edf part 8.\n",
            "Processing AF4 channel of file S003E02.edf part 8.\n",
            "Processing AF3 channel of file S003E02.edf part 9.\n",
            "creating folder S003E02_9.\n",
            "creating folder S003E02_9.\n",
            "Processing F7 channel of file S003E02.edf part 9.\n",
            "Processing F3 channel of file S003E02.edf part 9.\n",
            "Processing FC5 channel of file S003E02.edf part 9.\n",
            "Processing T7 channel of file S003E02.edf part 9.\n",
            "Processing P7 channel of file S003E02.edf part 9.\n",
            "Processing O1 channel of file S003E02.edf part 9.\n",
            "Processing O2 channel of file S003E02.edf part 9.\n",
            "Processing P8 channel of file S003E02.edf part 9.\n"
          ],
          "name": "stdout"
        },
        {
          "output_type": "stream",
          "text": [
            "/usr/local/lib/python3.6/dist-packages/ipykernel_launcher.py:69: RuntimeWarning: divide by zero encountered in log10\n"
          ],
          "name": "stderr"
        },
        {
          "output_type": "stream",
          "text": [
            "Processing T8 channel of file S003E02.edf part 9.\n",
            "Processing FC6 channel of file S003E02.edf part 9.\n",
            "Processing F4 channel of file S003E02.edf part 9.\n",
            "Processing F8 channel of file S003E02.edf part 9.\n",
            "Processing AF4 channel of file S003E02.edf part 9.\n",
            "Processing AF3 channel of file S003E02.edf part 10.\n",
            "creating folder S003E02_10.\n",
            "creating folder S003E02_10.\n",
            "Processing F7 channel of file S003E02.edf part 10.\n",
            "Processing F3 channel of file S003E02.edf part 10.\n",
            "Processing FC5 channel of file S003E02.edf part 10.\n",
            "Processing T7 channel of file S003E02.edf part 10.\n",
            "Processing P7 channel of file S003E02.edf part 10.\n",
            "Processing O1 channel of file S003E02.edf part 10.\n",
            "Processing O2 channel of file S003E02.edf part 10.\n",
            "Processing P8 channel of file S003E02.edf part 10.\n",
            "Processing T8 channel of file S003E02.edf part 10.\n"
          ],
          "name": "stdout"
        },
        {
          "output_type": "stream",
          "text": [
            "/usr/local/lib/python3.6/dist-packages/ipykernel_launcher.py:69: RuntimeWarning: divide by zero encountered in log10\n"
          ],
          "name": "stderr"
        },
        {
          "output_type": "stream",
          "text": [
            "Processing FC6 channel of file S003E02.edf part 10.\n",
            "Processing F4 channel of file S003E02.edf part 10.\n",
            "Processing F8 channel of file S003E02.edf part 10.\n",
            "Processing AF4 channel of file S003E02.edf part 10.\n",
            "Processing AF3 channel of file S003E02.edf part 11.\n",
            "creating folder S003E02_11.\n",
            "creating folder S003E02_11.\n",
            "Processing F7 channel of file S003E02.edf part 11.\n",
            "Processing F3 channel of file S003E02.edf part 11.\n",
            "Processing FC5 channel of file S003E02.edf part 11.\n",
            "Processing T7 channel of file S003E02.edf part 11.\n",
            "Processing P7 channel of file S003E02.edf part 11.\n",
            "Processing O1 channel of file S003E02.edf part 11.\n",
            "Processing O2 channel of file S003E02.edf part 11.\n",
            "Processing P8 channel of file S003E02.edf part 11.\n"
          ],
          "name": "stdout"
        },
        {
          "output_type": "stream",
          "text": [
            "/usr/local/lib/python3.6/dist-packages/ipykernel_launcher.py:69: RuntimeWarning: divide by zero encountered in log10\n"
          ],
          "name": "stderr"
        },
        {
          "output_type": "stream",
          "text": [
            "Processing T8 channel of file S003E02.edf part 11.\n",
            "Processing FC6 channel of file S003E02.edf part 11.\n",
            "Processing F4 channel of file S003E02.edf part 11.\n",
            "Processing F8 channel of file S003E02.edf part 11.\n",
            "Processing AF4 channel of file S003E02.edf part 11.\n",
            "Processing AF3 channel of file S003E02.edf part 12.\n",
            "creating folder S003E02_12.\n",
            "creating folder S003E02_12.\n",
            "Processing F7 channel of file S003E02.edf part 12.\n",
            "Processing F3 channel of file S003E02.edf part 12.\n",
            "Processing FC5 channel of file S003E02.edf part 12.\n",
            "Processing T7 channel of file S003E02.edf part 12.\n",
            "Processing P7 channel of file S003E02.edf part 12.\n",
            "Processing O1 channel of file S003E02.edf part 12.\n",
            "Processing O2 channel of file S003E02.edf part 12.\n",
            "Processing P8 channel of file S003E02.edf part 12.\n"
          ],
          "name": "stdout"
        },
        {
          "output_type": "stream",
          "text": [
            "/usr/local/lib/python3.6/dist-packages/ipykernel_launcher.py:69: RuntimeWarning: divide by zero encountered in log10\n"
          ],
          "name": "stderr"
        },
        {
          "output_type": "stream",
          "text": [
            "Processing T8 channel of file S003E02.edf part 12.\n",
            "Processing FC6 channel of file S003E02.edf part 12.\n",
            "Processing F4 channel of file S003E02.edf part 12.\n",
            "Processing F8 channel of file S003E02.edf part 12.\n",
            "Processing AF4 channel of file S003E02.edf part 12.\n",
            "Processing AF3 channel of file S003E02.edf part 13.\n",
            "creating folder S003E02_13.\n",
            "creating folder S003E02_13.\n",
            "Processing F7 channel of file S003E02.edf part 13.\n",
            "Processing F3 channel of file S003E02.edf part 13.\n",
            "Processing FC5 channel of file S003E02.edf part 13.\n",
            "Processing T7 channel of file S003E02.edf part 13.\n",
            "Processing P7 channel of file S003E02.edf part 13.\n",
            "Processing O1 channel of file S003E02.edf part 13.\n",
            "Processing O2 channel of file S003E02.edf part 13.\n",
            "Processing P8 channel of file S003E02.edf part 13.\n"
          ],
          "name": "stdout"
        },
        {
          "output_type": "stream",
          "text": [
            "/usr/local/lib/python3.6/dist-packages/ipykernel_launcher.py:69: RuntimeWarning: divide by zero encountered in log10\n"
          ],
          "name": "stderr"
        },
        {
          "output_type": "stream",
          "text": [
            "Processing T8 channel of file S003E02.edf part 13.\n",
            "Processing FC6 channel of file S003E02.edf part 13.\n",
            "Processing F4 channel of file S003E02.edf part 13.\n",
            "Processing F8 channel of file S003E02.edf part 13.\n",
            "Processing AF4 channel of file S003E02.edf part 13.\n",
            "Processing AF3 channel of file S003E02.edf part 14.\n",
            "creating folder S003E02_14.\n",
            "creating folder S003E02_14.\n",
            "Processing F7 channel of file S003E02.edf part 14.\n",
            "Processing F3 channel of file S003E02.edf part 14.\n",
            "Processing FC5 channel of file S003E02.edf part 14.\n",
            "Processing T7 channel of file S003E02.edf part 14.\n",
            "Processing P7 channel of file S003E02.edf part 14.\n",
            "Processing O1 channel of file S003E02.edf part 14.\n",
            "Processing O2 channel of file S003E02.edf part 14.\n",
            "Processing P8 channel of file S003E02.edf part 14.\n",
            "Processing T8 channel of file S003E02.edf part 14.\n",
            "Processing FC6 channel of file S003E02.edf part 14.\n",
            "Processing F4 channel of file S003E02.edf part 14.\n",
            "Processing F8 channel of file S003E02.edf part 14.\n",
            "Processing AF4 channel of file S003E02.edf part 14.\n",
            "Processing AF3 channel of file S003E02.edf part 15.\n",
            "creating folder S003E02_15.\n",
            "creating folder S003E02_15.\n",
            "Processing F7 channel of file S003E02.edf part 15.\n",
            "Processing F3 channel of file S003E02.edf part 15.\n",
            "Processing FC5 channel of file S003E02.edf part 15.\n",
            "Processing T7 channel of file S003E02.edf part 15.\n",
            "Processing P7 channel of file S003E02.edf part 15.\n",
            "Processing O1 channel of file S003E02.edf part 15.\n",
            "Processing O2 channel of file S003E02.edf part 15.\n",
            "Processing P8 channel of file S003E02.edf part 15.\n",
            "Processing T8 channel of file S003E02.edf part 15.\n"
          ],
          "name": "stdout"
        },
        {
          "output_type": "stream",
          "text": [
            "/usr/local/lib/python3.6/dist-packages/ipykernel_launcher.py:69: RuntimeWarning: divide by zero encountered in log10\n"
          ],
          "name": "stderr"
        },
        {
          "output_type": "stream",
          "text": [
            "Processing FC6 channel of file S003E02.edf part 15.\n",
            "Processing F4 channel of file S003E02.edf part 15.\n",
            "Processing F8 channel of file S003E02.edf part 15.\n",
            "Processing AF4 channel of file S003E02.edf part 15.\n",
            "Processing AF3 channel of file S003E02.edf part 16.\n",
            "creating folder S003E02_16.\n",
            "creating folder S003E02_16.\n",
            "Processing F7 channel of file S003E02.edf part 16.\n",
            "Processing F3 channel of file S003E02.edf part 16.\n",
            "Processing FC5 channel of file S003E02.edf part 16.\n",
            "Processing T7 channel of file S003E02.edf part 16.\n",
            "Processing P7 channel of file S003E02.edf part 16.\n",
            "Processing O1 channel of file S003E02.edf part 16.\n",
            "Processing O2 channel of file S003E02.edf part 16.\n",
            "Processing P8 channel of file S003E02.edf part 16.\n",
            "Processing T8 channel of file S003E02.edf part 16.\n"
          ],
          "name": "stdout"
        },
        {
          "output_type": "stream",
          "text": [
            "/usr/local/lib/python3.6/dist-packages/ipykernel_launcher.py:69: RuntimeWarning: divide by zero encountered in log10\n"
          ],
          "name": "stderr"
        },
        {
          "output_type": "stream",
          "text": [
            "Processing FC6 channel of file S003E02.edf part 16.\n",
            "Processing F4 channel of file S003E02.edf part 16.\n",
            "Processing F8 channel of file S003E02.edf part 16.\n",
            "Processing AF4 channel of file S003E02.edf part 16.\n",
            "Processing AF3 channel of file S003E02.edf part 17.\n",
            "creating folder S003E02_17.\n",
            "creating folder S003E02_17.\n",
            "Processing F7 channel of file S003E02.edf part 17.\n",
            "Processing F3 channel of file S003E02.edf part 17.\n",
            "Processing FC5 channel of file S003E02.edf part 17.\n",
            "Processing T7 channel of file S003E02.edf part 17.\n",
            "Processing P7 channel of file S003E02.edf part 17.\n",
            "Processing O1 channel of file S003E02.edf part 17.\n",
            "Processing O2 channel of file S003E02.edf part 17.\n",
            "Processing P8 channel of file S003E02.edf part 17.\n",
            "Processing T8 channel of file S003E02.edf part 17.\n"
          ],
          "name": "stdout"
        },
        {
          "output_type": "stream",
          "text": [
            "/usr/local/lib/python3.6/dist-packages/ipykernel_launcher.py:69: RuntimeWarning: divide by zero encountered in log10\n"
          ],
          "name": "stderr"
        },
        {
          "output_type": "stream",
          "text": [
            "Processing FC6 channel of file S003E02.edf part 17.\n",
            "Processing F4 channel of file S003E02.edf part 17.\n",
            "Processing F8 channel of file S003E02.edf part 17.\n",
            "Processing AF4 channel of file S003E02.edf part 17.\n",
            "Processing AF3 channel of file S003E02.edf part 18.\n",
            "creating folder S003E02_18.\n",
            "creating folder S003E02_18.\n",
            "Processing F7 channel of file S003E02.edf part 18.\n",
            "Processing F3 channel of file S003E02.edf part 18.\n",
            "Processing FC5 channel of file S003E02.edf part 18.\n",
            "Processing T7 channel of file S003E02.edf part 18.\n",
            "Processing P7 channel of file S003E02.edf part 18.\n",
            "Processing O1 channel of file S003E02.edf part 18.\n",
            "Processing O2 channel of file S003E02.edf part 18.\n",
            "Processing P8 channel of file S003E02.edf part 18.\n"
          ],
          "name": "stdout"
        },
        {
          "output_type": "stream",
          "text": [
            "/usr/local/lib/python3.6/dist-packages/ipykernel_launcher.py:69: RuntimeWarning: divide by zero encountered in log10\n"
          ],
          "name": "stderr"
        },
        {
          "output_type": "stream",
          "text": [
            "Processing T8 channel of file S003E02.edf part 18.\n",
            "Processing FC6 channel of file S003E02.edf part 18.\n",
            "Processing F4 channel of file S003E02.edf part 18.\n",
            "Processing F8 channel of file S003E02.edf part 18.\n",
            "Processing AF4 channel of file S003E02.edf part 18.\n",
            "Processing AF3 channel of file S003E02.edf part 19.\n",
            "creating folder S003E02_19.\n",
            "creating folder S003E02_19.\n",
            "Processing F7 channel of file S003E02.edf part 19.\n",
            "Processing F3 channel of file S003E02.edf part 19.\n",
            "Processing FC5 channel of file S003E02.edf part 19.\n",
            "Processing T7 channel of file S003E02.edf part 19.\n",
            "Processing P7 channel of file S003E02.edf part 19.\n",
            "Processing O1 channel of file S003E02.edf part 19.\n",
            "Processing O2 channel of file S003E02.edf part 19.\n",
            "Processing P8 channel of file S003E02.edf part 19.\n"
          ],
          "name": "stdout"
        },
        {
          "output_type": "stream",
          "text": [
            "/usr/local/lib/python3.6/dist-packages/ipykernel_launcher.py:69: RuntimeWarning: divide by zero encountered in log10\n"
          ],
          "name": "stderr"
        },
        {
          "output_type": "stream",
          "text": [
            "Processing T8 channel of file S003E02.edf part 19.\n",
            "Processing FC6 channel of file S003E02.edf part 19.\n",
            "Processing F4 channel of file S003E02.edf part 19.\n",
            "Processing F8 channel of file S003E02.edf part 19.\n",
            "Processing AF4 channel of file S003E02.edf part 19.\n",
            "Processing AF3 channel of file S003E02.edf part 20.\n",
            "creating folder S003E02_20.\n",
            "creating folder S003E02_20.\n",
            "Processing F7 channel of file S003E02.edf part 20.\n",
            "Processing F3 channel of file S003E02.edf part 20.\n",
            "Processing FC5 channel of file S003E02.edf part 20.\n",
            "Processing T7 channel of file S003E02.edf part 20.\n",
            "Processing P7 channel of file S003E02.edf part 20.\n",
            "Processing O1 channel of file S003E02.edf part 20.\n",
            "Processing O2 channel of file S003E02.edf part 20.\n",
            "Processing P8 channel of file S003E02.edf part 20.\n",
            "Processing T8 channel of file S003E02.edf part 20.\n"
          ],
          "name": "stdout"
        },
        {
          "output_type": "stream",
          "text": [
            "/usr/local/lib/python3.6/dist-packages/ipykernel_launcher.py:69: RuntimeWarning: divide by zero encountered in log10\n"
          ],
          "name": "stderr"
        },
        {
          "output_type": "stream",
          "text": [
            "Processing FC6 channel of file S003E02.edf part 20.\n",
            "Processing F4 channel of file S003E02.edf part 20.\n",
            "Processing F8 channel of file S003E02.edf part 20.\n",
            "Processing AF4 channel of file S003E02.edf part 20.\n",
            "Processing AF3 channel of file S003E02.edf part 21.\n",
            "creating folder S003E02_21.\n",
            "creating folder S003E02_21.\n",
            "Processing F7 channel of file S003E02.edf part 21.\n",
            "Processing F3 channel of file S003E02.edf part 21.\n",
            "Processing FC5 channel of file S003E02.edf part 21.\n",
            "Processing T7 channel of file S003E02.edf part 21.\n",
            "Processing P7 channel of file S003E02.edf part 21.\n",
            "Processing O1 channel of file S003E02.edf part 21.\n",
            "Processing O2 channel of file S003E02.edf part 21.\n",
            "Processing P8 channel of file S003E02.edf part 21.\n",
            "Processing T8 channel of file S003E02.edf part 21.\n"
          ],
          "name": "stdout"
        },
        {
          "output_type": "stream",
          "text": [
            "/usr/local/lib/python3.6/dist-packages/ipykernel_launcher.py:69: RuntimeWarning: divide by zero encountered in log10\n"
          ],
          "name": "stderr"
        },
        {
          "output_type": "stream",
          "text": [
            "Processing FC6 channel of file S003E02.edf part 21.\n",
            "Processing F4 channel of file S003E02.edf part 21.\n",
            "Processing F8 channel of file S003E02.edf part 21.\n",
            "Processing AF4 channel of file S003E02.edf part 21.\n",
            "Processing AF3 channel of file S003E02.edf part 22.\n",
            "creating folder S003E02_22.\n",
            "creating folder S003E02_22.\n",
            "Processing F7 channel of file S003E02.edf part 22.\n",
            "Processing F3 channel of file S003E02.edf part 22.\n",
            "Processing FC5 channel of file S003E02.edf part 22.\n",
            "Processing T7 channel of file S003E02.edf part 22.\n",
            "Processing P7 channel of file S003E02.edf part 22.\n",
            "Processing O1 channel of file S003E02.edf part 22.\n",
            "Processing O2 channel of file S003E02.edf part 22.\n",
            "Processing P8 channel of file S003E02.edf part 22.\n",
            "Processing T8 channel of file S003E02.edf part 22.\n"
          ],
          "name": "stdout"
        },
        {
          "output_type": "stream",
          "text": [
            "/usr/local/lib/python3.6/dist-packages/ipykernel_launcher.py:69: RuntimeWarning: divide by zero encountered in log10\n"
          ],
          "name": "stderr"
        },
        {
          "output_type": "stream",
          "text": [
            "Processing FC6 channel of file S003E02.edf part 22.\n",
            "Processing F4 channel of file S003E02.edf part 22.\n",
            "Processing F8 channel of file S003E02.edf part 22.\n",
            "Processing AF4 channel of file S003E02.edf part 22.\n",
            "Processing AF3 channel of file S003E02.edf part 23.\n",
            "creating folder S003E02_23.\n",
            "creating folder S003E02_23.\n",
            "Processing F7 channel of file S003E02.edf part 23.\n",
            "Processing F3 channel of file S003E02.edf part 23.\n",
            "Processing FC5 channel of file S003E02.edf part 23.\n",
            "Processing T7 channel of file S003E02.edf part 23.\n",
            "Processing P7 channel of file S003E02.edf part 23.\n",
            "Processing O1 channel of file S003E02.edf part 23.\n",
            "Processing O2 channel of file S003E02.edf part 23.\n",
            "Processing P8 channel of file S003E02.edf part 23.\n"
          ],
          "name": "stdout"
        },
        {
          "output_type": "stream",
          "text": [
            "/usr/local/lib/python3.6/dist-packages/ipykernel_launcher.py:69: RuntimeWarning: divide by zero encountered in log10\n"
          ],
          "name": "stderr"
        },
        {
          "output_type": "stream",
          "text": [
            "Processing T8 channel of file S003E02.edf part 23.\n",
            "Processing FC6 channel of file S003E02.edf part 23.\n",
            "Processing F4 channel of file S003E02.edf part 23.\n",
            "Processing F8 channel of file S003E02.edf part 23.\n",
            "Processing AF4 channel of file S003E02.edf part 23.\n",
            "Processing AF3 channel of file S003E02.edf part 24.\n",
            "creating folder S003E02_24.\n",
            "creating folder S003E02_24.\n",
            "Processing F7 channel of file S003E02.edf part 24.\n",
            "Processing F3 channel of file S003E02.edf part 24.\n",
            "Processing FC5 channel of file S003E02.edf part 24.\n",
            "Processing T7 channel of file S003E02.edf part 24.\n",
            "Processing P7 channel of file S003E02.edf part 24.\n",
            "Processing O1 channel of file S003E02.edf part 24.\n",
            "Processing O2 channel of file S003E02.edf part 24.\n",
            "Processing P8 channel of file S003E02.edf part 24.\n",
            "Processing T8 channel of file S003E02.edf part 24.\n"
          ],
          "name": "stdout"
        },
        {
          "output_type": "stream",
          "text": [
            "/usr/local/lib/python3.6/dist-packages/ipykernel_launcher.py:69: RuntimeWarning: divide by zero encountered in log10\n"
          ],
          "name": "stderr"
        },
        {
          "output_type": "stream",
          "text": [
            "Processing FC6 channel of file S003E02.edf part 24.\n",
            "Processing F4 channel of file S003E02.edf part 24.\n",
            "Processing F8 channel of file S003E02.edf part 24.\n",
            "Processing AF4 channel of file S003E02.edf part 24.\n",
            "Processing AF3 channel of file S003E02.edf part 25.\n",
            "creating folder S003E02_25.\n",
            "creating folder S003E02_25.\n",
            "Processing F7 channel of file S003E02.edf part 25.\n",
            "Processing F3 channel of file S003E02.edf part 25.\n",
            "Processing FC5 channel of file S003E02.edf part 25.\n",
            "Processing T7 channel of file S003E02.edf part 25.\n",
            "Processing P7 channel of file S003E02.edf part 25.\n",
            "Processing O1 channel of file S003E02.edf part 25.\n",
            "Processing O2 channel of file S003E02.edf part 25.\n",
            "Processing P8 channel of file S003E02.edf part 25.\n"
          ],
          "name": "stdout"
        },
        {
          "output_type": "stream",
          "text": [
            "/usr/local/lib/python3.6/dist-packages/ipykernel_launcher.py:69: RuntimeWarning: divide by zero encountered in log10\n"
          ],
          "name": "stderr"
        },
        {
          "output_type": "stream",
          "text": [
            "Processing T8 channel of file S003E02.edf part 25.\n",
            "Processing FC6 channel of file S003E02.edf part 25.\n",
            "Processing F4 channel of file S003E02.edf part 25.\n",
            "Processing F8 channel of file S003E02.edf part 25.\n",
            "Processing AF4 channel of file S003E02.edf part 25.\n",
            "Processing AF3 channel of file S003E02.edf part 26.\n",
            "creating folder S003E02_26.\n",
            "creating folder S003E02_26.\n",
            "Processing F7 channel of file S003E02.edf part 26.\n",
            "Processing F3 channel of file S003E02.edf part 26.\n",
            "Processing FC5 channel of file S003E02.edf part 26.\n",
            "Processing T7 channel of file S003E02.edf part 26.\n",
            "Processing P7 channel of file S003E02.edf part 26.\n",
            "Processing O1 channel of file S003E02.edf part 26.\n",
            "Processing O2 channel of file S003E02.edf part 26.\n",
            "Processing P8 channel of file S003E02.edf part 26.\n",
            "Processing T8 channel of file S003E02.edf part 26.\n"
          ],
          "name": "stdout"
        },
        {
          "output_type": "stream",
          "text": [
            "/usr/local/lib/python3.6/dist-packages/ipykernel_launcher.py:69: RuntimeWarning: divide by zero encountered in log10\n"
          ],
          "name": "stderr"
        },
        {
          "output_type": "stream",
          "text": [
            "Processing FC6 channel of file S003E02.edf part 26.\n",
            "Processing F4 channel of file S003E02.edf part 26.\n",
            "Processing F8 channel of file S003E02.edf part 26.\n",
            "Processing AF4 channel of file S003E02.edf part 26.\n",
            "Processing AF3 channel of file S003E02.edf part 27.\n",
            "creating folder S003E02_27.\n",
            "creating folder S003E02_27.\n",
            "Processing F7 channel of file S003E02.edf part 27.\n",
            "Processing F3 channel of file S003E02.edf part 27.\n",
            "Processing FC5 channel of file S003E02.edf part 27.\n",
            "Processing T7 channel of file S003E02.edf part 27.\n",
            "Processing P7 channel of file S003E02.edf part 27.\n",
            "Processing O1 channel of file S003E02.edf part 27.\n",
            "Processing O2 channel of file S003E02.edf part 27.\n",
            "Processing P8 channel of file S003E02.edf part 27.\n"
          ],
          "name": "stdout"
        },
        {
          "output_type": "stream",
          "text": [
            "/usr/local/lib/python3.6/dist-packages/ipykernel_launcher.py:69: RuntimeWarning: divide by zero encountered in log10\n"
          ],
          "name": "stderr"
        },
        {
          "output_type": "stream",
          "text": [
            "Processing T8 channel of file S003E02.edf part 27.\n",
            "Processing FC6 channel of file S003E02.edf part 27.\n",
            "Processing F4 channel of file S003E02.edf part 27.\n",
            "Processing F8 channel of file S003E02.edf part 27.\n",
            "Processing AF4 channel of file S003E02.edf part 27.\n",
            "Processing AF3 channel of file S003E02.edf part 28.\n",
            "creating folder S003E02_28.\n",
            "creating folder S003E02_28.\n",
            "Processing F7 channel of file S003E02.edf part 28.\n",
            "Processing F3 channel of file S003E02.edf part 28.\n",
            "Processing FC5 channel of file S003E02.edf part 28.\n",
            "Processing T7 channel of file S003E02.edf part 28.\n",
            "Processing P7 channel of file S003E02.edf part 28.\n",
            "Processing O1 channel of file S003E02.edf part 28.\n",
            "Processing O2 channel of file S003E02.edf part 28.\n",
            "Processing P8 channel of file S003E02.edf part 28.\n"
          ],
          "name": "stdout"
        },
        {
          "output_type": "stream",
          "text": [
            "/usr/local/lib/python3.6/dist-packages/ipykernel_launcher.py:69: RuntimeWarning: divide by zero encountered in log10\n"
          ],
          "name": "stderr"
        },
        {
          "output_type": "stream",
          "text": [
            "Processing T8 channel of file S003E02.edf part 28.\n",
            "Processing FC6 channel of file S003E02.edf part 28.\n",
            "Processing F4 channel of file S003E02.edf part 28.\n",
            "Processing F8 channel of file S003E02.edf part 28.\n",
            "Processing AF4 channel of file S003E02.edf part 28.\n",
            "Processing AF3 channel of file S003E02.edf part 29.\n",
            "creating folder S003E02_29.\n",
            "creating folder S003E02_29.\n",
            "Processing F7 channel of file S003E02.edf part 29.\n",
            "Processing F3 channel of file S003E02.edf part 29.\n",
            "Processing FC5 channel of file S003E02.edf part 29.\n",
            "Processing T7 channel of file S003E02.edf part 29.\n",
            "Processing P7 channel of file S003E02.edf part 29.\n",
            "Processing O1 channel of file S003E02.edf part 29.\n",
            "Processing O2 channel of file S003E02.edf part 29.\n",
            "Processing P8 channel of file S003E02.edf part 29.\n",
            "Processing T8 channel of file S003E02.edf part 29.\n"
          ],
          "name": "stdout"
        },
        {
          "output_type": "stream",
          "text": [
            "/usr/local/lib/python3.6/dist-packages/ipykernel_launcher.py:69: RuntimeWarning: divide by zero encountered in log10\n"
          ],
          "name": "stderr"
        },
        {
          "output_type": "stream",
          "text": [
            "Processing FC6 channel of file S003E02.edf part 29.\n",
            "Processing F4 channel of file S003E02.edf part 29.\n",
            "Processing F8 channel of file S003E02.edf part 29.\n",
            "Processing AF4 channel of file S003E02.edf part 29.\n",
            "Processing AF3 channel of file S003E02.edf part 30.\n",
            "creating folder S003E02_30.\n",
            "creating folder S003E02_30.\n",
            "Processing F7 channel of file S003E02.edf part 30.\n",
            "Processing F3 channel of file S003E02.edf part 30.\n",
            "Processing FC5 channel of file S003E02.edf part 30.\n",
            "Processing T7 channel of file S003E02.edf part 30.\n",
            "Processing P7 channel of file S003E02.edf part 30.\n",
            "Processing O1 channel of file S003E02.edf part 30.\n",
            "Processing O2 channel of file S003E02.edf part 30.\n",
            "Processing P8 channel of file S003E02.edf part 30.\n",
            "Processing T8 channel of file S003E02.edf part 30.\n"
          ],
          "name": "stdout"
        },
        {
          "output_type": "stream",
          "text": [
            "/usr/local/lib/python3.6/dist-packages/ipykernel_launcher.py:69: RuntimeWarning: divide by zero encountered in log10\n"
          ],
          "name": "stderr"
        },
        {
          "output_type": "stream",
          "text": [
            "Processing FC6 channel of file S003E02.edf part 30.\n",
            "Processing F4 channel of file S003E02.edf part 30.\n",
            "Processing F8 channel of file S003E02.edf part 30.\n",
            "Processing AF4 channel of file S003E02.edf part 30.\n",
            "Processing AF3 channel of file S003E02.edf part 31.\n",
            "creating folder S003E02_31.\n",
            "creating folder S003E02_31.\n",
            "Processing F7 channel of file S003E02.edf part 31.\n",
            "Processing F3 channel of file S003E02.edf part 31.\n",
            "Processing FC5 channel of file S003E02.edf part 31.\n",
            "Processing T7 channel of file S003E02.edf part 31.\n",
            "Processing P7 channel of file S003E02.edf part 31.\n",
            "Processing O1 channel of file S003E02.edf part 31.\n",
            "Processing O2 channel of file S003E02.edf part 31.\n",
            "Processing P8 channel of file S003E02.edf part 31.\n",
            "Processing T8 channel of file S003E02.edf part 31.\n"
          ],
          "name": "stdout"
        },
        {
          "output_type": "stream",
          "text": [
            "/usr/local/lib/python3.6/dist-packages/ipykernel_launcher.py:69: RuntimeWarning: divide by zero encountered in log10\n"
          ],
          "name": "stderr"
        },
        {
          "output_type": "stream",
          "text": [
            "Processing FC6 channel of file S003E02.edf part 31.\n",
            "Processing F4 channel of file S003E02.edf part 31.\n",
            "Processing F8 channel of file S003E02.edf part 31.\n",
            "Processing AF4 channel of file S003E02.edf part 31.\n",
            "Processing AF3 channel of file S003E02.edf part 32.\n",
            "creating folder S003E02_32.\n",
            "creating folder S003E02_32.\n",
            "Processing F7 channel of file S003E02.edf part 32.\n",
            "Processing F3 channel of file S003E02.edf part 32.\n",
            "Processing FC5 channel of file S003E02.edf part 32.\n",
            "Processing T7 channel of file S003E02.edf part 32.\n",
            "Processing P7 channel of file S003E02.edf part 32.\n",
            "Processing O1 channel of file S003E02.edf part 32.\n",
            "Processing O2 channel of file S003E02.edf part 32.\n",
            "Processing P8 channel of file S003E02.edf part 32.\n",
            "Processing T8 channel of file S003E02.edf part 32.\n"
          ],
          "name": "stdout"
        },
        {
          "output_type": "stream",
          "text": [
            "/usr/local/lib/python3.6/dist-packages/ipykernel_launcher.py:69: RuntimeWarning: divide by zero encountered in log10\n"
          ],
          "name": "stderr"
        },
        {
          "output_type": "stream",
          "text": [
            "Processing FC6 channel of file S003E02.edf part 32.\n",
            "Processing F4 channel of file S003E02.edf part 32.\n",
            "Processing F8 channel of file S003E02.edf part 32.\n",
            "Processing AF4 channel of file S003E02.edf part 32.\n",
            "Processing AF3 channel of file S003E02.edf part 33.\n",
            "creating folder S003E02_33.\n",
            "creating folder S003E02_33.\n",
            "Processing F7 channel of file S003E02.edf part 33.\n",
            "Processing F3 channel of file S003E02.edf part 33.\n",
            "Processing FC5 channel of file S003E02.edf part 33.\n",
            "Processing T7 channel of file S003E02.edf part 33.\n",
            "Processing P7 channel of file S003E02.edf part 33.\n",
            "Processing O1 channel of file S003E02.edf part 33.\n",
            "Processing O2 channel of file S003E02.edf part 33.\n",
            "Processing P8 channel of file S003E02.edf part 33.\n"
          ],
          "name": "stdout"
        },
        {
          "output_type": "stream",
          "text": [
            "/usr/local/lib/python3.6/dist-packages/ipykernel_launcher.py:69: RuntimeWarning: divide by zero encountered in log10\n"
          ],
          "name": "stderr"
        },
        {
          "output_type": "stream",
          "text": [
            "Processing T8 channel of file S003E02.edf part 33.\n",
            "Processing FC6 channel of file S003E02.edf part 33.\n",
            "Processing F4 channel of file S003E02.edf part 33.\n",
            "Processing F8 channel of file S003E02.edf part 33.\n",
            "Processing AF4 channel of file S003E02.edf part 33.\n",
            "Processing AF3 channel of file S003E02.edf part 34.\n",
            "creating folder S003E02_34.\n",
            "creating folder S003E02_34.\n",
            "Processing F7 channel of file S003E02.edf part 34.\n",
            "Processing F3 channel of file S003E02.edf part 34.\n",
            "Processing FC5 channel of file S003E02.edf part 34.\n",
            "Processing T7 channel of file S003E02.edf part 34.\n",
            "Processing P7 channel of file S003E02.edf part 34.\n",
            "Processing O1 channel of file S003E02.edf part 34.\n",
            "Processing O2 channel of file S003E02.edf part 34.\n",
            "Processing P8 channel of file S003E02.edf part 34.\n"
          ],
          "name": "stdout"
        },
        {
          "output_type": "stream",
          "text": [
            "/usr/local/lib/python3.6/dist-packages/ipykernel_launcher.py:69: RuntimeWarning: divide by zero encountered in log10\n"
          ],
          "name": "stderr"
        },
        {
          "output_type": "stream",
          "text": [
            "Processing T8 channel of file S003E02.edf part 34.\n",
            "Processing FC6 channel of file S003E02.edf part 34.\n",
            "Processing F4 channel of file S003E02.edf part 34.\n",
            "Processing F8 channel of file S003E02.edf part 34.\n",
            "Processing AF4 channel of file S003E02.edf part 34.\n",
            "Processing AF3 channel of file S003E02.edf part 35.\n",
            "creating folder S003E02_35.\n",
            "creating folder S003E02_35.\n",
            "Processing F7 channel of file S003E02.edf part 35.\n",
            "Processing F3 channel of file S003E02.edf part 35.\n",
            "Processing FC5 channel of file S003E02.edf part 35.\n",
            "Processing T7 channel of file S003E02.edf part 35.\n",
            "Processing P7 channel of file S003E02.edf part 35.\n",
            "Processing O1 channel of file S003E02.edf part 35.\n",
            "Processing O2 channel of file S003E02.edf part 35.\n",
            "Processing P8 channel of file S003E02.edf part 35.\n",
            "Processing T8 channel of file S003E02.edf part 35.\n"
          ],
          "name": "stdout"
        },
        {
          "output_type": "stream",
          "text": [
            "/usr/local/lib/python3.6/dist-packages/ipykernel_launcher.py:69: RuntimeWarning: divide by zero encountered in log10\n"
          ],
          "name": "stderr"
        },
        {
          "output_type": "stream",
          "text": [
            "Processing FC6 channel of file S003E02.edf part 35.\n",
            "Processing F4 channel of file S003E02.edf part 35.\n",
            "Processing F8 channel of file S003E02.edf part 35.\n",
            "Processing AF4 channel of file S003E02.edf part 35.\n",
            "Extracting EDF parameters from /content/gdrive/My Drive/CSE 240/Project/Data/EEG/S003E03.edf...\n",
            "EDF file detected\n",
            "Setting channel info structure...\n",
            "Creating raw.info structure...\n",
            "Processing AF3 channel of file S003E03.edf part 0.\n",
            "creating folder S003E03_0.\n",
            "creating folder S003E03_0.\n",
            "Processing F7 channel of file S003E03.edf part 0.\n",
            "Processing F3 channel of file S003E03.edf part 0.\n",
            "Processing FC5 channel of file S003E03.edf part 0.\n",
            "Processing T7 channel of file S003E03.edf part 0.\n",
            "Processing P7 channel of file S003E03.edf part 0.\n",
            "Processing O1 channel of file S003E03.edf part 0.\n",
            "Processing O2 channel of file S003E03.edf part 0.\n",
            "Processing P8 channel of file S003E03.edf part 0.\n"
          ],
          "name": "stdout"
        },
        {
          "output_type": "stream",
          "text": [
            "/usr/local/lib/python3.6/dist-packages/ipykernel_launcher.py:69: RuntimeWarning: divide by zero encountered in log10\n"
          ],
          "name": "stderr"
        },
        {
          "output_type": "stream",
          "text": [
            "Processing T8 channel of file S003E03.edf part 0.\n",
            "Processing FC6 channel of file S003E03.edf part 0.\n",
            "Processing F4 channel of file S003E03.edf part 0.\n",
            "Processing F8 channel of file S003E03.edf part 0.\n",
            "Processing AF4 channel of file S003E03.edf part 0.\n",
            "Processing AF3 channel of file S003E03.edf part 1.\n",
            "creating folder S003E03_1.\n",
            "creating folder S003E03_1.\n",
            "Processing F7 channel of file S003E03.edf part 1.\n",
            "Processing F3 channel of file S003E03.edf part 1.\n",
            "Processing FC5 channel of file S003E03.edf part 1.\n",
            "Processing T7 channel of file S003E03.edf part 1.\n",
            "Processing P7 channel of file S003E03.edf part 1.\n",
            "Processing O1 channel of file S003E03.edf part 1.\n",
            "Processing O2 channel of file S003E03.edf part 1.\n",
            "Processing P8 channel of file S003E03.edf part 1.\n"
          ],
          "name": "stdout"
        },
        {
          "output_type": "stream",
          "text": [
            "/usr/local/lib/python3.6/dist-packages/ipykernel_launcher.py:69: RuntimeWarning: divide by zero encountered in log10\n"
          ],
          "name": "stderr"
        },
        {
          "output_type": "stream",
          "text": [
            "Processing T8 channel of file S003E03.edf part 1.\n",
            "Processing FC6 channel of file S003E03.edf part 1.\n",
            "Processing F4 channel of file S003E03.edf part 1.\n",
            "Processing F8 channel of file S003E03.edf part 1.\n",
            "Processing AF4 channel of file S003E03.edf part 1.\n",
            "Processing AF3 channel of file S003E03.edf part 2.\n",
            "creating folder S003E03_2.\n",
            "creating folder S003E03_2.\n",
            "Processing F7 channel of file S003E03.edf part 2.\n",
            "Processing F3 channel of file S003E03.edf part 2.\n",
            "Processing FC5 channel of file S003E03.edf part 2.\n",
            "Processing T7 channel of file S003E03.edf part 2.\n",
            "Processing P7 channel of file S003E03.edf part 2.\n",
            "Processing O1 channel of file S003E03.edf part 2.\n",
            "Processing O2 channel of file S003E03.edf part 2.\n",
            "Processing P8 channel of file S003E03.edf part 2.\n",
            "Processing T8 channel of file S003E03.edf part 2.\n"
          ],
          "name": "stdout"
        },
        {
          "output_type": "stream",
          "text": [
            "/usr/local/lib/python3.6/dist-packages/ipykernel_launcher.py:69: RuntimeWarning: divide by zero encountered in log10\n"
          ],
          "name": "stderr"
        },
        {
          "output_type": "stream",
          "text": [
            "Processing FC6 channel of file S003E03.edf part 2.\n",
            "Processing F4 channel of file S003E03.edf part 2.\n",
            "Processing F8 channel of file S003E03.edf part 2.\n",
            "Processing AF4 channel of file S003E03.edf part 2.\n",
            "Processing AF3 channel of file S003E03.edf part 3.\n",
            "creating folder S003E03_3.\n",
            "creating folder S003E03_3.\n",
            "Processing F7 channel of file S003E03.edf part 3.\n",
            "Processing F3 channel of file S003E03.edf part 3.\n",
            "Processing FC5 channel of file S003E03.edf part 3.\n",
            "Processing T7 channel of file S003E03.edf part 3.\n",
            "Processing P7 channel of file S003E03.edf part 3.\n",
            "Processing O1 channel of file S003E03.edf part 3.\n",
            "Processing O2 channel of file S003E03.edf part 3.\n",
            "Processing P8 channel of file S003E03.edf part 3.\n",
            "Processing T8 channel of file S003E03.edf part 3.\n"
          ],
          "name": "stdout"
        },
        {
          "output_type": "stream",
          "text": [
            "/usr/local/lib/python3.6/dist-packages/ipykernel_launcher.py:69: RuntimeWarning: divide by zero encountered in log10\n"
          ],
          "name": "stderr"
        },
        {
          "output_type": "stream",
          "text": [
            "Processing FC6 channel of file S003E03.edf part 3.\n",
            "Processing F4 channel of file S003E03.edf part 3.\n",
            "Processing F8 channel of file S003E03.edf part 3.\n",
            "Processing AF4 channel of file S003E03.edf part 3.\n",
            "Processing AF3 channel of file S003E03.edf part 4.\n",
            "creating folder S003E03_4.\n",
            "creating folder S003E03_4.\n",
            "Processing F7 channel of file S003E03.edf part 4.\n",
            "Processing F3 channel of file S003E03.edf part 4.\n",
            "Processing FC5 channel of file S003E03.edf part 4.\n",
            "Processing T7 channel of file S003E03.edf part 4.\n",
            "Processing P7 channel of file S003E03.edf part 4.\n",
            "Processing O1 channel of file S003E03.edf part 4.\n",
            "Processing O2 channel of file S003E03.edf part 4.\n",
            "Processing P8 channel of file S003E03.edf part 4.\n"
          ],
          "name": "stdout"
        },
        {
          "output_type": "stream",
          "text": [
            "/usr/local/lib/python3.6/dist-packages/ipykernel_launcher.py:69: RuntimeWarning: divide by zero encountered in log10\n"
          ],
          "name": "stderr"
        },
        {
          "output_type": "stream",
          "text": [
            "Processing T8 channel of file S003E03.edf part 4.\n",
            "Processing FC6 channel of file S003E03.edf part 4.\n",
            "Processing F4 channel of file S003E03.edf part 4.\n",
            "Processing F8 channel of file S003E03.edf part 4.\n",
            "Processing AF4 channel of file S003E03.edf part 4.\n",
            "Processing AF3 channel of file S003E03.edf part 5.\n",
            "creating folder S003E03_5.\n",
            "creating folder S003E03_5.\n",
            "Processing F7 channel of file S003E03.edf part 5.\n",
            "Processing F3 channel of file S003E03.edf part 5.\n",
            "Processing FC5 channel of file S003E03.edf part 5.\n",
            "Processing T7 channel of file S003E03.edf part 5.\n",
            "Processing P7 channel of file S003E03.edf part 5.\n",
            "Processing O1 channel of file S003E03.edf part 5.\n",
            "Processing O2 channel of file S003E03.edf part 5.\n",
            "Processing P8 channel of file S003E03.edf part 5.\n"
          ],
          "name": "stdout"
        },
        {
          "output_type": "stream",
          "text": [
            "/usr/local/lib/python3.6/dist-packages/ipykernel_launcher.py:69: RuntimeWarning: divide by zero encountered in log10\n"
          ],
          "name": "stderr"
        },
        {
          "output_type": "stream",
          "text": [
            "Processing T8 channel of file S003E03.edf part 5.\n",
            "Processing FC6 channel of file S003E03.edf part 5.\n",
            "Processing F4 channel of file S003E03.edf part 5.\n",
            "Processing F8 channel of file S003E03.edf part 5.\n",
            "Processing AF4 channel of file S003E03.edf part 5.\n",
            "Processing AF3 channel of file S003E03.edf part 6.\n",
            "creating folder S003E03_6.\n",
            "creating folder S003E03_6.\n",
            "Processing F7 channel of file S003E03.edf part 6.\n",
            "Processing F3 channel of file S003E03.edf part 6.\n",
            "Processing FC5 channel of file S003E03.edf part 6.\n",
            "Processing T7 channel of file S003E03.edf part 6.\n",
            "Processing P7 channel of file S003E03.edf part 6.\n",
            "Processing O1 channel of file S003E03.edf part 6.\n",
            "Processing O2 channel of file S003E03.edf part 6.\n",
            "Processing P8 channel of file S003E03.edf part 6.\n"
          ],
          "name": "stdout"
        },
        {
          "output_type": "stream",
          "text": [
            "/usr/local/lib/python3.6/dist-packages/ipykernel_launcher.py:69: RuntimeWarning: divide by zero encountered in log10\n"
          ],
          "name": "stderr"
        },
        {
          "output_type": "stream",
          "text": [
            "Processing T8 channel of file S003E03.edf part 6.\n",
            "Processing FC6 channel of file S003E03.edf part 6.\n",
            "Processing F4 channel of file S003E03.edf part 6.\n",
            "Processing F8 channel of file S003E03.edf part 6.\n",
            "Processing AF4 channel of file S003E03.edf part 6.\n",
            "Processing AF3 channel of file S003E03.edf part 7.\n",
            "creating folder S003E03_7.\n",
            "creating folder S003E03_7.\n",
            "Processing F7 channel of file S003E03.edf part 7.\n",
            "Processing F3 channel of file S003E03.edf part 7.\n",
            "Processing FC5 channel of file S003E03.edf part 7.\n",
            "Processing T7 channel of file S003E03.edf part 7.\n",
            "Processing P7 channel of file S003E03.edf part 7.\n",
            "Processing O1 channel of file S003E03.edf part 7.\n",
            "Processing O2 channel of file S003E03.edf part 7.\n",
            "Processing P8 channel of file S003E03.edf part 7.\n",
            "Processing T8 channel of file S003E03.edf part 7.\n"
          ],
          "name": "stdout"
        },
        {
          "output_type": "stream",
          "text": [
            "/usr/local/lib/python3.6/dist-packages/ipykernel_launcher.py:69: RuntimeWarning: divide by zero encountered in log10\n"
          ],
          "name": "stderr"
        },
        {
          "output_type": "stream",
          "text": [
            "Processing FC6 channel of file S003E03.edf part 7.\n",
            "Processing F4 channel of file S003E03.edf part 7.\n",
            "Processing F8 channel of file S003E03.edf part 7.\n",
            "Processing AF4 channel of file S003E03.edf part 7.\n",
            "Processing AF3 channel of file S003E03.edf part 8.\n",
            "creating folder S003E03_8.\n",
            "creating folder S003E03_8.\n",
            "Processing F7 channel of file S003E03.edf part 8.\n",
            "Processing F3 channel of file S003E03.edf part 8.\n",
            "Processing FC5 channel of file S003E03.edf part 8.\n",
            "Processing T7 channel of file S003E03.edf part 8.\n",
            "Processing P7 channel of file S003E03.edf part 8.\n",
            "Processing O1 channel of file S003E03.edf part 8.\n",
            "Processing O2 channel of file S003E03.edf part 8.\n",
            "Processing P8 channel of file S003E03.edf part 8.\n",
            "Processing T8 channel of file S003E03.edf part 8.\n"
          ],
          "name": "stdout"
        },
        {
          "output_type": "stream",
          "text": [
            "/usr/local/lib/python3.6/dist-packages/ipykernel_launcher.py:69: RuntimeWarning: divide by zero encountered in log10\n"
          ],
          "name": "stderr"
        },
        {
          "output_type": "stream",
          "text": [
            "Processing FC6 channel of file S003E03.edf part 8.\n",
            "Processing F4 channel of file S003E03.edf part 8.\n",
            "Processing F8 channel of file S003E03.edf part 8.\n",
            "Processing AF4 channel of file S003E03.edf part 8.\n",
            "Processing AF3 channel of file S003E03.edf part 9.\n",
            "creating folder S003E03_9.\n",
            "creating folder S003E03_9.\n",
            "Processing F7 channel of file S003E03.edf part 9.\n",
            "Processing F3 channel of file S003E03.edf part 9.\n",
            "Processing FC5 channel of file S003E03.edf part 9.\n",
            "Processing T7 channel of file S003E03.edf part 9.\n",
            "Processing P7 channel of file S003E03.edf part 9.\n",
            "Processing O1 channel of file S003E03.edf part 9.\n",
            "Processing O2 channel of file S003E03.edf part 9.\n",
            "Processing P8 channel of file S003E03.edf part 9.\n"
          ],
          "name": "stdout"
        },
        {
          "output_type": "stream",
          "text": [
            "/usr/local/lib/python3.6/dist-packages/ipykernel_launcher.py:69: RuntimeWarning: divide by zero encountered in log10\n"
          ],
          "name": "stderr"
        },
        {
          "output_type": "stream",
          "text": [
            "Processing T8 channel of file S003E03.edf part 9.\n",
            "Processing FC6 channel of file S003E03.edf part 9.\n",
            "Processing F4 channel of file S003E03.edf part 9.\n",
            "Processing F8 channel of file S003E03.edf part 9.\n",
            "Processing AF4 channel of file S003E03.edf part 9.\n",
            "Processing AF3 channel of file S003E03.edf part 10.\n",
            "creating folder S003E03_10.\n",
            "creating folder S003E03_10.\n",
            "Processing F7 channel of file S003E03.edf part 10.\n",
            "Processing F3 channel of file S003E03.edf part 10.\n",
            "Processing FC5 channel of file S003E03.edf part 10.\n",
            "Processing T7 channel of file S003E03.edf part 10.\n",
            "Processing P7 channel of file S003E03.edf part 10.\n",
            "Processing O1 channel of file S003E03.edf part 10.\n",
            "Processing O2 channel of file S003E03.edf part 10.\n",
            "Processing P8 channel of file S003E03.edf part 10.\n",
            "Processing T8 channel of file S003E03.edf part 10.\n"
          ],
          "name": "stdout"
        },
        {
          "output_type": "stream",
          "text": [
            "/usr/local/lib/python3.6/dist-packages/ipykernel_launcher.py:69: RuntimeWarning: divide by zero encountered in log10\n"
          ],
          "name": "stderr"
        },
        {
          "output_type": "stream",
          "text": [
            "Processing FC6 channel of file S003E03.edf part 10.\n",
            "Processing F4 channel of file S003E03.edf part 10.\n",
            "Processing F8 channel of file S003E03.edf part 10.\n",
            "Processing AF4 channel of file S003E03.edf part 10.\n",
            "Processing AF3 channel of file S003E03.edf part 11.\n",
            "creating folder S003E03_11.\n",
            "creating folder S003E03_11.\n",
            "Processing F7 channel of file S003E03.edf part 11.\n",
            "Processing F3 channel of file S003E03.edf part 11.\n",
            "Processing FC5 channel of file S003E03.edf part 11.\n",
            "Processing T7 channel of file S003E03.edf part 11.\n",
            "Processing P7 channel of file S003E03.edf part 11.\n",
            "Processing O1 channel of file S003E03.edf part 11.\n",
            "Processing O2 channel of file S003E03.edf part 11.\n",
            "Processing P8 channel of file S003E03.edf part 11.\n"
          ],
          "name": "stdout"
        },
        {
          "output_type": "stream",
          "text": [
            "/usr/local/lib/python3.6/dist-packages/ipykernel_launcher.py:69: RuntimeWarning: divide by zero encountered in log10\n"
          ],
          "name": "stderr"
        },
        {
          "output_type": "stream",
          "text": [
            "Processing T8 channel of file S003E03.edf part 11.\n",
            "Processing FC6 channel of file S003E03.edf part 11.\n",
            "Processing F4 channel of file S003E03.edf part 11.\n",
            "Processing F8 channel of file S003E03.edf part 11.\n",
            "Processing AF4 channel of file S003E03.edf part 11.\n",
            "Processing AF3 channel of file S003E03.edf part 12.\n",
            "creating folder S003E03_12.\n",
            "creating folder S003E03_12.\n",
            "Processing F7 channel of file S003E03.edf part 12.\n",
            "Processing F3 channel of file S003E03.edf part 12.\n",
            "Processing FC5 channel of file S003E03.edf part 12.\n",
            "Processing T7 channel of file S003E03.edf part 12.\n",
            "Processing P7 channel of file S003E03.edf part 12.\n",
            "Processing O1 channel of file S003E03.edf part 12.\n",
            "Processing O2 channel of file S003E03.edf part 12.\n",
            "Processing P8 channel of file S003E03.edf part 12.\n",
            "Processing T8 channel of file S003E03.edf part 12.\n"
          ],
          "name": "stdout"
        },
        {
          "output_type": "stream",
          "text": [
            "/usr/local/lib/python3.6/dist-packages/ipykernel_launcher.py:69: RuntimeWarning: divide by zero encountered in log10\n"
          ],
          "name": "stderr"
        },
        {
          "output_type": "stream",
          "text": [
            "Processing FC6 channel of file S003E03.edf part 12.\n",
            "Processing F4 channel of file S003E03.edf part 12.\n",
            "Processing F8 channel of file S003E03.edf part 12.\n",
            "Processing AF4 channel of file S003E03.edf part 12.\n",
            "Processing AF3 channel of file S003E03.edf part 13.\n",
            "creating folder S003E03_13.\n",
            "creating folder S003E03_13.\n",
            "Processing F7 channel of file S003E03.edf part 13.\n",
            "Processing F3 channel of file S003E03.edf part 13.\n",
            "Processing FC5 channel of file S003E03.edf part 13.\n",
            "Processing T7 channel of file S003E03.edf part 13.\n",
            "Processing P7 channel of file S003E03.edf part 13.\n",
            "Processing O1 channel of file S003E03.edf part 13.\n",
            "Processing O2 channel of file S003E03.edf part 13.\n",
            "Processing P8 channel of file S003E03.edf part 13.\n",
            "Processing T8 channel of file S003E03.edf part 13.\n"
          ],
          "name": "stdout"
        },
        {
          "output_type": "stream",
          "text": [
            "/usr/local/lib/python3.6/dist-packages/ipykernel_launcher.py:69: RuntimeWarning: divide by zero encountered in log10\n"
          ],
          "name": "stderr"
        },
        {
          "output_type": "stream",
          "text": [
            "Processing FC6 channel of file S003E03.edf part 13.\n",
            "Processing F4 channel of file S003E03.edf part 13.\n",
            "Processing F8 channel of file S003E03.edf part 13.\n",
            "Processing AF4 channel of file S003E03.edf part 13.\n",
            "Processing AF3 channel of file S003E03.edf part 14.\n",
            "creating folder S003E03_14.\n",
            "creating folder S003E03_14.\n",
            "Processing F7 channel of file S003E03.edf part 14.\n",
            "Processing F3 channel of file S003E03.edf part 14.\n",
            "Processing FC5 channel of file S003E03.edf part 14.\n",
            "Processing T7 channel of file S003E03.edf part 14.\n",
            "Processing P7 channel of file S003E03.edf part 14.\n",
            "Processing O1 channel of file S003E03.edf part 14.\n",
            "Processing O2 channel of file S003E03.edf part 14.\n",
            "Processing P8 channel of file S003E03.edf part 14.\n"
          ],
          "name": "stdout"
        },
        {
          "output_type": "stream",
          "text": [
            "/usr/local/lib/python3.6/dist-packages/ipykernel_launcher.py:69: RuntimeWarning: divide by zero encountered in log10\n"
          ],
          "name": "stderr"
        },
        {
          "output_type": "stream",
          "text": [
            "Processing T8 channel of file S003E03.edf part 14.\n",
            "Processing FC6 channel of file S003E03.edf part 14.\n",
            "Processing F4 channel of file S003E03.edf part 14.\n",
            "Processing F8 channel of file S003E03.edf part 14.\n",
            "Processing AF4 channel of file S003E03.edf part 14.\n",
            "Processing AF3 channel of file S003E03.edf part 15.\n",
            "creating folder S003E03_15.\n",
            "creating folder S003E03_15.\n",
            "Processing F7 channel of file S003E03.edf part 15.\n",
            "Processing F3 channel of file S003E03.edf part 15.\n",
            "Processing FC5 channel of file S003E03.edf part 15.\n",
            "Processing T7 channel of file S003E03.edf part 15.\n",
            "Processing P7 channel of file S003E03.edf part 15.\n",
            "Processing O1 channel of file S003E03.edf part 15.\n",
            "Processing O2 channel of file S003E03.edf part 15.\n",
            "Processing P8 channel of file S003E03.edf part 15.\n",
            "Processing T8 channel of file S003E03.edf part 15.\n"
          ],
          "name": "stdout"
        },
        {
          "output_type": "stream",
          "text": [
            "/usr/local/lib/python3.6/dist-packages/ipykernel_launcher.py:69: RuntimeWarning: divide by zero encountered in log10\n"
          ],
          "name": "stderr"
        },
        {
          "output_type": "stream",
          "text": [
            "Processing FC6 channel of file S003E03.edf part 15.\n",
            "Processing F4 channel of file S003E03.edf part 15.\n",
            "Processing F8 channel of file S003E03.edf part 15.\n",
            "Processing AF4 channel of file S003E03.edf part 15.\n",
            "Processing AF3 channel of file S003E03.edf part 16.\n",
            "creating folder S003E03_16.\n",
            "creating folder S003E03_16.\n",
            "Processing F7 channel of file S003E03.edf part 16.\n",
            "Processing F3 channel of file S003E03.edf part 16.\n",
            "Processing FC5 channel of file S003E03.edf part 16.\n",
            "Processing T7 channel of file S003E03.edf part 16.\n",
            "Processing P7 channel of file S003E03.edf part 16.\n",
            "Processing O1 channel of file S003E03.edf part 16.\n",
            "Processing O2 channel of file S003E03.edf part 16.\n",
            "Processing P8 channel of file S003E03.edf part 16.\n"
          ],
          "name": "stdout"
        },
        {
          "output_type": "stream",
          "text": [
            "/usr/local/lib/python3.6/dist-packages/ipykernel_launcher.py:69: RuntimeWarning: divide by zero encountered in log10\n"
          ],
          "name": "stderr"
        },
        {
          "output_type": "stream",
          "text": [
            "Processing T8 channel of file S003E03.edf part 16.\n",
            "Processing FC6 channel of file S003E03.edf part 16.\n",
            "Processing F4 channel of file S003E03.edf part 16.\n",
            "Processing F8 channel of file S003E03.edf part 16.\n",
            "Processing AF4 channel of file S003E03.edf part 16.\n",
            "Processing AF3 channel of file S003E03.edf part 17.\n",
            "creating folder S003E03_17.\n",
            "creating folder S003E03_17.\n",
            "Processing F7 channel of file S003E03.edf part 17.\n",
            "Processing F3 channel of file S003E03.edf part 17.\n",
            "Processing FC5 channel of file S003E03.edf part 17.\n",
            "Processing T7 channel of file S003E03.edf part 17.\n",
            "Processing P7 channel of file S003E03.edf part 17.\n",
            "Processing O1 channel of file S003E03.edf part 17.\n",
            "Processing O2 channel of file S003E03.edf part 17.\n",
            "Processing P8 channel of file S003E03.edf part 17.\n"
          ],
          "name": "stdout"
        },
        {
          "output_type": "stream",
          "text": [
            "/usr/local/lib/python3.6/dist-packages/ipykernel_launcher.py:69: RuntimeWarning: divide by zero encountered in log10\n"
          ],
          "name": "stderr"
        },
        {
          "output_type": "stream",
          "text": [
            "Processing T8 channel of file S003E03.edf part 17.\n",
            "Processing FC6 channel of file S003E03.edf part 17.\n",
            "Processing F4 channel of file S003E03.edf part 17.\n",
            "Processing F8 channel of file S003E03.edf part 17.\n",
            "Processing AF4 channel of file S003E03.edf part 17.\n",
            "Processing AF3 channel of file S003E03.edf part 18.\n",
            "creating folder S003E03_18.\n",
            "creating folder S003E03_18.\n",
            "Processing F7 channel of file S003E03.edf part 18.\n",
            "Processing F3 channel of file S003E03.edf part 18.\n",
            "Processing FC5 channel of file S003E03.edf part 18.\n",
            "Processing T7 channel of file S003E03.edf part 18.\n",
            "Processing P7 channel of file S003E03.edf part 18.\n",
            "Processing O1 channel of file S003E03.edf part 18.\n",
            "Processing O2 channel of file S003E03.edf part 18.\n",
            "Processing P8 channel of file S003E03.edf part 18.\n",
            "Processing T8 channel of file S003E03.edf part 18.\n"
          ],
          "name": "stdout"
        },
        {
          "output_type": "stream",
          "text": [
            "/usr/local/lib/python3.6/dist-packages/ipykernel_launcher.py:69: RuntimeWarning: divide by zero encountered in log10\n"
          ],
          "name": "stderr"
        },
        {
          "output_type": "stream",
          "text": [
            "Processing FC6 channel of file S003E03.edf part 18.\n",
            "Processing F4 channel of file S003E03.edf part 18.\n",
            "Processing F8 channel of file S003E03.edf part 18.\n",
            "Processing AF4 channel of file S003E03.edf part 18.\n",
            "Processing AF3 channel of file S003E03.edf part 19.\n",
            "creating folder S003E03_19.\n",
            "creating folder S003E03_19.\n",
            "Processing F7 channel of file S003E03.edf part 19.\n",
            "Processing F3 channel of file S003E03.edf part 19.\n",
            "Processing FC5 channel of file S003E03.edf part 19.\n",
            "Processing T7 channel of file S003E03.edf part 19.\n",
            "Processing P7 channel of file S003E03.edf part 19.\n",
            "Processing O1 channel of file S003E03.edf part 19.\n",
            "Processing O2 channel of file S003E03.edf part 19.\n",
            "Processing P8 channel of file S003E03.edf part 19.\n"
          ],
          "name": "stdout"
        },
        {
          "output_type": "stream",
          "text": [
            "/usr/local/lib/python3.6/dist-packages/ipykernel_launcher.py:69: RuntimeWarning: divide by zero encountered in log10\n"
          ],
          "name": "stderr"
        },
        {
          "output_type": "stream",
          "text": [
            "Processing T8 channel of file S003E03.edf part 19.\n",
            "Processing FC6 channel of file S003E03.edf part 19.\n",
            "Processing F4 channel of file S003E03.edf part 19.\n",
            "Processing F8 channel of file S003E03.edf part 19.\n",
            "Processing AF4 channel of file S003E03.edf part 19.\n",
            "Processing AF3 channel of file S003E03.edf part 20.\n",
            "creating folder S003E03_20.\n",
            "creating folder S003E03_20.\n",
            "Processing F7 channel of file S003E03.edf part 20.\n",
            "Processing F3 channel of file S003E03.edf part 20.\n",
            "Processing FC5 channel of file S003E03.edf part 20.\n",
            "Processing T7 channel of file S003E03.edf part 20.\n",
            "Processing P7 channel of file S003E03.edf part 20.\n",
            "Processing O1 channel of file S003E03.edf part 20.\n",
            "Processing O2 channel of file S003E03.edf part 20.\n",
            "Processing P8 channel of file S003E03.edf part 20.\n"
          ],
          "name": "stdout"
        },
        {
          "output_type": "stream",
          "text": [
            "/usr/local/lib/python3.6/dist-packages/ipykernel_launcher.py:69: RuntimeWarning: divide by zero encountered in log10\n"
          ],
          "name": "stderr"
        },
        {
          "output_type": "stream",
          "text": [
            "Processing T8 channel of file S003E03.edf part 20.\n",
            "Processing FC6 channel of file S003E03.edf part 20.\n",
            "Processing F4 channel of file S003E03.edf part 20.\n",
            "Processing F8 channel of file S003E03.edf part 20.\n",
            "Processing AF4 channel of file S003E03.edf part 20.\n",
            "Processing AF3 channel of file S003E03.edf part 21.\n",
            "creating folder S003E03_21.\n",
            "creating folder S003E03_21.\n",
            "Processing F7 channel of file S003E03.edf part 21.\n",
            "Processing F3 channel of file S003E03.edf part 21.\n",
            "Processing FC5 channel of file S003E03.edf part 21.\n",
            "Processing T7 channel of file S003E03.edf part 21.\n",
            "Processing P7 channel of file S003E03.edf part 21.\n",
            "Processing O1 channel of file S003E03.edf part 21.\n",
            "Processing O2 channel of file S003E03.edf part 21.\n",
            "Processing P8 channel of file S003E03.edf part 21.\n",
            "Processing T8 channel of file S003E03.edf part 21.\n"
          ],
          "name": "stdout"
        },
        {
          "output_type": "stream",
          "text": [
            "/usr/local/lib/python3.6/dist-packages/ipykernel_launcher.py:69: RuntimeWarning: divide by zero encountered in log10\n"
          ],
          "name": "stderr"
        },
        {
          "output_type": "stream",
          "text": [
            "Processing FC6 channel of file S003E03.edf part 21.\n",
            "Processing F4 channel of file S003E03.edf part 21.\n",
            "Processing F8 channel of file S003E03.edf part 21.\n",
            "Processing AF4 channel of file S003E03.edf part 21.\n",
            "Processing AF3 channel of file S003E03.edf part 22.\n",
            "creating folder S003E03_22.\n",
            "creating folder S003E03_22.\n",
            "Processing F7 channel of file S003E03.edf part 22.\n",
            "Processing F3 channel of file S003E03.edf part 22.\n",
            "Processing FC5 channel of file S003E03.edf part 22.\n",
            "Processing T7 channel of file S003E03.edf part 22.\n",
            "Processing P7 channel of file S003E03.edf part 22.\n",
            "Processing O1 channel of file S003E03.edf part 22.\n",
            "Processing O2 channel of file S003E03.edf part 22.\n",
            "Processing P8 channel of file S003E03.edf part 22.\n",
            "Processing T8 channel of file S003E03.edf part 22.\n"
          ],
          "name": "stdout"
        },
        {
          "output_type": "stream",
          "text": [
            "/usr/local/lib/python3.6/dist-packages/ipykernel_launcher.py:69: RuntimeWarning: divide by zero encountered in log10\n"
          ],
          "name": "stderr"
        },
        {
          "output_type": "stream",
          "text": [
            "Processing FC6 channel of file S003E03.edf part 22.\n",
            "Processing F4 channel of file S003E03.edf part 22.\n",
            "Processing F8 channel of file S003E03.edf part 22.\n",
            "Processing AF4 channel of file S003E03.edf part 22.\n",
            "Processing AF3 channel of file S003E03.edf part 23.\n",
            "creating folder S003E03_23.\n",
            "creating folder S003E03_23.\n",
            "Processing F7 channel of file S003E03.edf part 23.\n",
            "Processing F3 channel of file S003E03.edf part 23.\n",
            "Processing FC5 channel of file S003E03.edf part 23.\n",
            "Processing T7 channel of file S003E03.edf part 23.\n",
            "Processing P7 channel of file S003E03.edf part 23.\n",
            "Processing O1 channel of file S003E03.edf part 23.\n",
            "Processing O2 channel of file S003E03.edf part 23.\n",
            "Processing P8 channel of file S003E03.edf part 23.\n",
            "Processing T8 channel of file S003E03.edf part 23.\n"
          ],
          "name": "stdout"
        },
        {
          "output_type": "stream",
          "text": [
            "/usr/local/lib/python3.6/dist-packages/ipykernel_launcher.py:69: RuntimeWarning: divide by zero encountered in log10\n"
          ],
          "name": "stderr"
        },
        {
          "output_type": "stream",
          "text": [
            "Processing FC6 channel of file S003E03.edf part 23.\n",
            "Processing F4 channel of file S003E03.edf part 23.\n",
            "Processing F8 channel of file S003E03.edf part 23.\n",
            "Processing AF4 channel of file S003E03.edf part 23.\n",
            "Processing AF3 channel of file S003E03.edf part 24.\n",
            "creating folder S003E03_24.\n",
            "creating folder S003E03_24.\n",
            "Processing F7 channel of file S003E03.edf part 24.\n",
            "Processing F3 channel of file S003E03.edf part 24.\n",
            "Processing FC5 channel of file S003E03.edf part 24.\n",
            "Processing T7 channel of file S003E03.edf part 24.\n",
            "Processing P7 channel of file S003E03.edf part 24.\n",
            "Processing O1 channel of file S003E03.edf part 24.\n",
            "Processing O2 channel of file S003E03.edf part 24.\n",
            "Processing P8 channel of file S003E03.edf part 24.\n"
          ],
          "name": "stdout"
        },
        {
          "output_type": "stream",
          "text": [
            "/usr/local/lib/python3.6/dist-packages/ipykernel_launcher.py:69: RuntimeWarning: divide by zero encountered in log10\n"
          ],
          "name": "stderr"
        },
        {
          "output_type": "stream",
          "text": [
            "Processing T8 channel of file S003E03.edf part 24.\n",
            "Processing FC6 channel of file S003E03.edf part 24.\n",
            "Processing F4 channel of file S003E03.edf part 24.\n",
            "Processing F8 channel of file S003E03.edf part 24.\n",
            "Processing AF4 channel of file S003E03.edf part 24.\n",
            "Processing AF3 channel of file S003E03.edf part 25.\n",
            "creating folder S003E03_25.\n",
            "creating folder S003E03_25.\n",
            "Processing F7 channel of file S003E03.edf part 25.\n",
            "Processing F3 channel of file S003E03.edf part 25.\n",
            "Processing FC5 channel of file S003E03.edf part 25.\n",
            "Processing T7 channel of file S003E03.edf part 25.\n",
            "Processing P7 channel of file S003E03.edf part 25.\n",
            "Processing O1 channel of file S003E03.edf part 25.\n",
            "Processing O2 channel of file S003E03.edf part 25.\n",
            "Processing P8 channel of file S003E03.edf part 25.\n"
          ],
          "name": "stdout"
        },
        {
          "output_type": "stream",
          "text": [
            "/usr/local/lib/python3.6/dist-packages/ipykernel_launcher.py:69: RuntimeWarning: divide by zero encountered in log10\n"
          ],
          "name": "stderr"
        },
        {
          "output_type": "stream",
          "text": [
            "Processing T8 channel of file S003E03.edf part 25.\n",
            "Processing FC6 channel of file S003E03.edf part 25.\n",
            "Processing F4 channel of file S003E03.edf part 25.\n",
            "Processing F8 channel of file S003E03.edf part 25.\n",
            "Processing AF4 channel of file S003E03.edf part 25.\n",
            "Processing AF3 channel of file S003E03.edf part 26.\n",
            "creating folder S003E03_26.\n",
            "creating folder S003E03_26.\n",
            "Processing F7 channel of file S003E03.edf part 26.\n",
            "Processing F3 channel of file S003E03.edf part 26.\n",
            "Processing FC5 channel of file S003E03.edf part 26.\n",
            "Processing T7 channel of file S003E03.edf part 26.\n",
            "Processing P7 channel of file S003E03.edf part 26.\n",
            "Processing O1 channel of file S003E03.edf part 26.\n",
            "Processing O2 channel of file S003E03.edf part 26.\n",
            "Processing P8 channel of file S003E03.edf part 26.\n",
            "Processing T8 channel of file S003E03.edf part 26.\n"
          ],
          "name": "stdout"
        },
        {
          "output_type": "stream",
          "text": [
            "/usr/local/lib/python3.6/dist-packages/ipykernel_launcher.py:69: RuntimeWarning: divide by zero encountered in log10\n"
          ],
          "name": "stderr"
        },
        {
          "output_type": "stream",
          "text": [
            "Processing FC6 channel of file S003E03.edf part 26.\n",
            "Processing F4 channel of file S003E03.edf part 26.\n",
            "Processing F8 channel of file S003E03.edf part 26.\n",
            "Processing AF4 channel of file S003E03.edf part 26.\n",
            "Processing AF3 channel of file S003E03.edf part 27.\n",
            "creating folder S003E03_27.\n",
            "creating folder S003E03_27.\n",
            "Processing F7 channel of file S003E03.edf part 27.\n",
            "Processing F3 channel of file S003E03.edf part 27.\n",
            "Processing FC5 channel of file S003E03.edf part 27.\n",
            "Processing T7 channel of file S003E03.edf part 27.\n",
            "Processing P7 channel of file S003E03.edf part 27.\n",
            "Processing O1 channel of file S003E03.edf part 27.\n",
            "Processing O2 channel of file S003E03.edf part 27.\n",
            "Processing P8 channel of file S003E03.edf part 27.\n",
            "Processing T8 channel of file S003E03.edf part 27.\n"
          ],
          "name": "stdout"
        },
        {
          "output_type": "stream",
          "text": [
            "/usr/local/lib/python3.6/dist-packages/ipykernel_launcher.py:69: RuntimeWarning: divide by zero encountered in log10\n"
          ],
          "name": "stderr"
        },
        {
          "output_type": "stream",
          "text": [
            "Processing FC6 channel of file S003E03.edf part 27.\n",
            "Processing F4 channel of file S003E03.edf part 27.\n",
            "Processing F8 channel of file S003E03.edf part 27.\n",
            "Processing AF4 channel of file S003E03.edf part 27.\n",
            "Processing AF3 channel of file S003E03.edf part 28.\n",
            "creating folder S003E03_28.\n",
            "creating folder S003E03_28.\n",
            "Processing F7 channel of file S003E03.edf part 28.\n",
            "Processing F3 channel of file S003E03.edf part 28.\n",
            "Processing FC5 channel of file S003E03.edf part 28.\n",
            "Processing T7 channel of file S003E03.edf part 28.\n",
            "Processing P7 channel of file S003E03.edf part 28.\n",
            "Processing O1 channel of file S003E03.edf part 28.\n",
            "Processing O2 channel of file S003E03.edf part 28.\n",
            "Processing P8 channel of file S003E03.edf part 28.\n",
            "Processing T8 channel of file S003E03.edf part 28.\n",
            "Processing FC6 channel of file S003E03.edf part 28.\n",
            "Processing F4 channel of file S003E03.edf part 28.\n",
            "Processing F8 channel of file S003E03.edf part 28.\n",
            "Processing AF4 channel of file S003E03.edf part 28.\n",
            "Processing AF3 channel of file S003E03.edf part 29.\n",
            "creating folder S003E03_29.\n",
            "creating folder S003E03_29.\n",
            "Processing F7 channel of file S003E03.edf part 29.\n",
            "Processing F3 channel of file S003E03.edf part 29.\n",
            "Processing FC5 channel of file S003E03.edf part 29.\n",
            "Processing T7 channel of file S003E03.edf part 29.\n",
            "Processing P7 channel of file S003E03.edf part 29.\n",
            "Processing O1 channel of file S003E03.edf part 29.\n",
            "Processing O2 channel of file S003E03.edf part 29.\n",
            "Processing P8 channel of file S003E03.edf part 29.\n",
            "Processing T8 channel of file S003E03.edf part 29.\n",
            "Processing FC6 channel of file S003E03.edf part 29.\n",
            "Processing F4 channel of file S003E03.edf part 29.\n",
            "Processing F8 channel of file S003E03.edf part 29.\n",
            "Processing AF4 channel of file S003E03.edf part 29.\n",
            "Processing AF3 channel of file S003E03.edf part 30.\n",
            "creating folder S003E03_30.\n",
            "creating folder S003E03_30.\n",
            "Processing F7 channel of file S003E03.edf part 30.\n",
            "Processing F3 channel of file S003E03.edf part 30.\n",
            "Processing FC5 channel of file S003E03.edf part 30.\n",
            "Processing T7 channel of file S003E03.edf part 30.\n",
            "Processing P7 channel of file S003E03.edf part 30.\n",
            "Processing O1 channel of file S003E03.edf part 30.\n",
            "Processing O2 channel of file S003E03.edf part 30.\n",
            "Processing P8 channel of file S003E03.edf part 30.\n",
            "Processing T8 channel of file S003E03.edf part 30.\n",
            "Processing FC6 channel of file S003E03.edf part 30.\n",
            "Processing F4 channel of file S003E03.edf part 30.\n",
            "Processing F8 channel of file S003E03.edf part 30.\n",
            "Processing AF4 channel of file S003E03.edf part 30.\n",
            "Processing AF3 channel of file S003E03.edf part 31.\n",
            "creating folder S003E03_31.\n",
            "creating folder S003E03_31.\n",
            "Processing F7 channel of file S003E03.edf part 31.\n",
            "Processing F3 channel of file S003E03.edf part 31.\n",
            "Processing FC5 channel of file S003E03.edf part 31.\n",
            "Processing T7 channel of file S003E03.edf part 31.\n",
            "Processing P7 channel of file S003E03.edf part 31.\n",
            "Processing O1 channel of file S003E03.edf part 31.\n",
            "Processing O2 channel of file S003E03.edf part 31.\n",
            "Processing P8 channel of file S003E03.edf part 31.\n",
            "Processing T8 channel of file S003E03.edf part 31.\n",
            "Processing FC6 channel of file S003E03.edf part 31.\n",
            "Processing F4 channel of file S003E03.edf part 31.\n",
            "Processing F8 channel of file S003E03.edf part 31.\n",
            "Processing AF4 channel of file S003E03.edf part 31.\n",
            "Processing AF3 channel of file S003E03.edf part 32.\n",
            "creating folder S003E03_32.\n",
            "creating folder S003E03_32.\n",
            "Processing F7 channel of file S003E03.edf part 32.\n",
            "Processing F3 channel of file S003E03.edf part 32.\n",
            "Processing FC5 channel of file S003E03.edf part 32.\n",
            "Processing T7 channel of file S003E03.edf part 32.\n",
            "Processing P7 channel of file S003E03.edf part 32.\n",
            "Processing O1 channel of file S003E03.edf part 32.\n",
            "Processing O2 channel of file S003E03.edf part 32.\n",
            "Processing P8 channel of file S003E03.edf part 32.\n",
            "Processing T8 channel of file S003E03.edf part 32.\n",
            "Processing FC6 channel of file S003E03.edf part 32.\n",
            "Processing F4 channel of file S003E03.edf part 32.\n",
            "Processing F8 channel of file S003E03.edf part 32.\n",
            "Processing AF4 channel of file S003E03.edf part 32.\n",
            "Processing AF3 channel of file S003E03.edf part 33.\n",
            "creating folder S003E03_33.\n",
            "creating folder S003E03_33.\n",
            "Processing F7 channel of file S003E03.edf part 33.\n",
            "Processing F3 channel of file S003E03.edf part 33.\n",
            "Processing FC5 channel of file S003E03.edf part 33.\n",
            "Processing T7 channel of file S003E03.edf part 33.\n",
            "Processing P7 channel of file S003E03.edf part 33.\n",
            "Processing O1 channel of file S003E03.edf part 33.\n",
            "Processing O2 channel of file S003E03.edf part 33.\n",
            "Processing P8 channel of file S003E03.edf part 33.\n",
            "Processing T8 channel of file S003E03.edf part 33.\n",
            "Processing FC6 channel of file S003E03.edf part 33.\n",
            "Processing F4 channel of file S003E03.edf part 33.\n",
            "Processing F8 channel of file S003E03.edf part 33.\n",
            "Processing AF4 channel of file S003E03.edf part 33.\n",
            "Processing AF3 channel of file S003E03.edf part 34.\n",
            "creating folder S003E03_34.\n",
            "creating folder S003E03_34.\n",
            "Processing F7 channel of file S003E03.edf part 34.\n",
            "Processing F3 channel of file S003E03.edf part 34.\n",
            "Processing FC5 channel of file S003E03.edf part 34.\n",
            "Processing T7 channel of file S003E03.edf part 34.\n",
            "Processing P7 channel of file S003E03.edf part 34.\n",
            "Processing O1 channel of file S003E03.edf part 34.\n",
            "Processing O2 channel of file S003E03.edf part 34.\n",
            "Processing P8 channel of file S003E03.edf part 34.\n",
            "Processing T8 channel of file S003E03.edf part 34.\n",
            "Processing FC6 channel of file S003E03.edf part 34.\n",
            "Processing F4 channel of file S003E03.edf part 34.\n",
            "Processing F8 channel of file S003E03.edf part 34.\n",
            "Processing AF4 channel of file S003E03.edf part 34.\n",
            "Processing AF3 channel of file S003E03.edf part 35.\n",
            "creating folder S003E03_35.\n",
            "creating folder S003E03_35.\n",
            "Processing F7 channel of file S003E03.edf part 35.\n",
            "Processing F3 channel of file S003E03.edf part 35.\n",
            "Processing FC5 channel of file S003E03.edf part 35.\n",
            "Processing T7 channel of file S003E03.edf part 35.\n",
            "Processing P7 channel of file S003E03.edf part 35.\n",
            "Processing O1 channel of file S003E03.edf part 35.\n",
            "Processing O2 channel of file S003E03.edf part 35.\n",
            "Processing P8 channel of file S003E03.edf part 35.\n",
            "Processing T8 channel of file S003E03.edf part 35.\n",
            "Processing FC6 channel of file S003E03.edf part 35.\n",
            "Processing F4 channel of file S003E03.edf part 35.\n",
            "Processing F8 channel of file S003E03.edf part 35.\n",
            "Processing AF4 channel of file S003E03.edf part 35.\n",
            "Extracting EDF parameters from /content/gdrive/My Drive/CSE 240/Project/Data/EEG/S003E04.edf...\n",
            "EDF file detected\n",
            "Setting channel info structure...\n",
            "Creating raw.info structure...\n",
            "Processing AF3 channel of file S003E04.edf part 0.\n",
            "creating folder S003E04_0.\n",
            "creating folder S003E04_0.\n",
            "Processing F7 channel of file S003E04.edf part 0.\n",
            "Processing F3 channel of file S003E04.edf part 0.\n",
            "Processing FC5 channel of file S003E04.edf part 0.\n",
            "Processing T7 channel of file S003E04.edf part 0.\n",
            "Processing P7 channel of file S003E04.edf part 0.\n",
            "Processing O1 channel of file S003E04.edf part 0.\n",
            "Processing O2 channel of file S003E04.edf part 0.\n",
            "Processing P8 channel of file S003E04.edf part 0.\n",
            "Processing T8 channel of file S003E04.edf part 0.\n",
            "Processing FC6 channel of file S003E04.edf part 0.\n",
            "Processing F4 channel of file S003E04.edf part 0.\n",
            "Processing F8 channel of file S003E04.edf part 0.\n",
            "Processing AF4 channel of file S003E04.edf part 0.\n",
            "Processing AF3 channel of file S003E04.edf part 1.\n",
            "creating folder S003E04_1.\n",
            "creating folder S003E04_1.\n",
            "Processing F7 channel of file S003E04.edf part 1.\n",
            "Processing F3 channel of file S003E04.edf part 1.\n",
            "Processing FC5 channel of file S003E04.edf part 1.\n",
            "Processing T7 channel of file S003E04.edf part 1.\n",
            "Processing P7 channel of file S003E04.edf part 1.\n",
            "Processing O1 channel of file S003E04.edf part 1.\n",
            "Processing O2 channel of file S003E04.edf part 1.\n",
            "Processing P8 channel of file S003E04.edf part 1.\n",
            "Processing T8 channel of file S003E04.edf part 1.\n",
            "Processing FC6 channel of file S003E04.edf part 1.\n",
            "Processing F4 channel of file S003E04.edf part 1.\n",
            "Processing F8 channel of file S003E04.edf part 1.\n",
            "Processing AF4 channel of file S003E04.edf part 1.\n",
            "Processing AF3 channel of file S003E04.edf part 2.\n",
            "creating folder S003E04_2.\n",
            "creating folder S003E04_2.\n",
            "Processing F7 channel of file S003E04.edf part 2.\n",
            "Processing F3 channel of file S003E04.edf part 2.\n",
            "Processing FC5 channel of file S003E04.edf part 2.\n",
            "Processing T7 channel of file S003E04.edf part 2.\n",
            "Processing P7 channel of file S003E04.edf part 2.\n",
            "Processing O1 channel of file S003E04.edf part 2.\n",
            "Processing O2 channel of file S003E04.edf part 2.\n",
            "Processing P8 channel of file S003E04.edf part 2.\n",
            "Processing T8 channel of file S003E04.edf part 2.\n",
            "Processing FC6 channel of file S003E04.edf part 2.\n",
            "Processing F4 channel of file S003E04.edf part 2.\n",
            "Processing F8 channel of file S003E04.edf part 2.\n",
            "Processing AF4 channel of file S003E04.edf part 2.\n",
            "Processing AF3 channel of file S003E04.edf part 3.\n",
            "creating folder S003E04_3.\n",
            "creating folder S003E04_3.\n",
            "Processing F7 channel of file S003E04.edf part 3.\n",
            "Processing F3 channel of file S003E04.edf part 3.\n",
            "Processing FC5 channel of file S003E04.edf part 3.\n",
            "Processing T7 channel of file S003E04.edf part 3.\n",
            "Processing P7 channel of file S003E04.edf part 3.\n",
            "Processing O1 channel of file S003E04.edf part 3.\n",
            "Processing O2 channel of file S003E04.edf part 3.\n",
            "Processing P8 channel of file S003E04.edf part 3.\n",
            "Processing T8 channel of file S003E04.edf part 3.\n",
            "Processing FC6 channel of file S003E04.edf part 3.\n",
            "Processing F4 channel of file S003E04.edf part 3.\n",
            "Processing F8 channel of file S003E04.edf part 3.\n",
            "Processing AF4 channel of file S003E04.edf part 3.\n",
            "Processing AF3 channel of file S003E04.edf part 4.\n",
            "creating folder S003E04_4.\n",
            "creating folder S003E04_4.\n",
            "Processing F7 channel of file S003E04.edf part 4.\n",
            "Processing F3 channel of file S003E04.edf part 4.\n",
            "Processing FC5 channel of file S003E04.edf part 4.\n",
            "Processing T7 channel of file S003E04.edf part 4.\n",
            "Processing P7 channel of file S003E04.edf part 4.\n",
            "Processing O1 channel of file S003E04.edf part 4.\n",
            "Processing O2 channel of file S003E04.edf part 4.\n",
            "Processing P8 channel of file S003E04.edf part 4.\n",
            "Processing T8 channel of file S003E04.edf part 4.\n",
            "Processing FC6 channel of file S003E04.edf part 4.\n",
            "Processing F4 channel of file S003E04.edf part 4.\n",
            "Processing F8 channel of file S003E04.edf part 4.\n",
            "Processing AF4 channel of file S003E04.edf part 4.\n",
            "Processing AF3 channel of file S003E04.edf part 5.\n",
            "creating folder S003E04_5.\n",
            "creating folder S003E04_5.\n",
            "Processing F7 channel of file S003E04.edf part 5.\n",
            "Processing F3 channel of file S003E04.edf part 5.\n",
            "Processing FC5 channel of file S003E04.edf part 5.\n",
            "Processing T7 channel of file S003E04.edf part 5.\n",
            "Processing P7 channel of file S003E04.edf part 5.\n",
            "Processing O1 channel of file S003E04.edf part 5.\n",
            "Processing O2 channel of file S003E04.edf part 5.\n",
            "Processing P8 channel of file S003E04.edf part 5.\n",
            "Processing T8 channel of file S003E04.edf part 5.\n",
            "Processing FC6 channel of file S003E04.edf part 5.\n",
            "Processing F4 channel of file S003E04.edf part 5.\n",
            "Processing F8 channel of file S003E04.edf part 5.\n",
            "Processing AF4 channel of file S003E04.edf part 5.\n",
            "Processing AF3 channel of file S003E04.edf part 6.\n",
            "creating folder S003E04_6.\n",
            "creating folder S003E04_6.\n",
            "Processing F7 channel of file S003E04.edf part 6.\n",
            "Processing F3 channel of file S003E04.edf part 6.\n",
            "Processing FC5 channel of file S003E04.edf part 6.\n",
            "Processing T7 channel of file S003E04.edf part 6.\n",
            "Processing P7 channel of file S003E04.edf part 6.\n",
            "Processing O1 channel of file S003E04.edf part 6.\n",
            "Processing O2 channel of file S003E04.edf part 6.\n",
            "Processing P8 channel of file S003E04.edf part 6.\n",
            "Processing T8 channel of file S003E04.edf part 6.\n",
            "Processing FC6 channel of file S003E04.edf part 6.\n",
            "Processing F4 channel of file S003E04.edf part 6.\n",
            "Processing F8 channel of file S003E04.edf part 6.\n",
            "Processing AF4 channel of file S003E04.edf part 6.\n",
            "Processing AF3 channel of file S003E04.edf part 7.\n",
            "creating folder S003E04_7.\n",
            "creating folder S003E04_7.\n",
            "Processing F7 channel of file S003E04.edf part 7.\n",
            "Processing F3 channel of file S003E04.edf part 7.\n",
            "Processing FC5 channel of file S003E04.edf part 7.\n",
            "Processing T7 channel of file S003E04.edf part 7.\n",
            "Processing P7 channel of file S003E04.edf part 7.\n",
            "Processing O1 channel of file S003E04.edf part 7.\n",
            "Processing O2 channel of file S003E04.edf part 7.\n",
            "Processing P8 channel of file S003E04.edf part 7.\n",
            "Processing T8 channel of file S003E04.edf part 7.\n",
            "Processing FC6 channel of file S003E04.edf part 7.\n",
            "Processing F4 channel of file S003E04.edf part 7.\n",
            "Processing F8 channel of file S003E04.edf part 7.\n",
            "Processing AF4 channel of file S003E04.edf part 7.\n",
            "Processing AF3 channel of file S003E04.edf part 8.\n",
            "creating folder S003E04_8.\n",
            "creating folder S003E04_8.\n",
            "Processing F7 channel of file S003E04.edf part 8.\n",
            "Processing F3 channel of file S003E04.edf part 8.\n",
            "Processing FC5 channel of file S003E04.edf part 8.\n",
            "Processing T7 channel of file S003E04.edf part 8.\n",
            "Processing P7 channel of file S003E04.edf part 8.\n",
            "Processing O1 channel of file S003E04.edf part 8.\n",
            "Processing O2 channel of file S003E04.edf part 8.\n",
            "Processing P8 channel of file S003E04.edf part 8.\n",
            "Processing T8 channel of file S003E04.edf part 8.\n",
            "Processing FC6 channel of file S003E04.edf part 8.\n",
            "Processing F4 channel of file S003E04.edf part 8.\n",
            "Processing F8 channel of file S003E04.edf part 8.\n",
            "Processing AF4 channel of file S003E04.edf part 8.\n",
            "Processing AF3 channel of file S003E04.edf part 9.\n",
            "creating folder S003E04_9.\n",
            "creating folder S003E04_9.\n",
            "Processing F7 channel of file S003E04.edf part 9.\n",
            "Processing F3 channel of file S003E04.edf part 9.\n",
            "Processing FC5 channel of file S003E04.edf part 9.\n",
            "Processing T7 channel of file S003E04.edf part 9.\n",
            "Processing P7 channel of file S003E04.edf part 9.\n",
            "Processing O1 channel of file S003E04.edf part 9.\n",
            "Processing O2 channel of file S003E04.edf part 9.\n",
            "Processing P8 channel of file S003E04.edf part 9.\n",
            "Processing T8 channel of file S003E04.edf part 9.\n",
            "Processing FC6 channel of file S003E04.edf part 9.\n",
            "Processing F4 channel of file S003E04.edf part 9.\n",
            "Processing F8 channel of file S003E04.edf part 9.\n",
            "Processing AF4 channel of file S003E04.edf part 9.\n",
            "Processing AF3 channel of file S003E04.edf part 10.\n",
            "creating folder S003E04_10.\n",
            "creating folder S003E04_10.\n",
            "Processing F7 channel of file S003E04.edf part 10.\n",
            "Processing F3 channel of file S003E04.edf part 10.\n",
            "Processing FC5 channel of file S003E04.edf part 10.\n",
            "Processing T7 channel of file S003E04.edf part 10.\n",
            "Processing P7 channel of file S003E04.edf part 10.\n",
            "Processing O1 channel of file S003E04.edf part 10.\n",
            "Processing O2 channel of file S003E04.edf part 10.\n",
            "Processing P8 channel of file S003E04.edf part 10.\n",
            "Processing T8 channel of file S003E04.edf part 10.\n",
            "Processing FC6 channel of file S003E04.edf part 10.\n",
            "Processing F4 channel of file S003E04.edf part 10.\n",
            "Processing F8 channel of file S003E04.edf part 10.\n",
            "Processing AF4 channel of file S003E04.edf part 10.\n",
            "Processing AF3 channel of file S003E04.edf part 11.\n",
            "creating folder S003E04_11.\n",
            "creating folder S003E04_11.\n",
            "Processing F7 channel of file S003E04.edf part 11.\n",
            "Processing F3 channel of file S003E04.edf part 11.\n",
            "Processing FC5 channel of file S003E04.edf part 11.\n",
            "Processing T7 channel of file S003E04.edf part 11.\n",
            "Processing P7 channel of file S003E04.edf part 11.\n",
            "Processing O1 channel of file S003E04.edf part 11.\n",
            "Processing O2 channel of file S003E04.edf part 11.\n",
            "Processing P8 channel of file S003E04.edf part 11.\n",
            "Processing T8 channel of file S003E04.edf part 11.\n",
            "Processing FC6 channel of file S003E04.edf part 11.\n",
            "Processing F4 channel of file S003E04.edf part 11.\n",
            "Processing F8 channel of file S003E04.edf part 11.\n",
            "Processing AF4 channel of file S003E04.edf part 11.\n",
            "Processing AF3 channel of file S003E04.edf part 12.\n",
            "creating folder S003E04_12.\n",
            "creating folder S003E04_12.\n",
            "Processing F7 channel of file S003E04.edf part 12.\n",
            "Processing F3 channel of file S003E04.edf part 12.\n",
            "Processing FC5 channel of file S003E04.edf part 12.\n",
            "Processing T7 channel of file S003E04.edf part 12.\n",
            "Processing P7 channel of file S003E04.edf part 12.\n",
            "Processing O1 channel of file S003E04.edf part 12.\n",
            "Processing O2 channel of file S003E04.edf part 12.\n",
            "Processing P8 channel of file S003E04.edf part 12.\n",
            "Processing T8 channel of file S003E04.edf part 12.\n",
            "Processing FC6 channel of file S003E04.edf part 12.\n",
            "Processing F4 channel of file S003E04.edf part 12.\n",
            "Processing F8 channel of file S003E04.edf part 12.\n",
            "Processing AF4 channel of file S003E04.edf part 12.\n",
            "Processing AF3 channel of file S003E04.edf part 13.\n",
            "creating folder S003E04_13.\n",
            "creating folder S003E04_13.\n",
            "Processing F7 channel of file S003E04.edf part 13.\n",
            "Processing F3 channel of file S003E04.edf part 13.\n",
            "Processing FC5 channel of file S003E04.edf part 13.\n",
            "Processing T7 channel of file S003E04.edf part 13.\n",
            "Processing P7 channel of file S003E04.edf part 13.\n",
            "Processing O1 channel of file S003E04.edf part 13.\n",
            "Processing O2 channel of file S003E04.edf part 13.\n",
            "Processing P8 channel of file S003E04.edf part 13.\n",
            "Processing T8 channel of file S003E04.edf part 13.\n",
            "Processing FC6 channel of file S003E04.edf part 13.\n",
            "Processing F4 channel of file S003E04.edf part 13.\n",
            "Processing F8 channel of file S003E04.edf part 13.\n",
            "Processing AF4 channel of file S003E04.edf part 13.\n",
            "Processing AF3 channel of file S003E04.edf part 14.\n",
            "creating folder S003E04_14.\n",
            "creating folder S003E04_14.\n",
            "Processing F7 channel of file S003E04.edf part 14.\n",
            "Processing F3 channel of file S003E04.edf part 14.\n",
            "Processing FC5 channel of file S003E04.edf part 14.\n",
            "Processing T7 channel of file S003E04.edf part 14.\n",
            "Processing P7 channel of file S003E04.edf part 14.\n",
            "Processing O1 channel of file S003E04.edf part 14.\n",
            "Processing O2 channel of file S003E04.edf part 14.\n",
            "Processing P8 channel of file S003E04.edf part 14.\n",
            "Processing T8 channel of file S003E04.edf part 14.\n",
            "Processing FC6 channel of file S003E04.edf part 14.\n",
            "Processing F4 channel of file S003E04.edf part 14.\n",
            "Processing F8 channel of file S003E04.edf part 14.\n",
            "Processing AF4 channel of file S003E04.edf part 14.\n",
            "Processing AF3 channel of file S003E04.edf part 15.\n",
            "creating folder S003E04_15.\n",
            "creating folder S003E04_15.\n",
            "Processing F7 channel of file S003E04.edf part 15.\n",
            "Processing F3 channel of file S003E04.edf part 15.\n",
            "Processing FC5 channel of file S003E04.edf part 15.\n",
            "Processing T7 channel of file S003E04.edf part 15.\n",
            "Processing P7 channel of file S003E04.edf part 15.\n",
            "Processing O1 channel of file S003E04.edf part 15.\n",
            "Processing O2 channel of file S003E04.edf part 15.\n",
            "Processing P8 channel of file S003E04.edf part 15.\n",
            "Processing T8 channel of file S003E04.edf part 15.\n",
            "Processing FC6 channel of file S003E04.edf part 15.\n",
            "Processing F4 channel of file S003E04.edf part 15.\n",
            "Processing F8 channel of file S003E04.edf part 15.\n",
            "Processing AF4 channel of file S003E04.edf part 15.\n",
            "Processing AF3 channel of file S003E04.edf part 16.\n",
            "creating folder S003E04_16.\n",
            "creating folder S003E04_16.\n",
            "Processing F7 channel of file S003E04.edf part 16.\n",
            "Processing F3 channel of file S003E04.edf part 16.\n",
            "Processing FC5 channel of file S003E04.edf part 16.\n",
            "Processing T7 channel of file S003E04.edf part 16.\n",
            "Processing P7 channel of file S003E04.edf part 16.\n",
            "Processing O1 channel of file S003E04.edf part 16.\n",
            "Processing O2 channel of file S003E04.edf part 16.\n",
            "Processing P8 channel of file S003E04.edf part 16.\n",
            "Processing T8 channel of file S003E04.edf part 16.\n",
            "Processing FC6 channel of file S003E04.edf part 16.\n",
            "Processing F4 channel of file S003E04.edf part 16.\n",
            "Processing F8 channel of file S003E04.edf part 16.\n",
            "Processing AF4 channel of file S003E04.edf part 16.\n",
            "Processing AF3 channel of file S003E04.edf part 17.\n",
            "creating folder S003E04_17.\n",
            "creating folder S003E04_17.\n",
            "Processing F7 channel of file S003E04.edf part 17.\n",
            "Processing F3 channel of file S003E04.edf part 17.\n",
            "Processing FC5 channel of file S003E04.edf part 17.\n",
            "Processing T7 channel of file S003E04.edf part 17.\n",
            "Processing P7 channel of file S003E04.edf part 17.\n",
            "Processing O1 channel of file S003E04.edf part 17.\n",
            "Processing O2 channel of file S003E04.edf part 17.\n",
            "Processing P8 channel of file S003E04.edf part 17.\n",
            "Processing T8 channel of file S003E04.edf part 17.\n",
            "Processing FC6 channel of file S003E04.edf part 17.\n",
            "Processing F4 channel of file S003E04.edf part 17.\n",
            "Processing F8 channel of file S003E04.edf part 17.\n",
            "Processing AF4 channel of file S003E04.edf part 17.\n",
            "Processing AF3 channel of file S003E04.edf part 18.\n",
            "creating folder S003E04_18.\n",
            "creating folder S003E04_18.\n",
            "Processing F7 channel of file S003E04.edf part 18.\n",
            "Processing F3 channel of file S003E04.edf part 18.\n",
            "Processing FC5 channel of file S003E04.edf part 18.\n",
            "Processing T7 channel of file S003E04.edf part 18.\n",
            "Processing P7 channel of file S003E04.edf part 18.\n",
            "Processing O1 channel of file S003E04.edf part 18.\n",
            "Processing O2 channel of file S003E04.edf part 18.\n",
            "Processing P8 channel of file S003E04.edf part 18.\n",
            "Processing T8 channel of file S003E04.edf part 18.\n",
            "Processing FC6 channel of file S003E04.edf part 18.\n",
            "Processing F4 channel of file S003E04.edf part 18.\n",
            "Processing F8 channel of file S003E04.edf part 18.\n",
            "Processing AF4 channel of file S003E04.edf part 18.\n",
            "Processing AF3 channel of file S003E04.edf part 19.\n",
            "creating folder S003E04_19.\n",
            "creating folder S003E04_19.\n",
            "Processing F7 channel of file S003E04.edf part 19.\n",
            "Processing F3 channel of file S003E04.edf part 19.\n",
            "Processing FC5 channel of file S003E04.edf part 19.\n",
            "Processing T7 channel of file S003E04.edf part 19.\n",
            "Processing P7 channel of file S003E04.edf part 19.\n",
            "Processing O1 channel of file S003E04.edf part 19.\n",
            "Processing O2 channel of file S003E04.edf part 19.\n",
            "Processing P8 channel of file S003E04.edf part 19.\n",
            "Processing T8 channel of file S003E04.edf part 19.\n",
            "Processing FC6 channel of file S003E04.edf part 19.\n",
            "Processing F4 channel of file S003E04.edf part 19.\n",
            "Processing F8 channel of file S003E04.edf part 19.\n",
            "Processing AF4 channel of file S003E04.edf part 19.\n",
            "Processing AF3 channel of file S003E04.edf part 20.\n",
            "creating folder S003E04_20.\n",
            "creating folder S003E04_20.\n",
            "Processing F7 channel of file S003E04.edf part 20.\n",
            "Processing F3 channel of file S003E04.edf part 20.\n",
            "Processing FC5 channel of file S003E04.edf part 20.\n",
            "Processing T7 channel of file S003E04.edf part 20.\n",
            "Processing P7 channel of file S003E04.edf part 20.\n",
            "Processing O1 channel of file S003E04.edf part 20.\n",
            "Processing O2 channel of file S003E04.edf part 20.\n",
            "Processing P8 channel of file S003E04.edf part 20.\n",
            "Processing T8 channel of file S003E04.edf part 20.\n",
            "Processing FC6 channel of file S003E04.edf part 20.\n",
            "Processing F4 channel of file S003E04.edf part 20.\n",
            "Processing F8 channel of file S003E04.edf part 20.\n",
            "Processing AF4 channel of file S003E04.edf part 20.\n",
            "Processing AF3 channel of file S003E04.edf part 21.\n",
            "creating folder S003E04_21.\n",
            "creating folder S003E04_21.\n",
            "Processing F7 channel of file S003E04.edf part 21.\n",
            "Processing F3 channel of file S003E04.edf part 21.\n",
            "Processing FC5 channel of file S003E04.edf part 21.\n",
            "Processing T7 channel of file S003E04.edf part 21.\n",
            "Processing P7 channel of file S003E04.edf part 21.\n",
            "Processing O1 channel of file S003E04.edf part 21.\n",
            "Processing O2 channel of file S003E04.edf part 21.\n",
            "Processing P8 channel of file S003E04.edf part 21.\n",
            "Processing T8 channel of file S003E04.edf part 21.\n",
            "Processing FC6 channel of file S003E04.edf part 21.\n",
            "Processing F4 channel of file S003E04.edf part 21.\n",
            "Processing F8 channel of file S003E04.edf part 21.\n",
            "Processing AF4 channel of file S003E04.edf part 21.\n",
            "Processing AF3 channel of file S003E04.edf part 22.\n",
            "creating folder S003E04_22.\n",
            "creating folder S003E04_22.\n",
            "Processing F7 channel of file S003E04.edf part 22.\n",
            "Processing F3 channel of file S003E04.edf part 22.\n",
            "Processing FC5 channel of file S003E04.edf part 22.\n",
            "Processing T7 channel of file S003E04.edf part 22.\n",
            "Processing P7 channel of file S003E04.edf part 22.\n",
            "Processing O1 channel of file S003E04.edf part 22.\n",
            "Processing O2 channel of file S003E04.edf part 22.\n",
            "Processing P8 channel of file S003E04.edf part 22.\n",
            "Processing T8 channel of file S003E04.edf part 22.\n",
            "Processing FC6 channel of file S003E04.edf part 22.\n",
            "Processing F4 channel of file S003E04.edf part 22.\n",
            "Processing F8 channel of file S003E04.edf part 22.\n",
            "Processing AF4 channel of file S003E04.edf part 22.\n",
            "Processing AF3 channel of file S003E04.edf part 23.\n",
            "creating folder S003E04_23.\n",
            "creating folder S003E04_23.\n",
            "Processing F7 channel of file S003E04.edf part 23.\n",
            "Processing F3 channel of file S003E04.edf part 23.\n",
            "Processing FC5 channel of file S003E04.edf part 23.\n",
            "Processing T7 channel of file S003E04.edf part 23.\n",
            "Processing P7 channel of file S003E04.edf part 23.\n",
            "Processing O1 channel of file S003E04.edf part 23.\n",
            "Processing O2 channel of file S003E04.edf part 23.\n",
            "Processing P8 channel of file S003E04.edf part 23.\n",
            "Processing T8 channel of file S003E04.edf part 23.\n",
            "Processing FC6 channel of file S003E04.edf part 23.\n",
            "Processing F4 channel of file S003E04.edf part 23.\n",
            "Processing F8 channel of file S003E04.edf part 23.\n",
            "Processing AF4 channel of file S003E04.edf part 23.\n",
            "Processing AF3 channel of file S003E04.edf part 24.\n",
            "creating folder S003E04_24.\n",
            "creating folder S003E04_24.\n",
            "Processing F7 channel of file S003E04.edf part 24.\n",
            "Processing F3 channel of file S003E04.edf part 24.\n",
            "Processing FC5 channel of file S003E04.edf part 24.\n",
            "Processing T7 channel of file S003E04.edf part 24.\n",
            "Processing P7 channel of file S003E04.edf part 24.\n",
            "Processing O1 channel of file S003E04.edf part 24.\n",
            "Processing O2 channel of file S003E04.edf part 24.\n",
            "Processing P8 channel of file S003E04.edf part 24.\n",
            "Processing T8 channel of file S003E04.edf part 24.\n",
            "Processing FC6 channel of file S003E04.edf part 24.\n",
            "Processing F4 channel of file S003E04.edf part 24.\n",
            "Processing F8 channel of file S003E04.edf part 24.\n",
            "Processing AF4 channel of file S003E04.edf part 24.\n",
            "Processing AF3 channel of file S003E04.edf part 25.\n",
            "creating folder S003E04_25.\n",
            "creating folder S003E04_25.\n",
            "Processing F7 channel of file S003E04.edf part 25.\n",
            "Processing F3 channel of file S003E04.edf part 25.\n",
            "Processing FC5 channel of file S003E04.edf part 25.\n",
            "Processing T7 channel of file S003E04.edf part 25.\n",
            "Processing P7 channel of file S003E04.edf part 25.\n",
            "Processing O1 channel of file S003E04.edf part 25.\n",
            "Processing O2 channel of file S003E04.edf part 25.\n",
            "Processing P8 channel of file S003E04.edf part 25.\n",
            "Processing T8 channel of file S003E04.edf part 25.\n",
            "Processing FC6 channel of file S003E04.edf part 25.\n",
            "Processing F4 channel of file S003E04.edf part 25.\n",
            "Processing F8 channel of file S003E04.edf part 25.\n",
            "Processing AF4 channel of file S003E04.edf part 25.\n",
            "Processing AF3 channel of file S003E04.edf part 26.\n",
            "creating folder S003E04_26.\n",
            "creating folder S003E04_26.\n",
            "Processing F7 channel of file S003E04.edf part 26.\n",
            "Processing F3 channel of file S003E04.edf part 26.\n",
            "Processing FC5 channel of file S003E04.edf part 26.\n",
            "Processing T7 channel of file S003E04.edf part 26.\n",
            "Processing P7 channel of file S003E04.edf part 26.\n",
            "Processing O1 channel of file S003E04.edf part 26.\n",
            "Processing O2 channel of file S003E04.edf part 26.\n",
            "Processing P8 channel of file S003E04.edf part 26.\n",
            "Processing T8 channel of file S003E04.edf part 26.\n",
            "Processing FC6 channel of file S003E04.edf part 26.\n",
            "Processing F4 channel of file S003E04.edf part 26.\n",
            "Processing F8 channel of file S003E04.edf part 26.\n",
            "Processing AF4 channel of file S003E04.edf part 26.\n",
            "Processing AF3 channel of file S003E04.edf part 27.\n",
            "creating folder S003E04_27.\n",
            "creating folder S003E04_27.\n",
            "Processing F7 channel of file S003E04.edf part 27.\n",
            "Processing F3 channel of file S003E04.edf part 27.\n",
            "Processing FC5 channel of file S003E04.edf part 27.\n",
            "Processing T7 channel of file S003E04.edf part 27.\n",
            "Processing P7 channel of file S003E04.edf part 27.\n",
            "Processing O1 channel of file S003E04.edf part 27.\n",
            "Processing O2 channel of file S003E04.edf part 27.\n",
            "Processing P8 channel of file S003E04.edf part 27.\n",
            "Processing T8 channel of file S003E04.edf part 27.\n",
            "Processing FC6 channel of file S003E04.edf part 27.\n",
            "Processing F4 channel of file S003E04.edf part 27.\n",
            "Processing F8 channel of file S003E04.edf part 27.\n",
            "Processing AF4 channel of file S003E04.edf part 27.\n",
            "Processing AF3 channel of file S003E04.edf part 28.\n",
            "creating folder S003E04_28.\n",
            "creating folder S003E04_28.\n",
            "Processing F7 channel of file S003E04.edf part 28.\n",
            "Processing F3 channel of file S003E04.edf part 28.\n",
            "Processing FC5 channel of file S003E04.edf part 28.\n",
            "Processing T7 channel of file S003E04.edf part 28.\n",
            "Processing P7 channel of file S003E04.edf part 28.\n",
            "Processing O1 channel of file S003E04.edf part 28.\n",
            "Processing O2 channel of file S003E04.edf part 28.\n",
            "Processing P8 channel of file S003E04.edf part 28.\n",
            "Processing T8 channel of file S003E04.edf part 28.\n",
            "Processing FC6 channel of file S003E04.edf part 28.\n",
            "Processing F4 channel of file S003E04.edf part 28.\n",
            "Processing F8 channel of file S003E04.edf part 28.\n",
            "Processing AF4 channel of file S003E04.edf part 28.\n",
            "Processing AF3 channel of file S003E04.edf part 29.\n",
            "creating folder S003E04_29.\n",
            "creating folder S003E04_29.\n",
            "Processing F7 channel of file S003E04.edf part 29.\n",
            "Processing F3 channel of file S003E04.edf part 29.\n",
            "Processing FC5 channel of file S003E04.edf part 29.\n",
            "Processing T7 channel of file S003E04.edf part 29.\n",
            "Processing P7 channel of file S003E04.edf part 29.\n",
            "Processing O1 channel of file S003E04.edf part 29.\n",
            "Processing O2 channel of file S003E04.edf part 29.\n",
            "Processing P8 channel of file S003E04.edf part 29.\n",
            "Processing T8 channel of file S003E04.edf part 29.\n",
            "Processing FC6 channel of file S003E04.edf part 29.\n",
            "Processing F4 channel of file S003E04.edf part 29.\n",
            "Processing F8 channel of file S003E04.edf part 29.\n",
            "Processing AF4 channel of file S003E04.edf part 29.\n",
            "Processing AF3 channel of file S003E04.edf part 30.\n",
            "creating folder S003E04_30.\n",
            "creating folder S003E04_30.\n",
            "Processing F7 channel of file S003E04.edf part 30.\n",
            "Processing F3 channel of file S003E04.edf part 30.\n",
            "Processing FC5 channel of file S003E04.edf part 30.\n",
            "Processing T7 channel of file S003E04.edf part 30.\n",
            "Processing P7 channel of file S003E04.edf part 30.\n",
            "Processing O1 channel of file S003E04.edf part 30.\n",
            "Processing O2 channel of file S003E04.edf part 30.\n",
            "Processing P8 channel of file S003E04.edf part 30.\n",
            "Processing T8 channel of file S003E04.edf part 30.\n",
            "Processing FC6 channel of file S003E04.edf part 30.\n",
            "Processing F4 channel of file S003E04.edf part 30.\n",
            "Processing F8 channel of file S003E04.edf part 30.\n",
            "Processing AF4 channel of file S003E04.edf part 30.\n",
            "Processing AF3 channel of file S003E04.edf part 31.\n",
            "creating folder S003E04_31.\n",
            "creating folder S003E04_31.\n",
            "Processing F7 channel of file S003E04.edf part 31.\n",
            "Processing F3 channel of file S003E04.edf part 31.\n",
            "Processing FC5 channel of file S003E04.edf part 31.\n",
            "Processing T7 channel of file S003E04.edf part 31.\n",
            "Processing P7 channel of file S003E04.edf part 31.\n",
            "Processing O1 channel of file S003E04.edf part 31.\n",
            "Processing O2 channel of file S003E04.edf part 31.\n",
            "Processing P8 channel of file S003E04.edf part 31.\n",
            "Processing T8 channel of file S003E04.edf part 31.\n",
            "Processing FC6 channel of file S003E04.edf part 31.\n",
            "Processing F4 channel of file S003E04.edf part 31.\n",
            "Processing F8 channel of file S003E04.edf part 31.\n",
            "Processing AF4 channel of file S003E04.edf part 31.\n",
            "Processing AF3 channel of file S003E04.edf part 32.\n",
            "creating folder S003E04_32.\n",
            "creating folder S003E04_32.\n",
            "Processing F7 channel of file S003E04.edf part 32.\n",
            "Processing F3 channel of file S003E04.edf part 32.\n",
            "Processing FC5 channel of file S003E04.edf part 32.\n",
            "Processing T7 channel of file S003E04.edf part 32.\n",
            "Processing P7 channel of file S003E04.edf part 32.\n",
            "Processing O1 channel of file S003E04.edf part 32.\n",
            "Processing O2 channel of file S003E04.edf part 32.\n",
            "Processing P8 channel of file S003E04.edf part 32.\n",
            "Processing T8 channel of file S003E04.edf part 32.\n",
            "Processing FC6 channel of file S003E04.edf part 32.\n",
            "Processing F4 channel of file S003E04.edf part 32.\n",
            "Processing F8 channel of file S003E04.edf part 32.\n",
            "Processing AF4 channel of file S003E04.edf part 32.\n",
            "Processing AF3 channel of file S003E04.edf part 33.\n",
            "creating folder S003E04_33.\n",
            "creating folder S003E04_33.\n",
            "Processing F7 channel of file S003E04.edf part 33.\n",
            "Processing F3 channel of file S003E04.edf part 33.\n",
            "Processing FC5 channel of file S003E04.edf part 33.\n",
            "Processing T7 channel of file S003E04.edf part 33.\n",
            "Processing P7 channel of file S003E04.edf part 33.\n",
            "Processing O1 channel of file S003E04.edf part 33.\n",
            "Processing O2 channel of file S003E04.edf part 33.\n",
            "Processing P8 channel of file S003E04.edf part 33.\n",
            "Processing T8 channel of file S003E04.edf part 33.\n",
            "Processing FC6 channel of file S003E04.edf part 33.\n",
            "Processing F4 channel of file S003E04.edf part 33.\n",
            "Processing F8 channel of file S003E04.edf part 33.\n",
            "Processing AF4 channel of file S003E04.edf part 33.\n",
            "Processing AF3 channel of file S003E04.edf part 34.\n",
            "creating folder S003E04_34.\n",
            "creating folder S003E04_34.\n",
            "Processing F7 channel of file S003E04.edf part 34.\n",
            "Processing F3 channel of file S003E04.edf part 34.\n",
            "Processing FC5 channel of file S003E04.edf part 34.\n",
            "Processing T7 channel of file S003E04.edf part 34.\n",
            "Processing P7 channel of file S003E04.edf part 34.\n",
            "Processing O1 channel of file S003E04.edf part 34.\n",
            "Processing O2 channel of file S003E04.edf part 34.\n",
            "Processing P8 channel of file S003E04.edf part 34.\n",
            "Processing T8 channel of file S003E04.edf part 34.\n",
            "Processing FC6 channel of file S003E04.edf part 34.\n",
            "Processing F4 channel of file S003E04.edf part 34.\n",
            "Processing F8 channel of file S003E04.edf part 34.\n",
            "Processing AF4 channel of file S003E04.edf part 34.\n",
            "Processing AF3 channel of file S003E04.edf part 35.\n",
            "creating folder S003E04_35.\n",
            "creating folder S003E04_35.\n",
            "Processing F7 channel of file S003E04.edf part 35.\n",
            "Processing F3 channel of file S003E04.edf part 35.\n",
            "Processing FC5 channel of file S003E04.edf part 35.\n",
            "Processing T7 channel of file S003E04.edf part 35.\n",
            "Processing P7 channel of file S003E04.edf part 35.\n",
            "Processing O1 channel of file S003E04.edf part 35.\n",
            "Processing O2 channel of file S003E04.edf part 35.\n",
            "Processing P8 channel of file S003E04.edf part 35.\n",
            "Processing T8 channel of file S003E04.edf part 35.\n",
            "Processing FC6 channel of file S003E04.edf part 35.\n",
            "Processing F4 channel of file S003E04.edf part 35.\n",
            "Processing F8 channel of file S003E04.edf part 35.\n",
            "Processing AF4 channel of file S003E04.edf part 35.\n",
            "Extracting EDF parameters from /content/gdrive/My Drive/CSE 240/Project/Data/EEG/S004E01.edf...\n",
            "EDF file detected\n",
            "Setting channel info structure...\n",
            "Creating raw.info structure...\n",
            "Processing AF3 channel of file S004E01.edf part 0.\n",
            "creating folder S004E01_0.\n",
            "creating folder S004E01_0.\n",
            "Processing F7 channel of file S004E01.edf part 0.\n",
            "Processing F3 channel of file S004E01.edf part 0.\n",
            "Processing FC5 channel of file S004E01.edf part 0.\n",
            "Processing T7 channel of file S004E01.edf part 0.\n",
            "Processing P7 channel of file S004E01.edf part 0.\n",
            "Processing O1 channel of file S004E01.edf part 0.\n",
            "Processing O2 channel of file S004E01.edf part 0.\n",
            "Processing P8 channel of file S004E01.edf part 0.\n"
          ],
          "name": "stdout"
        },
        {
          "output_type": "stream",
          "text": [
            "/usr/local/lib/python3.6/dist-packages/ipykernel_launcher.py:69: RuntimeWarning: divide by zero encountered in log10\n"
          ],
          "name": "stderr"
        },
        {
          "output_type": "stream",
          "text": [
            "Processing T8 channel of file S004E01.edf part 0.\n",
            "Processing FC6 channel of file S004E01.edf part 0.\n",
            "Processing F4 channel of file S004E01.edf part 0.\n",
            "Processing F8 channel of file S004E01.edf part 0.\n",
            "Processing AF4 channel of file S004E01.edf part 0.\n",
            "Processing AF3 channel of file S004E01.edf part 1.\n",
            "creating folder S004E01_1.\n",
            "creating folder S004E01_1.\n",
            "Processing F7 channel of file S004E01.edf part 1.\n",
            "Processing F3 channel of file S004E01.edf part 1.\n",
            "Processing FC5 channel of file S004E01.edf part 1.\n",
            "Processing T7 channel of file S004E01.edf part 1.\n",
            "Processing P7 channel of file S004E01.edf part 1.\n",
            "Processing O1 channel of file S004E01.edf part 1.\n",
            "Processing O2 channel of file S004E01.edf part 1.\n",
            "Processing P8 channel of file S004E01.edf part 1.\n"
          ],
          "name": "stdout"
        },
        {
          "output_type": "stream",
          "text": [
            "/usr/local/lib/python3.6/dist-packages/ipykernel_launcher.py:69: RuntimeWarning: divide by zero encountered in log10\n"
          ],
          "name": "stderr"
        },
        {
          "output_type": "stream",
          "text": [
            "Processing T8 channel of file S004E01.edf part 1.\n",
            "Processing FC6 channel of file S004E01.edf part 1.\n",
            "Processing F4 channel of file S004E01.edf part 1.\n",
            "Processing F8 channel of file S004E01.edf part 1.\n",
            "Processing AF4 channel of file S004E01.edf part 1.\n",
            "Processing AF3 channel of file S004E01.edf part 2.\n",
            "creating folder S004E01_2.\n",
            "creating folder S004E01_2.\n",
            "Processing F7 channel of file S004E01.edf part 2.\n",
            "Processing F3 channel of file S004E01.edf part 2.\n",
            "Processing FC5 channel of file S004E01.edf part 2.\n",
            "Processing T7 channel of file S004E01.edf part 2.\n",
            "Processing P7 channel of file S004E01.edf part 2.\n",
            "Processing O1 channel of file S004E01.edf part 2.\n",
            "Processing O2 channel of file S004E01.edf part 2.\n",
            "Processing P8 channel of file S004E01.edf part 2.\n"
          ],
          "name": "stdout"
        },
        {
          "output_type": "stream",
          "text": [
            "/usr/local/lib/python3.6/dist-packages/ipykernel_launcher.py:69: RuntimeWarning: divide by zero encountered in log10\n"
          ],
          "name": "stderr"
        },
        {
          "output_type": "stream",
          "text": [
            "Processing T8 channel of file S004E01.edf part 2.\n",
            "Processing FC6 channel of file S004E01.edf part 2.\n",
            "Processing F4 channel of file S004E01.edf part 2.\n",
            "Processing F8 channel of file S004E01.edf part 2.\n",
            "Processing AF4 channel of file S004E01.edf part 2.\n",
            "Processing AF3 channel of file S004E01.edf part 3.\n",
            "creating folder S004E01_3.\n",
            "creating folder S004E01_3.\n",
            "Processing F7 channel of file S004E01.edf part 3.\n",
            "Processing F3 channel of file S004E01.edf part 3.\n",
            "Processing FC5 channel of file S004E01.edf part 3.\n",
            "Processing T7 channel of file S004E01.edf part 3.\n",
            "Processing P7 channel of file S004E01.edf part 3.\n",
            "Processing O1 channel of file S004E01.edf part 3.\n",
            "Processing O2 channel of file S004E01.edf part 3.\n",
            "Processing P8 channel of file S004E01.edf part 3.\n"
          ],
          "name": "stdout"
        },
        {
          "output_type": "stream",
          "text": [
            "/usr/local/lib/python3.6/dist-packages/ipykernel_launcher.py:69: RuntimeWarning: divide by zero encountered in log10\n"
          ],
          "name": "stderr"
        },
        {
          "output_type": "stream",
          "text": [
            "Processing T8 channel of file S004E01.edf part 3.\n",
            "Processing FC6 channel of file S004E01.edf part 3.\n",
            "Processing F4 channel of file S004E01.edf part 3.\n",
            "Processing F8 channel of file S004E01.edf part 3.\n",
            "Processing AF4 channel of file S004E01.edf part 3.\n",
            "Processing AF3 channel of file S004E01.edf part 4.\n",
            "creating folder S004E01_4.\n",
            "creating folder S004E01_4.\n",
            "Processing F7 channel of file S004E01.edf part 4.\n",
            "Processing F3 channel of file S004E01.edf part 4.\n",
            "Processing FC5 channel of file S004E01.edf part 4.\n",
            "Processing T7 channel of file S004E01.edf part 4.\n",
            "Processing P7 channel of file S004E01.edf part 4.\n",
            "Processing O1 channel of file S004E01.edf part 4.\n",
            "Processing O2 channel of file S004E01.edf part 4.\n",
            "Processing P8 channel of file S004E01.edf part 4.\n"
          ],
          "name": "stdout"
        },
        {
          "output_type": "stream",
          "text": [
            "/usr/local/lib/python3.6/dist-packages/ipykernel_launcher.py:69: RuntimeWarning: divide by zero encountered in log10\n"
          ],
          "name": "stderr"
        },
        {
          "output_type": "stream",
          "text": [
            "Processing T8 channel of file S004E01.edf part 4.\n",
            "Processing FC6 channel of file S004E01.edf part 4.\n",
            "Processing F4 channel of file S004E01.edf part 4.\n",
            "Processing F8 channel of file S004E01.edf part 4.\n",
            "Processing AF4 channel of file S004E01.edf part 4.\n",
            "Processing AF3 channel of file S004E01.edf part 5.\n",
            "creating folder S004E01_5.\n",
            "creating folder S004E01_5.\n",
            "Processing F7 channel of file S004E01.edf part 5.\n",
            "Processing F3 channel of file S004E01.edf part 5.\n",
            "Processing FC5 channel of file S004E01.edf part 5.\n",
            "Processing T7 channel of file S004E01.edf part 5.\n",
            "Processing P7 channel of file S004E01.edf part 5.\n",
            "Processing O1 channel of file S004E01.edf part 5.\n",
            "Processing O2 channel of file S004E01.edf part 5.\n",
            "Processing P8 channel of file S004E01.edf part 5.\n",
            "Processing T8 channel of file S004E01.edf part 5.\n"
          ],
          "name": "stdout"
        },
        {
          "output_type": "stream",
          "text": [
            "/usr/local/lib/python3.6/dist-packages/ipykernel_launcher.py:69: RuntimeWarning: divide by zero encountered in log10\n"
          ],
          "name": "stderr"
        },
        {
          "output_type": "stream",
          "text": [
            "Processing FC6 channel of file S004E01.edf part 5.\n",
            "Processing F4 channel of file S004E01.edf part 5.\n",
            "Processing F8 channel of file S004E01.edf part 5.\n",
            "Processing AF4 channel of file S004E01.edf part 5.\n",
            "Processing AF3 channel of file S004E01.edf part 6.\n",
            "creating folder S004E01_6.\n",
            "creating folder S004E01_6.\n",
            "Processing F7 channel of file S004E01.edf part 6.\n",
            "Processing F3 channel of file S004E01.edf part 6.\n",
            "Processing FC5 channel of file S004E01.edf part 6.\n",
            "Processing T7 channel of file S004E01.edf part 6.\n",
            "Processing P7 channel of file S004E01.edf part 6.\n",
            "Processing O1 channel of file S004E01.edf part 6.\n",
            "Processing O2 channel of file S004E01.edf part 6.\n",
            "Processing P8 channel of file S004E01.edf part 6.\n"
          ],
          "name": "stdout"
        },
        {
          "output_type": "stream",
          "text": [
            "/usr/local/lib/python3.6/dist-packages/ipykernel_launcher.py:69: RuntimeWarning: divide by zero encountered in log10\n"
          ],
          "name": "stderr"
        },
        {
          "output_type": "stream",
          "text": [
            "Processing T8 channel of file S004E01.edf part 6.\n",
            "Processing FC6 channel of file S004E01.edf part 6.\n",
            "Processing F4 channel of file S004E01.edf part 6.\n",
            "Processing F8 channel of file S004E01.edf part 6.\n",
            "Processing AF4 channel of file S004E01.edf part 6.\n",
            "Processing AF3 channel of file S004E01.edf part 7.\n",
            "creating folder S004E01_7.\n",
            "creating folder S004E01_7.\n",
            "Processing F7 channel of file S004E01.edf part 7.\n",
            "Processing F3 channel of file S004E01.edf part 7.\n",
            "Processing FC5 channel of file S004E01.edf part 7.\n",
            "Processing T7 channel of file S004E01.edf part 7.\n",
            "Processing P7 channel of file S004E01.edf part 7.\n",
            "Processing O1 channel of file S004E01.edf part 7.\n",
            "Processing O2 channel of file S004E01.edf part 7.\n",
            "Processing P8 channel of file S004E01.edf part 7.\n",
            "Processing T8 channel of file S004E01.edf part 7.\n"
          ],
          "name": "stdout"
        },
        {
          "output_type": "stream",
          "text": [
            "/usr/local/lib/python3.6/dist-packages/ipykernel_launcher.py:69: RuntimeWarning: divide by zero encountered in log10\n"
          ],
          "name": "stderr"
        },
        {
          "output_type": "stream",
          "text": [
            "Processing FC6 channel of file S004E01.edf part 7.\n",
            "Processing F4 channel of file S004E01.edf part 7.\n",
            "Processing F8 channel of file S004E01.edf part 7.\n",
            "Processing AF4 channel of file S004E01.edf part 7.\n",
            "Processing AF3 channel of file S004E01.edf part 8.\n",
            "creating folder S004E01_8.\n",
            "creating folder S004E01_8.\n",
            "Processing F7 channel of file S004E01.edf part 8.\n",
            "Processing F3 channel of file S004E01.edf part 8.\n",
            "Processing FC5 channel of file S004E01.edf part 8.\n",
            "Processing T7 channel of file S004E01.edf part 8.\n",
            "Processing P7 channel of file S004E01.edf part 8.\n",
            "Processing O1 channel of file S004E01.edf part 8.\n",
            "Processing O2 channel of file S004E01.edf part 8.\n",
            "Processing P8 channel of file S004E01.edf part 8.\n"
          ],
          "name": "stdout"
        },
        {
          "output_type": "stream",
          "text": [
            "/usr/local/lib/python3.6/dist-packages/ipykernel_launcher.py:69: RuntimeWarning: divide by zero encountered in log10\n"
          ],
          "name": "stderr"
        },
        {
          "output_type": "stream",
          "text": [
            "Processing T8 channel of file S004E01.edf part 8.\n",
            "Processing FC6 channel of file S004E01.edf part 8.\n",
            "Processing F4 channel of file S004E01.edf part 8.\n",
            "Processing F8 channel of file S004E01.edf part 8.\n",
            "Processing AF4 channel of file S004E01.edf part 8.\n",
            "Processing AF3 channel of file S004E01.edf part 9.\n",
            "creating folder S004E01_9.\n",
            "creating folder S004E01_9.\n",
            "Processing F7 channel of file S004E01.edf part 9.\n",
            "Processing F3 channel of file S004E01.edf part 9.\n",
            "Processing FC5 channel of file S004E01.edf part 9.\n",
            "Processing T7 channel of file S004E01.edf part 9.\n",
            "Processing P7 channel of file S004E01.edf part 9.\n",
            "Processing O1 channel of file S004E01.edf part 9.\n",
            "Processing O2 channel of file S004E01.edf part 9.\n",
            "Processing P8 channel of file S004E01.edf part 9.\n"
          ],
          "name": "stdout"
        },
        {
          "output_type": "stream",
          "text": [
            "/usr/local/lib/python3.6/dist-packages/ipykernel_launcher.py:69: RuntimeWarning: divide by zero encountered in log10\n"
          ],
          "name": "stderr"
        },
        {
          "output_type": "stream",
          "text": [
            "Processing T8 channel of file S004E01.edf part 9.\n",
            "Processing FC6 channel of file S004E01.edf part 9.\n",
            "Processing F4 channel of file S004E01.edf part 9.\n",
            "Processing F8 channel of file S004E01.edf part 9.\n",
            "Processing AF4 channel of file S004E01.edf part 9.\n",
            "Processing AF3 channel of file S004E01.edf part 10.\n",
            "creating folder S004E01_10.\n",
            "creating folder S004E01_10.\n",
            "Processing F7 channel of file S004E01.edf part 10.\n",
            "Processing F3 channel of file S004E01.edf part 10.\n",
            "Processing FC5 channel of file S004E01.edf part 10.\n",
            "Processing T7 channel of file S004E01.edf part 10.\n",
            "Processing P7 channel of file S004E01.edf part 10.\n",
            "Processing O1 channel of file S004E01.edf part 10.\n",
            "Processing O2 channel of file S004E01.edf part 10.\n",
            "Processing P8 channel of file S004E01.edf part 10.\n"
          ],
          "name": "stdout"
        },
        {
          "output_type": "stream",
          "text": [
            "/usr/local/lib/python3.6/dist-packages/ipykernel_launcher.py:69: RuntimeWarning: divide by zero encountered in log10\n"
          ],
          "name": "stderr"
        },
        {
          "output_type": "stream",
          "text": [
            "Processing T8 channel of file S004E01.edf part 10.\n",
            "Processing FC6 channel of file S004E01.edf part 10.\n",
            "Processing F4 channel of file S004E01.edf part 10.\n",
            "Processing F8 channel of file S004E01.edf part 10.\n",
            "Processing AF4 channel of file S004E01.edf part 10.\n",
            "Processing AF3 channel of file S004E01.edf part 11.\n",
            "creating folder S004E01_11.\n",
            "creating folder S004E01_11.\n",
            "Processing F7 channel of file S004E01.edf part 11.\n",
            "Processing F3 channel of file S004E01.edf part 11.\n",
            "Processing FC5 channel of file S004E01.edf part 11.\n",
            "Processing T7 channel of file S004E01.edf part 11.\n",
            "Processing P7 channel of file S004E01.edf part 11.\n",
            "Processing O1 channel of file S004E01.edf part 11.\n",
            "Processing O2 channel of file S004E01.edf part 11.\n",
            "Processing P8 channel of file S004E01.edf part 11.\n",
            "Processing T8 channel of file S004E01.edf part 11.\n"
          ],
          "name": "stdout"
        },
        {
          "output_type": "stream",
          "text": [
            "/usr/local/lib/python3.6/dist-packages/ipykernel_launcher.py:69: RuntimeWarning: divide by zero encountered in log10\n"
          ],
          "name": "stderr"
        },
        {
          "output_type": "stream",
          "text": [
            "Processing FC6 channel of file S004E01.edf part 11.\n",
            "Processing F4 channel of file S004E01.edf part 11.\n",
            "Processing F8 channel of file S004E01.edf part 11.\n",
            "Processing AF4 channel of file S004E01.edf part 11.\n",
            "Processing AF3 channel of file S004E01.edf part 12.\n",
            "creating folder S004E01_12.\n",
            "creating folder S004E01_12.\n",
            "Processing F7 channel of file S004E01.edf part 12.\n",
            "Processing F3 channel of file S004E01.edf part 12.\n",
            "Processing FC5 channel of file S004E01.edf part 12.\n",
            "Processing T7 channel of file S004E01.edf part 12.\n",
            "Processing P7 channel of file S004E01.edf part 12.\n",
            "Processing O1 channel of file S004E01.edf part 12.\n",
            "Processing O2 channel of file S004E01.edf part 12.\n",
            "Processing P8 channel of file S004E01.edf part 12.\n",
            "Processing T8 channel of file S004E01.edf part 12.\n"
          ],
          "name": "stdout"
        },
        {
          "output_type": "stream",
          "text": [
            "/usr/local/lib/python3.6/dist-packages/ipykernel_launcher.py:69: RuntimeWarning: divide by zero encountered in log10\n"
          ],
          "name": "stderr"
        },
        {
          "output_type": "stream",
          "text": [
            "Processing FC6 channel of file S004E01.edf part 12.\n",
            "Processing F4 channel of file S004E01.edf part 12.\n",
            "Processing F8 channel of file S004E01.edf part 12.\n",
            "Processing AF4 channel of file S004E01.edf part 12.\n",
            "Processing AF3 channel of file S004E01.edf part 13.\n",
            "creating folder S004E01_13.\n",
            "creating folder S004E01_13.\n",
            "Processing F7 channel of file S004E01.edf part 13.\n",
            "Processing F3 channel of file S004E01.edf part 13.\n",
            "Processing FC5 channel of file S004E01.edf part 13.\n",
            "Processing T7 channel of file S004E01.edf part 13.\n",
            "Processing P7 channel of file S004E01.edf part 13.\n",
            "Processing O1 channel of file S004E01.edf part 13.\n",
            "Processing O2 channel of file S004E01.edf part 13.\n",
            "Processing P8 channel of file S004E01.edf part 13.\n"
          ],
          "name": "stdout"
        },
        {
          "output_type": "stream",
          "text": [
            "/usr/local/lib/python3.6/dist-packages/ipykernel_launcher.py:69: RuntimeWarning: divide by zero encountered in log10\n"
          ],
          "name": "stderr"
        },
        {
          "output_type": "stream",
          "text": [
            "Processing T8 channel of file S004E01.edf part 13.\n",
            "Processing FC6 channel of file S004E01.edf part 13.\n",
            "Processing F4 channel of file S004E01.edf part 13.\n",
            "Processing F8 channel of file S004E01.edf part 13.\n",
            "Processing AF4 channel of file S004E01.edf part 13.\n",
            "Processing AF3 channel of file S004E01.edf part 14.\n",
            "creating folder S004E01_14.\n",
            "creating folder S004E01_14.\n",
            "Processing F7 channel of file S004E01.edf part 14.\n",
            "Processing F3 channel of file S004E01.edf part 14.\n",
            "Processing FC5 channel of file S004E01.edf part 14.\n",
            "Processing T7 channel of file S004E01.edf part 14.\n",
            "Processing P7 channel of file S004E01.edf part 14.\n",
            "Processing O1 channel of file S004E01.edf part 14.\n",
            "Processing O2 channel of file S004E01.edf part 14.\n",
            "Processing P8 channel of file S004E01.edf part 14.\n",
            "Processing T8 channel of file S004E01.edf part 14.\n"
          ],
          "name": "stdout"
        },
        {
          "output_type": "stream",
          "text": [
            "/usr/local/lib/python3.6/dist-packages/ipykernel_launcher.py:69: RuntimeWarning: divide by zero encountered in log10\n"
          ],
          "name": "stderr"
        },
        {
          "output_type": "stream",
          "text": [
            "Processing FC6 channel of file S004E01.edf part 14.\n",
            "Processing F4 channel of file S004E01.edf part 14.\n",
            "Processing F8 channel of file S004E01.edf part 14.\n",
            "Processing AF4 channel of file S004E01.edf part 14.\n",
            "Processing AF3 channel of file S004E01.edf part 15.\n",
            "creating folder S004E01_15.\n",
            "creating folder S004E01_15.\n",
            "Processing F7 channel of file S004E01.edf part 15.\n",
            "Processing F3 channel of file S004E01.edf part 15.\n",
            "Processing FC5 channel of file S004E01.edf part 15.\n",
            "Processing T7 channel of file S004E01.edf part 15.\n",
            "Processing P7 channel of file S004E01.edf part 15.\n",
            "Processing O1 channel of file S004E01.edf part 15.\n",
            "Processing O2 channel of file S004E01.edf part 15.\n",
            "Processing P8 channel of file S004E01.edf part 15.\n"
          ],
          "name": "stdout"
        },
        {
          "output_type": "stream",
          "text": [
            "/usr/local/lib/python3.6/dist-packages/ipykernel_launcher.py:69: RuntimeWarning: divide by zero encountered in log10\n"
          ],
          "name": "stderr"
        },
        {
          "output_type": "stream",
          "text": [
            "Processing T8 channel of file S004E01.edf part 15.\n",
            "Processing FC6 channel of file S004E01.edf part 15.\n",
            "Processing F4 channel of file S004E01.edf part 15.\n",
            "Processing F8 channel of file S004E01.edf part 15.\n",
            "Processing AF4 channel of file S004E01.edf part 15.\n",
            "Processing AF3 channel of file S004E01.edf part 16.\n",
            "creating folder S004E01_16.\n",
            "creating folder S004E01_16.\n",
            "Processing F7 channel of file S004E01.edf part 16.\n",
            "Processing F3 channel of file S004E01.edf part 16.\n",
            "Processing FC5 channel of file S004E01.edf part 16.\n",
            "Processing T7 channel of file S004E01.edf part 16.\n",
            "Processing P7 channel of file S004E01.edf part 16.\n",
            "Processing O1 channel of file S004E01.edf part 16.\n",
            "Processing O2 channel of file S004E01.edf part 16.\n",
            "Processing P8 channel of file S004E01.edf part 16.\n"
          ],
          "name": "stdout"
        },
        {
          "output_type": "stream",
          "text": [
            "/usr/local/lib/python3.6/dist-packages/ipykernel_launcher.py:69: RuntimeWarning: divide by zero encountered in log10\n"
          ],
          "name": "stderr"
        },
        {
          "output_type": "stream",
          "text": [
            "Processing T8 channel of file S004E01.edf part 16.\n",
            "Processing FC6 channel of file S004E01.edf part 16.\n",
            "Processing F4 channel of file S004E01.edf part 16.\n",
            "Processing F8 channel of file S004E01.edf part 16.\n",
            "Processing AF4 channel of file S004E01.edf part 16.\n",
            "Processing AF3 channel of file S004E01.edf part 17.\n",
            "creating folder S004E01_17.\n",
            "creating folder S004E01_17.\n",
            "Processing F7 channel of file S004E01.edf part 17.\n",
            "Processing F3 channel of file S004E01.edf part 17.\n",
            "Processing FC5 channel of file S004E01.edf part 17.\n",
            "Processing T7 channel of file S004E01.edf part 17.\n",
            "Processing P7 channel of file S004E01.edf part 17.\n",
            "Processing O1 channel of file S004E01.edf part 17.\n",
            "Processing O2 channel of file S004E01.edf part 17.\n",
            "Processing P8 channel of file S004E01.edf part 17.\n",
            "Processing T8 channel of file S004E01.edf part 17.\n"
          ],
          "name": "stdout"
        },
        {
          "output_type": "stream",
          "text": [
            "/usr/local/lib/python3.6/dist-packages/ipykernel_launcher.py:69: RuntimeWarning: divide by zero encountered in log10\n"
          ],
          "name": "stderr"
        },
        {
          "output_type": "stream",
          "text": [
            "Processing FC6 channel of file S004E01.edf part 17.\n",
            "Processing F4 channel of file S004E01.edf part 17.\n",
            "Processing F8 channel of file S004E01.edf part 17.\n",
            "Processing AF4 channel of file S004E01.edf part 17.\n",
            "Processing AF3 channel of file S004E01.edf part 18.\n",
            "creating folder S004E01_18.\n",
            "creating folder S004E01_18.\n",
            "Processing F7 channel of file S004E01.edf part 18.\n",
            "Processing F3 channel of file S004E01.edf part 18.\n",
            "Processing FC5 channel of file S004E01.edf part 18.\n",
            "Processing T7 channel of file S004E01.edf part 18.\n",
            "Processing P7 channel of file S004E01.edf part 18.\n",
            "Processing O1 channel of file S004E01.edf part 18.\n",
            "Processing O2 channel of file S004E01.edf part 18.\n",
            "Processing P8 channel of file S004E01.edf part 18.\n"
          ],
          "name": "stdout"
        },
        {
          "output_type": "stream",
          "text": [
            "/usr/local/lib/python3.6/dist-packages/ipykernel_launcher.py:69: RuntimeWarning: divide by zero encountered in log10\n"
          ],
          "name": "stderr"
        },
        {
          "output_type": "stream",
          "text": [
            "Processing T8 channel of file S004E01.edf part 18.\n",
            "Processing FC6 channel of file S004E01.edf part 18.\n",
            "Processing F4 channel of file S004E01.edf part 18.\n",
            "Processing F8 channel of file S004E01.edf part 18.\n",
            "Processing AF4 channel of file S004E01.edf part 18.\n",
            "Processing AF3 channel of file S004E01.edf part 19.\n",
            "creating folder S004E01_19.\n",
            "creating folder S004E01_19.\n",
            "Processing F7 channel of file S004E01.edf part 19.\n",
            "Processing F3 channel of file S004E01.edf part 19.\n",
            "Processing FC5 channel of file S004E01.edf part 19.\n",
            "Processing T7 channel of file S004E01.edf part 19.\n",
            "Processing P7 channel of file S004E01.edf part 19.\n",
            "Processing O1 channel of file S004E01.edf part 19.\n",
            "Processing O2 channel of file S004E01.edf part 19.\n",
            "Processing P8 channel of file S004E01.edf part 19.\n"
          ],
          "name": "stdout"
        },
        {
          "output_type": "stream",
          "text": [
            "/usr/local/lib/python3.6/dist-packages/ipykernel_launcher.py:69: RuntimeWarning: divide by zero encountered in log10\n"
          ],
          "name": "stderr"
        },
        {
          "output_type": "stream",
          "text": [
            "Processing T8 channel of file S004E01.edf part 19.\n",
            "Processing FC6 channel of file S004E01.edf part 19.\n",
            "Processing F4 channel of file S004E01.edf part 19.\n",
            "Processing F8 channel of file S004E01.edf part 19.\n",
            "Processing AF4 channel of file S004E01.edf part 19.\n",
            "Processing AF3 channel of file S004E01.edf part 20.\n",
            "creating folder S004E01_20.\n",
            "creating folder S004E01_20.\n",
            "Processing F7 channel of file S004E01.edf part 20.\n",
            "Processing F3 channel of file S004E01.edf part 20.\n",
            "Processing FC5 channel of file S004E01.edf part 20.\n",
            "Processing T7 channel of file S004E01.edf part 20.\n",
            "Processing P7 channel of file S004E01.edf part 20.\n",
            "Processing O1 channel of file S004E01.edf part 20.\n",
            "Processing O2 channel of file S004E01.edf part 20.\n",
            "Processing P8 channel of file S004E01.edf part 20.\n",
            "Processing T8 channel of file S004E01.edf part 20.\n"
          ],
          "name": "stdout"
        },
        {
          "output_type": "stream",
          "text": [
            "/usr/local/lib/python3.6/dist-packages/ipykernel_launcher.py:69: RuntimeWarning: divide by zero encountered in log10\n"
          ],
          "name": "stderr"
        },
        {
          "output_type": "stream",
          "text": [
            "Processing FC6 channel of file S004E01.edf part 20.\n",
            "Processing F4 channel of file S004E01.edf part 20.\n",
            "Processing F8 channel of file S004E01.edf part 20.\n",
            "Processing AF4 channel of file S004E01.edf part 20.\n",
            "Processing AF3 channel of file S004E01.edf part 21.\n",
            "creating folder S004E01_21.\n",
            "creating folder S004E01_21.\n",
            "Processing F7 channel of file S004E01.edf part 21.\n",
            "Processing F3 channel of file S004E01.edf part 21.\n",
            "Processing FC5 channel of file S004E01.edf part 21.\n",
            "Processing T7 channel of file S004E01.edf part 21.\n",
            "Processing P7 channel of file S004E01.edf part 21.\n",
            "Processing O1 channel of file S004E01.edf part 21.\n",
            "Processing O2 channel of file S004E01.edf part 21.\n",
            "Processing P8 channel of file S004E01.edf part 21.\n"
          ],
          "name": "stdout"
        },
        {
          "output_type": "stream",
          "text": [
            "/usr/local/lib/python3.6/dist-packages/ipykernel_launcher.py:69: RuntimeWarning: divide by zero encountered in log10\n"
          ],
          "name": "stderr"
        },
        {
          "output_type": "stream",
          "text": [
            "Processing T8 channel of file S004E01.edf part 21.\n",
            "Processing FC6 channel of file S004E01.edf part 21.\n",
            "Processing F4 channel of file S004E01.edf part 21.\n",
            "Processing F8 channel of file S004E01.edf part 21.\n",
            "Processing AF4 channel of file S004E01.edf part 21.\n",
            "Processing AF3 channel of file S004E01.edf part 22.\n",
            "creating folder S004E01_22.\n",
            "creating folder S004E01_22.\n",
            "Processing F7 channel of file S004E01.edf part 22.\n",
            "Processing F3 channel of file S004E01.edf part 22.\n",
            "Processing FC5 channel of file S004E01.edf part 22.\n",
            "Processing T7 channel of file S004E01.edf part 22.\n",
            "Processing P7 channel of file S004E01.edf part 22.\n",
            "Processing O1 channel of file S004E01.edf part 22.\n",
            "Processing O2 channel of file S004E01.edf part 22.\n",
            "Processing P8 channel of file S004E01.edf part 22.\n",
            "Processing T8 channel of file S004E01.edf part 22.\n",
            "Processing FC6 channel of file S004E01.edf part 22.\n",
            "Processing F4 channel of file S004E01.edf part 22.\n",
            "Processing F8 channel of file S004E01.edf part 22.\n",
            "Processing AF4 channel of file S004E01.edf part 22.\n",
            "Processing AF3 channel of file S004E01.edf part 23.\n",
            "creating folder S004E01_23.\n",
            "creating folder S004E01_23.\n",
            "Processing F7 channel of file S004E01.edf part 23.\n",
            "Processing F3 channel of file S004E01.edf part 23.\n",
            "Processing FC5 channel of file S004E01.edf part 23.\n",
            "Processing T7 channel of file S004E01.edf part 23.\n",
            "Processing P7 channel of file S004E01.edf part 23.\n",
            "Processing O1 channel of file S004E01.edf part 23.\n",
            "Processing O2 channel of file S004E01.edf part 23.\n",
            "Processing P8 channel of file S004E01.edf part 23.\n",
            "Processing T8 channel of file S004E01.edf part 23.\n",
            "Processing FC6 channel of file S004E01.edf part 23.\n",
            "Processing F4 channel of file S004E01.edf part 23.\n",
            "Processing F8 channel of file S004E01.edf part 23.\n",
            "Processing AF4 channel of file S004E01.edf part 23.\n",
            "Processing AF3 channel of file S004E01.edf part 24.\n",
            "creating folder S004E01_24.\n",
            "creating folder S004E01_24.\n",
            "Processing F7 channel of file S004E01.edf part 24.\n",
            "Processing F3 channel of file S004E01.edf part 24.\n",
            "Processing FC5 channel of file S004E01.edf part 24.\n",
            "Processing T7 channel of file S004E01.edf part 24.\n",
            "Processing P7 channel of file S004E01.edf part 24.\n",
            "Processing O1 channel of file S004E01.edf part 24.\n",
            "Processing O2 channel of file S004E01.edf part 24.\n",
            "Processing P8 channel of file S004E01.edf part 24.\n",
            "Processing T8 channel of file S004E01.edf part 24.\n",
            "Processing FC6 channel of file S004E01.edf part 24.\n",
            "Processing F4 channel of file S004E01.edf part 24.\n",
            "Processing F8 channel of file S004E01.edf part 24.\n",
            "Processing AF4 channel of file S004E01.edf part 24.\n",
            "Processing AF3 channel of file S004E01.edf part 25.\n",
            "creating folder S004E01_25.\n",
            "creating folder S004E01_25.\n",
            "Processing F7 channel of file S004E01.edf part 25.\n",
            "Processing F3 channel of file S004E01.edf part 25.\n",
            "Processing FC5 channel of file S004E01.edf part 25.\n",
            "Processing T7 channel of file S004E01.edf part 25.\n",
            "Processing P7 channel of file S004E01.edf part 25.\n",
            "Processing O1 channel of file S004E01.edf part 25.\n",
            "Processing O2 channel of file S004E01.edf part 25.\n",
            "Processing P8 channel of file S004E01.edf part 25.\n",
            "Processing T8 channel of file S004E01.edf part 25.\n",
            "Processing FC6 channel of file S004E01.edf part 25.\n",
            "Processing F4 channel of file S004E01.edf part 25.\n",
            "Processing F8 channel of file S004E01.edf part 25.\n",
            "Processing AF4 channel of file S004E01.edf part 25.\n",
            "Processing AF3 channel of file S004E01.edf part 26.\n",
            "creating folder S004E01_26.\n",
            "creating folder S004E01_26.\n",
            "Processing F7 channel of file S004E01.edf part 26.\n",
            "Processing F3 channel of file S004E01.edf part 26.\n",
            "Processing FC5 channel of file S004E01.edf part 26.\n",
            "Processing T7 channel of file S004E01.edf part 26.\n",
            "Processing P7 channel of file S004E01.edf part 26.\n",
            "Processing O1 channel of file S004E01.edf part 26.\n",
            "Processing O2 channel of file S004E01.edf part 26.\n",
            "Processing P8 channel of file S004E01.edf part 26.\n",
            "Processing T8 channel of file S004E01.edf part 26.\n",
            "Processing FC6 channel of file S004E01.edf part 26.\n",
            "Processing F4 channel of file S004E01.edf part 26.\n",
            "Processing F8 channel of file S004E01.edf part 26.\n",
            "Processing AF4 channel of file S004E01.edf part 26.\n",
            "Processing AF3 channel of file S004E01.edf part 27.\n",
            "creating folder S004E01_27.\n",
            "creating folder S004E01_27.\n",
            "Processing F7 channel of file S004E01.edf part 27.\n",
            "Processing F3 channel of file S004E01.edf part 27.\n",
            "Processing FC5 channel of file S004E01.edf part 27.\n",
            "Processing T7 channel of file S004E01.edf part 27.\n",
            "Processing P7 channel of file S004E01.edf part 27.\n",
            "Processing O1 channel of file S004E01.edf part 27.\n",
            "Processing O2 channel of file S004E01.edf part 27.\n",
            "Processing P8 channel of file S004E01.edf part 27.\n"
          ],
          "name": "stdout"
        },
        {
          "output_type": "stream",
          "text": [
            "/usr/local/lib/python3.6/dist-packages/ipykernel_launcher.py:69: RuntimeWarning: divide by zero encountered in log10\n"
          ],
          "name": "stderr"
        },
        {
          "output_type": "stream",
          "text": [
            "Processing T8 channel of file S004E01.edf part 27.\n",
            "Processing FC6 channel of file S004E01.edf part 27.\n",
            "Processing F4 channel of file S004E01.edf part 27.\n",
            "Processing F8 channel of file S004E01.edf part 27.\n",
            "Processing AF4 channel of file S004E01.edf part 27.\n",
            "Processing AF3 channel of file S004E01.edf part 28.\n",
            "creating folder S004E01_28.\n",
            "creating folder S004E01_28.\n",
            "Processing F7 channel of file S004E01.edf part 28.\n",
            "Processing F3 channel of file S004E01.edf part 28.\n",
            "Processing FC5 channel of file S004E01.edf part 28.\n",
            "Processing T7 channel of file S004E01.edf part 28.\n",
            "Processing P7 channel of file S004E01.edf part 28.\n",
            "Processing O1 channel of file S004E01.edf part 28.\n",
            "Processing O2 channel of file S004E01.edf part 28.\n",
            "Processing P8 channel of file S004E01.edf part 28.\n"
          ],
          "name": "stdout"
        },
        {
          "output_type": "stream",
          "text": [
            "/usr/local/lib/python3.6/dist-packages/ipykernel_launcher.py:69: RuntimeWarning: divide by zero encountered in log10\n"
          ],
          "name": "stderr"
        },
        {
          "output_type": "stream",
          "text": [
            "Processing T8 channel of file S004E01.edf part 28.\n",
            "Processing FC6 channel of file S004E01.edf part 28.\n",
            "Processing F4 channel of file S004E01.edf part 28.\n",
            "Processing F8 channel of file S004E01.edf part 28.\n",
            "Processing AF4 channel of file S004E01.edf part 28.\n",
            "Processing AF3 channel of file S004E01.edf part 29.\n",
            "creating folder S004E01_29.\n",
            "creating folder S004E01_29.\n",
            "Processing F7 channel of file S004E01.edf part 29.\n",
            "Processing F3 channel of file S004E01.edf part 29.\n",
            "Processing FC5 channel of file S004E01.edf part 29.\n",
            "Processing T7 channel of file S004E01.edf part 29.\n",
            "Processing P7 channel of file S004E01.edf part 29.\n",
            "Processing O1 channel of file S004E01.edf part 29.\n",
            "Processing O2 channel of file S004E01.edf part 29.\n",
            "Processing P8 channel of file S004E01.edf part 29.\n"
          ],
          "name": "stdout"
        },
        {
          "output_type": "stream",
          "text": [
            "/usr/local/lib/python3.6/dist-packages/ipykernel_launcher.py:69: RuntimeWarning: divide by zero encountered in log10\n"
          ],
          "name": "stderr"
        },
        {
          "output_type": "stream",
          "text": [
            "Processing T8 channel of file S004E01.edf part 29.\n",
            "Processing FC6 channel of file S004E01.edf part 29.\n",
            "Processing F4 channel of file S004E01.edf part 29.\n",
            "Processing F8 channel of file S004E01.edf part 29.\n",
            "Processing AF4 channel of file S004E01.edf part 29.\n",
            "Processing AF3 channel of file S004E01.edf part 30.\n",
            "creating folder S004E01_30.\n",
            "creating folder S004E01_30.\n",
            "Processing F7 channel of file S004E01.edf part 30.\n",
            "Processing F3 channel of file S004E01.edf part 30.\n",
            "Processing FC5 channel of file S004E01.edf part 30.\n",
            "Processing T7 channel of file S004E01.edf part 30.\n",
            "Processing P7 channel of file S004E01.edf part 30.\n",
            "Processing O1 channel of file S004E01.edf part 30.\n",
            "Processing O2 channel of file S004E01.edf part 30.\n",
            "Processing P8 channel of file S004E01.edf part 30.\n",
            "Processing T8 channel of file S004E01.edf part 30.\n"
          ],
          "name": "stdout"
        },
        {
          "output_type": "stream",
          "text": [
            "/usr/local/lib/python3.6/dist-packages/ipykernel_launcher.py:69: RuntimeWarning: divide by zero encountered in log10\n"
          ],
          "name": "stderr"
        },
        {
          "output_type": "stream",
          "text": [
            "Processing FC6 channel of file S004E01.edf part 30.\n",
            "Processing F4 channel of file S004E01.edf part 30.\n",
            "Processing F8 channel of file S004E01.edf part 30.\n",
            "Processing AF4 channel of file S004E01.edf part 30.\n",
            "Processing AF3 channel of file S004E01.edf part 31.\n",
            "creating folder S004E01_31.\n",
            "creating folder S004E01_31.\n",
            "Processing F7 channel of file S004E01.edf part 31.\n",
            "Processing F3 channel of file S004E01.edf part 31.\n",
            "Processing FC5 channel of file S004E01.edf part 31.\n",
            "Processing T7 channel of file S004E01.edf part 31.\n",
            "Processing P7 channel of file S004E01.edf part 31.\n",
            "Processing O1 channel of file S004E01.edf part 31.\n",
            "Processing O2 channel of file S004E01.edf part 31.\n",
            "Processing P8 channel of file S004E01.edf part 31.\n",
            "Processing T8 channel of file S004E01.edf part 31.\n"
          ],
          "name": "stdout"
        },
        {
          "output_type": "stream",
          "text": [
            "/usr/local/lib/python3.6/dist-packages/ipykernel_launcher.py:69: RuntimeWarning: divide by zero encountered in log10\n"
          ],
          "name": "stderr"
        },
        {
          "output_type": "stream",
          "text": [
            "Processing FC6 channel of file S004E01.edf part 31.\n",
            "Processing F4 channel of file S004E01.edf part 31.\n",
            "Processing F8 channel of file S004E01.edf part 31.\n",
            "Processing AF4 channel of file S004E01.edf part 31.\n",
            "Processing AF3 channel of file S004E01.edf part 32.\n",
            "creating folder S004E01_32.\n",
            "creating folder S004E01_32.\n",
            "Processing F7 channel of file S004E01.edf part 32.\n",
            "Processing F3 channel of file S004E01.edf part 32.\n",
            "Processing FC5 channel of file S004E01.edf part 32.\n",
            "Processing T7 channel of file S004E01.edf part 32.\n",
            "Processing P7 channel of file S004E01.edf part 32.\n",
            "Processing O1 channel of file S004E01.edf part 32.\n",
            "Processing O2 channel of file S004E01.edf part 32.\n",
            "Processing P8 channel of file S004E01.edf part 32.\n",
            "Processing T8 channel of file S004E01.edf part 32.\n",
            "Processing FC6 channel of file S004E01.edf part 32.\n",
            "Processing F4 channel of file S004E01.edf part 32.\n",
            "Processing F8 channel of file S004E01.edf part 32.\n",
            "Processing AF4 channel of file S004E01.edf part 32.\n",
            "Processing AF3 channel of file S004E01.edf part 33.\n",
            "creating folder S004E01_33.\n",
            "creating folder S004E01_33.\n",
            "Processing F7 channel of file S004E01.edf part 33.\n",
            "Processing F3 channel of file S004E01.edf part 33.\n",
            "Processing FC5 channel of file S004E01.edf part 33.\n",
            "Processing T7 channel of file S004E01.edf part 33.\n",
            "Processing P7 channel of file S004E01.edf part 33.\n",
            "Processing O1 channel of file S004E01.edf part 33.\n",
            "Processing O2 channel of file S004E01.edf part 33.\n",
            "Processing P8 channel of file S004E01.edf part 33.\n",
            "Processing T8 channel of file S004E01.edf part 33.\n",
            "Processing FC6 channel of file S004E01.edf part 33.\n",
            "Processing F4 channel of file S004E01.edf part 33.\n",
            "Processing F8 channel of file S004E01.edf part 33.\n",
            "Processing AF4 channel of file S004E01.edf part 33.\n",
            "Processing AF3 channel of file S004E01.edf part 34.\n",
            "creating folder S004E01_34.\n",
            "creating folder S004E01_34.\n",
            "Processing F7 channel of file S004E01.edf part 34.\n",
            "Processing F3 channel of file S004E01.edf part 34.\n",
            "Processing FC5 channel of file S004E01.edf part 34.\n",
            "Processing T7 channel of file S004E01.edf part 34.\n",
            "Processing P7 channel of file S004E01.edf part 34.\n",
            "Processing O1 channel of file S004E01.edf part 34.\n",
            "Processing O2 channel of file S004E01.edf part 34.\n",
            "Processing P8 channel of file S004E01.edf part 34.\n",
            "Processing T8 channel of file S004E01.edf part 34.\n",
            "Processing FC6 channel of file S004E01.edf part 34.\n",
            "Processing F4 channel of file S004E01.edf part 34.\n",
            "Processing F8 channel of file S004E01.edf part 34.\n",
            "Processing AF4 channel of file S004E01.edf part 34.\n",
            "Processing AF3 channel of file S004E01.edf part 35.\n",
            "creating folder S004E01_35.\n",
            "creating folder S004E01_35.\n",
            "Processing F7 channel of file S004E01.edf part 35.\n",
            "Processing F3 channel of file S004E01.edf part 35.\n",
            "Processing FC5 channel of file S004E01.edf part 35.\n",
            "Processing T7 channel of file S004E01.edf part 35.\n",
            "Processing P7 channel of file S004E01.edf part 35.\n",
            "Processing O1 channel of file S004E01.edf part 35.\n",
            "Processing O2 channel of file S004E01.edf part 35.\n",
            "Processing P8 channel of file S004E01.edf part 35.\n",
            "Processing T8 channel of file S004E01.edf part 35.\n",
            "Processing FC6 channel of file S004E01.edf part 35.\n",
            "Processing F4 channel of file S004E01.edf part 35.\n",
            "Processing F8 channel of file S004E01.edf part 35.\n",
            "Processing AF4 channel of file S004E01.edf part 35.\n",
            "Extracting EDF parameters from /content/gdrive/My Drive/CSE 240/Project/Data/EEG/S004E02.edf...\n",
            "EDF file detected\n",
            "Setting channel info structure...\n",
            "Creating raw.info structure...\n",
            "Processing AF3 channel of file S004E02.edf part 0.\n",
            "creating folder S004E02_0.\n",
            "creating folder S004E02_0.\n",
            "Processing F7 channel of file S004E02.edf part 0.\n",
            "Processing F3 channel of file S004E02.edf part 0.\n",
            "Processing FC5 channel of file S004E02.edf part 0.\n",
            "Processing T7 channel of file S004E02.edf part 0.\n",
            "Processing P7 channel of file S004E02.edf part 0.\n",
            "Processing O1 channel of file S004E02.edf part 0.\n",
            "Processing O2 channel of file S004E02.edf part 0.\n",
            "Processing P8 channel of file S004E02.edf part 0.\n"
          ],
          "name": "stdout"
        },
        {
          "output_type": "stream",
          "text": [
            "/usr/local/lib/python3.6/dist-packages/ipykernel_launcher.py:69: RuntimeWarning: divide by zero encountered in log10\n"
          ],
          "name": "stderr"
        },
        {
          "output_type": "stream",
          "text": [
            "Processing T8 channel of file S004E02.edf part 0.\n",
            "Processing FC6 channel of file S004E02.edf part 0.\n",
            "Processing F4 channel of file S004E02.edf part 0.\n",
            "Processing F8 channel of file S004E02.edf part 0.\n",
            "Processing AF4 channel of file S004E02.edf part 0.\n",
            "Processing AF3 channel of file S004E02.edf part 1.\n",
            "creating folder S004E02_1.\n",
            "creating folder S004E02_1.\n",
            "Processing F7 channel of file S004E02.edf part 1.\n",
            "Processing F3 channel of file S004E02.edf part 1.\n",
            "Processing FC5 channel of file S004E02.edf part 1.\n",
            "Processing T7 channel of file S004E02.edf part 1.\n",
            "Processing P7 channel of file S004E02.edf part 1.\n",
            "Processing O1 channel of file S004E02.edf part 1.\n",
            "Processing O2 channel of file S004E02.edf part 1.\n",
            "Processing P8 channel of file S004E02.edf part 1.\n",
            "Processing T8 channel of file S004E02.edf part 1.\n",
            "Processing FC6 channel of file S004E02.edf part 1.\n",
            "Processing F4 channel of file S004E02.edf part 1.\n",
            "Processing F8 channel of file S004E02.edf part 1.\n",
            "Processing AF4 channel of file S004E02.edf part 1.\n",
            "Processing AF3 channel of file S004E02.edf part 2.\n",
            "creating folder S004E02_2.\n",
            "creating folder S004E02_2.\n",
            "Processing F7 channel of file S004E02.edf part 2.\n",
            "Processing F3 channel of file S004E02.edf part 2.\n",
            "Processing FC5 channel of file S004E02.edf part 2.\n",
            "Processing T7 channel of file S004E02.edf part 2.\n",
            "Processing P7 channel of file S004E02.edf part 2.\n",
            "Processing O1 channel of file S004E02.edf part 2.\n",
            "Processing O2 channel of file S004E02.edf part 2.\n",
            "Processing P8 channel of file S004E02.edf part 2.\n"
          ],
          "name": "stdout"
        },
        {
          "output_type": "stream",
          "text": [
            "/usr/local/lib/python3.6/dist-packages/ipykernel_launcher.py:69: RuntimeWarning: divide by zero encountered in log10\n"
          ],
          "name": "stderr"
        },
        {
          "output_type": "stream",
          "text": [
            "Processing T8 channel of file S004E02.edf part 2.\n",
            "Processing FC6 channel of file S004E02.edf part 2.\n",
            "Processing F4 channel of file S004E02.edf part 2.\n",
            "Processing F8 channel of file S004E02.edf part 2.\n",
            "Processing AF4 channel of file S004E02.edf part 2.\n",
            "Processing AF3 channel of file S004E02.edf part 3.\n",
            "creating folder S004E02_3.\n",
            "creating folder S004E02_3.\n",
            "Processing F7 channel of file S004E02.edf part 3.\n",
            "Processing F3 channel of file S004E02.edf part 3.\n",
            "Processing FC5 channel of file S004E02.edf part 3.\n",
            "Processing T7 channel of file S004E02.edf part 3.\n",
            "Processing P7 channel of file S004E02.edf part 3.\n",
            "Processing O1 channel of file S004E02.edf part 3.\n",
            "Processing O2 channel of file S004E02.edf part 3.\n",
            "Processing P8 channel of file S004E02.edf part 3.\n",
            "Processing T8 channel of file S004E02.edf part 3.\n"
          ],
          "name": "stdout"
        },
        {
          "output_type": "stream",
          "text": [
            "/usr/local/lib/python3.6/dist-packages/ipykernel_launcher.py:69: RuntimeWarning: divide by zero encountered in log10\n"
          ],
          "name": "stderr"
        },
        {
          "output_type": "stream",
          "text": [
            "Processing FC6 channel of file S004E02.edf part 3.\n",
            "Processing F4 channel of file S004E02.edf part 3.\n",
            "Processing F8 channel of file S004E02.edf part 3.\n",
            "Processing AF4 channel of file S004E02.edf part 3.\n",
            "Processing AF3 channel of file S004E02.edf part 4.\n",
            "creating folder S004E02_4.\n",
            "creating folder S004E02_4.\n",
            "Processing F7 channel of file S004E02.edf part 4.\n",
            "Processing F3 channel of file S004E02.edf part 4.\n",
            "Processing FC5 channel of file S004E02.edf part 4.\n",
            "Processing T7 channel of file S004E02.edf part 4.\n",
            "Processing P7 channel of file S004E02.edf part 4.\n",
            "Processing O1 channel of file S004E02.edf part 4.\n",
            "Processing O2 channel of file S004E02.edf part 4.\n",
            "Processing P8 channel of file S004E02.edf part 4.\n",
            "Processing T8 channel of file S004E02.edf part 4.\n"
          ],
          "name": "stdout"
        },
        {
          "output_type": "stream",
          "text": [
            "/usr/local/lib/python3.6/dist-packages/ipykernel_launcher.py:69: RuntimeWarning: divide by zero encountered in log10\n"
          ],
          "name": "stderr"
        },
        {
          "output_type": "stream",
          "text": [
            "Processing FC6 channel of file S004E02.edf part 4.\n",
            "Processing F4 channel of file S004E02.edf part 4.\n",
            "Processing F8 channel of file S004E02.edf part 4.\n",
            "Processing AF4 channel of file S004E02.edf part 4.\n",
            "Processing AF3 channel of file S004E02.edf part 5.\n",
            "creating folder S004E02_5.\n",
            "creating folder S004E02_5.\n",
            "Processing F7 channel of file S004E02.edf part 5.\n",
            "Processing F3 channel of file S004E02.edf part 5.\n",
            "Processing FC5 channel of file S004E02.edf part 5.\n",
            "Processing T7 channel of file S004E02.edf part 5.\n",
            "Processing P7 channel of file S004E02.edf part 5.\n",
            "Processing O1 channel of file S004E02.edf part 5.\n",
            "Processing O2 channel of file S004E02.edf part 5.\n",
            "Processing P8 channel of file S004E02.edf part 5.\n",
            "Processing T8 channel of file S004E02.edf part 5.\n",
            "Processing FC6 channel of file S004E02.edf part 5.\n",
            "Processing F4 channel of file S004E02.edf part 5.\n",
            "Processing F8 channel of file S004E02.edf part 5.\n",
            "Processing AF4 channel of file S004E02.edf part 5.\n",
            "Processing AF3 channel of file S004E02.edf part 6.\n",
            "creating folder S004E02_6.\n",
            "creating folder S004E02_6.\n",
            "Processing F7 channel of file S004E02.edf part 6.\n",
            "Processing F3 channel of file S004E02.edf part 6.\n",
            "Processing FC5 channel of file S004E02.edf part 6.\n",
            "Processing T7 channel of file S004E02.edf part 6.\n",
            "Processing P7 channel of file S004E02.edf part 6.\n",
            "Processing O1 channel of file S004E02.edf part 6.\n",
            "Processing O2 channel of file S004E02.edf part 6.\n",
            "Processing P8 channel of file S004E02.edf part 6.\n",
            "Processing T8 channel of file S004E02.edf part 6.\n",
            "Processing FC6 channel of file S004E02.edf part 6.\n",
            "Processing F4 channel of file S004E02.edf part 6.\n",
            "Processing F8 channel of file S004E02.edf part 6.\n",
            "Processing AF4 channel of file S004E02.edf part 6.\n",
            "Processing AF3 channel of file S004E02.edf part 7.\n",
            "creating folder S004E02_7.\n",
            "creating folder S004E02_7.\n",
            "Processing F7 channel of file S004E02.edf part 7.\n",
            "Processing F3 channel of file S004E02.edf part 7.\n",
            "Processing FC5 channel of file S004E02.edf part 7.\n",
            "Processing T7 channel of file S004E02.edf part 7.\n",
            "Processing P7 channel of file S004E02.edf part 7.\n",
            "Processing O1 channel of file S004E02.edf part 7.\n",
            "Processing O2 channel of file S004E02.edf part 7.\n",
            "Processing P8 channel of file S004E02.edf part 7.\n",
            "Processing T8 channel of file S004E02.edf part 7.\n",
            "Processing FC6 channel of file S004E02.edf part 7.\n",
            "Processing F4 channel of file S004E02.edf part 7.\n",
            "Processing F8 channel of file S004E02.edf part 7.\n",
            "Processing AF4 channel of file S004E02.edf part 7.\n",
            "Processing AF3 channel of file S004E02.edf part 8.\n",
            "creating folder S004E02_8.\n",
            "creating folder S004E02_8.\n",
            "Processing F7 channel of file S004E02.edf part 8.\n",
            "Processing F3 channel of file S004E02.edf part 8.\n",
            "Processing FC5 channel of file S004E02.edf part 8.\n",
            "Processing T7 channel of file S004E02.edf part 8.\n",
            "Processing P7 channel of file S004E02.edf part 8.\n",
            "Processing O1 channel of file S004E02.edf part 8.\n",
            "Processing O2 channel of file S004E02.edf part 8.\n",
            "Processing P8 channel of file S004E02.edf part 8.\n",
            "Processing T8 channel of file S004E02.edf part 8.\n",
            "Processing FC6 channel of file S004E02.edf part 8.\n",
            "Processing F4 channel of file S004E02.edf part 8.\n",
            "Processing F8 channel of file S004E02.edf part 8.\n",
            "Processing AF4 channel of file S004E02.edf part 8.\n",
            "Processing AF3 channel of file S004E02.edf part 9.\n",
            "creating folder S004E02_9.\n",
            "creating folder S004E02_9.\n",
            "Processing F7 channel of file S004E02.edf part 9.\n",
            "Processing F3 channel of file S004E02.edf part 9.\n",
            "Processing FC5 channel of file S004E02.edf part 9.\n",
            "Processing T7 channel of file S004E02.edf part 9.\n",
            "Processing P7 channel of file S004E02.edf part 9.\n",
            "Processing O1 channel of file S004E02.edf part 9.\n",
            "Processing O2 channel of file S004E02.edf part 9.\n",
            "Processing P8 channel of file S004E02.edf part 9.\n",
            "Processing T8 channel of file S004E02.edf part 9.\n",
            "Processing FC6 channel of file S004E02.edf part 9.\n",
            "Processing F4 channel of file S004E02.edf part 9.\n",
            "Processing F8 channel of file S004E02.edf part 9.\n",
            "Processing AF4 channel of file S004E02.edf part 9.\n",
            "Processing AF3 channel of file S004E02.edf part 10.\n",
            "creating folder S004E02_10.\n",
            "creating folder S004E02_10.\n",
            "Processing F7 channel of file S004E02.edf part 10.\n",
            "Processing F3 channel of file S004E02.edf part 10.\n",
            "Processing FC5 channel of file S004E02.edf part 10.\n",
            "Processing T7 channel of file S004E02.edf part 10.\n",
            "Processing P7 channel of file S004E02.edf part 10.\n",
            "Processing O1 channel of file S004E02.edf part 10.\n",
            "Processing O2 channel of file S004E02.edf part 10.\n",
            "Processing P8 channel of file S004E02.edf part 10.\n",
            "Processing T8 channel of file S004E02.edf part 10.\n",
            "Processing FC6 channel of file S004E02.edf part 10.\n",
            "Processing F4 channel of file S004E02.edf part 10.\n",
            "Processing F8 channel of file S004E02.edf part 10.\n",
            "Processing AF4 channel of file S004E02.edf part 10.\n",
            "Processing AF3 channel of file S004E02.edf part 11.\n",
            "creating folder S004E02_11.\n",
            "creating folder S004E02_11.\n",
            "Processing F7 channel of file S004E02.edf part 11.\n",
            "Processing F3 channel of file S004E02.edf part 11.\n",
            "Processing FC5 channel of file S004E02.edf part 11.\n",
            "Processing T7 channel of file S004E02.edf part 11.\n",
            "Processing P7 channel of file S004E02.edf part 11.\n",
            "Processing O1 channel of file S004E02.edf part 11.\n",
            "Processing O2 channel of file S004E02.edf part 11.\n",
            "Processing P8 channel of file S004E02.edf part 11.\n",
            "Processing T8 channel of file S004E02.edf part 11.\n"
          ],
          "name": "stdout"
        },
        {
          "output_type": "stream",
          "text": [
            "/usr/local/lib/python3.6/dist-packages/ipykernel_launcher.py:69: RuntimeWarning: divide by zero encountered in log10\n"
          ],
          "name": "stderr"
        },
        {
          "output_type": "stream",
          "text": [
            "Processing FC6 channel of file S004E02.edf part 11.\n",
            "Processing F4 channel of file S004E02.edf part 11.\n",
            "Processing F8 channel of file S004E02.edf part 11.\n",
            "Processing AF4 channel of file S004E02.edf part 11.\n",
            "Processing AF3 channel of file S004E02.edf part 12.\n",
            "creating folder S004E02_12.\n",
            "creating folder S004E02_12.\n",
            "Processing F7 channel of file S004E02.edf part 12.\n",
            "Processing F3 channel of file S004E02.edf part 12.\n",
            "Processing FC5 channel of file S004E02.edf part 12.\n",
            "Processing T7 channel of file S004E02.edf part 12.\n",
            "Processing P7 channel of file S004E02.edf part 12.\n",
            "Processing O1 channel of file S004E02.edf part 12.\n",
            "Processing O2 channel of file S004E02.edf part 12.\n",
            "Processing P8 channel of file S004E02.edf part 12.\n",
            "Processing T8 channel of file S004E02.edf part 12.\n"
          ],
          "name": "stdout"
        },
        {
          "output_type": "stream",
          "text": [
            "/usr/local/lib/python3.6/dist-packages/ipykernel_launcher.py:69: RuntimeWarning: divide by zero encountered in log10\n"
          ],
          "name": "stderr"
        },
        {
          "output_type": "stream",
          "text": [
            "Processing FC6 channel of file S004E02.edf part 12.\n",
            "Processing F4 channel of file S004E02.edf part 12.\n",
            "Processing F8 channel of file S004E02.edf part 12.\n",
            "Processing AF4 channel of file S004E02.edf part 12.\n",
            "Processing AF3 channel of file S004E02.edf part 13.\n",
            "creating folder S004E02_13.\n",
            "creating folder S004E02_13.\n",
            "Processing F7 channel of file S004E02.edf part 13.\n",
            "Processing F3 channel of file S004E02.edf part 13.\n",
            "Processing FC5 channel of file S004E02.edf part 13.\n",
            "Processing T7 channel of file S004E02.edf part 13.\n",
            "Processing P7 channel of file S004E02.edf part 13.\n",
            "Processing O1 channel of file S004E02.edf part 13.\n",
            "Processing O2 channel of file S004E02.edf part 13.\n",
            "Processing P8 channel of file S004E02.edf part 13.\n",
            "Processing T8 channel of file S004E02.edf part 13.\n"
          ],
          "name": "stdout"
        },
        {
          "output_type": "stream",
          "text": [
            "/usr/local/lib/python3.6/dist-packages/ipykernel_launcher.py:69: RuntimeWarning: divide by zero encountered in log10\n"
          ],
          "name": "stderr"
        },
        {
          "output_type": "stream",
          "text": [
            "Processing FC6 channel of file S004E02.edf part 13.\n",
            "Processing F4 channel of file S004E02.edf part 13.\n",
            "Processing F8 channel of file S004E02.edf part 13.\n",
            "Processing AF4 channel of file S004E02.edf part 13.\n",
            "Processing AF3 channel of file S004E02.edf part 14.\n",
            "creating folder S004E02_14.\n",
            "creating folder S004E02_14.\n",
            "Processing F7 channel of file S004E02.edf part 14.\n",
            "Processing F3 channel of file S004E02.edf part 14.\n",
            "Processing FC5 channel of file S004E02.edf part 14.\n",
            "Processing T7 channel of file S004E02.edf part 14.\n",
            "Processing P7 channel of file S004E02.edf part 14.\n",
            "Processing O1 channel of file S004E02.edf part 14.\n",
            "Processing O2 channel of file S004E02.edf part 14.\n",
            "Processing P8 channel of file S004E02.edf part 14.\n",
            "Processing T8 channel of file S004E02.edf part 14.\n"
          ],
          "name": "stdout"
        },
        {
          "output_type": "stream",
          "text": [
            "/usr/local/lib/python3.6/dist-packages/ipykernel_launcher.py:69: RuntimeWarning: divide by zero encountered in log10\n"
          ],
          "name": "stderr"
        },
        {
          "output_type": "stream",
          "text": [
            "Processing FC6 channel of file S004E02.edf part 14.\n",
            "Processing F4 channel of file S004E02.edf part 14.\n",
            "Processing F8 channel of file S004E02.edf part 14.\n",
            "Processing AF4 channel of file S004E02.edf part 14.\n",
            "Processing AF3 channel of file S004E02.edf part 15.\n",
            "creating folder S004E02_15.\n",
            "creating folder S004E02_15.\n",
            "Processing F7 channel of file S004E02.edf part 15.\n",
            "Processing F3 channel of file S004E02.edf part 15.\n",
            "Processing FC5 channel of file S004E02.edf part 15.\n",
            "Processing T7 channel of file S004E02.edf part 15.\n",
            "Processing P7 channel of file S004E02.edf part 15.\n",
            "Processing O1 channel of file S004E02.edf part 15.\n",
            "Processing O2 channel of file S004E02.edf part 15.\n",
            "Processing P8 channel of file S004E02.edf part 15.\n",
            "Processing T8 channel of file S004E02.edf part 15.\n"
          ],
          "name": "stdout"
        },
        {
          "output_type": "stream",
          "text": [
            "/usr/local/lib/python3.6/dist-packages/ipykernel_launcher.py:69: RuntimeWarning: divide by zero encountered in log10\n"
          ],
          "name": "stderr"
        },
        {
          "output_type": "stream",
          "text": [
            "Processing FC6 channel of file S004E02.edf part 15.\n",
            "Processing F4 channel of file S004E02.edf part 15.\n",
            "Processing F8 channel of file S004E02.edf part 15.\n",
            "Processing AF4 channel of file S004E02.edf part 15.\n",
            "Processing AF3 channel of file S004E02.edf part 16.\n",
            "creating folder S004E02_16.\n",
            "creating folder S004E02_16.\n",
            "Processing F7 channel of file S004E02.edf part 16.\n",
            "Processing F3 channel of file S004E02.edf part 16.\n",
            "Processing FC5 channel of file S004E02.edf part 16.\n",
            "Processing T7 channel of file S004E02.edf part 16.\n",
            "Processing P7 channel of file S004E02.edf part 16.\n",
            "Processing O1 channel of file S004E02.edf part 16.\n",
            "Processing O2 channel of file S004E02.edf part 16.\n",
            "Processing P8 channel of file S004E02.edf part 16.\n"
          ],
          "name": "stdout"
        },
        {
          "output_type": "stream",
          "text": [
            "ERROR:root:Internal Python error in the inspect module.\n",
            "Below is the traceback from this internal error.\n",
            "\n"
          ],
          "name": "stderr"
        },
        {
          "output_type": "stream",
          "text": [
            "Traceback (most recent call last):\n",
            "  File \"/usr/local/lib/python3.6/dist-packages/IPython/core/interactiveshell.py\", line 2882, in run_code\n",
            "    exec(code_obj, self.user_global_ns, self.user_ns)\n",
            "  File \"<ipython-input-9-0387420c57ef>\", line 51, in <module>\n",
            "    fig.savefig(new_file_path)   # save the figure to file\n",
            "  File \"/usr/local/lib/python3.6/dist-packages/matplotlib/figure.py\", line 2180, in savefig\n",
            "    self.canvas.print_figure(fname, **kwargs)\n",
            "  File \"/usr/local/lib/python3.6/dist-packages/matplotlib/backend_bases.py\", line 2091, in print_figure\n",
            "    **kwargs)\n",
            "  File \"/usr/local/lib/python3.6/dist-packages/matplotlib/backends/backend_agg.py\", line 527, in print_png\n",
            "    FigureCanvasAgg.draw(self)\n",
            "  File \"/usr/local/lib/python3.6/dist-packages/matplotlib/backends/backend_agg.py\", line 388, in draw\n",
            "    self.figure.draw(self.renderer)\n",
            "  File \"/usr/local/lib/python3.6/dist-packages/matplotlib/artist.py\", line 38, in draw_wrapper\n",
            "    return draw(artist, renderer, *args, **kwargs)\n",
            "  File \"/usr/local/lib/python3.6/dist-packages/matplotlib/figure.py\", line 1709, in draw\n",
            "    renderer, self, artists, self.suppressComposite)\n",
            "  File \"/usr/local/lib/python3.6/dist-packages/matplotlib/image.py\", line 135, in _draw_list_compositing_images\n",
            "    a.draw(renderer)\n",
            "  File \"/usr/local/lib/python3.6/dist-packages/matplotlib/artist.py\", line 38, in draw_wrapper\n",
            "    return draw(artist, renderer, *args, **kwargs)\n",
            "  File \"/usr/local/lib/python3.6/dist-packages/matplotlib/axes/_base.py\", line 2647, in draw\n",
            "    mimage._draw_list_compositing_images(renderer, self, artists)\n",
            "  File \"/usr/local/lib/python3.6/dist-packages/matplotlib/image.py\", line 135, in _draw_list_compositing_images\n",
            "    a.draw(renderer)\n",
            "  File \"/usr/local/lib/python3.6/dist-packages/matplotlib/artist.py\", line 38, in draw_wrapper\n",
            "    return draw(artist, renderer, *args, **kwargs)\n",
            "  File \"/usr/local/lib/python3.6/dist-packages/matplotlib/axis.py\", line 1208, in draw\n",
            "    tick.draw(renderer)\n",
            "  File \"/usr/local/lib/python3.6/dist-packages/matplotlib/artist.py\", line 38, in draw_wrapper\n",
            "    return draw(artist, renderer, *args, **kwargs)\n",
            "  File \"/usr/local/lib/python3.6/dist-packages/matplotlib/axis.py\", line 297, in draw\n",
            "    artist.draw(renderer)\n",
            "  File \"/usr/local/lib/python3.6/dist-packages/matplotlib/artist.py\", line 38, in draw_wrapper\n",
            "    return draw(artist, renderer, *args, **kwargs)\n",
            "  File \"/usr/local/lib/python3.6/dist-packages/matplotlib/text.py\", line 718, in draw\n",
            "    ismath=ismath, mtext=mtext)\n",
            "  File \"/usr/local/lib/python3.6/dist-packages/matplotlib/backends/backend_agg.py\", line 191, in draw_text\n",
            "    font, np.round(x - xd + xo), np.round(y + yd + yo) + 1, angle, gc)\n",
            "  File \"<__array_function__ internals>\", line 6, in round_\n",
            "  File \"/usr/local/lib/python3.6/dist-packages/numpy/core/fromnumeric.py\", line 3512, in round_\n",
            "    @array_function_dispatch(_around_dispatcher)\n",
            "KeyboardInterrupt\n",
            "\n",
            "During handling of the above exception, another exception occurred:\n",
            "\n",
            "Traceback (most recent call last):\n",
            "  File \"/usr/local/lib/python3.6/dist-packages/IPython/core/interactiveshell.py\", line 1823, in showtraceback\n",
            "    stb = value._render_traceback_()\n",
            "AttributeError: 'KeyboardInterrupt' object has no attribute '_render_traceback_'\n",
            "\n",
            "During handling of the above exception, another exception occurred:\n",
            "\n",
            "Traceback (most recent call last):\n",
            "  File \"/usr/lib/python3.6/genericpath.py\", line 19, in exists\n",
            "    os.stat(path)\n",
            "FileNotFoundError: [Errno 2] No such file or directory: '<ipython-input-9-0387420c57ef>'\n",
            "\n",
            "During handling of the above exception, another exception occurred:\n",
            "\n",
            "Traceback (most recent call last):\n",
            "  File \"/usr/local/lib/python3.6/dist-packages/IPython/core/ultratb.py\", line 1132, in get_records\n",
            "    return _fixed_getinnerframes(etb, number_of_lines_of_context, tb_offset)\n",
            "  File \"/usr/local/lib/python3.6/dist-packages/IPython/core/ultratb.py\", line 313, in wrapped\n",
            "    return f(*args, **kwargs)\n",
            "  File \"/usr/local/lib/python3.6/dist-packages/IPython/core/ultratb.py\", line 358, in _fixed_getinnerframes\n",
            "    records = fix_frame_records_filenames(inspect.getinnerframes(etb, context))\n",
            "  File \"/usr/lib/python3.6/inspect.py\", line 1490, in getinnerframes\n",
            "    frameinfo = (tb.tb_frame,) + getframeinfo(tb, context)\n",
            "  File \"/usr/lib/python3.6/inspect.py\", line 1448, in getframeinfo\n",
            "    filename = getsourcefile(frame) or getfile(frame)\n",
            "  File \"/usr/lib/python3.6/inspect.py\", line 693, in getsourcefile\n",
            "    if os.path.exists(filename):\n",
            "  File \"/usr/lib/python3.6/genericpath.py\", line 19, in exists\n",
            "    os.stat(path)\n",
            "KeyboardInterrupt\n"
          ],
          "name": "stdout"
        },
        {
          "output_type": "error",
          "ename": "KeyboardInterrupt",
          "evalue": "ignored",
          "traceback": [
            "\u001b[0;31m---------------------------------------------------------------------------\u001b[0m"
          ]
        },
        {
          "output_type": "stream",
          "text": [
            "Error in callback <function flush_figures at 0x7f4e4049b378> (for post_execute):\n"
          ],
          "name": "stdout"
        },
        {
          "output_type": "error",
          "ename": "KeyboardInterrupt",
          "evalue": "ignored",
          "traceback": [
            "\u001b[0;31m---------------------------------------------------------------------------\u001b[0m",
            "\u001b[0;31mKeyboardInterrupt\u001b[0m                         Traceback (most recent call last)",
            "\u001b[0;32m/usr/local/lib/python3.6/dist-packages/ipykernel/pylab/backend_inline.py\u001b[0m in \u001b[0;36mflush_figures\u001b[0;34m()\u001b[0m\n\u001b[1;32m    111\u001b[0m         \u001b[0;31m# ignore the tracking, just draw and close all figures\u001b[0m\u001b[0;34m\u001b[0m\u001b[0;34m\u001b[0m\u001b[0;34m\u001b[0m\u001b[0m\n\u001b[1;32m    112\u001b[0m         \u001b[0;32mtry\u001b[0m\u001b[0;34m:\u001b[0m\u001b[0;34m\u001b[0m\u001b[0;34m\u001b[0m\u001b[0m\n\u001b[0;32m--> 113\u001b[0;31m             \u001b[0;32mreturn\u001b[0m \u001b[0mshow\u001b[0m\u001b[0;34m(\u001b[0m\u001b[0;32mTrue\u001b[0m\u001b[0;34m)\u001b[0m\u001b[0;34m\u001b[0m\u001b[0;34m\u001b[0m\u001b[0m\n\u001b[0m\u001b[1;32m    114\u001b[0m         \u001b[0;32mexcept\u001b[0m \u001b[0mException\u001b[0m \u001b[0;32mas\u001b[0m \u001b[0me\u001b[0m\u001b[0;34m:\u001b[0m\u001b[0;34m\u001b[0m\u001b[0;34m\u001b[0m\u001b[0m\n\u001b[1;32m    115\u001b[0m             \u001b[0;31m# safely show traceback if in IPython, else raise\u001b[0m\u001b[0;34m\u001b[0m\u001b[0;34m\u001b[0m\u001b[0;34m\u001b[0m\u001b[0m\n",
            "\u001b[0;32m/usr/local/lib/python3.6/dist-packages/ipykernel/pylab/backend_inline.py\u001b[0m in \u001b[0;36mshow\u001b[0;34m(close, block)\u001b[0m\n\u001b[1;32m     34\u001b[0m     \u001b[0;32mtry\u001b[0m\u001b[0;34m:\u001b[0m\u001b[0;34m\u001b[0m\u001b[0;34m\u001b[0m\u001b[0m\n\u001b[1;32m     35\u001b[0m         \u001b[0;32mfor\u001b[0m \u001b[0mfigure_manager\u001b[0m \u001b[0;32min\u001b[0m \u001b[0mGcf\u001b[0m\u001b[0;34m.\u001b[0m\u001b[0mget_all_fig_managers\u001b[0m\u001b[0;34m(\u001b[0m\u001b[0;34m)\u001b[0m\u001b[0;34m:\u001b[0m\u001b[0;34m\u001b[0m\u001b[0;34m\u001b[0m\u001b[0m\n\u001b[0;32m---> 36\u001b[0;31m             \u001b[0mdisplay\u001b[0m\u001b[0;34m(\u001b[0m\u001b[0mfigure_manager\u001b[0m\u001b[0;34m.\u001b[0m\u001b[0mcanvas\u001b[0m\u001b[0;34m.\u001b[0m\u001b[0mfigure\u001b[0m\u001b[0;34m)\u001b[0m\u001b[0;34m\u001b[0m\u001b[0;34m\u001b[0m\u001b[0m\n\u001b[0m\u001b[1;32m     37\u001b[0m     \u001b[0;32mfinally\u001b[0m\u001b[0;34m:\u001b[0m\u001b[0;34m\u001b[0m\u001b[0;34m\u001b[0m\u001b[0m\n\u001b[1;32m     38\u001b[0m         \u001b[0mshow\u001b[0m\u001b[0;34m.\u001b[0m\u001b[0m_to_draw\u001b[0m \u001b[0;34m=\u001b[0m \u001b[0;34m[\u001b[0m\u001b[0;34m]\u001b[0m\u001b[0;34m\u001b[0m\u001b[0;34m\u001b[0m\u001b[0m\n",
            "\u001b[0;32m/usr/local/lib/python3.6/dist-packages/IPython/core/display.py\u001b[0m in \u001b[0;36mdisplay\u001b[0;34m(*objs, **kwargs)\u001b[0m\n\u001b[1;32m    304\u001b[0m             \u001b[0mpublish_display_data\u001b[0m\u001b[0;34m(\u001b[0m\u001b[0mdata\u001b[0m\u001b[0;34m=\u001b[0m\u001b[0mobj\u001b[0m\u001b[0;34m,\u001b[0m \u001b[0mmetadata\u001b[0m\u001b[0;34m=\u001b[0m\u001b[0mmetadata\u001b[0m\u001b[0;34m,\u001b[0m \u001b[0;34m**\u001b[0m\u001b[0mkwargs\u001b[0m\u001b[0;34m)\u001b[0m\u001b[0;34m\u001b[0m\u001b[0;34m\u001b[0m\u001b[0m\n\u001b[1;32m    305\u001b[0m         \u001b[0;32melse\u001b[0m\u001b[0;34m:\u001b[0m\u001b[0;34m\u001b[0m\u001b[0;34m\u001b[0m\u001b[0m\n\u001b[0;32m--> 306\u001b[0;31m             \u001b[0mformat_dict\u001b[0m\u001b[0;34m,\u001b[0m \u001b[0mmd_dict\u001b[0m \u001b[0;34m=\u001b[0m \u001b[0mformat\u001b[0m\u001b[0;34m(\u001b[0m\u001b[0mobj\u001b[0m\u001b[0;34m,\u001b[0m \u001b[0minclude\u001b[0m\u001b[0;34m=\u001b[0m\u001b[0minclude\u001b[0m\u001b[0;34m,\u001b[0m \u001b[0mexclude\u001b[0m\u001b[0;34m=\u001b[0m\u001b[0mexclude\u001b[0m\u001b[0;34m)\u001b[0m\u001b[0;34m\u001b[0m\u001b[0;34m\u001b[0m\u001b[0m\n\u001b[0m\u001b[1;32m    307\u001b[0m             \u001b[0;32mif\u001b[0m \u001b[0;32mnot\u001b[0m \u001b[0mformat_dict\u001b[0m\u001b[0;34m:\u001b[0m\u001b[0;34m\u001b[0m\u001b[0;34m\u001b[0m\u001b[0m\n\u001b[1;32m    308\u001b[0m                 \u001b[0;31m# nothing to display (e.g. _ipython_display_ took over)\u001b[0m\u001b[0;34m\u001b[0m\u001b[0;34m\u001b[0m\u001b[0;34m\u001b[0m\u001b[0m\n",
            "\u001b[0;32m/usr/local/lib/python3.6/dist-packages/IPython/core/formatters.py\u001b[0m in \u001b[0;36mformat\u001b[0;34m(self, obj, include, exclude)\u001b[0m\n\u001b[1;32m    171\u001b[0m             \u001b[0mmd\u001b[0m \u001b[0;34m=\u001b[0m \u001b[0;32mNone\u001b[0m\u001b[0;34m\u001b[0m\u001b[0;34m\u001b[0m\u001b[0m\n\u001b[1;32m    172\u001b[0m             \u001b[0;32mtry\u001b[0m\u001b[0;34m:\u001b[0m\u001b[0;34m\u001b[0m\u001b[0;34m\u001b[0m\u001b[0m\n\u001b[0;32m--> 173\u001b[0;31m                 \u001b[0mdata\u001b[0m \u001b[0;34m=\u001b[0m \u001b[0mformatter\u001b[0m\u001b[0;34m(\u001b[0m\u001b[0mobj\u001b[0m\u001b[0;34m)\u001b[0m\u001b[0;34m\u001b[0m\u001b[0;34m\u001b[0m\u001b[0m\n\u001b[0m\u001b[1;32m    174\u001b[0m             \u001b[0;32mexcept\u001b[0m\u001b[0;34m:\u001b[0m\u001b[0;34m\u001b[0m\u001b[0;34m\u001b[0m\u001b[0m\n\u001b[1;32m    175\u001b[0m                 \u001b[0;31m# FIXME: log the exception\u001b[0m\u001b[0;34m\u001b[0m\u001b[0;34m\u001b[0m\u001b[0;34m\u001b[0m\u001b[0m\n",
            "\u001b[0;32m</usr/local/lib/python3.6/dist-packages/decorator.py:decorator-gen-9>\u001b[0m in \u001b[0;36m__call__\u001b[0;34m(self, obj)\u001b[0m\n",
            "\u001b[0;32m/usr/local/lib/python3.6/dist-packages/IPython/core/formatters.py\u001b[0m in \u001b[0;36mcatch_format_error\u001b[0;34m(method, self, *args, **kwargs)\u001b[0m\n\u001b[1;32m    215\u001b[0m     \u001b[0;34m\"\"\"show traceback on failed format call\"\"\"\u001b[0m\u001b[0;34m\u001b[0m\u001b[0;34m\u001b[0m\u001b[0m\n\u001b[1;32m    216\u001b[0m     \u001b[0;32mtry\u001b[0m\u001b[0;34m:\u001b[0m\u001b[0;34m\u001b[0m\u001b[0;34m\u001b[0m\u001b[0m\n\u001b[0;32m--> 217\u001b[0;31m         \u001b[0mr\u001b[0m \u001b[0;34m=\u001b[0m \u001b[0mmethod\u001b[0m\u001b[0;34m(\u001b[0m\u001b[0mself\u001b[0m\u001b[0;34m,\u001b[0m \u001b[0;34m*\u001b[0m\u001b[0margs\u001b[0m\u001b[0;34m,\u001b[0m \u001b[0;34m**\u001b[0m\u001b[0mkwargs\u001b[0m\u001b[0;34m)\u001b[0m\u001b[0;34m\u001b[0m\u001b[0;34m\u001b[0m\u001b[0m\n\u001b[0m\u001b[1;32m    218\u001b[0m     \u001b[0;32mexcept\u001b[0m \u001b[0mNotImplementedError\u001b[0m\u001b[0;34m:\u001b[0m\u001b[0;34m\u001b[0m\u001b[0;34m\u001b[0m\u001b[0m\n\u001b[1;32m    219\u001b[0m         \u001b[0;31m# don't warn on NotImplementedErrors\u001b[0m\u001b[0;34m\u001b[0m\u001b[0;34m\u001b[0m\u001b[0;34m\u001b[0m\u001b[0m\n",
            "\u001b[0;32m/usr/local/lib/python3.6/dist-packages/IPython/core/formatters.py\u001b[0m in \u001b[0;36m__call__\u001b[0;34m(self, obj)\u001b[0m\n\u001b[1;32m    332\u001b[0m                 \u001b[0;32mpass\u001b[0m\u001b[0;34m\u001b[0m\u001b[0;34m\u001b[0m\u001b[0m\n\u001b[1;32m    333\u001b[0m             \u001b[0;32melse\u001b[0m\u001b[0;34m:\u001b[0m\u001b[0;34m\u001b[0m\u001b[0;34m\u001b[0m\u001b[0m\n\u001b[0;32m--> 334\u001b[0;31m                 \u001b[0;32mreturn\u001b[0m \u001b[0mprinter\u001b[0m\u001b[0;34m(\u001b[0m\u001b[0mobj\u001b[0m\u001b[0;34m)\u001b[0m\u001b[0;34m\u001b[0m\u001b[0;34m\u001b[0m\u001b[0m\n\u001b[0m\u001b[1;32m    335\u001b[0m             \u001b[0;31m# Finally look for special method names\u001b[0m\u001b[0;34m\u001b[0m\u001b[0;34m\u001b[0m\u001b[0;34m\u001b[0m\u001b[0m\n\u001b[1;32m    336\u001b[0m             \u001b[0mmethod\u001b[0m \u001b[0;34m=\u001b[0m \u001b[0mget_real_method\u001b[0m\u001b[0;34m(\u001b[0m\u001b[0mobj\u001b[0m\u001b[0;34m,\u001b[0m \u001b[0mself\u001b[0m\u001b[0;34m.\u001b[0m\u001b[0mprint_method\u001b[0m\u001b[0;34m)\u001b[0m\u001b[0;34m\u001b[0m\u001b[0;34m\u001b[0m\u001b[0m\n",
            "\u001b[0;32m/usr/local/lib/python3.6/dist-packages/IPython/core/pylabtools.py\u001b[0m in \u001b[0;36m<lambda>\u001b[0;34m(fig)\u001b[0m\n\u001b[1;32m    239\u001b[0m \u001b[0;34m\u001b[0m\u001b[0m\n\u001b[1;32m    240\u001b[0m     \u001b[0;32mif\u001b[0m \u001b[0;34m'png'\u001b[0m \u001b[0;32min\u001b[0m \u001b[0mformats\u001b[0m\u001b[0;34m:\u001b[0m\u001b[0;34m\u001b[0m\u001b[0;34m\u001b[0m\u001b[0m\n\u001b[0;32m--> 241\u001b[0;31m         \u001b[0mpng_formatter\u001b[0m\u001b[0;34m.\u001b[0m\u001b[0mfor_type\u001b[0m\u001b[0;34m(\u001b[0m\u001b[0mFigure\u001b[0m\u001b[0;34m,\u001b[0m \u001b[0;32mlambda\u001b[0m \u001b[0mfig\u001b[0m\u001b[0;34m:\u001b[0m \u001b[0mprint_figure\u001b[0m\u001b[0;34m(\u001b[0m\u001b[0mfig\u001b[0m\u001b[0;34m,\u001b[0m \u001b[0;34m'png'\u001b[0m\u001b[0;34m,\u001b[0m \u001b[0;34m**\u001b[0m\u001b[0mkwargs\u001b[0m\u001b[0;34m)\u001b[0m\u001b[0;34m)\u001b[0m\u001b[0;34m\u001b[0m\u001b[0;34m\u001b[0m\u001b[0m\n\u001b[0m\u001b[1;32m    242\u001b[0m     \u001b[0;32mif\u001b[0m \u001b[0;34m'retina'\u001b[0m \u001b[0;32min\u001b[0m \u001b[0mformats\u001b[0m \u001b[0;32mor\u001b[0m \u001b[0;34m'png2x'\u001b[0m \u001b[0;32min\u001b[0m \u001b[0mformats\u001b[0m\u001b[0;34m:\u001b[0m\u001b[0;34m\u001b[0m\u001b[0;34m\u001b[0m\u001b[0m\n\u001b[1;32m    243\u001b[0m         \u001b[0mpng_formatter\u001b[0m\u001b[0;34m.\u001b[0m\u001b[0mfor_type\u001b[0m\u001b[0;34m(\u001b[0m\u001b[0mFigure\u001b[0m\u001b[0;34m,\u001b[0m \u001b[0;32mlambda\u001b[0m \u001b[0mfig\u001b[0m\u001b[0;34m:\u001b[0m \u001b[0mretina_figure\u001b[0m\u001b[0;34m(\u001b[0m\u001b[0mfig\u001b[0m\u001b[0;34m,\u001b[0m \u001b[0;34m**\u001b[0m\u001b[0mkwargs\u001b[0m\u001b[0;34m)\u001b[0m\u001b[0;34m)\u001b[0m\u001b[0;34m\u001b[0m\u001b[0;34m\u001b[0m\u001b[0m\n",
            "\u001b[0;32m/usr/local/lib/python3.6/dist-packages/IPython/core/pylabtools.py\u001b[0m in \u001b[0;36mprint_figure\u001b[0;34m(fig, fmt, bbox_inches, **kwargs)\u001b[0m\n\u001b[1;32m    123\u001b[0m \u001b[0;34m\u001b[0m\u001b[0m\n\u001b[1;32m    124\u001b[0m     \u001b[0mbytes_io\u001b[0m \u001b[0;34m=\u001b[0m \u001b[0mBytesIO\u001b[0m\u001b[0;34m(\u001b[0m\u001b[0;34m)\u001b[0m\u001b[0;34m\u001b[0m\u001b[0;34m\u001b[0m\u001b[0m\n\u001b[0;32m--> 125\u001b[0;31m     \u001b[0mfig\u001b[0m\u001b[0;34m.\u001b[0m\u001b[0mcanvas\u001b[0m\u001b[0;34m.\u001b[0m\u001b[0mprint_figure\u001b[0m\u001b[0;34m(\u001b[0m\u001b[0mbytes_io\u001b[0m\u001b[0;34m,\u001b[0m \u001b[0;34m**\u001b[0m\u001b[0mkw\u001b[0m\u001b[0;34m)\u001b[0m\u001b[0;34m\u001b[0m\u001b[0;34m\u001b[0m\u001b[0m\n\u001b[0m\u001b[1;32m    126\u001b[0m     \u001b[0mdata\u001b[0m \u001b[0;34m=\u001b[0m \u001b[0mbytes_io\u001b[0m\u001b[0;34m.\u001b[0m\u001b[0mgetvalue\u001b[0m\u001b[0;34m(\u001b[0m\u001b[0;34m)\u001b[0m\u001b[0;34m\u001b[0m\u001b[0;34m\u001b[0m\u001b[0m\n\u001b[1;32m    127\u001b[0m     \u001b[0;32mif\u001b[0m \u001b[0mfmt\u001b[0m \u001b[0;34m==\u001b[0m \u001b[0;34m'svg'\u001b[0m\u001b[0;34m:\u001b[0m\u001b[0;34m\u001b[0m\u001b[0;34m\u001b[0m\u001b[0m\n",
            "\u001b[0;32m/usr/local/lib/python3.6/dist-packages/matplotlib/backend_bases.py\u001b[0m in \u001b[0;36mprint_figure\u001b[0;34m(self, filename, dpi, facecolor, edgecolor, orientation, format, bbox_inches, **kwargs)\u001b[0m\n\u001b[1;32m   2063\u001b[0m                         \u001b[0morientation\u001b[0m\u001b[0;34m=\u001b[0m\u001b[0morientation\u001b[0m\u001b[0;34m,\u001b[0m\u001b[0;34m\u001b[0m\u001b[0;34m\u001b[0m\u001b[0m\n\u001b[1;32m   2064\u001b[0m                         \u001b[0mdryrun\u001b[0m\u001b[0;34m=\u001b[0m\u001b[0;32mTrue\u001b[0m\u001b[0;34m,\u001b[0m\u001b[0;34m\u001b[0m\u001b[0;34m\u001b[0m\u001b[0m\n\u001b[0;32m-> 2065\u001b[0;31m                         **kwargs)\n\u001b[0m\u001b[1;32m   2066\u001b[0m                     \u001b[0mrenderer\u001b[0m \u001b[0;34m=\u001b[0m \u001b[0mself\u001b[0m\u001b[0;34m.\u001b[0m\u001b[0mfigure\u001b[0m\u001b[0;34m.\u001b[0m\u001b[0m_cachedRenderer\u001b[0m\u001b[0;34m\u001b[0m\u001b[0;34m\u001b[0m\u001b[0m\n\u001b[1;32m   2067\u001b[0m                     \u001b[0mbbox_artists\u001b[0m \u001b[0;34m=\u001b[0m \u001b[0mkwargs\u001b[0m\u001b[0;34m.\u001b[0m\u001b[0mpop\u001b[0m\u001b[0;34m(\u001b[0m\u001b[0;34m\"bbox_extra_artists\"\u001b[0m\u001b[0;34m,\u001b[0m \u001b[0;32mNone\u001b[0m\u001b[0;34m)\u001b[0m\u001b[0;34m\u001b[0m\u001b[0;34m\u001b[0m\u001b[0m\n",
            "\u001b[0;32m/usr/local/lib/python3.6/dist-packages/matplotlib/backends/backend_agg.py\u001b[0m in \u001b[0;36mprint_png\u001b[0;34m(self, filename_or_obj, metadata, pil_kwargs, *args, **kwargs)\u001b[0m\n\u001b[1;32m    525\u001b[0m \u001b[0;34m\u001b[0m\u001b[0m\n\u001b[1;32m    526\u001b[0m         \u001b[0;32melse\u001b[0m\u001b[0;34m:\u001b[0m\u001b[0;34m\u001b[0m\u001b[0;34m\u001b[0m\u001b[0m\n\u001b[0;32m--> 527\u001b[0;31m             \u001b[0mFigureCanvasAgg\u001b[0m\u001b[0;34m.\u001b[0m\u001b[0mdraw\u001b[0m\u001b[0;34m(\u001b[0m\u001b[0mself\u001b[0m\u001b[0;34m)\u001b[0m\u001b[0;34m\u001b[0m\u001b[0;34m\u001b[0m\u001b[0m\n\u001b[0m\u001b[1;32m    528\u001b[0m             \u001b[0mrenderer\u001b[0m \u001b[0;34m=\u001b[0m \u001b[0mself\u001b[0m\u001b[0;34m.\u001b[0m\u001b[0mget_renderer\u001b[0m\u001b[0;34m(\u001b[0m\u001b[0;34m)\u001b[0m\u001b[0;34m\u001b[0m\u001b[0;34m\u001b[0m\u001b[0m\n\u001b[1;32m    529\u001b[0m             \u001b[0;32mwith\u001b[0m \u001b[0mcbook\u001b[0m\u001b[0;34m.\u001b[0m\u001b[0m_setattr_cm\u001b[0m\u001b[0;34m(\u001b[0m\u001b[0mrenderer\u001b[0m\u001b[0;34m,\u001b[0m \u001b[0mdpi\u001b[0m\u001b[0;34m=\u001b[0m\u001b[0mself\u001b[0m\u001b[0;34m.\u001b[0m\u001b[0mfigure\u001b[0m\u001b[0;34m.\u001b[0m\u001b[0mdpi\u001b[0m\u001b[0;34m)\u001b[0m\u001b[0;34m,\u001b[0m\u001b[0;31m \u001b[0m\u001b[0;31m\\\u001b[0m\u001b[0;34m\u001b[0m\u001b[0;34m\u001b[0m\u001b[0m\n",
            "\u001b[0;32m/usr/local/lib/python3.6/dist-packages/matplotlib/backends/backend_agg.py\u001b[0m in \u001b[0;36mdraw\u001b[0;34m(self)\u001b[0m\n\u001b[1;32m    386\u001b[0m         \u001b[0mself\u001b[0m\u001b[0;34m.\u001b[0m\u001b[0mrenderer\u001b[0m \u001b[0;34m=\u001b[0m \u001b[0mself\u001b[0m\u001b[0;34m.\u001b[0m\u001b[0mget_renderer\u001b[0m\u001b[0;34m(\u001b[0m\u001b[0mcleared\u001b[0m\u001b[0;34m=\u001b[0m\u001b[0;32mTrue\u001b[0m\u001b[0;34m)\u001b[0m\u001b[0;34m\u001b[0m\u001b[0;34m\u001b[0m\u001b[0m\n\u001b[1;32m    387\u001b[0m         \u001b[0;32mwith\u001b[0m \u001b[0mRendererAgg\u001b[0m\u001b[0;34m.\u001b[0m\u001b[0mlock\u001b[0m\u001b[0;34m:\u001b[0m\u001b[0;34m\u001b[0m\u001b[0;34m\u001b[0m\u001b[0m\n\u001b[0;32m--> 388\u001b[0;31m             \u001b[0mself\u001b[0m\u001b[0;34m.\u001b[0m\u001b[0mfigure\u001b[0m\u001b[0;34m.\u001b[0m\u001b[0mdraw\u001b[0m\u001b[0;34m(\u001b[0m\u001b[0mself\u001b[0m\u001b[0;34m.\u001b[0m\u001b[0mrenderer\u001b[0m\u001b[0;34m)\u001b[0m\u001b[0;34m\u001b[0m\u001b[0;34m\u001b[0m\u001b[0m\n\u001b[0m\u001b[1;32m    389\u001b[0m             \u001b[0;31m# A GUI class may be need to update a window using this draw, so\u001b[0m\u001b[0;34m\u001b[0m\u001b[0;34m\u001b[0m\u001b[0;34m\u001b[0m\u001b[0m\n\u001b[1;32m    390\u001b[0m             \u001b[0;31m# don't forget to call the superclass.\u001b[0m\u001b[0;34m\u001b[0m\u001b[0;34m\u001b[0m\u001b[0;34m\u001b[0m\u001b[0m\n",
            "\u001b[0;32m/usr/local/lib/python3.6/dist-packages/matplotlib/artist.py\u001b[0m in \u001b[0;36mdraw_wrapper\u001b[0;34m(artist, renderer, *args, **kwargs)\u001b[0m\n\u001b[1;32m     36\u001b[0m                 \u001b[0mrenderer\u001b[0m\u001b[0;34m.\u001b[0m\u001b[0mstart_filter\u001b[0m\u001b[0;34m(\u001b[0m\u001b[0;34m)\u001b[0m\u001b[0;34m\u001b[0m\u001b[0;34m\u001b[0m\u001b[0m\n\u001b[1;32m     37\u001b[0m \u001b[0;34m\u001b[0m\u001b[0m\n\u001b[0;32m---> 38\u001b[0;31m             \u001b[0;32mreturn\u001b[0m \u001b[0mdraw\u001b[0m\u001b[0;34m(\u001b[0m\u001b[0martist\u001b[0m\u001b[0;34m,\u001b[0m \u001b[0mrenderer\u001b[0m\u001b[0;34m,\u001b[0m \u001b[0;34m*\u001b[0m\u001b[0margs\u001b[0m\u001b[0;34m,\u001b[0m \u001b[0;34m**\u001b[0m\u001b[0mkwargs\u001b[0m\u001b[0;34m)\u001b[0m\u001b[0;34m\u001b[0m\u001b[0;34m\u001b[0m\u001b[0m\n\u001b[0m\u001b[1;32m     39\u001b[0m         \u001b[0;32mfinally\u001b[0m\u001b[0;34m:\u001b[0m\u001b[0;34m\u001b[0m\u001b[0;34m\u001b[0m\u001b[0m\n\u001b[1;32m     40\u001b[0m             \u001b[0;32mif\u001b[0m \u001b[0martist\u001b[0m\u001b[0;34m.\u001b[0m\u001b[0mget_agg_filter\u001b[0m\u001b[0;34m(\u001b[0m\u001b[0;34m)\u001b[0m \u001b[0;32mis\u001b[0m \u001b[0;32mnot\u001b[0m \u001b[0;32mNone\u001b[0m\u001b[0;34m:\u001b[0m\u001b[0;34m\u001b[0m\u001b[0;34m\u001b[0m\u001b[0m\n",
            "\u001b[0;32m/usr/local/lib/python3.6/dist-packages/matplotlib/figure.py\u001b[0m in \u001b[0;36mdraw\u001b[0;34m(self, renderer)\u001b[0m\n\u001b[1;32m   1707\u001b[0m             \u001b[0mself\u001b[0m\u001b[0;34m.\u001b[0m\u001b[0mpatch\u001b[0m\u001b[0;34m.\u001b[0m\u001b[0mdraw\u001b[0m\u001b[0;34m(\u001b[0m\u001b[0mrenderer\u001b[0m\u001b[0;34m)\u001b[0m\u001b[0;34m\u001b[0m\u001b[0;34m\u001b[0m\u001b[0m\n\u001b[1;32m   1708\u001b[0m             mimage._draw_list_compositing_images(\n\u001b[0;32m-> 1709\u001b[0;31m                 renderer, self, artists, self.suppressComposite)\n\u001b[0m\u001b[1;32m   1710\u001b[0m \u001b[0;34m\u001b[0m\u001b[0m\n\u001b[1;32m   1711\u001b[0m             \u001b[0mrenderer\u001b[0m\u001b[0;34m.\u001b[0m\u001b[0mclose_group\u001b[0m\u001b[0;34m(\u001b[0m\u001b[0;34m'figure'\u001b[0m\u001b[0;34m)\u001b[0m\u001b[0;34m\u001b[0m\u001b[0;34m\u001b[0m\u001b[0m\n",
            "\u001b[0;32m/usr/local/lib/python3.6/dist-packages/matplotlib/image.py\u001b[0m in \u001b[0;36m_draw_list_compositing_images\u001b[0;34m(renderer, parent, artists, suppress_composite)\u001b[0m\n\u001b[1;32m    133\u001b[0m     \u001b[0;32mif\u001b[0m \u001b[0mnot_composite\u001b[0m \u001b[0;32mor\u001b[0m \u001b[0;32mnot\u001b[0m \u001b[0mhas_images\u001b[0m\u001b[0;34m:\u001b[0m\u001b[0;34m\u001b[0m\u001b[0;34m\u001b[0m\u001b[0m\n\u001b[1;32m    134\u001b[0m         \u001b[0;32mfor\u001b[0m \u001b[0ma\u001b[0m \u001b[0;32min\u001b[0m \u001b[0martists\u001b[0m\u001b[0;34m:\u001b[0m\u001b[0;34m\u001b[0m\u001b[0;34m\u001b[0m\u001b[0m\n\u001b[0;32m--> 135\u001b[0;31m             \u001b[0ma\u001b[0m\u001b[0;34m.\u001b[0m\u001b[0mdraw\u001b[0m\u001b[0;34m(\u001b[0m\u001b[0mrenderer\u001b[0m\u001b[0;34m)\u001b[0m\u001b[0;34m\u001b[0m\u001b[0;34m\u001b[0m\u001b[0m\n\u001b[0m\u001b[1;32m    136\u001b[0m     \u001b[0;32melse\u001b[0m\u001b[0;34m:\u001b[0m\u001b[0;34m\u001b[0m\u001b[0;34m\u001b[0m\u001b[0m\n\u001b[1;32m    137\u001b[0m         \u001b[0;31m# Composite any adjacent images together\u001b[0m\u001b[0;34m\u001b[0m\u001b[0;34m\u001b[0m\u001b[0;34m\u001b[0m\u001b[0m\n",
            "\u001b[0;32m/usr/local/lib/python3.6/dist-packages/matplotlib/artist.py\u001b[0m in \u001b[0;36mdraw_wrapper\u001b[0;34m(artist, renderer, *args, **kwargs)\u001b[0m\n\u001b[1;32m     36\u001b[0m                 \u001b[0mrenderer\u001b[0m\u001b[0;34m.\u001b[0m\u001b[0mstart_filter\u001b[0m\u001b[0;34m(\u001b[0m\u001b[0;34m)\u001b[0m\u001b[0;34m\u001b[0m\u001b[0;34m\u001b[0m\u001b[0m\n\u001b[1;32m     37\u001b[0m \u001b[0;34m\u001b[0m\u001b[0m\n\u001b[0;32m---> 38\u001b[0;31m             \u001b[0;32mreturn\u001b[0m \u001b[0mdraw\u001b[0m\u001b[0;34m(\u001b[0m\u001b[0martist\u001b[0m\u001b[0;34m,\u001b[0m \u001b[0mrenderer\u001b[0m\u001b[0;34m,\u001b[0m \u001b[0;34m*\u001b[0m\u001b[0margs\u001b[0m\u001b[0;34m,\u001b[0m \u001b[0;34m**\u001b[0m\u001b[0mkwargs\u001b[0m\u001b[0;34m)\u001b[0m\u001b[0;34m\u001b[0m\u001b[0;34m\u001b[0m\u001b[0m\n\u001b[0m\u001b[1;32m     39\u001b[0m         \u001b[0;32mfinally\u001b[0m\u001b[0;34m:\u001b[0m\u001b[0;34m\u001b[0m\u001b[0;34m\u001b[0m\u001b[0m\n\u001b[1;32m     40\u001b[0m             \u001b[0;32mif\u001b[0m \u001b[0martist\u001b[0m\u001b[0;34m.\u001b[0m\u001b[0mget_agg_filter\u001b[0m\u001b[0;34m(\u001b[0m\u001b[0;34m)\u001b[0m \u001b[0;32mis\u001b[0m \u001b[0;32mnot\u001b[0m \u001b[0;32mNone\u001b[0m\u001b[0;34m:\u001b[0m\u001b[0;34m\u001b[0m\u001b[0;34m\u001b[0m\u001b[0m\n",
            "\u001b[0;32m/usr/local/lib/python3.6/dist-packages/matplotlib/axes/_base.py\u001b[0m in \u001b[0;36mdraw\u001b[0;34m(self, renderer, inframe)\u001b[0m\n\u001b[1;32m   2645\u001b[0m             \u001b[0mrenderer\u001b[0m\u001b[0;34m.\u001b[0m\u001b[0mstop_rasterizing\u001b[0m\u001b[0;34m(\u001b[0m\u001b[0;34m)\u001b[0m\u001b[0;34m\u001b[0m\u001b[0;34m\u001b[0m\u001b[0m\n\u001b[1;32m   2646\u001b[0m \u001b[0;34m\u001b[0m\u001b[0m\n\u001b[0;32m-> 2647\u001b[0;31m         \u001b[0mmimage\u001b[0m\u001b[0;34m.\u001b[0m\u001b[0m_draw_list_compositing_images\u001b[0m\u001b[0;34m(\u001b[0m\u001b[0mrenderer\u001b[0m\u001b[0;34m,\u001b[0m \u001b[0mself\u001b[0m\u001b[0;34m,\u001b[0m \u001b[0martists\u001b[0m\u001b[0;34m)\u001b[0m\u001b[0;34m\u001b[0m\u001b[0;34m\u001b[0m\u001b[0m\n\u001b[0m\u001b[1;32m   2648\u001b[0m \u001b[0;34m\u001b[0m\u001b[0m\n\u001b[1;32m   2649\u001b[0m         \u001b[0mrenderer\u001b[0m\u001b[0;34m.\u001b[0m\u001b[0mclose_group\u001b[0m\u001b[0;34m(\u001b[0m\u001b[0;34m'axes'\u001b[0m\u001b[0;34m)\u001b[0m\u001b[0;34m\u001b[0m\u001b[0;34m\u001b[0m\u001b[0m\n",
            "\u001b[0;32m/usr/local/lib/python3.6/dist-packages/matplotlib/image.py\u001b[0m in \u001b[0;36m_draw_list_compositing_images\u001b[0;34m(renderer, parent, artists, suppress_composite)\u001b[0m\n\u001b[1;32m    133\u001b[0m     \u001b[0;32mif\u001b[0m \u001b[0mnot_composite\u001b[0m \u001b[0;32mor\u001b[0m \u001b[0;32mnot\u001b[0m \u001b[0mhas_images\u001b[0m\u001b[0;34m:\u001b[0m\u001b[0;34m\u001b[0m\u001b[0;34m\u001b[0m\u001b[0m\n\u001b[1;32m    134\u001b[0m         \u001b[0;32mfor\u001b[0m \u001b[0ma\u001b[0m \u001b[0;32min\u001b[0m \u001b[0martists\u001b[0m\u001b[0;34m:\u001b[0m\u001b[0;34m\u001b[0m\u001b[0;34m\u001b[0m\u001b[0m\n\u001b[0;32m--> 135\u001b[0;31m             \u001b[0ma\u001b[0m\u001b[0;34m.\u001b[0m\u001b[0mdraw\u001b[0m\u001b[0;34m(\u001b[0m\u001b[0mrenderer\u001b[0m\u001b[0;34m)\u001b[0m\u001b[0;34m\u001b[0m\u001b[0;34m\u001b[0m\u001b[0m\n\u001b[0m\u001b[1;32m    136\u001b[0m     \u001b[0;32melse\u001b[0m\u001b[0;34m:\u001b[0m\u001b[0;34m\u001b[0m\u001b[0;34m\u001b[0m\u001b[0m\n\u001b[1;32m    137\u001b[0m         \u001b[0;31m# Composite any adjacent images together\u001b[0m\u001b[0;34m\u001b[0m\u001b[0;34m\u001b[0m\u001b[0;34m\u001b[0m\u001b[0m\n",
            "\u001b[0;32m/usr/local/lib/python3.6/dist-packages/matplotlib/artist.py\u001b[0m in \u001b[0;36mdraw_wrapper\u001b[0;34m(artist, renderer, *args, **kwargs)\u001b[0m\n\u001b[1;32m     36\u001b[0m                 \u001b[0mrenderer\u001b[0m\u001b[0;34m.\u001b[0m\u001b[0mstart_filter\u001b[0m\u001b[0;34m(\u001b[0m\u001b[0;34m)\u001b[0m\u001b[0;34m\u001b[0m\u001b[0;34m\u001b[0m\u001b[0m\n\u001b[1;32m     37\u001b[0m \u001b[0;34m\u001b[0m\u001b[0m\n\u001b[0;32m---> 38\u001b[0;31m             \u001b[0;32mreturn\u001b[0m \u001b[0mdraw\u001b[0m\u001b[0;34m(\u001b[0m\u001b[0martist\u001b[0m\u001b[0;34m,\u001b[0m \u001b[0mrenderer\u001b[0m\u001b[0;34m,\u001b[0m \u001b[0;34m*\u001b[0m\u001b[0margs\u001b[0m\u001b[0;34m,\u001b[0m \u001b[0;34m**\u001b[0m\u001b[0mkwargs\u001b[0m\u001b[0;34m)\u001b[0m\u001b[0;34m\u001b[0m\u001b[0;34m\u001b[0m\u001b[0m\n\u001b[0m\u001b[1;32m     39\u001b[0m         \u001b[0;32mfinally\u001b[0m\u001b[0;34m:\u001b[0m\u001b[0;34m\u001b[0m\u001b[0;34m\u001b[0m\u001b[0m\n\u001b[1;32m     40\u001b[0m             \u001b[0;32mif\u001b[0m \u001b[0martist\u001b[0m\u001b[0;34m.\u001b[0m\u001b[0mget_agg_filter\u001b[0m\u001b[0;34m(\u001b[0m\u001b[0;34m)\u001b[0m \u001b[0;32mis\u001b[0m \u001b[0;32mnot\u001b[0m \u001b[0;32mNone\u001b[0m\u001b[0;34m:\u001b[0m\u001b[0;34m\u001b[0m\u001b[0;34m\u001b[0m\u001b[0m\n",
            "\u001b[0;32m/usr/local/lib/python3.6/dist-packages/matplotlib/axis.py\u001b[0m in \u001b[0;36mdraw\u001b[0;34m(self, renderer, *args, **kwargs)\u001b[0m\n\u001b[1;32m   1206\u001b[0m \u001b[0;34m\u001b[0m\u001b[0m\n\u001b[1;32m   1207\u001b[0m         \u001b[0;32mfor\u001b[0m \u001b[0mtick\u001b[0m \u001b[0;32min\u001b[0m \u001b[0mticks_to_draw\u001b[0m\u001b[0;34m:\u001b[0m\u001b[0;34m\u001b[0m\u001b[0;34m\u001b[0m\u001b[0m\n\u001b[0;32m-> 1208\u001b[0;31m             \u001b[0mtick\u001b[0m\u001b[0;34m.\u001b[0m\u001b[0mdraw\u001b[0m\u001b[0;34m(\u001b[0m\u001b[0mrenderer\u001b[0m\u001b[0;34m)\u001b[0m\u001b[0;34m\u001b[0m\u001b[0;34m\u001b[0m\u001b[0m\n\u001b[0m\u001b[1;32m   1209\u001b[0m \u001b[0;34m\u001b[0m\u001b[0m\n\u001b[1;32m   1210\u001b[0m         \u001b[0;31m# scale up the axis label box to also find the neighbors, not\u001b[0m\u001b[0;34m\u001b[0m\u001b[0;34m\u001b[0m\u001b[0;34m\u001b[0m\u001b[0m\n",
            "\u001b[0;32m/usr/local/lib/python3.6/dist-packages/matplotlib/artist.py\u001b[0m in \u001b[0;36mdraw_wrapper\u001b[0;34m(artist, renderer, *args, **kwargs)\u001b[0m\n\u001b[1;32m     36\u001b[0m                 \u001b[0mrenderer\u001b[0m\u001b[0;34m.\u001b[0m\u001b[0mstart_filter\u001b[0m\u001b[0;34m(\u001b[0m\u001b[0;34m)\u001b[0m\u001b[0;34m\u001b[0m\u001b[0;34m\u001b[0m\u001b[0m\n\u001b[1;32m     37\u001b[0m \u001b[0;34m\u001b[0m\u001b[0m\n\u001b[0;32m---> 38\u001b[0;31m             \u001b[0;32mreturn\u001b[0m \u001b[0mdraw\u001b[0m\u001b[0;34m(\u001b[0m\u001b[0martist\u001b[0m\u001b[0;34m,\u001b[0m \u001b[0mrenderer\u001b[0m\u001b[0;34m,\u001b[0m \u001b[0;34m*\u001b[0m\u001b[0margs\u001b[0m\u001b[0;34m,\u001b[0m \u001b[0;34m**\u001b[0m\u001b[0mkwargs\u001b[0m\u001b[0;34m)\u001b[0m\u001b[0;34m\u001b[0m\u001b[0;34m\u001b[0m\u001b[0m\n\u001b[0m\u001b[1;32m     39\u001b[0m         \u001b[0;32mfinally\u001b[0m\u001b[0;34m:\u001b[0m\u001b[0;34m\u001b[0m\u001b[0;34m\u001b[0m\u001b[0m\n\u001b[1;32m     40\u001b[0m             \u001b[0;32mif\u001b[0m \u001b[0martist\u001b[0m\u001b[0;34m.\u001b[0m\u001b[0mget_agg_filter\u001b[0m\u001b[0;34m(\u001b[0m\u001b[0;34m)\u001b[0m \u001b[0;32mis\u001b[0m \u001b[0;32mnot\u001b[0m \u001b[0;32mNone\u001b[0m\u001b[0;34m:\u001b[0m\u001b[0;34m\u001b[0m\u001b[0;34m\u001b[0m\u001b[0m\n",
            "\u001b[0;32m/usr/local/lib/python3.6/dist-packages/matplotlib/axis.py\u001b[0m in \u001b[0;36mdraw\u001b[0;34m(self, renderer)\u001b[0m\n\u001b[1;32m    295\u001b[0m         for artist in [self.gridline, self.tick1line, self.tick2line,\n\u001b[1;32m    296\u001b[0m                        self.label1, self.label2]:\n\u001b[0;32m--> 297\u001b[0;31m             \u001b[0martist\u001b[0m\u001b[0;34m.\u001b[0m\u001b[0mdraw\u001b[0m\u001b[0;34m(\u001b[0m\u001b[0mrenderer\u001b[0m\u001b[0;34m)\u001b[0m\u001b[0;34m\u001b[0m\u001b[0;34m\u001b[0m\u001b[0m\n\u001b[0m\u001b[1;32m    298\u001b[0m         \u001b[0mrenderer\u001b[0m\u001b[0;34m.\u001b[0m\u001b[0mclose_group\u001b[0m\u001b[0;34m(\u001b[0m\u001b[0mself\u001b[0m\u001b[0;34m.\u001b[0m\u001b[0m__name__\u001b[0m\u001b[0;34m)\u001b[0m\u001b[0;34m\u001b[0m\u001b[0;34m\u001b[0m\u001b[0m\n\u001b[1;32m    299\u001b[0m         \u001b[0mself\u001b[0m\u001b[0;34m.\u001b[0m\u001b[0mstale\u001b[0m \u001b[0;34m=\u001b[0m \u001b[0;32mFalse\u001b[0m\u001b[0;34m\u001b[0m\u001b[0;34m\u001b[0m\u001b[0m\n",
            "\u001b[0;32m/usr/local/lib/python3.6/dist-packages/matplotlib/artist.py\u001b[0m in \u001b[0;36mdraw_wrapper\u001b[0;34m(artist, renderer, *args, **kwargs)\u001b[0m\n\u001b[1;32m     36\u001b[0m                 \u001b[0mrenderer\u001b[0m\u001b[0;34m.\u001b[0m\u001b[0mstart_filter\u001b[0m\u001b[0;34m(\u001b[0m\u001b[0;34m)\u001b[0m\u001b[0;34m\u001b[0m\u001b[0;34m\u001b[0m\u001b[0m\n\u001b[1;32m     37\u001b[0m \u001b[0;34m\u001b[0m\u001b[0m\n\u001b[0;32m---> 38\u001b[0;31m             \u001b[0;32mreturn\u001b[0m \u001b[0mdraw\u001b[0m\u001b[0;34m(\u001b[0m\u001b[0martist\u001b[0m\u001b[0;34m,\u001b[0m \u001b[0mrenderer\u001b[0m\u001b[0;34m,\u001b[0m \u001b[0;34m*\u001b[0m\u001b[0margs\u001b[0m\u001b[0;34m,\u001b[0m \u001b[0;34m**\u001b[0m\u001b[0mkwargs\u001b[0m\u001b[0;34m)\u001b[0m\u001b[0;34m\u001b[0m\u001b[0;34m\u001b[0m\u001b[0m\n\u001b[0m\u001b[1;32m     39\u001b[0m         \u001b[0;32mfinally\u001b[0m\u001b[0;34m:\u001b[0m\u001b[0;34m\u001b[0m\u001b[0;34m\u001b[0m\u001b[0m\n\u001b[1;32m     40\u001b[0m             \u001b[0;32mif\u001b[0m \u001b[0martist\u001b[0m\u001b[0;34m.\u001b[0m\u001b[0mget_agg_filter\u001b[0m\u001b[0;34m(\u001b[0m\u001b[0;34m)\u001b[0m \u001b[0;32mis\u001b[0m \u001b[0;32mnot\u001b[0m \u001b[0;32mNone\u001b[0m\u001b[0;34m:\u001b[0m\u001b[0;34m\u001b[0m\u001b[0;34m\u001b[0m\u001b[0m\n",
            "\u001b[0;32m/usr/local/lib/python3.6/dist-packages/matplotlib/text.py\u001b[0m in \u001b[0;36mdraw\u001b[0;34m(self, renderer)\u001b[0m\n\u001b[1;32m    716\u001b[0m                     textrenderer.draw_text(gc, x, y, clean_line,\n\u001b[1;32m    717\u001b[0m                                            \u001b[0mtextobj\u001b[0m\u001b[0;34m.\u001b[0m\u001b[0m_fontproperties\u001b[0m\u001b[0;34m,\u001b[0m \u001b[0mangle\u001b[0m\u001b[0;34m,\u001b[0m\u001b[0;34m\u001b[0m\u001b[0;34m\u001b[0m\u001b[0m\n\u001b[0;32m--> 718\u001b[0;31m                                            ismath=ismath, mtext=mtext)\n\u001b[0m\u001b[1;32m    719\u001b[0m \u001b[0;34m\u001b[0m\u001b[0m\n\u001b[1;32m    720\u001b[0m         \u001b[0mgc\u001b[0m\u001b[0;34m.\u001b[0m\u001b[0mrestore\u001b[0m\u001b[0;34m(\u001b[0m\u001b[0;34m)\u001b[0m\u001b[0;34m\u001b[0m\u001b[0;34m\u001b[0m\u001b[0m\n",
            "\u001b[0;32m/usr/local/lib/python3.6/dist-packages/matplotlib/backends/backend_agg.py\u001b[0m in \u001b[0;36mdraw_text\u001b[0;34m(self, gc, x, y, s, prop, angle, ismath, mtext)\u001b[0m\n\u001b[1;32m    178\u001b[0m             \u001b[0;31m# We pass '0' for angle here, since it will be rotated (in raster\u001b[0m\u001b[0;34m\u001b[0m\u001b[0;34m\u001b[0m\u001b[0;34m\u001b[0m\u001b[0m\n\u001b[1;32m    179\u001b[0m             \u001b[0;31m# space) in the following call to draw_text_image).\u001b[0m\u001b[0;34m\u001b[0m\u001b[0;34m\u001b[0m\u001b[0;34m\u001b[0m\u001b[0m\n\u001b[0;32m--> 180\u001b[0;31m             \u001b[0mfont\u001b[0m\u001b[0;34m.\u001b[0m\u001b[0mset_text\u001b[0m\u001b[0;34m(\u001b[0m\u001b[0ms\u001b[0m\u001b[0;34m,\u001b[0m \u001b[0;36m0\u001b[0m\u001b[0;34m,\u001b[0m \u001b[0mflags\u001b[0m\u001b[0;34m=\u001b[0m\u001b[0mflags\u001b[0m\u001b[0;34m)\u001b[0m\u001b[0;34m\u001b[0m\u001b[0;34m\u001b[0m\u001b[0m\n\u001b[0m\u001b[1;32m    181\u001b[0m         \u001b[0mfont\u001b[0m\u001b[0;34m.\u001b[0m\u001b[0mdraw_glyphs_to_bitmap\u001b[0m\u001b[0;34m(\u001b[0m\u001b[0mantialiased\u001b[0m\u001b[0;34m=\u001b[0m\u001b[0mrcParams\u001b[0m\u001b[0;34m[\u001b[0m\u001b[0;34m'text.antialiased'\u001b[0m\u001b[0;34m]\u001b[0m\u001b[0;34m)\u001b[0m\u001b[0;34m\u001b[0m\u001b[0;34m\u001b[0m\u001b[0m\n\u001b[1;32m    182\u001b[0m         \u001b[0md\u001b[0m \u001b[0;34m=\u001b[0m \u001b[0mfont\u001b[0m\u001b[0;34m.\u001b[0m\u001b[0mget_descent\u001b[0m\u001b[0;34m(\u001b[0m\u001b[0;34m)\u001b[0m \u001b[0;34m/\u001b[0m \u001b[0;36m64.0\u001b[0m\u001b[0;34m\u001b[0m\u001b[0;34m\u001b[0m\u001b[0m\n",
            "\u001b[0;31mKeyboardInterrupt\u001b[0m: "
          ]
        }
      ]
    }
  ]
}