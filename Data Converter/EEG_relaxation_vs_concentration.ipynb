{
  "nbformat": 4,
  "nbformat_minor": 0,
  "metadata": {
    "kernelspec": {
      "name": "python3",
      "display_name": "Python 3"
    },
    "language_info": {
      "codemirror_mode": {
        "name": "ipython",
        "version": 3
      },
      "file_extension": ".py",
      "mimetype": "text/x-python",
      "name": "python",
      "nbconvert_exporter": "python",
      "pygments_lexer": "ipython3",
      "version": "3.7.6"
    },
    "colab": {
      "name": "EEG_relaxation_vs_concentration.ipynb",
      "provenance": []
    },
    "accelerator": "GPU"
  },
  "cells": [
    {
      "cell_type": "markdown",
      "metadata": {
        "id": "fx4Ce2AOZKcG",
        "colab_type": "text"
      },
      "source": [
        "## Introduction\n",
        "This notebook originated from the Kaggle bot! However, it only looked at the names of the EEG files in the directory.  Rafael has added the rest."
      ]
    },
    {
      "cell_type": "code",
      "metadata": {
        "id": "i392ddOAZQRz",
        "colab_type": "code",
        "outputId": "7a9b4c8c-b84c-4c67-c56d-95f1e4c344f3",
        "colab": {
          "base_uri": "https://localhost:8080/",
          "height": 143
        }
      },
      "source": [
        "# Colab settings/mount\n",
        "from google.colab import drive\n",
        "drive.mount('/content/gdrive')\n",
        "%cd gdrive/My\\ Drive/CSE\\ 240/Project/Data/EEG"
      ],
      "execution_count": 1,
      "outputs": [
        {
          "output_type": "stream",
          "text": [
            "Go to this URL in a browser: https://accounts.google.com/o/oauth2/auth?client_id=947318989803-6bn6qk8qdgf4n4g3pfee6491hc0brc4i.apps.googleusercontent.com&redirect_uri=urn%3aietf%3awg%3aoauth%3a2.0%3aoob&response_type=code&scope=email%20https%3a%2f%2fwww.googleapis.com%2fauth%2fdocs.test%20https%3a%2f%2fwww.googleapis.com%2fauth%2fdrive%20https%3a%2f%2fwww.googleapis.com%2fauth%2fdrive.photos.readonly%20https%3a%2f%2fwww.googleapis.com%2fauth%2fpeopleapi.readonly\n",
            "\n",
            "Enter your authorization code:\n",
            "··········\n",
            "Mounted at /content/gdrive\n",
            "/content/gdrive/My Drive/CSE 240/Project/Data/EEG\n"
          ],
          "name": "stdout"
        }
      ]
    },
    {
      "cell_type": "code",
      "metadata": {
        "id": "4j_5IDIMZTbf",
        "colab_type": "code",
        "outputId": "f9813ca6-62e3-4d82-f86e-b4c92f3c8292",
        "colab": {
          "base_uri": "https://localhost:8080/",
          "height": 387
        }
      },
      "source": [
        "!ls"
      ],
      "execution_count": 2,
      "outputs": [
        {
          "output_type": "stream",
          "text": [
            "raw_images   S007E03.edf  S012E04.edf  S018E01.edf  S023E02.edf\n",
            "S002E03.edf  S007E04.edf  S013E01.edf  S018E02.edf  S023E03.edf\n",
            "S002E04.edf  S008E01.edf  S013E02.edf  S018E03.edf  S023E04.edf\n",
            "S003E01.edf  S008E02.edf  S013E03.edf  S018E04.edf  S024E01.edf\n",
            "S003E02.edf  S008E03.edf  S013E04.edf  S019E01.edf  S024E02.edf\n",
            "S003E03.edf  S008E04.edf  S014E01.edf  S019E02.edf  S024E03.edf\n",
            "S003E04.edf  S009E01.edf  S014E02.edf  S019E03.edf  S024E04.edf\n",
            "S004E01.edf  S009E02.edf  S014E03.edf  S019E04.edf  S025E01.edf\n",
            "S004E02.edf  S009E03.edf  S014E04.edf  S020E01.edf  S025E02.edf\n",
            "S004E03.edf  S009E04.edf  S015E01.edf  S020E02.edf  S025E03.edf\n",
            "S004E04.edf  S010E01.edf  S015E02.edf  S020E03.edf  S025E04.edf\n",
            "S005E01.edf  S010E02.edf  S015E03.edf  S020E04.edf  S026E01.edf\n",
            "S005E02.edf  S010E03.edf  S015E04.edf  S021E01.edf  S026E02.edf\n",
            "S005E03.edf  S010E04.edf  S016E01.edf  S021E02.edf  S026E03.edf\n",
            "S005E04.edf  S011E01.edf  S016E02.edf  S021E03.edf  S026E04.edf\n",
            "S006E01.edf  S011E02.edf  S016E03.edf  S021E04.edf  S027E01.edf\n",
            "S006E02.edf  S011E03.edf  S016E04.edf  S022E01.edf  S027E02.edf\n",
            "S006E03.edf  S011E04.edf  S017E01.edf  S022E02.edf  S027E03.edf\n",
            "S006E04.edf  S012E01.edf  S017E02.edf  S022E03.edf  S027E04.edf\n",
            "S007E01.edf  S012E02.edf  S017E03.edf  S022E04.edf  spectrogram_images\n",
            "S007E02.edf  S012E03.edf  S017E04.edf  S023E01.edf\n"
          ],
          "name": "stdout"
        }
      ]
    },
    {
      "cell_type": "code",
      "metadata": {
        "id": "kmKIM7K71i4t",
        "colab_type": "code",
        "outputId": "13344e65-83ee-49e4-a92d-270c45e9882b",
        "colab": {
          "base_uri": "https://localhost:8080/",
          "height": 140
        }
      },
      "source": [
        "!pip install mne"
      ],
      "execution_count": 3,
      "outputs": [
        {
          "output_type": "stream",
          "text": [
            "Collecting mne\n",
            "\u001b[?25l  Downloading https://files.pythonhosted.org/packages/a1/7c/ad1b52a3fdd4be8f55e183f1eff7d76f48cd1bee83c5630f9c26770e032e/mne-0.19.2-py3-none-any.whl (6.4MB)\n",
            "\u001b[K     |████████████████████████████████| 6.4MB 7.6MB/s \n",
            "\u001b[?25hRequirement already satisfied: scipy>=0.17.1 in /usr/local/lib/python3.6/dist-packages (from mne) (1.4.1)\n",
            "Requirement already satisfied: numpy>=1.11.3 in /usr/local/lib/python3.6/dist-packages (from mne) (1.17.5)\n",
            "Installing collected packages: mne\n",
            "Successfully installed mne-0.19.2\n"
          ],
          "name": "stdout"
        }
      ]
    },
    {
      "cell_type": "code",
      "metadata": {
        "id": "cMDWpuKzZKcM",
        "colab_type": "code",
        "colab": {}
      },
      "source": [
        "import mne    # for reading .edf files (and much else)"
      ],
      "execution_count": 0,
      "outputs": []
    },
    {
      "cell_type": "code",
      "metadata": {
        "id": "Ng5_fguOZKcV",
        "colab_type": "code",
        "outputId": "50efda80-f1bf-487e-be41-4e6411fec039",
        "colab": {
          "base_uri": "https://localhost:8080/",
          "height": 87
        }
      },
      "source": [
        "file = \"S003E01.edf\"\n",
        "data = mne.io.read_raw_edf(file)\n",
        "raw_data = data.get_data()\n",
        "# you can get the metadata included in the file and a list of all channels:\n",
        "info = data.info\n",
        "channels = data.ch_names"
      ],
      "execution_count": 5,
      "outputs": [
        {
          "output_type": "stream",
          "text": [
            "Extracting EDF parameters from /content/gdrive/My Drive/CSE 240/Project/Data/EEG/S003E01.edf...\n",
            "EDF file detected\n",
            "Setting channel info structure...\n",
            "Creating raw.info structure...\n"
          ],
          "name": "stdout"
        }
      ]
    },
    {
      "cell_type": "code",
      "metadata": {
        "id": "XjVJzVkVZKce",
        "colab_type": "code",
        "outputId": "da3a44c8-5530-4f74-fc73-04995f444695",
        "colab": {
          "base_uri": "https://localhost:8080/",
          "height": 686
        }
      },
      "source": [
        "info"
      ],
      "execution_count": 0,
      "outputs": [
        {
          "output_type": "execute_result",
          "data": {
            "text/plain": [
              "<Info | 16 non-empty fields\n",
              "    bads : list | 0 items\n",
              "    ch_names : list | AF3, F7, F3, FC5, T7, P7, O1, O2, P8, ...\n",
              "    chs : list | 14 items (EEG: 14)\n",
              "    comps : list | 0 items\n",
              "    custom_ref_applied : bool | False\n",
              "    dev_head_t : Transform | 3 items\n",
              "    events : list | 0 items\n",
              "    highpass : float | 0.0 Hz\n",
              "    hpi_meas : list | 0 items\n",
              "    hpi_results : list | 0 items\n",
              "    lowpass : float | 128.0 Hz\n",
              "    meas_date : tuple | 2018-06-13 14:34:37 GMT\n",
              "    nchan : int | 14\n",
              "    proc_history : list | 0 items\n",
              "    projs : list | 0 items\n",
              "    sfreq : float | 256.0 Hz\n",
              "    acq_pars : NoneType\n",
              "    acq_stim : NoneType\n",
              "    ctf_head_t : NoneType\n",
              "    description : NoneType\n",
              "    dev_ctf_t : NoneType\n",
              "    device_info : NoneType\n",
              "    dig : NoneType\n",
              "    experimenter : NoneType\n",
              "    file_id : NoneType\n",
              "    gantry_angle : NoneType\n",
              "    helium_info : NoneType\n",
              "    hpi_subsystem : NoneType\n",
              "    kit_system_id : NoneType\n",
              "    line_freq : NoneType\n",
              "    meas_id : NoneType\n",
              "    proj_id : NoneType\n",
              "    proj_name : NoneType\n",
              "    subject_info : NoneType\n",
              "    utc_offset : NoneType\n",
              "    xplotter_layout : NoneType\n",
              ">"
            ]
          },
          "metadata": {
            "tags": []
          },
          "execution_count": 17
        }
      ]
    },
    {
      "cell_type": "code",
      "metadata": {
        "id": "1bJRcylaZKcm",
        "colab_type": "code",
        "outputId": "4a5eaf9b-bdb5-46a2-8d63-d387bba2a274",
        "colab": {
          "base_uri": "https://localhost:8080/",
          "height": 263
        }
      },
      "source": [
        "channels"
      ],
      "execution_count": 0,
      "outputs": [
        {
          "output_type": "execute_result",
          "data": {
            "text/plain": [
              "['AF3',\n",
              " 'F7',\n",
              " 'F3',\n",
              " 'FC5',\n",
              " 'T7',\n",
              " 'P7',\n",
              " 'O1',\n",
              " 'O2',\n",
              " 'P8',\n",
              " 'T8',\n",
              " 'FC6',\n",
              " 'F4',\n",
              " 'F8',\n",
              " 'AF4']"
            ]
          },
          "metadata": {
            "tags": []
          },
          "execution_count": 18
        }
      ]
    },
    {
      "cell_type": "code",
      "metadata": {
        "id": "VBF7wvlyZKcu",
        "colab_type": "code",
        "outputId": "7f1704f5-c579-4ab2-c8c5-34f8abec5cd2",
        "colab": {
          "base_uri": "https://localhost:8080/",
          "height": 35
        }
      },
      "source": [
        "raw_data.shape"
      ],
      "execution_count": 0,
      "outputs": [
        {
          "output_type": "execute_result",
          "data": {
            "text/plain": [
              "(14, 46080)"
            ]
          },
          "metadata": {
            "tags": []
          },
          "execution_count": 19
        }
      ]
    },
    {
      "cell_type": "markdown",
      "metadata": {
        "id": "BM_jwwcjZKc1",
        "colab_type": "text"
      },
      "source": [
        "## Exploratory Analysis\n",
        "The following packages are often useful."
      ]
    },
    {
      "cell_type": "code",
      "metadata": {
        "_kg_hide-input": false,
        "id": "94-S8mj-ZKc3",
        "colab_type": "code",
        "colab": {}
      },
      "source": [
        "#from mpl_toolkits.mplot3d import Axes3D\n",
        "from sklearn.preprocessing import StandardScaler\n",
        "import matplotlib.pyplot as plt # plotting\n",
        "import numpy as np # linear algebra\n",
        "#import os # accessing directory structure\n",
        "#import pandas as pd # data processing, CSV file I/O (e.g. pd.read_csv)\n",
        "#from scipy.io import loadmat   # this function imports .MAT files (MatLab files) into Python (as directories)"
      ],
      "execution_count": 0,
      "outputs": []
    },
    {
      "cell_type": "markdown",
      "metadata": {
        "id": "dqbpTX1qZKc_",
        "colab_type": "text"
      },
      "source": [
        "### EEG Data\n",
        "\n",
        "The actual surface electrode readings are given in the dat6 array. For example, at time 1000 we have the following microvolt measurments at each of the 25 leads."
      ]
    },
    {
      "cell_type": "code",
      "metadata": {
        "scrolled": true,
        "id": "I1mU7sBPZKdB",
        "colab_type": "code",
        "outputId": "14ee4c13-dbe0-4ec2-f351-b248d363d172",
        "colab": {
          "base_uri": "https://localhost:8080/",
          "height": 87
        }
      },
      "source": [
        "raw_data[:, 1000]"
      ],
      "execution_count": 0,
      "outputs": [
        {
          "output_type": "execute_result",
          "data": {
            "text/plain": [
              "array([4.27519883e-05, 4.65109476e-05, 2.76258476e-05, 5.37701260e-05,\n",
              "       1.93465649e-05, 1.24181482e-05, 1.06720265e-05, 1.67187913e-05,\n",
              "       8.44941075e-05, 2.36010758e-05, 4.19182986e-05, 2.76447411e-05,\n",
              "       2.96294392e-05, 1.54665940e-04])"
            ]
          },
          "metadata": {
            "tags": []
          },
          "execution_count": 21
        }
      ]
    },
    {
      "cell_type": "markdown",
      "metadata": {
        "id": "ekD2wJKJZKdI",
        "colab_type": "text"
      },
      "source": [
        "Lets take a look at lead 10."
      ]
    },
    {
      "cell_type": "code",
      "metadata": {
        "id": "X8iqSDkmZKdK",
        "colab_type": "code",
        "outputId": "79d156c4-00f1-4f0a-9917-640c09b17de0",
        "colab": {
          "base_uri": "https://localhost:8080/",
          "height": 246
        }
      },
      "source": [
        "channel = 1   # occipital lead  O1 \n",
        "raw_data[channel, : 50]"
      ],
      "execution_count": 7,
      "outputs": [
        {
          "output_type": "execute_result",
          "data": {
            "text/plain": [
              "array([-1.97479420e-05, -1.56383051e-05, -1.05129341e-05, -7.43070636e-06,\n",
              "       -7.94441097e-06, -1.10266387e-05, -1.56383051e-05, -1.92342374e-05,\n",
              "       -2.17910854e-05, -2.17910854e-05, -1.92342374e-05, -1.56383051e-05,\n",
              "       -1.25677525e-05, -9.99922943e-06, -6.41497223e-06, -7.64221454e-07,\n",
              "        7.43170219e-06,  1.66667102e-05,  2.43606043e-05,  2.89722707e-05,\n",
              "        3.05133846e-05,  2.89722707e-05,  2.48743089e-05,  1.92352332e-05,\n",
              "        1.35844825e-05,  9.48652065e-06,  6.91799757e-06,  7.43170219e-06,\n",
              "        8.45911142e-06,  8.45911142e-06,  5.90226345e-06,  1.79262652e-06,\n",
              "       -2.81903992e-06, -6.41497223e-06, -7.43070636e-06, -6.41497223e-06,\n",
              "       -4.87385838e-06, -3.84644915e-06, -3.33274453e-06, -1.79163069e-06,\n",
              "        7.65217288e-07,  4.36114960e-06,  5.90226345e-06,  4.36114960e-06,\n",
              "       -7.64221454e-07, -5.38756300e-06, -8.45811559e-06, -8.45811559e-06,\n",
              "       -8.45811559e-06, -1.05129341e-05])"
            ]
          },
          "metadata": {
            "tags": []
          },
          "execution_count": 7
        }
      ]
    },
    {
      "cell_type": "code",
      "metadata": {
        "id": "AnFZepb5ZKdR",
        "colab_type": "code",
        "outputId": "a997a917-3537-4614-b9b2-b5d36e16c9c6",
        "colab": {
          "base_uri": "https://localhost:8080/",
          "height": 35
        }
      },
      "source": [
        "channels[channel]"
      ],
      "execution_count": 0,
      "outputs": [
        {
          "output_type": "execute_result",
          "data": {
            "text/plain": [
              "'F7'"
            ]
          },
          "metadata": {
            "tags": []
          },
          "execution_count": 23
        }
      ]
    },
    {
      "cell_type": "code",
      "metadata": {
        "id": "oyl96jPjZKdY",
        "colab_type": "code",
        "outputId": "8d5f8c29-f8fb-48f5-ac11-73268f7eba0e",
        "colab": {
          "base_uri": "https://localhost:8080/",
          "height": 52
        }
      },
      "source": [
        "raw_data[channel,:]"
      ],
      "execution_count": 0,
      "outputs": [
        {
          "output_type": "execute_result",
          "data": {
            "text/plain": [
              "array([8.65048524e-07, 2.36749975e-06, 2.36749975e-06, ...,\n",
              "       9.41601150e-05, 9.31584809e-05, 8.95812161e-05])"
            ]
          },
          "metadata": {
            "tags": []
          },
          "execution_count": 24
        }
      ]
    },
    {
      "cell_type": "code",
      "metadata": {
        "id": "rfmHNdLoZKdf",
        "colab_type": "code",
        "outputId": "73c1e013-346d-4fd8-9651-584b5445fd0e",
        "colab": {
          "base_uri": "https://localhost:8080/",
          "height": 295
        }
      },
      "source": [
        "%matplotlib inline\n",
        "\n",
        "import matplotlib.pyplot as plt\n",
        "\n",
        "x = np.linspace(0, len(raw_data[channel, :]) / 256., len(raw_data[channel, :]))\n",
        "y = raw_data[channel, :]\n",
        "\n",
        "plt.plot(x, y)\n",
        "plt.title('Lead #' + channels[channel]) \n",
        "plt.xlabel('Seconds'); plt.ylabel('microvolts')\n",
        "plt.show()"
      ],
      "execution_count": 8,
      "outputs": [
        {
          "output_type": "display_data",
          "data": {
            "image/png": "[encoded data removed]",
            "text/plain": [
              "<Figure size 432x288 with 1 Axes>"
            ]
          },
          "metadata": {
            "tags": []
          }
        }
      ]
    },
    {
      "cell_type": "markdown",
      "metadata": {
        "id": "bTeHQY0YZKdl",
        "colab_type": "text"
      },
      "source": [
        "Let's create a spectrogram for this lead."
      ]
    },
    {
      "cell_type": "code",
      "metadata": {
        "id": "3xgaWem9ZKdr",
        "colab_type": "code",
        "outputId": "14d1f26c-20f7-4c8f-e287-e6debf6f684e",
        "colab": {
          "base_uri": "https://localhost:8080/",
          "height": 283
        }
      },
      "source": [
        "from scipy import signal\n",
        "plt.set_cmap('jet')\n",
        "x = raw_data[channel, 1280:2560]\n",
        "print(x)\n",
        "#x = raw_data[channel, 1280:2561]\n",
        "#fs = 256  # Assume 512 Hz sampling rate for now...   # SampFreq[0, 0] \n",
        "#f, t, Sxx = signal.spectrogram(x, fs, window = signal.tukey(512, .25))\n",
        "fs = 256  # Assume 512 Hz sampling rate for now...   # SampFreq[0, 0] \n",
        "f, t, Sxx = signal.spectrogram(x, fs, window = signal.tukey(128), noverlap = 102)\n",
        "\n",
        "plt.pcolormesh(t, f, np.log10(Sxx))\n",
        "#plt.ylabel('Frequency [Hz]')\n",
        "#plt.xlabel('Time [sec]')\n",
        "#plt.title('Lead ' + str(channel)) # + LsEEG[channel]\n",
        "#plt.show()\n",
        "fig, ax = plt.subplots( nrows=1, ncols=1 )\n",
        "fig.figsize= (800, 800)\n",
        "fig.gca().set_axis_off()\n",
        "fig.gca().xaxis.set_major_locator(plt.NullLocator())\n",
        "fig.gca().yaxis.set_major_locator(plt.NullLocator())\n",
        "ax.pcolormesh(t, f, np.log10(Sxx))\n",
        "fig.savefig('eeg_small.png', bbox_inches = 'tight', pad_inches = 0)   # save the figure to file\n",
        "plt.close(fig)\n"
      ],
      "execution_count": 15,
      "outputs": [
        {
          "output_type": "stream",
          "text": [
            "[-5.20529573e-05 -5.20529573e-05 -4.99981388e-05 ... -1.20540479e-05\n",
            " -9.48552482e-06 -5.38756300e-06]\n"
          ],
          "name": "stdout"
        },
        {
          "output_type": "display_data",
          "data": {
            "image/png": "[encoded data removed]",
            "text/plain": [
              "<Figure size 432x288 with 1 Axes>"
            ]
          },
          "metadata": {
            "tags": []
          }
        }
      ]
    },
    {
      "cell_type": "code",
      "metadata": {
        "id": "KG4PynIZZKdw",
        "colab_type": "code",
        "outputId": "acdb1bbe-bf0f-4b87-c4c0-2b7344c8ed44",
        "colab": {
          "base_uri": "https://localhost:8080/",
          "height": 387
        }
      },
      "source": [
        "!ls"
      ],
      "execution_count": 10,
      "outputs": [
        {
          "output_type": "stream",
          "text": [
            "eeg_small.png  S007E02.edf  S012E03.edf  S017E04.edf  S023E01.edf\n",
            "raw_images     S007E03.edf  S012E04.edf  S018E01.edf  S023E02.edf\n",
            "S002E03.edf    S007E04.edf  S013E01.edf  S018E02.edf  S023E03.edf\n",
            "S002E04.edf    S008E01.edf  S013E02.edf  S018E03.edf  S023E04.edf\n",
            "S003E01.edf    S008E02.edf  S013E03.edf  S018E04.edf  S024E01.edf\n",
            "S003E02.edf    S008E03.edf  S013E04.edf  S019E01.edf  S024E02.edf\n",
            "S003E03.edf    S008E04.edf  S014E01.edf  S019E02.edf  S024E03.edf\n",
            "S003E04.edf    S009E01.edf  S014E02.edf  S019E03.edf  S024E04.edf\n",
            "S004E01.edf    S009E02.edf  S014E03.edf  S019E04.edf  S025E01.edf\n",
            "S004E02.edf    S009E03.edf  S014E04.edf  S020E01.edf  S025E02.edf\n",
            "S004E03.edf    S009E04.edf  S015E01.edf  S020E02.edf  S025E03.edf\n",
            "S004E04.edf    S010E01.edf  S015E02.edf  S020E03.edf  S025E04.edf\n",
            "S005E01.edf    S010E02.edf  S015E03.edf  S020E04.edf  S026E01.edf\n",
            "S005E02.edf    S010E03.edf  S015E04.edf  S021E01.edf  S026E02.edf\n",
            "S005E03.edf    S010E04.edf  S016E01.edf  S021E02.edf  S026E03.edf\n",
            "S005E04.edf    S011E01.edf  S016E02.edf  S021E03.edf  S026E04.edf\n",
            "S006E01.edf    S011E02.edf  S016E03.edf  S021E04.edf  S027E01.edf\n",
            "S006E02.edf    S011E03.edf  S016E04.edf  S022E01.edf  S027E02.edf\n",
            "S006E03.edf    S011E04.edf  S017E01.edf  S022E02.edf  S027E03.edf\n",
            "S006E04.edf    S012E01.edf  S017E02.edf  S022E03.edf  S027E04.edf\n",
            "S007E01.edf    S012E02.edf  S017E03.edf  S022E04.edf  spectrogram_images\n"
          ],
          "name": "stdout"
        }
      ]
    },
    {
      "cell_type": "markdown",
      "metadata": {
        "id": "NSrHuewxZKd2",
        "colab_type": "text"
      },
      "source": [
        "## Run this to generate images"
      ]
    },
    {
      "cell_type": "code",
      "metadata": {
        "id": "Ixwol7MjZKd4",
        "colab_type": "code",
        "outputId": "e9ae4734-bc4e-4a25-82c9-422abfecdf6d",
        "colab": {
          "base_uri": "https://localhost:8080/",
          "height": 1000
        }
      },
      "source": [
        "import matplotlib.pyplot as plt # plotting\n",
        "import mne\n",
        "import numpy as np # linear algebra\n",
        "import os\n",
        "from scipy import signal\n",
        "from sklearn.preprocessing import StandardScaler\n",
        "\n",
        "# If folders don't exist already create them in the home directory.\n",
        "if not os.path.exists(\"raw_images\"):\n",
        "    os.mkdir(\"raw_images\")\n",
        "if not os.path.exists(\"raw_images/relaxed\"):\n",
        "    os.mkdir(\"raw_images/relaxed\")\n",
        "if not os.path.exists(\"raw_images/concentration\"):\n",
        "    os.mkdir(\"raw_images/concentration\")\n",
        "if not os.path.exists(\"../spectrogram_images\"):\n",
        "    os.mkdir(\"../spectrogram_images\")\n",
        "if not os.path.exists(\"../spectrogram_images/relaxed\"):\n",
        "    os.mkdir(\"../spectrogram_images/relaxed\")\n",
        "if not os.path.exists(\"../spectrogram_images/concentration\"):\n",
        "    os.mkdir(\"../spectrogram_images/concentration\")\n",
        "\n",
        "for filename in os.listdir('.'):\n",
        "    if not filename.startswith(\"S002\"):\n",
        "      continue\n",
        "    file_name = os.path.join('.',filename)\n",
        "  \n",
        "    file_type = 0 if filename.split(\".\")[0].endswith(\"E01\") or filename.split(\".\")[0].endswith(\"E03\") else 1\n",
        "    data = mne.io.read_raw_edf(file_name)\n",
        "    raw_data = data.get_data()\n",
        "    info = data.info\n",
        "    channels = data.ch_names\n",
        "    for part in range(36):\n",
        "        for index, channel in enumerate(channels):\n",
        "            print(\"Processing %s channel of file %s part %s.\" % (channel, filename, part))\n",
        "            folder_name = filename.split(\".\")[0] + \"_\" + str(part)\n",
        "            '''\n",
        "            folder_path = os.path.join('raw_images/relaxed',folder_name) if file_type == 0 else os.path.join('raw_images/concentration',folder_name)\n",
        "            if not os.path.exists(folder_path):\n",
        "                print(\"creating folder %s.\" % (folder_name))\n",
        "                os.mkdir(folder_path)\n",
        "            new_filename = \"%s_%s.png\" % (folder_name, channel)\n",
        "            # path to store raw time domain images of the signals\n",
        "            # choose folder based on file type\n",
        "            start = part * 1280\n",
        "            end = (part+1) * 1280\n",
        "            new_file_path = os.path.join(folder_path, new_filename)\n",
        "            x = np.linspace(0, len(raw_data[index, start:end]) / 256., len(raw_data[index, start:end]))\n",
        "            y = raw_data[index, start:end]\n",
        "            fig, ax = plt.subplots( nrows=1, ncols=1 )\n",
        "            fig.figsize= (800, 800)\n",
        "            ax.plot(x, y)\n",
        "            #ax.title('Lead #' + channel) \n",
        "            #ax.xlabel('Seconds'); plt.ylabel('microvolts')\n",
        "            fig.savefig(new_file_path)   # save the figure to file\n",
        "            plt.close(fig)\n",
        "            #plt.plot(x, y)\n",
        "            #plt.show()\n",
        "            '''\n",
        "            start = part * 1280\n",
        "            end = (part+1) * 1280\n",
        "            # path to store frequency domain spectrogram images of the signals\n",
        "            folder_path = os.path.join('../spectrogram_images/relaxed',folder_name) if file_type == 0 else os.path.join('../spectrogram_images/concentration',folder_name)\n",
        "            if not os.path.exists(folder_path):\n",
        "                print(\"creating folder %s.\" % (folder_name))\n",
        "                os.mkdir(folder_path)\n",
        "            new_filename = \"%s_%s.png\" % (folder_name, channel)\n",
        "            new_file_path = os.path.join(folder_path, new_filename)\n",
        "            x = raw_data[index, start:end]\n",
        "            fs = 256  # Assume 512 Hz sampling rate for now...   # SampFreq[0, 0] \n",
        "            #f, t, Sxx = signal.spectrogram(x, fs, window = signal.tukey(512, .25))\n",
        "            f, t, Sxx = signal.spectrogram(x, fs, window = signal.tukey(256), noverlap = 204)\n",
        "            fig, ax = plt.subplots( nrows=1, ncols=1 )\n",
        "            fig.figsize= (800, 800)\n",
        "            ax.pcolormesh(t, f, np.log10(Sxx))\n",
        "            #ax.ylabel('Frequency [Hz]')\n",
        "            #ax.xlabel('Time [sec]')\n",
        "            #plt.title('Lead ' + channel) # + LsEEG[channel]\n",
        "            #ax.set_cmap('jet')\n",
        "            #plt.show()\n",
        "            fig.savefig(new_file_path)   # save the figure to file\n",
        "            plt.close(fig)\n",
        "    \n",
        "    '''\n",
        "    f = pyedflib.EdfReader(file_name)\n",
        "    n = f.signals_in_file\n",
        "    signal_labels = f.getSignalLabels()\n",
        "    sigbufs = np.zeros((n, f.getNSamples()[0]))\n",
        "    for i in np.arange(n):\n",
        "        sigbufs[i, :] = f.readSignal(i)\n",
        "    new_filename = filename.replace(\".edf\",\".csv\")\n",
        "    new_file_path = os.path.join('spectrogram_files',new_filename)\n",
        "    os.mkdir(new_file_path)\n",
        "    with open(new_file_path, mode='w') as record_file:\n",
        "        record_writer = csv.writer(record_file, delimiter=',', quotechar='\"', quoting=csv.QUOTE_MINIMAL)\n",
        "        for record in sigbufs:\n",
        "            record_writer.writerow(record)\n",
        "    '''"
      ],
      "execution_count": 0,
      "outputs": [
        {
          "output_type": "stream",
          "text": [
            "Extracting EDF parameters from /content/gdrive/My Drive/CSE 240/Project/Data/EEG/S002E03.edf...\n",
            "EDF file detected\n",
            "Setting channel info structure...\n",
            "Creating raw.info structure...\n",
            "Processing AF3 channel of file S002E03.edf part 0.\n",
            "Processing F7 channel of file S002E03.edf part 0.\n",
            "Processing F3 channel of file S002E03.edf part 0.\n",
            "Processing FC5 channel of file S002E03.edf part 0.\n",
            "Processing T7 channel of file S002E03.edf part 0.\n",
            "Processing P7 channel of file S002E03.edf part 0.\n",
            "Processing O1 channel of file S002E03.edf part 0.\n",
            "Processing O2 channel of file S002E03.edf part 0.\n",
            "Processing P8 channel of file S002E03.edf part 0.\n"
          ],
          "name": "stdout"
        },
        {
          "output_type": "stream",
          "text": [
            "/usr/local/lib/python3.6/dist-packages/ipykernel_launcher.py:74: RuntimeWarning: divide by zero encountered in log10\n"
          ],
          "name": "stderr"
        },
        {
          "output_type": "stream",
          "text": [
            "Processing T8 channel of file S002E03.edf part 0.\n",
            "Processing FC6 channel of file S002E03.edf part 0.\n",
            "Processing F4 channel of file S002E03.edf part 0.\n",
            "Processing F8 channel of file S002E03.edf part 0.\n",
            "Processing AF4 channel of file S002E03.edf part 0.\n",
            "Processing AF3 channel of file S002E03.edf part 1.\n",
            "Processing F7 channel of file S002E03.edf part 1.\n",
            "Processing F3 channel of file S002E03.edf part 1.\n",
            "Processing FC5 channel of file S002E03.edf part 1.\n",
            "Processing T7 channel of file S002E03.edf part 1.\n",
            "Processing P7 channel of file S002E03.edf part 1.\n",
            "Processing O1 channel of file S002E03.edf part 1.\n",
            "Processing O2 channel of file S002E03.edf part 1.\n",
            "Processing P8 channel of file S002E03.edf part 1.\n",
            "Processing T8 channel of file S002E03.edf part 1.\n",
            "Processing FC6 channel of file S002E03.edf part 1.\n",
            "Processing F4 channel of file S002E03.edf part 1.\n",
            "Processing F8 channel of file S002E03.edf part 1.\n",
            "Processing AF4 channel of file S002E03.edf part 1.\n",
            "Processing AF3 channel of file S002E03.edf part 2.\n",
            "Processing F7 channel of file S002E03.edf part 2.\n",
            "Processing F3 channel of file S002E03.edf part 2.\n",
            "Processing FC5 channel of file S002E03.edf part 2.\n",
            "Processing T7 channel of file S002E03.edf part 2.\n",
            "Processing P7 channel of file S002E03.edf part 2.\n",
            "Processing O1 channel of file S002E03.edf part 2.\n",
            "Processing O2 channel of file S002E03.edf part 2.\n",
            "Processing P8 channel of file S002E03.edf part 2.\n",
            "Processing T8 channel of file S002E03.edf part 2.\n",
            "Processing FC6 channel of file S002E03.edf part 2.\n",
            "Processing F4 channel of file S002E03.edf part 2.\n",
            "Processing F8 channel of file S002E03.edf part 2.\n",
            "Processing AF4 channel of file S002E03.edf part 2.\n",
            "Processing AF3 channel of file S002E03.edf part 3.\n",
            "Processing F7 channel of file S002E03.edf part 3.\n",
            "Processing F3 channel of file S002E03.edf part 3.\n",
            "Processing FC5 channel of file S002E03.edf part 3.\n",
            "Processing T7 channel of file S002E03.edf part 3.\n",
            "Processing P7 channel of file S002E03.edf part 3.\n",
            "Processing O1 channel of file S002E03.edf part 3.\n",
            "Processing O2 channel of file S002E03.edf part 3.\n",
            "Processing P8 channel of file S002E03.edf part 3.\n",
            "Processing T8 channel of file S002E03.edf part 3.\n",
            "Processing FC6 channel of file S002E03.edf part 3.\n",
            "Processing F4 channel of file S002E03.edf part 3.\n",
            "Processing F8 channel of file S002E03.edf part 3.\n",
            "Processing AF4 channel of file S002E03.edf part 3.\n",
            "Processing AF3 channel of file S002E03.edf part 4.\n",
            "Processing F7 channel of file S002E03.edf part 4.\n",
            "Processing F3 channel of file S002E03.edf part 4.\n",
            "Processing FC5 channel of file S002E03.edf part 4.\n",
            "Processing T7 channel of file S002E03.edf part 4.\n",
            "Processing P7 channel of file S002E03.edf part 4.\n",
            "Processing O1 channel of file S002E03.edf part 4.\n"
          ],
          "name": "stdout"
        }
      ]
    }
  ]
}