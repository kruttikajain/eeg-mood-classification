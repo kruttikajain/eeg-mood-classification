{
  "nbformat": 4,
  "nbformat_minor": 0,
  "metadata": {
    "kernelspec": {
      "display_name": "Python 3",
      "language": "python",
      "name": "python3"
    },
    "language_info": {
      "codemirror_mode": {
        "name": "ipython",
        "version": 3
      },
      "file_extension": ".py",
      "mimetype": "text/x-python",
      "name": "python",
      "nbconvert_exporter": "python",
      "pygments_lexer": "ipython3",
      "version": "3.7.6"
    },
    "colab": {
      "name": "EEG_relaxation_vs_concentration.ipynb",
      "provenance": []
    }
  },
  "cells": [
    {
      "cell_type": "markdown",
      "metadata": {
        "id": "fx4Ce2AOZKcG",
        "colab_type": "text"
      },
      "source": [
        "## Introduction\n",
        "This notebook originated from the Kaggle bot! However, it only looked at the names of the EEG files in the directory.  Rafael has added the rest."
      ]
    },
    {
      "cell_type": "code",
      "metadata": {
        "id": "i392ddOAZQRz",
        "colab_type": "code",
        "colab": {
          "base_uri": "https://localhost:8080/",
          "height": 70
        },
        "outputId": "3aef18ff-36bb-432a-86bf-0d5ec444f39a"
      },
      "source": [
        "# Colab settings/mount\n",
        "from google.colab import drive\n",
        "drive.mount('/content/gdrive')\n",
        "%cd gdrive/My\\ Drive/CSE\\ 240/Project/Data/EEG"
      ],
      "execution_count": 3,
      "outputs": [
        {
          "output_type": "stream",
          "text": [
            "Drive already mounted at /content/gdrive; to attempt to forcibly remount, call drive.mount(\"/content/gdrive\", force_remount=True).\n",
            "[Errno 2] No such file or directory: 'gdrive/My Drive/CSE 240/Project/Data/EEG'\n",
            "/content/gdrive/My Drive/CSE 240/Project/Data\n"
          ],
          "name": "stdout"
        }
      ]
    },
    {
      "cell_type": "code",
      "metadata": {
        "id": "4j_5IDIMZTbf",
        "colab_type": "code",
        "colab": {
          "base_uri": "https://localhost:8080/",
          "height": 457
        },
        "outputId": "9504cc51-0f81-40cf-a329-6353f63caea7"
      },
      "source": [
        "!ls"
      ],
      "execution_count": 14,
      "outputs": [
        {
          "output_type": "stream",
          "text": [
            "eeg_small.png  S006E04.edf  S013E01.edf  S019E02.edf  S025E03.edf\n",
            "raw_images     S007E01.edf  S013E02.edf  S019E03.edf  S025E04.edf\n",
            "S001E01.edf    S007E02.edf  S013E03.edf  S019E04.edf  S026E01.edf\n",
            "S001E02.edf    S007E03.edf  S013E04.edf  S020E01.edf  S026E02.edf\n",
            "S001E03.edf    S007E04.edf  S014E01.edf  S020E02.edf  S026E03.edf\n",
            "S001E04.edf    S008E01.edf  S014E02.edf  S020E03.edf  S026E04.edf\n",
            "S002E01.edf    S008E02.edf  S014E03.edf  S020E04.edf  S027E01.edf\n",
            "S002E02.edf    S008E03.edf  S014E04.edf  S021E01.edf  S027E02.edf\n",
            "S002E03.edf    S008E04.edf  S015E01.edf  S021E02.edf  S027E03.edf\n",
            "S002E04.edf    S009E01.edf  S015E02.edf  S021E03.edf  S027E04.edf\n",
            "S003E01.edf    S009E02.edf  S015E03.edf  S021E04.edf  S028E01.edf\n",
            "S003E02.edf    S009E03.edf  S015E04.edf  S022E01.edf  S028E02.edf\n",
            "S003E03.edf    S009E04.edf  S016E01.edf  S022E02.edf  S028E03.edf\n",
            "S003E04.edf    S010E01.edf  S016E02.edf  S022E03.edf  S028E04.edf\n",
            "S004E01.edf    S010E02.edf  S016E03.edf  S022E04.edf  S029E01.edf\n",
            "S004E02.edf    S010E03.edf  S016E04.edf  S023E01.edf  S029E02.edf\n",
            "S004E03.edf    S010E04.edf  S017E01.edf  S023E02.edf  S029E03.edf\n",
            "S004E04.edf    S011E01.edf  S017E02.edf  S023E03.edf  S029E04.edf\n",
            "S005E01.edf    S011E02.edf  S017E03.edf  S023E04.edf  S030E01.edf\n",
            "S005E02.edf    S011E03.edf  S017E04.edf  S024E01.edf  S030E02.edf\n",
            "S005E03.edf    S011E04.edf  S018E01.edf  S024E02.edf  S030E03.edf\n",
            "S005E04.edf    S012E01.edf  S018E02.edf  S024E03.edf  S030E04.edf\n",
            "S006E01.edf    S012E02.edf  S018E03.edf  S024E04.edf  spectrogram_images\n",
            "S006E02.edf    S012E03.edf  S018E04.edf  S025E01.edf\n",
            "S006E03.edf    S012E04.edf  S019E01.edf  S025E02.edf\n"
          ],
          "name": "stdout"
        }
      ]
    },
    {
      "cell_type": "code",
      "metadata": {
        "id": "cMDWpuKzZKcM",
        "colab_type": "code",
        "colab": {}
      },
      "source": [
        "import mne    # for reading .edf files (and much else)"
      ],
      "execution_count": 0,
      "outputs": []
    },
    {
      "cell_type": "code",
      "metadata": {
        "id": "Ng5_fguOZKcV",
        "colab_type": "code",
        "colab": {
          "base_uri": "https://localhost:8080/",
          "height": 87
        },
        "outputId": "9d47ea14-8a2a-4a72-bb2a-d4b3dcabd458"
      },
      "source": [
        "file = \"S001E01.edf\"\n",
        "data = mne.io.read_raw_edf(file)\n",
        "raw_data = data.get_data()\n",
        "# you can get the metadata included in the file and a list of all channels:\n",
        "info = data.info\n",
        "channels = data.ch_names"
      ],
      "execution_count": 16,
      "outputs": [
        {
          "output_type": "stream",
          "text": [
            "Extracting EDF parameters from /content/gdrive/My Drive/CSE 240/Project/Data/EEG/S001E01.edf...\n",
            "EDF file detected\n",
            "Setting channel info structure...\n",
            "Creating raw.info structure...\n"
          ],
          "name": "stdout"
        }
      ]
    },
    {
      "cell_type": "code",
      "metadata": {
        "id": "XjVJzVkVZKce",
        "colab_type": "code",
        "colab": {
          "base_uri": "https://localhost:8080/",
          "height": 686
        },
        "outputId": "da3a44c8-5530-4f74-fc73-04995f444695"
      },
      "source": [
        "info"
      ],
      "execution_count": 17,
      "outputs": [
        {
          "output_type": "execute_result",
          "data": {
            "text/plain": [
              "<Info | 16 non-empty fields\n",
              "    bads : list | 0 items\n",
              "    ch_names : list | AF3, F7, F3, FC5, T7, P7, O1, O2, P8, ...\n",
              "    chs : list | 14 items (EEG: 14)\n",
              "    comps : list | 0 items\n",
              "    custom_ref_applied : bool | False\n",
              "    dev_head_t : Transform | 3 items\n",
              "    events : list | 0 items\n",
              "    highpass : float | 0.0 Hz\n",
              "    hpi_meas : list | 0 items\n",
              "    hpi_results : list | 0 items\n",
              "    lowpass : float | 128.0 Hz\n",
              "    meas_date : tuple | 2018-06-13 14:34:37 GMT\n",
              "    nchan : int | 14\n",
              "    proc_history : list | 0 items\n",
              "    projs : list | 0 items\n",
              "    sfreq : float | 256.0 Hz\n",
              "    acq_pars : NoneType\n",
              "    acq_stim : NoneType\n",
              "    ctf_head_t : NoneType\n",
              "    description : NoneType\n",
              "    dev_ctf_t : NoneType\n",
              "    device_info : NoneType\n",
              "    dig : NoneType\n",
              "    experimenter : NoneType\n",
              "    file_id : NoneType\n",
              "    gantry_angle : NoneType\n",
              "    helium_info : NoneType\n",
              "    hpi_subsystem : NoneType\n",
              "    kit_system_id : NoneType\n",
              "    line_freq : NoneType\n",
              "    meas_id : NoneType\n",
              "    proj_id : NoneType\n",
              "    proj_name : NoneType\n",
              "    subject_info : NoneType\n",
              "    utc_offset : NoneType\n",
              "    xplotter_layout : NoneType\n",
              ">"
            ]
          },
          "metadata": {
            "tags": []
          },
          "execution_count": 17
        }
      ]
    },
    {
      "cell_type": "code",
      "metadata": {
        "id": "1bJRcylaZKcm",
        "colab_type": "code",
        "colab": {
          "base_uri": "https://localhost:8080/",
          "height": 263
        },
        "outputId": "4a5eaf9b-bdb5-46a2-8d63-d387bba2a274"
      },
      "source": [
        "channels"
      ],
      "execution_count": 18,
      "outputs": [
        {
          "output_type": "execute_result",
          "data": {
            "text/plain": [
              "['AF3',\n",
              " 'F7',\n",
              " 'F3',\n",
              " 'FC5',\n",
              " 'T7',\n",
              " 'P7',\n",
              " 'O1',\n",
              " 'O2',\n",
              " 'P8',\n",
              " 'T8',\n",
              " 'FC6',\n",
              " 'F4',\n",
              " 'F8',\n",
              " 'AF4']"
            ]
          },
          "metadata": {
            "tags": []
          },
          "execution_count": 18
        }
      ]
    },
    {
      "cell_type": "code",
      "metadata": {
        "id": "VBF7wvlyZKcu",
        "colab_type": "code",
        "colab": {
          "base_uri": "https://localhost:8080/",
          "height": 35
        },
        "outputId": "7f1704f5-c579-4ab2-c8c5-34f8abec5cd2"
      },
      "source": [
        "raw_data.shape"
      ],
      "execution_count": 19,
      "outputs": [
        {
          "output_type": "execute_result",
          "data": {
            "text/plain": [
              "(14, 46080)"
            ]
          },
          "metadata": {
            "tags": []
          },
          "execution_count": 19
        }
      ]
    },
    {
      "cell_type": "markdown",
      "metadata": {
        "id": "BM_jwwcjZKc1",
        "colab_type": "text"
      },
      "source": [
        "## Exploratory Analysis\n",
        "The following packages are often useful."
      ]
    },
    {
      "cell_type": "code",
      "metadata": {
        "_kg_hide-input": false,
        "id": "94-S8mj-ZKc3",
        "colab_type": "code",
        "colab": {}
      },
      "source": [
        "#from mpl_toolkits.mplot3d import Axes3D\n",
        "from sklearn.preprocessing import StandardScaler\n",
        "import matplotlib.pyplot as plt # plotting\n",
        "import numpy as np # linear algebra\n",
        "#import os # accessing directory structure\n",
        "#import pandas as pd # data processing, CSV file I/O (e.g. pd.read_csv)\n",
        "#from scipy.io import loadmat   # this function imports .MAT files (MatLab files) into Python (as directories)"
      ],
      "execution_count": 0,
      "outputs": []
    },
    {
      "cell_type": "markdown",
      "metadata": {
        "id": "dqbpTX1qZKc_",
        "colab_type": "text"
      },
      "source": [
        "### EEG Data\n",
        "\n",
        "The actual surface electrode readings are given in the dat6 array. For example, at time 1000 we have the following microvolt measurments at each of the 25 leads."
      ]
    },
    {
      "cell_type": "code",
      "metadata": {
        "scrolled": true,
        "id": "I1mU7sBPZKdB",
        "colab_type": "code",
        "colab": {
          "base_uri": "https://localhost:8080/",
          "height": 87
        },
        "outputId": "14ee4c13-dbe0-4ec2-f351-b248d363d172"
      },
      "source": [
        "raw_data[:, 1000]"
      ],
      "execution_count": 21,
      "outputs": [
        {
          "output_type": "execute_result",
          "data": {
            "text/plain": [
              "array([4.27519883e-05, 4.65109476e-05, 2.76258476e-05, 5.37701260e-05,\n",
              "       1.93465649e-05, 1.24181482e-05, 1.06720265e-05, 1.67187913e-05,\n",
              "       8.44941075e-05, 2.36010758e-05, 4.19182986e-05, 2.76447411e-05,\n",
              "       2.96294392e-05, 1.54665940e-04])"
            ]
          },
          "metadata": {
            "tags": []
          },
          "execution_count": 21
        }
      ]
    },
    {
      "cell_type": "markdown",
      "metadata": {
        "id": "ekD2wJKJZKdI",
        "colab_type": "text"
      },
      "source": [
        "Lets take a look at lead 10."
      ]
    },
    {
      "cell_type": "code",
      "metadata": {
        "id": "X8iqSDkmZKdK",
        "colab_type": "code",
        "colab": {
          "base_uri": "https://localhost:8080/",
          "height": 246
        },
        "outputId": "a88c511a-ac16-4474-fa48-692afd1baac2"
      },
      "source": [
        "channel = 1   # occipital lead  O1 \n",
        "raw_data[channel, : 50]"
      ],
      "execution_count": 22,
      "outputs": [
        {
          "output_type": "execute_result",
          "data": {
            "text/plain": [
              "array([ 8.65048524e-07,  2.36749975e-06,  2.36749975e-06,  8.65048524e-07,\n",
              "       -1.71058215e-06, -2.71221630e-06, -2.21139922e-06, -7.08947997e-07,\n",
              "       -2.08130922e-07, -7.08947997e-07, -1.71058215e-06, -2.21139922e-06,\n",
              "       -2.21139922e-06, -1.71058215e-06, -2.71221630e-06, -2.71221630e-06,\n",
              "       -1.20976507e-06,  2.36749975e-06,  4.44231334e-06,  1.86668267e-06,\n",
              "       -5.28784697e-06, -1.25139219e-05, -1.55903696e-05, -1.14407425e-05,\n",
              "       -3.28457867e-06,  5.44394749e-06,  1.10960259e-05,  1.20976601e-05,\n",
              "        1.00943918e-05,  7.01794401e-06,  3.94149627e-06,  2.36749975e-06,\n",
              "        1.86668267e-06,  2.36749975e-06,  3.94149627e-06,  5.44394749e-06,\n",
              "        5.94476457e-06,  4.44231334e-06, -2.08130922e-07, -6.36102641e-06,\n",
              "       -1.04391083e-05, -9.93829123e-06, -5.78866404e-06,  8.65048524e-07,\n",
              "        5.44394749e-06,  5.94476457e-06,  3.44067919e-06, -2.08130922e-07,\n",
              "       -3.28457867e-06, -5.28784697e-06])"
            ]
          },
          "metadata": {
            "tags": []
          },
          "execution_count": 22
        }
      ]
    },
    {
      "cell_type": "code",
      "metadata": {
        "id": "AnFZepb5ZKdR",
        "colab_type": "code",
        "colab": {
          "base_uri": "https://localhost:8080/",
          "height": 35
        },
        "outputId": "a997a917-3537-4614-b9b2-b5d36e16c9c6"
      },
      "source": [
        "channels[channel]"
      ],
      "execution_count": 23,
      "outputs": [
        {
          "output_type": "execute_result",
          "data": {
            "text/plain": [
              "'F7'"
            ]
          },
          "metadata": {
            "tags": []
          },
          "execution_count": 23
        }
      ]
    },
    {
      "cell_type": "code",
      "metadata": {
        "id": "oyl96jPjZKdY",
        "colab_type": "code",
        "colab": {
          "base_uri": "https://localhost:8080/",
          "height": 52
        },
        "outputId": "8d5f8c29-f8fb-48f5-ac11-73268f7eba0e"
      },
      "source": [
        "raw_data[channel,:]"
      ],
      "execution_count": 24,
      "outputs": [
        {
          "output_type": "execute_result",
          "data": {
            "text/plain": [
              "array([8.65048524e-07, 2.36749975e-06, 2.36749975e-06, ...,\n",
              "       9.41601150e-05, 9.31584809e-05, 8.95812161e-05])"
            ]
          },
          "metadata": {
            "tags": []
          },
          "execution_count": 24
        }
      ]
    },
    {
      "cell_type": "code",
      "metadata": {
        "id": "rfmHNdLoZKdf",
        "colab_type": "code",
        "colab": {
          "base_uri": "https://localhost:8080/",
          "height": 295
        },
        "outputId": "e4604d7b-61e1-4504-fe83-85aff94c9c86"
      },
      "source": [
        "%matplotlib inline\n",
        "\n",
        "import matplotlib.pyplot as plt\n",
        "\n",
        "x = np.linspace(0, len(raw_data[channel, :]) / 256., len(raw_data[channel, :]))\n",
        "y = raw_data[channel, :]\n",
        "\n",
        "plt.plot(x, y)\n",
        "plt.title('Lead #' + channels[channel]) \n",
        "plt.xlabel('Seconds'); plt.ylabel('microvolts')\n",
        "plt.show()"
      ],
      "execution_count": 25,
      "outputs": [
        {
          "output_type": "display_data",
          "data": {
            "image/png": "[encoded data removed]",
            "text/plain": [
              "<Figure size 432x288 with 1 Axes>"
            ]
          },
          "metadata": {
            "tags": []
          }
        }
      ]
    },
    {
      "cell_type": "markdown",
      "metadata": {
        "id": "bTeHQY0YZKdl",
        "colab_type": "text"
      },
      "source": [
        "Let's create a spectrogram for this lead."
      ]
    },
    {
      "cell_type": "code",
      "metadata": {
        "id": "3xgaWem9ZKdr",
        "colab_type": "code",
        "colab": {
          "base_uri": "https://localhost:8080/",
          "height": 330
        },
        "outputId": "b927a5f2-5b2a-4e97-d42b-7930c2b5bef5"
      },
      "source": [
        "from scipy import signal\n",
        "\n",
        "x = raw_data[channel, 1280:2560]\n",
        "print(x)\n",
        "#x = raw_data[channel, 1280:2561]\n",
        "#fs = 256  # Assume 512 Hz sampling rate for now...   # SampFreq[0, 0] \n",
        "#f, t, Sxx = signal.spectrogram(x, fs, window = signal.tukey(512, .25))\n",
        "fs = 256  # Assume 512 Hz sampling rate for now...   # SampFreq[0, 0] \n",
        "f, t, Sxx = signal.spectrogram(x, fs, window = signal.tukey(256), noverlap = 204)\n",
        "\n",
        "plt.pcolormesh(t, f, np.log10(Sxx))\n",
        "plt.ylabel('Frequency [Hz]')\n",
        "plt.xlabel('Time [sec]')\n",
        "plt.title('Lead ' + str(channel)) # + LsEEG[channel]\n",
        "plt.set_cmap('jet')\n",
        "#plt.show()\n",
        "fig, ax = plt.subplots( nrows=1, ncols=1 )\n",
        "fig.figsize= (800, 800)\n",
        "ax.pcolormesh(t, f, np.log10(Sxx))\n",
        "fig.savefig('eeg_small.png')   # save the figure to file\n",
        "plt.close(fig)\n"
      ],
      "execution_count": 26,
      "outputs": [
        {
          "output_type": "stream",
          "text": [
            "[5.41662943e-05 5.26638431e-05 5.57402909e-05 ... 8.44299547e-05\n",
            " 8.44299547e-05 8.49307718e-05]\n"
          ],
          "name": "stdout"
        },
        {
          "output_type": "display_data",
          "data": {
            "image/png": "[encoded data removed]",
            "text/plain": [
              "<Figure size 432x288 with 1 Axes>"
            ]
          },
          "metadata": {
            "tags": []
          }
        }
      ]
    },
    {
      "cell_type": "code",
      "metadata": {
        "id": "KG4PynIZZKdw",
        "colab_type": "code",
        "colab": {
          "base_uri": "https://localhost:8080/",
          "height": 35
        },
        "outputId": "01067f10-044e-49d4-ffb0-0f1ab8559a95"
      },
      "source": [
        "print(len(t))"
      ],
      "execution_count": 27,
      "outputs": [
        {
          "output_type": "stream",
          "text": [
            "20\n"
          ],
          "name": "stdout"
        }
      ]
    },
    {
      "cell_type": "markdown",
      "metadata": {
        "id": "NSrHuewxZKd2",
        "colab_type": "text"
      },
      "source": [
        "## Run this to generate images"
      ]
    },
    {
      "cell_type": "code",
      "metadata": {
        "id": "Ixwol7MjZKd4",
        "colab_type": "code",
        "colab": {
          "base_uri": "https://localhost:8080/",
          "height": 1000
        },
        "outputId": "09e9382c-0b13-4112-e869-6d625bcbeef5"
      },
      "source": [
        "import matplotlib.pyplot as plt # plotting\n",
        "import mne\n",
        "import numpy as np # linear algebra\n",
        "import os\n",
        "from scipy import signal\n",
        "from sklearn.preprocessing import StandardScaler\n",
        "\n",
        "# If folders don't exist already create them in the home directory.\n",
        "if not os.path.exists(\"raw_images\"):\n",
        "    os.mkdir(\"raw_images\")\n",
        "if not os.path.exists(\"raw_images/relaxed\"):\n",
        "    os.mkdir(\"raw_images/relaxed\")\n",
        "if not os.path.exists(\"raw_images/concentration\"):\n",
        "    os.mkdir(\"raw_images/concentration\")\n",
        "if not os.path.exists(\"spectrogram_images\"):\n",
        "    os.mkdir(\"spectrogram_images\")\n",
        "if not os.path.exists(\"spectrogram_images/relaxed\"):\n",
        "    os.mkdir(\"spectrogram_images/relaxed\")\n",
        "if not os.path.exists(\"spectrogram_images/concentration\"):\n",
        "    os.mkdir(\"spectrogram_images/concentration\")\n",
        "\n",
        "for filename in os.listdir('.'):\n",
        "    file_name = os.path.join('.',filename)\n",
        "  \n",
        "    file_type = 0 if filename.split(\".\")[0].endswith(\"E01\") or filename.split(\".\")[0].endswith(\"E03\") else 1\n",
        "    data = mne.io.read_raw_edf(file_name)\n",
        "    raw_data = data.get_data()\n",
        "    info = data.info\n",
        "    channels = data.ch_names\n",
        "    for part in range(36):\n",
        "        for index, channel in enumerate(channels):\n",
        "            print(\"Processing %s channel of file %s part %s.\" % (channel, filename, part))\n",
        "            folder_name = filename.split(\".\")[0] + \"_\" + str(part)\n",
        "            folder_path = os.path.join('raw_images/relaxed',folder_name) if file_type == 0 else os.path.join('raw_images/concentration',folder_name)\n",
        "            if not os.path.exists(folder_path):\n",
        "                print(\"creating folder %s.\" % (folder_name))\n",
        "                os.mkdir(folder_path)\n",
        "            new_filename = \"%s_%s.png\" % (folder_name, channel)\n",
        "            # path to store raw time domain images of the signals\n",
        "            # choose folder based on file type\n",
        "            start = part * 1280\n",
        "            end = (part+1) * 1280\n",
        "            new_file_path = os.path.join(folder_path, new_filename)\n",
        "            x = np.linspace(0, len(raw_data[index, start:end]) / 256., len(raw_data[index, start:end]))\n",
        "            y = raw_data[index, start:end]\n",
        "            fig, ax = plt.subplots( nrows=1, ncols=1 )\n",
        "            fig.figsize= (800, 800)\n",
        "            ax.plot(x, y)\n",
        "            #ax.title('Lead #' + channel) \n",
        "            #ax.xlabel('Seconds'); plt.ylabel('microvolts')\n",
        "            fig.savefig(new_file_path)   # save the figure to file\n",
        "            plt.close(fig)\n",
        "            #plt.plot(x, y)\n",
        "            #plt.show()\n",
        "\n",
        "            # path to store frequency domain spectrogram images of the signals\n",
        "            folder_path = os.path.join('spectrogram_images/relaxed',folder_name) if file_type == 0 else os.path.join('spectrogram_images/concentration',folder_name)\n",
        "            if not os.path.exists(folder_path):\n",
        "                print(\"creating folder %s.\" % (folder_name))\n",
        "                os.mkdir(folder_path)\n",
        "            new_filename = \"%s_%s.png\" % (folder_name, channel)\n",
        "            new_file_path = os.path.join(folder_path, new_filename)\n",
        "            x = raw_data[index, start:end]\n",
        "            fs = 256  # Assume 512 Hz sampling rate for now...   # SampFreq[0, 0] \n",
        "            #f, t, Sxx = signal.spectrogram(x, fs, window = signal.tukey(512, .25))\n",
        "            f, t, Sxx = signal.spectrogram(x, fs, window = signal.tukey(256), noverlap = 204)\n",
        "            fig, ax = plt.subplots( nrows=1, ncols=1 )\n",
        "            fig.figsize= (800, 800)\n",
        "            ax.pcolormesh(t, f, np.log10(Sxx))\n",
        "            #ax.ylabel('Frequency [Hz]')\n",
        "            #ax.xlabel('Time [sec]')\n",
        "            #plt.title('Lead ' + channel) # + LsEEG[channel]\n",
        "            #ax.set_cmap('jet')\n",
        "            #plt.show()\n",
        "            fig.savefig(new_file_path)   # save the figure to file\n",
        "            plt.close(fig)\n",
        "    \n",
        "    '''\n",
        "    f = pyedflib.EdfReader(file_name)\n",
        "    n = f.signals_in_file\n",
        "    signal_labels = f.getSignalLabels()\n",
        "    sigbufs = np.zeros((n, f.getNSamples()[0]))\n",
        "    for i in np.arange(n):\n",
        "        sigbufs[i, :] = f.readSignal(i)\n",
        "    new_filename = filename.replace(\".edf\",\".csv\")\n",
        "    new_file_path = os.path.join('spectrogram_files',new_filename)\n",
        "    os.mkdir(new_file_path)\n",
        "    with open(new_file_path, mode='w') as record_file:\n",
        "        record_writer = csv.writer(record_file, delimiter=',', quotechar='\"', quoting=csv.QUOTE_MINIMAL)\n",
        "        for record in sigbufs:\n",
        "            record_writer.writerow(record)\n",
        "    '''"
      ],
      "execution_count": 0,
      "outputs": [
        {
          "output_type": "stream",
          "text": [
            "Extracting EDF parameters from /content/gdrive/My Drive/CSE 240/Project/Data/EEG/S028E02.edf...\n",
            "EDF file detected\n",
            "Setting channel info structure...\n",
            "Creating raw.info structure...\n",
            "Processing AF3 channel of file S028E02.edf part 0.\n",
            "creating folder S028E02_0.\n",
            "Processing F7 channel of file S028E02.edf part 0.\n"
          ],
          "name": "stdout"
        },
        {
          "output_type": "stream",
          "text": [
            "<ipython-input-29-0387420c57ef>:26: RuntimeWarning: Physical range is not defined in following channels:\n",
            "P8\n",
            "  data = mne.io.read_raw_edf(file_name)\n"
          ],
          "name": "stderr"
        },
        {
          "output_type": "stream",
          "text": [
            "Processing F3 channel of file S028E02.edf part 0.\n",
            "Processing FC5 channel of file S028E02.edf part 0.\n",
            "Processing T7 channel of file S028E02.edf part 0.\n",
            "Processing P7 channel of file S028E02.edf part 0.\n",
            "Processing O1 channel of file S028E02.edf part 0.\n",
            "Processing O2 channel of file S028E02.edf part 0.\n",
            "Processing P8 channel of file S028E02.edf part 0.\n",
            "Processing T8 channel of file S028E02.edf part 0.\n"
          ],
          "name": "stdout"
        },
        {
          "output_type": "stream",
          "text": [
            "/usr/local/lib/python3.6/dist-packages/ipykernel_launcher.py:69: RuntimeWarning: divide by zero encountered in log10\n",
            "<string>:6: UserWarning: Warning: converting a masked element to nan.\n",
            "/usr/local/lib/python3.6/dist-packages/numpy/ma/core.py:711: UserWarning: Warning: converting a masked element to nan.\n",
            "  data = np.array(a, copy=False, subok=subok)\n"
          ],
          "name": "stderr"
        },
        {
          "output_type": "stream",
          "text": [
            "Processing FC6 channel of file S028E02.edf part 0.\n",
            "Processing F4 channel of file S028E02.edf part 0.\n",
            "Processing F8 channel of file S028E02.edf part 0.\n",
            "Processing AF4 channel of file S028E02.edf part 0.\n",
            "Processing AF3 channel of file S028E02.edf part 1.\n",
            "creating folder S028E02_1.\n",
            "Processing F7 channel of file S028E02.edf part 1.\n",
            "Processing F3 channel of file S028E02.edf part 1.\n",
            "Processing FC5 channel of file S028E02.edf part 1.\n",
            "Processing T7 channel of file S028E02.edf part 1.\n",
            "Processing P7 channel of file S028E02.edf part 1.\n",
            "Processing O1 channel of file S028E02.edf part 1.\n",
            "Processing O2 channel of file S028E02.edf part 1.\n",
            "Processing P8 channel of file S028E02.edf part 1.\n",
            "Processing T8 channel of file S028E02.edf part 1.\n"
          ],
          "name": "stdout"
        },
        {
          "output_type": "stream",
          "text": [
            "/usr/local/lib/python3.6/dist-packages/ipykernel_launcher.py:69: RuntimeWarning: divide by zero encountered in log10\n",
            "<string>:6: UserWarning: Warning: converting a masked element to nan.\n",
            "/usr/local/lib/python3.6/dist-packages/numpy/ma/core.py:711: UserWarning: Warning: converting a masked element to nan.\n",
            "  data = np.array(a, copy=False, subok=subok)\n"
          ],
          "name": "stderr"
        },
        {
          "output_type": "stream",
          "text": [
            "Processing FC6 channel of file S028E02.edf part 1.\n",
            "Processing F4 channel of file S028E02.edf part 1.\n",
            "Processing F8 channel of file S028E02.edf part 1.\n",
            "Processing AF4 channel of file S028E02.edf part 1.\n",
            "Processing AF3 channel of file S028E02.edf part 2.\n",
            "creating folder S028E02_2.\n",
            "Processing F7 channel of file S028E02.edf part 2.\n",
            "Processing F3 channel of file S028E02.edf part 2.\n",
            "Processing FC5 channel of file S028E02.edf part 2.\n",
            "Processing T7 channel of file S028E02.edf part 2.\n",
            "Processing P7 channel of file S028E02.edf part 2.\n",
            "Processing O1 channel of file S028E02.edf part 2.\n",
            "Processing O2 channel of file S028E02.edf part 2.\n",
            "Processing P8 channel of file S028E02.edf part 2.\n",
            "Processing T8 channel of file S028E02.edf part 2.\n"
          ],
          "name": "stdout"
        },
        {
          "output_type": "stream",
          "text": [
            "/usr/local/lib/python3.6/dist-packages/ipykernel_launcher.py:69: RuntimeWarning: divide by zero encountered in log10\n",
            "<string>:6: UserWarning: Warning: converting a masked element to nan.\n",
            "/usr/local/lib/python3.6/dist-packages/numpy/ma/core.py:711: UserWarning: Warning: converting a masked element to nan.\n",
            "  data = np.array(a, copy=False, subok=subok)\n"
          ],
          "name": "stderr"
        },
        {
          "output_type": "stream",
          "text": [
            "Processing FC6 channel of file S028E02.edf part 2.\n",
            "Processing F4 channel of file S028E02.edf part 2.\n",
            "Processing F8 channel of file S028E02.edf part 2.\n",
            "Processing AF4 channel of file S028E02.edf part 2.\n",
            "Processing AF3 channel of file S028E02.edf part 3.\n",
            "creating folder S028E02_3.\n",
            "Processing F7 channel of file S028E02.edf part 3.\n",
            "Processing F3 channel of file S028E02.edf part 3.\n",
            "Processing FC5 channel of file S028E02.edf part 3.\n",
            "Processing T7 channel of file S028E02.edf part 3.\n",
            "Processing P7 channel of file S028E02.edf part 3.\n",
            "Processing O1 channel of file S028E02.edf part 3.\n",
            "Processing O2 channel of file S028E02.edf part 3.\n",
            "Processing P8 channel of file S028E02.edf part 3.\n",
            "Processing T8 channel of file S028E02.edf part 3.\n"
          ],
          "name": "stdout"
        },
        {
          "output_type": "stream",
          "text": [
            "/usr/local/lib/python3.6/dist-packages/ipykernel_launcher.py:69: RuntimeWarning: divide by zero encountered in log10\n",
            "<string>:6: UserWarning: Warning: converting a masked element to nan.\n",
            "/usr/local/lib/python3.6/dist-packages/numpy/ma/core.py:711: UserWarning: Warning: converting a masked element to nan.\n",
            "  data = np.array(a, copy=False, subok=subok)\n"
          ],
          "name": "stderr"
        },
        {
          "output_type": "stream",
          "text": [
            "Processing FC6 channel of file S028E02.edf part 3.\n",
            "Processing F4 channel of file S028E02.edf part 3.\n",
            "Processing F8 channel of file S028E02.edf part 3.\n",
            "Processing AF4 channel of file S028E02.edf part 3.\n",
            "Processing AF3 channel of file S028E02.edf part 4.\n",
            "creating folder S028E02_4.\n",
            "Processing F7 channel of file S028E02.edf part 4.\n",
            "Processing F3 channel of file S028E02.edf part 4.\n",
            "Processing FC5 channel of file S028E02.edf part 4.\n",
            "Processing T7 channel of file S028E02.edf part 4.\n",
            "Processing P7 channel of file S028E02.edf part 4.\n",
            "Processing O1 channel of file S028E02.edf part 4.\n",
            "Processing O2 channel of file S028E02.edf part 4.\n",
            "Processing P8 channel of file S028E02.edf part 4.\n",
            "Processing T8 channel of file S028E02.edf part 4.\n"
          ],
          "name": "stdout"
        },
        {
          "output_type": "stream",
          "text": [
            "/usr/local/lib/python3.6/dist-packages/ipykernel_launcher.py:69: RuntimeWarning: divide by zero encountered in log10\n",
            "<string>:6: UserWarning: Warning: converting a masked element to nan.\n",
            "/usr/local/lib/python3.6/dist-packages/numpy/ma/core.py:711: UserWarning: Warning: converting a masked element to nan.\n",
            "  data = np.array(a, copy=False, subok=subok)\n"
          ],
          "name": "stderr"
        },
        {
          "output_type": "stream",
          "text": [
            "Processing FC6 channel of file S028E02.edf part 4.\n",
            "Processing F4 channel of file S028E02.edf part 4.\n",
            "Processing F8 channel of file S028E02.edf part 4.\n",
            "Processing AF4 channel of file S028E02.edf part 4.\n",
            "Processing AF3 channel of file S028E02.edf part 5.\n",
            "creating folder S028E02_5.\n",
            "Processing F7 channel of file S028E02.edf part 5.\n",
            "Processing F3 channel of file S028E02.edf part 5.\n",
            "Processing FC5 channel of file S028E02.edf part 5.\n",
            "Processing T7 channel of file S028E02.edf part 5.\n",
            "Processing P7 channel of file S028E02.edf part 5.\n",
            "Processing O1 channel of file S028E02.edf part 5.\n",
            "Processing O2 channel of file S028E02.edf part 5.\n",
            "Processing P8 channel of file S028E02.edf part 5.\n",
            "Processing T8 channel of file S028E02.edf part 5.\n"
          ],
          "name": "stdout"
        },
        {
          "output_type": "stream",
          "text": [
            "/usr/local/lib/python3.6/dist-packages/ipykernel_launcher.py:69: RuntimeWarning: divide by zero encountered in log10\n",
            "<string>:6: UserWarning: Warning: converting a masked element to nan.\n",
            "/usr/local/lib/python3.6/dist-packages/numpy/ma/core.py:711: UserWarning: Warning: converting a masked element to nan.\n",
            "  data = np.array(a, copy=False, subok=subok)\n"
          ],
          "name": "stderr"
        },
        {
          "output_type": "stream",
          "text": [
            "Processing FC6 channel of file S028E02.edf part 5.\n",
            "Processing F4 channel of file S028E02.edf part 5.\n",
            "Processing F8 channel of file S028E02.edf part 5.\n",
            "Processing AF4 channel of file S028E02.edf part 5.\n",
            "Processing AF3 channel of file S028E02.edf part 6.\n",
            "creating folder S028E02_6.\n",
            "Processing F7 channel of file S028E02.edf part 6.\n",
            "Processing F3 channel of file S028E02.edf part 6.\n",
            "Processing FC5 channel of file S028E02.edf part 6.\n",
            "Processing T7 channel of file S028E02.edf part 6.\n",
            "Processing P7 channel of file S028E02.edf part 6.\n",
            "Processing O1 channel of file S028E02.edf part 6.\n",
            "Processing O2 channel of file S028E02.edf part 6.\n",
            "Processing P8 channel of file S028E02.edf part 6.\n",
            "Processing T8 channel of file S028E02.edf part 6.\n"
          ],
          "name": "stdout"
        },
        {
          "output_type": "stream",
          "text": [
            "/usr/local/lib/python3.6/dist-packages/ipykernel_launcher.py:69: RuntimeWarning: divide by zero encountered in log10\n",
            "<string>:6: UserWarning: Warning: converting a masked element to nan.\n",
            "/usr/local/lib/python3.6/dist-packages/numpy/ma/core.py:711: UserWarning: Warning: converting a masked element to nan.\n",
            "  data = np.array(a, copy=False, subok=subok)\n"
          ],
          "name": "stderr"
        },
        {
          "output_type": "stream",
          "text": [
            "Processing FC6 channel of file S028E02.edf part 6.\n",
            "Processing F4 channel of file S028E02.edf part 6.\n",
            "Processing F8 channel of file S028E02.edf part 6.\n",
            "Processing AF4 channel of file S028E02.edf part 6.\n",
            "Processing AF3 channel of file S028E02.edf part 7.\n",
            "creating folder S028E02_7.\n",
            "Processing F7 channel of file S028E02.edf part 7.\n",
            "Processing F3 channel of file S028E02.edf part 7.\n",
            "Processing FC5 channel of file S028E02.edf part 7.\n",
            "Processing T7 channel of file S028E02.edf part 7.\n",
            "Processing P7 channel of file S028E02.edf part 7.\n",
            "Processing O1 channel of file S028E02.edf part 7.\n",
            "Processing O2 channel of file S028E02.edf part 7.\n",
            "Processing P8 channel of file S028E02.edf part 7.\n",
            "Processing T8 channel of file S028E02.edf part 7.\n"
          ],
          "name": "stdout"
        },
        {
          "output_type": "stream",
          "text": [
            "/usr/local/lib/python3.6/dist-packages/ipykernel_launcher.py:69: RuntimeWarning: divide by zero encountered in log10\n",
            "<string>:6: UserWarning: Warning: converting a masked element to nan.\n",
            "/usr/local/lib/python3.6/dist-packages/numpy/ma/core.py:711: UserWarning: Warning: converting a masked element to nan.\n",
            "  data = np.array(a, copy=False, subok=subok)\n"
          ],
          "name": "stderr"
        },
        {
          "output_type": "stream",
          "text": [
            "Processing FC6 channel of file S028E02.edf part 7.\n",
            "Processing F4 channel of file S028E02.edf part 7.\n",
            "Processing F8 channel of file S028E02.edf part 7.\n",
            "Processing AF4 channel of file S028E02.edf part 7.\n",
            "Processing AF3 channel of file S028E02.edf part 8.\n",
            "creating folder S028E02_8.\n",
            "Processing F7 channel of file S028E02.edf part 8.\n",
            "Processing F3 channel of file S028E02.edf part 8.\n",
            "Processing FC5 channel of file S028E02.edf part 8.\n",
            "Processing T7 channel of file S028E02.edf part 8.\n",
            "Processing P7 channel of file S028E02.edf part 8.\n",
            "Processing O1 channel of file S028E02.edf part 8.\n",
            "Processing O2 channel of file S028E02.edf part 8.\n",
            "Processing P8 channel of file S028E02.edf part 8.\n",
            "Processing T8 channel of file S028E02.edf part 8.\n"
          ],
          "name": "stdout"
        },
        {
          "output_type": "stream",
          "text": [
            "/usr/local/lib/python3.6/dist-packages/ipykernel_launcher.py:69: RuntimeWarning: divide by zero encountered in log10\n",
            "<string>:6: UserWarning: Warning: converting a masked element to nan.\n",
            "/usr/local/lib/python3.6/dist-packages/numpy/ma/core.py:711: UserWarning: Warning: converting a masked element to nan.\n",
            "  data = np.array(a, copy=False, subok=subok)\n"
          ],
          "name": "stderr"
        },
        {
          "output_type": "stream",
          "text": [
            "Processing FC6 channel of file S028E02.edf part 8.\n",
            "Processing F4 channel of file S028E02.edf part 8.\n",
            "Processing F8 channel of file S028E02.edf part 8.\n",
            "Processing AF4 channel of file S028E02.edf part 8.\n",
            "Processing AF3 channel of file S028E02.edf part 9.\n",
            "creating folder S028E02_9.\n",
            "Processing F7 channel of file S028E02.edf part 9.\n",
            "Processing F3 channel of file S028E02.edf part 9.\n",
            "Processing FC5 channel of file S028E02.edf part 9.\n",
            "Processing T7 channel of file S028E02.edf part 9.\n",
            "Processing P7 channel of file S028E02.edf part 9.\n",
            "Processing O1 channel of file S028E02.edf part 9.\n",
            "Processing O2 channel of file S028E02.edf part 9.\n",
            "Processing P8 channel of file S028E02.edf part 9.\n",
            "Processing T8 channel of file S028E02.edf part 9.\n"
          ],
          "name": "stdout"
        },
        {
          "output_type": "stream",
          "text": [
            "/usr/local/lib/python3.6/dist-packages/ipykernel_launcher.py:69: RuntimeWarning: divide by zero encountered in log10\n",
            "<string>:6: UserWarning: Warning: converting a masked element to nan.\n",
            "/usr/local/lib/python3.6/dist-packages/numpy/ma/core.py:711: UserWarning: Warning: converting a masked element to nan.\n",
            "  data = np.array(a, copy=False, subok=subok)\n"
          ],
          "name": "stderr"
        },
        {
          "output_type": "stream",
          "text": [
            "Processing FC6 channel of file S028E02.edf part 9.\n",
            "Processing F4 channel of file S028E02.edf part 9.\n",
            "Processing F8 channel of file S028E02.edf part 9.\n",
            "Processing AF4 channel of file S028E02.edf part 9.\n",
            "Processing AF3 channel of file S028E02.edf part 10.\n",
            "creating folder S028E02_10.\n",
            "Processing F7 channel of file S028E02.edf part 10.\n",
            "Processing F3 channel of file S028E02.edf part 10.\n",
            "Processing FC5 channel of file S028E02.edf part 10.\n",
            "Processing T7 channel of file S028E02.edf part 10.\n",
            "Processing P7 channel of file S028E02.edf part 10.\n",
            "Processing O1 channel of file S028E02.edf part 10.\n",
            "Processing O2 channel of file S028E02.edf part 10.\n",
            "Processing P8 channel of file S028E02.edf part 10.\n",
            "Processing T8 channel of file S028E02.edf part 10.\n"
          ],
          "name": "stdout"
        },
        {
          "output_type": "stream",
          "text": [
            "/usr/local/lib/python3.6/dist-packages/ipykernel_launcher.py:69: RuntimeWarning: divide by zero encountered in log10\n",
            "<string>:6: UserWarning: Warning: converting a masked element to nan.\n",
            "/usr/local/lib/python3.6/dist-packages/numpy/ma/core.py:711: UserWarning: Warning: converting a masked element to nan.\n",
            "  data = np.array(a, copy=False, subok=subok)\n"
          ],
          "name": "stderr"
        },
        {
          "output_type": "stream",
          "text": [
            "Processing FC6 channel of file S028E02.edf part 10.\n",
            "Processing F4 channel of file S028E02.edf part 10.\n",
            "Processing F8 channel of file S028E02.edf part 10.\n",
            "Processing AF4 channel of file S028E02.edf part 10.\n",
            "Processing AF3 channel of file S028E02.edf part 11.\n",
            "creating folder S028E02_11.\n",
            "Processing F7 channel of file S028E02.edf part 11.\n",
            "Processing F3 channel of file S028E02.edf part 11.\n",
            "Processing FC5 channel of file S028E02.edf part 11.\n",
            "Processing T7 channel of file S028E02.edf part 11.\n",
            "Processing P7 channel of file S028E02.edf part 11.\n",
            "Processing O1 channel of file S028E02.edf part 11.\n",
            "Processing O2 channel of file S028E02.edf part 11.\n",
            "Processing P8 channel of file S028E02.edf part 11.\n",
            "Processing T8 channel of file S028E02.edf part 11.\n"
          ],
          "name": "stdout"
        },
        {
          "output_type": "stream",
          "text": [
            "/usr/local/lib/python3.6/dist-packages/ipykernel_launcher.py:69: RuntimeWarning: divide by zero encountered in log10\n",
            "<string>:6: UserWarning: Warning: converting a masked element to nan.\n",
            "/usr/local/lib/python3.6/dist-packages/numpy/ma/core.py:711: UserWarning: Warning: converting a masked element to nan.\n",
            "  data = np.array(a, copy=False, subok=subok)\n"
          ],
          "name": "stderr"
        },
        {
          "output_type": "stream",
          "text": [
            "Processing FC6 channel of file S028E02.edf part 11.\n",
            "Processing F4 channel of file S028E02.edf part 11.\n",
            "Processing F8 channel of file S028E02.edf part 11.\n",
            "Processing AF4 channel of file S028E02.edf part 11.\n",
            "Processing AF3 channel of file S028E02.edf part 12.\n",
            "creating folder S028E02_12.\n",
            "Processing F7 channel of file S028E02.edf part 12.\n",
            "Processing F3 channel of file S028E02.edf part 12.\n",
            "Processing FC5 channel of file S028E02.edf part 12.\n",
            "Processing T7 channel of file S028E02.edf part 12.\n",
            "Processing P7 channel of file S028E02.edf part 12.\n",
            "Processing O1 channel of file S028E02.edf part 12.\n",
            "Processing O2 channel of file S028E02.edf part 12.\n",
            "Processing P8 channel of file S028E02.edf part 12.\n",
            "Processing T8 channel of file S028E02.edf part 12.\n"
          ],
          "name": "stdout"
        },
        {
          "output_type": "stream",
          "text": [
            "/usr/local/lib/python3.6/dist-packages/ipykernel_launcher.py:69: RuntimeWarning: divide by zero encountered in log10\n",
            "<string>:6: UserWarning: Warning: converting a masked element to nan.\n",
            "/usr/local/lib/python3.6/dist-packages/numpy/ma/core.py:711: UserWarning: Warning: converting a masked element to nan.\n",
            "  data = np.array(a, copy=False, subok=subok)\n"
          ],
          "name": "stderr"
        },
        {
          "output_type": "stream",
          "text": [
            "Processing FC6 channel of file S028E02.edf part 12.\n",
            "Processing F4 channel of file S028E02.edf part 12.\n",
            "Processing F8 channel of file S028E02.edf part 12.\n",
            "Processing AF4 channel of file S028E02.edf part 12.\n",
            "Processing AF3 channel of file S028E02.edf part 13.\n",
            "creating folder S028E02_13.\n",
            "Processing F7 channel of file S028E02.edf part 13.\n",
            "Processing F3 channel of file S028E02.edf part 13.\n",
            "Processing FC5 channel of file S028E02.edf part 13.\n",
            "Processing T7 channel of file S028E02.edf part 13.\n",
            "Processing P7 channel of file S028E02.edf part 13.\n",
            "Processing O1 channel of file S028E02.edf part 13.\n",
            "Processing O2 channel of file S028E02.edf part 13.\n",
            "Processing P8 channel of file S028E02.edf part 13.\n",
            "Processing T8 channel of file S028E02.edf part 13.\n"
          ],
          "name": "stdout"
        },
        {
          "output_type": "stream",
          "text": [
            "/usr/local/lib/python3.6/dist-packages/ipykernel_launcher.py:69: RuntimeWarning: divide by zero encountered in log10\n",
            "<string>:6: UserWarning: Warning: converting a masked element to nan.\n",
            "/usr/local/lib/python3.6/dist-packages/numpy/ma/core.py:711: UserWarning: Warning: converting a masked element to nan.\n",
            "  data = np.array(a, copy=False, subok=subok)\n"
          ],
          "name": "stderr"
        },
        {
          "output_type": "stream",
          "text": [
            "Processing FC6 channel of file S028E02.edf part 13.\n",
            "Processing F4 channel of file S028E02.edf part 13.\n",
            "Processing F8 channel of file S028E02.edf part 13.\n",
            "Processing AF4 channel of file S028E02.edf part 13.\n",
            "Processing AF3 channel of file S028E02.edf part 14.\n",
            "creating folder S028E02_14.\n",
            "Processing F7 channel of file S028E02.edf part 14.\n",
            "Processing F3 channel of file S028E02.edf part 14.\n",
            "Processing FC5 channel of file S028E02.edf part 14.\n",
            "Processing T7 channel of file S028E02.edf part 14.\n",
            "Processing P7 channel of file S028E02.edf part 14.\n",
            "Processing O1 channel of file S028E02.edf part 14.\n",
            "Processing O2 channel of file S028E02.edf part 14.\n",
            "Processing P8 channel of file S028E02.edf part 14.\n",
            "Processing T8 channel of file S028E02.edf part 14.\n"
          ],
          "name": "stdout"
        },
        {
          "output_type": "stream",
          "text": [
            "/usr/local/lib/python3.6/dist-packages/ipykernel_launcher.py:69: RuntimeWarning: divide by zero encountered in log10\n",
            "<string>:6: UserWarning: Warning: converting a masked element to nan.\n",
            "/usr/local/lib/python3.6/dist-packages/numpy/ma/core.py:711: UserWarning: Warning: converting a masked element to nan.\n",
            "  data = np.array(a, copy=False, subok=subok)\n"
          ],
          "name": "stderr"
        },
        {
          "output_type": "stream",
          "text": [
            "Processing FC6 channel of file S028E02.edf part 14.\n",
            "Processing F4 channel of file S028E02.edf part 14.\n",
            "Processing F8 channel of file S028E02.edf part 14.\n",
            "Processing AF4 channel of file S028E02.edf part 14.\n",
            "Processing AF3 channel of file S028E02.edf part 15.\n",
            "creating folder S028E02_15.\n",
            "Processing F7 channel of file S028E02.edf part 15.\n",
            "Processing F3 channel of file S028E02.edf part 15.\n",
            "Processing FC5 channel of file S028E02.edf part 15.\n",
            "Processing T7 channel of file S028E02.edf part 15.\n",
            "Processing P7 channel of file S028E02.edf part 15.\n",
            "Processing O1 channel of file S028E02.edf part 15.\n",
            "Processing O2 channel of file S028E02.edf part 15.\n",
            "Processing P8 channel of file S028E02.edf part 15.\n"
          ],
          "name": "stdout"
        },
        {
          "output_type": "stream",
          "text": [
            "/usr/local/lib/python3.6/dist-packages/ipykernel_launcher.py:69: RuntimeWarning: divide by zero encountered in log10\n",
            "<string>:6: UserWarning: Warning: converting a masked element to nan.\n",
            "/usr/local/lib/python3.6/dist-packages/numpy/ma/core.py:711: UserWarning: Warning: converting a masked element to nan.\n",
            "  data = np.array(a, copy=False, subok=subok)\n"
          ],
          "name": "stderr"
        },
        {
          "output_type": "stream",
          "text": [
            "Processing T8 channel of file S028E02.edf part 15.\n",
            "Processing FC6 channel of file S028E02.edf part 15.\n",
            "Processing F4 channel of file S028E02.edf part 15.\n",
            "Processing F8 channel of file S028E02.edf part 15.\n",
            "Processing AF4 channel of file S028E02.edf part 15.\n",
            "Processing AF3 channel of file S028E02.edf part 16.\n",
            "creating folder S028E02_16.\n",
            "Processing F7 channel of file S028E02.edf part 16.\n",
            "Processing F3 channel of file S028E02.edf part 16.\n",
            "Processing FC5 channel of file S028E02.edf part 16.\n",
            "Processing T7 channel of file S028E02.edf part 16.\n",
            "Processing P7 channel of file S028E02.edf part 16.\n",
            "Processing O1 channel of file S028E02.edf part 16.\n",
            "Processing O2 channel of file S028E02.edf part 16.\n",
            "Processing P8 channel of file S028E02.edf part 16.\n",
            "Processing T8 channel of file S028E02.edf part 16.\n"
          ],
          "name": "stdout"
        },
        {
          "output_type": "stream",
          "text": [
            "/usr/local/lib/python3.6/dist-packages/ipykernel_launcher.py:69: RuntimeWarning: divide by zero encountered in log10\n",
            "<string>:6: UserWarning: Warning: converting a masked element to nan.\n",
            "/usr/local/lib/python3.6/dist-packages/numpy/ma/core.py:711: UserWarning: Warning: converting a masked element to nan.\n",
            "  data = np.array(a, copy=False, subok=subok)\n"
          ],
          "name": "stderr"
        },
        {
          "output_type": "stream",
          "text": [
            "Processing FC6 channel of file S028E02.edf part 16.\n",
            "Processing F4 channel of file S028E02.edf part 16.\n",
            "Processing F8 channel of file S028E02.edf part 16.\n",
            "Processing AF4 channel of file S028E02.edf part 16.\n",
            "Processing AF3 channel of file S028E02.edf part 17.\n",
            "creating folder S028E02_17.\n",
            "Processing F7 channel of file S028E02.edf part 17.\n",
            "Processing F3 channel of file S028E02.edf part 17.\n",
            "Processing FC5 channel of file S028E02.edf part 17.\n",
            "Processing T7 channel of file S028E02.edf part 17.\n",
            "Processing P7 channel of file S028E02.edf part 17.\n",
            "Processing O1 channel of file S028E02.edf part 17.\n",
            "Processing O2 channel of file S028E02.edf part 17.\n",
            "Processing P8 channel of file S028E02.edf part 17.\n",
            "Processing T8 channel of file S028E02.edf part 17.\n"
          ],
          "name": "stdout"
        },
        {
          "output_type": "stream",
          "text": [
            "/usr/local/lib/python3.6/dist-packages/ipykernel_launcher.py:69: RuntimeWarning: divide by zero encountered in log10\n",
            "<string>:6: UserWarning: Warning: converting a masked element to nan.\n",
            "/usr/local/lib/python3.6/dist-packages/numpy/ma/core.py:711: UserWarning: Warning: converting a masked element to nan.\n",
            "  data = np.array(a, copy=False, subok=subok)\n"
          ],
          "name": "stderr"
        },
        {
          "output_type": "stream",
          "text": [
            "Processing FC6 channel of file S028E02.edf part 17.\n",
            "Processing F4 channel of file S028E02.edf part 17.\n",
            "Processing F8 channel of file S028E02.edf part 17.\n",
            "Processing AF4 channel of file S028E02.edf part 17.\n",
            "Processing AF3 channel of file S028E02.edf part 18.\n",
            "creating folder S028E02_18.\n",
            "Processing F7 channel of file S028E02.edf part 18.\n",
            "Processing F3 channel of file S028E02.edf part 18.\n",
            "Processing FC5 channel of file S028E02.edf part 18.\n",
            "Processing T7 channel of file S028E02.edf part 18.\n",
            "Processing P7 channel of file S028E02.edf part 18.\n",
            "Processing O1 channel of file S028E02.edf part 18.\n",
            "Processing O2 channel of file S028E02.edf part 18.\n",
            "Processing P8 channel of file S028E02.edf part 18.\n",
            "Processing T8 channel of file S028E02.edf part 18.\n"
          ],
          "name": "stdout"
        },
        {
          "output_type": "stream",
          "text": [
            "/usr/local/lib/python3.6/dist-packages/ipykernel_launcher.py:69: RuntimeWarning: divide by zero encountered in log10\n",
            "<string>:6: UserWarning: Warning: converting a masked element to nan.\n",
            "/usr/local/lib/python3.6/dist-packages/numpy/ma/core.py:711: UserWarning: Warning: converting a masked element to nan.\n",
            "  data = np.array(a, copy=False, subok=subok)\n"
          ],
          "name": "stderr"
        },
        {
          "output_type": "stream",
          "text": [
            "Processing FC6 channel of file S028E02.edf part 18.\n",
            "Processing F4 channel of file S028E02.edf part 18.\n",
            "Processing F8 channel of file S028E02.edf part 18.\n",
            "Processing AF4 channel of file S028E02.edf part 18.\n",
            "Processing AF3 channel of file S028E02.edf part 19.\n",
            "creating folder S028E02_19.\n",
            "Processing F7 channel of file S028E02.edf part 19.\n",
            "Processing F3 channel of file S028E02.edf part 19.\n",
            "Processing FC5 channel of file S028E02.edf part 19.\n",
            "Processing T7 channel of file S028E02.edf part 19.\n",
            "Processing P7 channel of file S028E02.edf part 19.\n",
            "Processing O1 channel of file S028E02.edf part 19.\n",
            "Processing O2 channel of file S028E02.edf part 19.\n",
            "Processing P8 channel of file S028E02.edf part 19.\n",
            "Processing T8 channel of file S028E02.edf part 19.\n"
          ],
          "name": "stdout"
        },
        {
          "output_type": "stream",
          "text": [
            "/usr/local/lib/python3.6/dist-packages/ipykernel_launcher.py:69: RuntimeWarning: divide by zero encountered in log10\n",
            "<string>:6: UserWarning: Warning: converting a masked element to nan.\n",
            "/usr/local/lib/python3.6/dist-packages/numpy/ma/core.py:711: UserWarning: Warning: converting a masked element to nan.\n",
            "  data = np.array(a, copy=False, subok=subok)\n"
          ],
          "name": "stderr"
        },
        {
          "output_type": "stream",
          "text": [
            "Processing FC6 channel of file S028E02.edf part 19.\n",
            "Processing F4 channel of file S028E02.edf part 19.\n",
            "Processing F8 channel of file S028E02.edf part 19.\n",
            "Processing AF4 channel of file S028E02.edf part 19.\n",
            "Processing AF3 channel of file S028E02.edf part 20.\n",
            "creating folder S028E02_20.\n",
            "Processing F7 channel of file S028E02.edf part 20.\n",
            "Processing F3 channel of file S028E02.edf part 20.\n",
            "Processing FC5 channel of file S028E02.edf part 20.\n",
            "Processing T7 channel of file S028E02.edf part 20.\n",
            "Processing P7 channel of file S028E02.edf part 20.\n",
            "Processing O1 channel of file S028E02.edf part 20.\n",
            "Processing O2 channel of file S028E02.edf part 20.\n",
            "Processing P8 channel of file S028E02.edf part 20.\n",
            "Processing T8 channel of file S028E02.edf part 20.\n"
          ],
          "name": "stdout"
        },
        {
          "output_type": "stream",
          "text": [
            "/usr/local/lib/python3.6/dist-packages/ipykernel_launcher.py:69: RuntimeWarning: divide by zero encountered in log10\n",
            "<string>:6: UserWarning: Warning: converting a masked element to nan.\n",
            "/usr/local/lib/python3.6/dist-packages/numpy/ma/core.py:711: UserWarning: Warning: converting a masked element to nan.\n",
            "  data = np.array(a, copy=False, subok=subok)\n"
          ],
          "name": "stderr"
        },
        {
          "output_type": "stream",
          "text": [
            "Processing FC6 channel of file S028E02.edf part 20.\n",
            "Processing F4 channel of file S028E02.edf part 20.\n",
            "Processing F8 channel of file S028E02.edf part 20.\n",
            "Processing AF4 channel of file S028E02.edf part 20.\n",
            "Processing AF3 channel of file S028E02.edf part 21.\n",
            "creating folder S028E02_21.\n",
            "Processing F7 channel of file S028E02.edf part 21.\n",
            "Processing F3 channel of file S028E02.edf part 21.\n",
            "Processing FC5 channel of file S028E02.edf part 21.\n",
            "Processing T7 channel of file S028E02.edf part 21.\n",
            "Processing P7 channel of file S028E02.edf part 21.\n",
            "Processing O1 channel of file S028E02.edf part 21.\n",
            "Processing O2 channel of file S028E02.edf part 21.\n",
            "Processing P8 channel of file S028E02.edf part 21.\n"
          ],
          "name": "stdout"
        },
        {
          "output_type": "stream",
          "text": [
            "/usr/local/lib/python3.6/dist-packages/ipykernel_launcher.py:69: RuntimeWarning: divide by zero encountered in log10\n",
            "<string>:6: UserWarning: Warning: converting a masked element to nan.\n",
            "/usr/local/lib/python3.6/dist-packages/numpy/ma/core.py:711: UserWarning: Warning: converting a masked element to nan.\n",
            "  data = np.array(a, copy=False, subok=subok)\n"
          ],
          "name": "stderr"
        },
        {
          "output_type": "stream",
          "text": [
            "Processing T8 channel of file S028E02.edf part 21.\n",
            "Processing FC6 channel of file S028E02.edf part 21.\n",
            "Processing F4 channel of file S028E02.edf part 21.\n",
            "Processing F8 channel of file S028E02.edf part 21.\n",
            "Processing AF4 channel of file S028E02.edf part 21.\n",
            "Processing AF3 channel of file S028E02.edf part 22.\n",
            "creating folder S028E02_22.\n",
            "Processing F7 channel of file S028E02.edf part 22.\n",
            "Processing F3 channel of file S028E02.edf part 22.\n",
            "Processing FC5 channel of file S028E02.edf part 22.\n",
            "Processing T7 channel of file S028E02.edf part 22.\n",
            "Processing P7 channel of file S028E02.edf part 22.\n",
            "Processing O1 channel of file S028E02.edf part 22.\n",
            "Processing O2 channel of file S028E02.edf part 22.\n",
            "Processing P8 channel of file S028E02.edf part 22.\n"
          ],
          "name": "stdout"
        },
        {
          "output_type": "stream",
          "text": [
            "/usr/local/lib/python3.6/dist-packages/ipykernel_launcher.py:69: RuntimeWarning: divide by zero encountered in log10\n",
            "<string>:6: UserWarning: Warning: converting a masked element to nan.\n",
            "/usr/local/lib/python3.6/dist-packages/numpy/ma/core.py:711: UserWarning: Warning: converting a masked element to nan.\n",
            "  data = np.array(a, copy=False, subok=subok)\n"
          ],
          "name": "stderr"
        },
        {
          "output_type": "stream",
          "text": [
            "Processing T8 channel of file S028E02.edf part 22.\n",
            "Processing FC6 channel of file S028E02.edf part 22.\n",
            "Processing F4 channel of file S028E02.edf part 22.\n",
            "Processing F8 channel of file S028E02.edf part 22.\n",
            "Processing AF4 channel of file S028E02.edf part 22.\n",
            "Processing AF3 channel of file S028E02.edf part 23.\n",
            "creating folder S028E02_23.\n",
            "Processing F7 channel of file S028E02.edf part 23.\n",
            "Processing F3 channel of file S028E02.edf part 23.\n",
            "Processing FC5 channel of file S028E02.edf part 23.\n",
            "Processing T7 channel of file S028E02.edf part 23.\n",
            "Processing P7 channel of file S028E02.edf part 23.\n",
            "Processing O1 channel of file S028E02.edf part 23.\n",
            "Processing O2 channel of file S028E02.edf part 23.\n",
            "Processing P8 channel of file S028E02.edf part 23.\n"
          ],
          "name": "stdout"
        },
        {
          "output_type": "stream",
          "text": [
            "/usr/local/lib/python3.6/dist-packages/ipykernel_launcher.py:69: RuntimeWarning: divide by zero encountered in log10\n",
            "<string>:6: UserWarning: Warning: converting a masked element to nan.\n",
            "/usr/local/lib/python3.6/dist-packages/numpy/ma/core.py:711: UserWarning: Warning: converting a masked element to nan.\n",
            "  data = np.array(a, copy=False, subok=subok)\n"
          ],
          "name": "stderr"
        },
        {
          "output_type": "stream",
          "text": [
            "Processing T8 channel of file S028E02.edf part 23.\n",
            "Processing FC6 channel of file S028E02.edf part 23.\n",
            "Processing F4 channel of file S028E02.edf part 23.\n",
            "Processing F8 channel of file S028E02.edf part 23.\n",
            "Processing AF4 channel of file S028E02.edf part 23.\n",
            "Processing AF3 channel of file S028E02.edf part 24.\n",
            "creating folder S028E02_24.\n",
            "Processing F7 channel of file S028E02.edf part 24.\n",
            "Processing F3 channel of file S028E02.edf part 24.\n",
            "Processing FC5 channel of file S028E02.edf part 24.\n",
            "Processing T7 channel of file S028E02.edf part 24.\n",
            "Processing P7 channel of file S028E02.edf part 24.\n",
            "Processing O1 channel of file S028E02.edf part 24.\n",
            "Processing O2 channel of file S028E02.edf part 24.\n",
            "Processing P8 channel of file S028E02.edf part 24.\n"
          ],
          "name": "stdout"
        },
        {
          "output_type": "stream",
          "text": [
            "/usr/local/lib/python3.6/dist-packages/ipykernel_launcher.py:69: RuntimeWarning: divide by zero encountered in log10\n",
            "<string>:6: UserWarning: Warning: converting a masked element to nan.\n",
            "/usr/local/lib/python3.6/dist-packages/numpy/ma/core.py:711: UserWarning: Warning: converting a masked element to nan.\n",
            "  data = np.array(a, copy=False, subok=subok)\n"
          ],
          "name": "stderr"
        },
        {
          "output_type": "stream",
          "text": [
            "Processing T8 channel of file S028E02.edf part 24.\n",
            "Processing FC6 channel of file S028E02.edf part 24.\n",
            "Processing F4 channel of file S028E02.edf part 24.\n",
            "Processing F8 channel of file S028E02.edf part 24.\n",
            "Processing AF4 channel of file S028E02.edf part 24.\n",
            "Processing AF3 channel of file S028E02.edf part 25.\n",
            "creating folder S028E02_25.\n",
            "Processing F7 channel of file S028E02.edf part 25.\n",
            "Processing F3 channel of file S028E02.edf part 25.\n",
            "Processing FC5 channel of file S028E02.edf part 25.\n",
            "Processing T7 channel of file S028E02.edf part 25.\n",
            "Processing P7 channel of file S028E02.edf part 25.\n",
            "Processing O1 channel of file S028E02.edf part 25.\n",
            "Processing O2 channel of file S028E02.edf part 25.\n",
            "Processing P8 channel of file S028E02.edf part 25.\n"
          ],
          "name": "stdout"
        },
        {
          "output_type": "stream",
          "text": [
            "/usr/local/lib/python3.6/dist-packages/ipykernel_launcher.py:69: RuntimeWarning: divide by zero encountered in log10\n",
            "<string>:6: UserWarning: Warning: converting a masked element to nan.\n",
            "/usr/local/lib/python3.6/dist-packages/numpy/ma/core.py:711: UserWarning: Warning: converting a masked element to nan.\n",
            "  data = np.array(a, copy=False, subok=subok)\n"
          ],
          "name": "stderr"
        },
        {
          "output_type": "stream",
          "text": [
            "Processing T8 channel of file S028E02.edf part 25.\n",
            "Processing FC6 channel of file S028E02.edf part 25.\n",
            "Processing F4 channel of file S028E02.edf part 25.\n",
            "Processing F8 channel of file S028E02.edf part 25.\n",
            "Processing AF4 channel of file S028E02.edf part 25.\n",
            "Processing AF3 channel of file S028E02.edf part 26.\n",
            "creating folder S028E02_26.\n",
            "Processing F7 channel of file S028E02.edf part 26.\n",
            "Processing F3 channel of file S028E02.edf part 26.\n",
            "Processing FC5 channel of file S028E02.edf part 26.\n",
            "Processing T7 channel of file S028E02.edf part 26.\n",
            "Processing P7 channel of file S028E02.edf part 26.\n",
            "Processing O1 channel of file S028E02.edf part 26.\n",
            "Processing O2 channel of file S028E02.edf part 26.\n",
            "Processing P8 channel of file S028E02.edf part 26.\n"
          ],
          "name": "stdout"
        },
        {
          "output_type": "stream",
          "text": [
            "/usr/local/lib/python3.6/dist-packages/ipykernel_launcher.py:69: RuntimeWarning: divide by zero encountered in log10\n",
            "<string>:6: UserWarning: Warning: converting a masked element to nan.\n",
            "/usr/local/lib/python3.6/dist-packages/numpy/ma/core.py:711: UserWarning: Warning: converting a masked element to nan.\n",
            "  data = np.array(a, copy=False, subok=subok)\n"
          ],
          "name": "stderr"
        },
        {
          "output_type": "stream",
          "text": [
            "Processing T8 channel of file S028E02.edf part 26.\n",
            "Processing FC6 channel of file S028E02.edf part 26.\n",
            "Processing F4 channel of file S028E02.edf part 26.\n",
            "Processing F8 channel of file S028E02.edf part 26.\n",
            "Processing AF4 channel of file S028E02.edf part 26.\n",
            "Processing AF3 channel of file S028E02.edf part 27.\n",
            "creating folder S028E02_27.\n",
            "Processing F7 channel of file S028E02.edf part 27.\n",
            "Processing F3 channel of file S028E02.edf part 27.\n",
            "Processing FC5 channel of file S028E02.edf part 27.\n",
            "Processing T7 channel of file S028E02.edf part 27.\n",
            "Processing P7 channel of file S028E02.edf part 27.\n",
            "Processing O1 channel of file S028E02.edf part 27.\n",
            "Processing O2 channel of file S028E02.edf part 27.\n",
            "Processing P8 channel of file S028E02.edf part 27.\n"
          ],
          "name": "stdout"
        },
        {
          "output_type": "stream",
          "text": [
            "/usr/local/lib/python3.6/dist-packages/ipykernel_launcher.py:69: RuntimeWarning: divide by zero encountered in log10\n",
            "<string>:6: UserWarning: Warning: converting a masked element to nan.\n",
            "/usr/local/lib/python3.6/dist-packages/numpy/ma/core.py:711: UserWarning: Warning: converting a masked element to nan.\n",
            "  data = np.array(a, copy=False, subok=subok)\n"
          ],
          "name": "stderr"
        },
        {
          "output_type": "stream",
          "text": [
            "Processing T8 channel of file S028E02.edf part 27.\n",
            "Processing FC6 channel of file S028E02.edf part 27.\n",
            "Processing F4 channel of file S028E02.edf part 27.\n",
            "Processing F8 channel of file S028E02.edf part 27.\n",
            "Processing AF4 channel of file S028E02.edf part 27.\n",
            "Processing AF3 channel of file S028E02.edf part 28.\n",
            "creating folder S028E02_28.\n",
            "Processing F7 channel of file S028E02.edf part 28.\n",
            "Processing F3 channel of file S028E02.edf part 28.\n",
            "Processing FC5 channel of file S028E02.edf part 28.\n",
            "Processing T7 channel of file S028E02.edf part 28.\n",
            "Processing P7 channel of file S028E02.edf part 28.\n",
            "Processing O1 channel of file S028E02.edf part 28.\n",
            "Processing O2 channel of file S028E02.edf part 28.\n",
            "Processing P8 channel of file S028E02.edf part 28.\n"
          ],
          "name": "stdout"
        },
        {
          "output_type": "stream",
          "text": [
            "/usr/local/lib/python3.6/dist-packages/ipykernel_launcher.py:69: RuntimeWarning: divide by zero encountered in log10\n",
            "<string>:6: UserWarning: Warning: converting a masked element to nan.\n",
            "/usr/local/lib/python3.6/dist-packages/numpy/ma/core.py:711: UserWarning: Warning: converting a masked element to nan.\n",
            "  data = np.array(a, copy=False, subok=subok)\n"
          ],
          "name": "stderr"
        },
        {
          "output_type": "stream",
          "text": [
            "Processing T8 channel of file S028E02.edf part 28.\n",
            "Processing FC6 channel of file S028E02.edf part 28.\n",
            "Processing F4 channel of file S028E02.edf part 28.\n",
            "Processing F8 channel of file S028E02.edf part 28.\n",
            "Processing AF4 channel of file S028E02.edf part 28.\n",
            "Processing AF3 channel of file S028E02.edf part 29.\n",
            "creating folder S028E02_29.\n",
            "Processing F7 channel of file S028E02.edf part 29.\n",
            "Processing F3 channel of file S028E02.edf part 29.\n",
            "Processing FC5 channel of file S028E02.edf part 29.\n",
            "Processing T7 channel of file S028E02.edf part 29.\n",
            "Processing P7 channel of file S028E02.edf part 29.\n",
            "Processing O1 channel of file S028E02.edf part 29.\n",
            "Processing O2 channel of file S028E02.edf part 29.\n",
            "Processing P8 channel of file S028E02.edf part 29.\n"
          ],
          "name": "stdout"
        },
        {
          "output_type": "stream",
          "text": [
            "/usr/local/lib/python3.6/dist-packages/ipykernel_launcher.py:69: RuntimeWarning: divide by zero encountered in log10\n",
            "<string>:6: UserWarning: Warning: converting a masked element to nan.\n",
            "/usr/local/lib/python3.6/dist-packages/numpy/ma/core.py:711: UserWarning: Warning: converting a masked element to nan.\n",
            "  data = np.array(a, copy=False, subok=subok)\n"
          ],
          "name": "stderr"
        },
        {
          "output_type": "stream",
          "text": [
            "Processing T8 channel of file S028E02.edf part 29.\n",
            "Processing FC6 channel of file S028E02.edf part 29.\n",
            "Processing F4 channel of file S028E02.edf part 29.\n",
            "Processing F8 channel of file S028E02.edf part 29.\n",
            "Processing AF4 channel of file S028E02.edf part 29.\n",
            "Processing AF3 channel of file S028E02.edf part 30.\n",
            "creating folder S028E02_30.\n",
            "Processing F7 channel of file S028E02.edf part 30.\n",
            "Processing F3 channel of file S028E02.edf part 30.\n",
            "Processing FC5 channel of file S028E02.edf part 30.\n",
            "Processing T7 channel of file S028E02.edf part 30.\n",
            "Processing P7 channel of file S028E02.edf part 30.\n",
            "Processing O1 channel of file S028E02.edf part 30.\n",
            "Processing O2 channel of file S028E02.edf part 30.\n",
            "Processing P8 channel of file S028E02.edf part 30.\n"
          ],
          "name": "stdout"
        },
        {
          "output_type": "stream",
          "text": [
            "/usr/local/lib/python3.6/dist-packages/ipykernel_launcher.py:69: RuntimeWarning: divide by zero encountered in log10\n",
            "<string>:6: UserWarning: Warning: converting a masked element to nan.\n",
            "/usr/local/lib/python3.6/dist-packages/numpy/ma/core.py:711: UserWarning: Warning: converting a masked element to nan.\n",
            "  data = np.array(a, copy=False, subok=subok)\n"
          ],
          "name": "stderr"
        },
        {
          "output_type": "stream",
          "text": [
            "Processing T8 channel of file S028E02.edf part 30.\n",
            "Processing FC6 channel of file S028E02.edf part 30.\n",
            "Processing F4 channel of file S028E02.edf part 30.\n",
            "Processing F8 channel of file S028E02.edf part 30.\n",
            "Processing AF4 channel of file S028E02.edf part 30.\n",
            "Processing AF3 channel of file S028E02.edf part 31.\n",
            "creating folder S028E02_31.\n",
            "Processing F7 channel of file S028E02.edf part 31.\n",
            "Processing F3 channel of file S028E02.edf part 31.\n",
            "Processing FC5 channel of file S028E02.edf part 31.\n",
            "Processing T7 channel of file S028E02.edf part 31.\n",
            "Processing P7 channel of file S028E02.edf part 31.\n",
            "Processing O1 channel of file S028E02.edf part 31.\n",
            "Processing O2 channel of file S028E02.edf part 31.\n",
            "Processing P8 channel of file S028E02.edf part 31.\n"
          ],
          "name": "stdout"
        },
        {
          "output_type": "stream",
          "text": [
            "/usr/local/lib/python3.6/dist-packages/ipykernel_launcher.py:69: RuntimeWarning: divide by zero encountered in log10\n",
            "<string>:6: UserWarning: Warning: converting a masked element to nan.\n",
            "/usr/local/lib/python3.6/dist-packages/numpy/ma/core.py:711: UserWarning: Warning: converting a masked element to nan.\n",
            "  data = np.array(a, copy=False, subok=subok)\n"
          ],
          "name": "stderr"
        },
        {
          "output_type": "stream",
          "text": [
            "Processing T8 channel of file S028E02.edf part 31.\n",
            "Processing FC6 channel of file S028E02.edf part 31.\n",
            "Processing F4 channel of file S028E02.edf part 31.\n",
            "Processing F8 channel of file S028E02.edf part 31.\n",
            "Processing AF4 channel of file S028E02.edf part 31.\n",
            "Processing AF3 channel of file S028E02.edf part 32.\n",
            "creating folder S028E02_32.\n",
            "Processing F7 channel of file S028E02.edf part 32.\n",
            "Processing F3 channel of file S028E02.edf part 32.\n",
            "Processing FC5 channel of file S028E02.edf part 32.\n",
            "Processing T7 channel of file S028E02.edf part 32.\n",
            "Processing P7 channel of file S028E02.edf part 32.\n",
            "Processing O1 channel of file S028E02.edf part 32.\n",
            "Processing O2 channel of file S028E02.edf part 32.\n",
            "Processing P8 channel of file S028E02.edf part 32.\n"
          ],
          "name": "stdout"
        },
        {
          "output_type": "stream",
          "text": [
            "/usr/local/lib/python3.6/dist-packages/ipykernel_launcher.py:69: RuntimeWarning: divide by zero encountered in log10\n",
            "<string>:6: UserWarning: Warning: converting a masked element to nan.\n",
            "/usr/local/lib/python3.6/dist-packages/numpy/ma/core.py:711: UserWarning: Warning: converting a masked element to nan.\n",
            "  data = np.array(a, copy=False, subok=subok)\n"
          ],
          "name": "stderr"
        },
        {
          "output_type": "stream",
          "text": [
            "Processing T8 channel of file S028E02.edf part 32.\n",
            "Processing FC6 channel of file S028E02.edf part 32.\n",
            "Processing F4 channel of file S028E02.edf part 32.\n",
            "Processing F8 channel of file S028E02.edf part 32.\n",
            "Processing AF4 channel of file S028E02.edf part 32.\n",
            "Processing AF3 channel of file S028E02.edf part 33.\n",
            "creating folder S028E02_33.\n",
            "Processing F7 channel of file S028E02.edf part 33.\n",
            "Processing F3 channel of file S028E02.edf part 33.\n",
            "Processing FC5 channel of file S028E02.edf part 33.\n",
            "Processing T7 channel of file S028E02.edf part 33.\n",
            "Processing P7 channel of file S028E02.edf part 33.\n",
            "Processing O1 channel of file S028E02.edf part 33.\n",
            "Processing O2 channel of file S028E02.edf part 33.\n",
            "Processing P8 channel of file S028E02.edf part 33.\n"
          ],
          "name": "stdout"
        },
        {
          "output_type": "stream",
          "text": [
            "/usr/local/lib/python3.6/dist-packages/ipykernel_launcher.py:69: RuntimeWarning: divide by zero encountered in log10\n",
            "<string>:6: UserWarning: Warning: converting a masked element to nan.\n",
            "/usr/local/lib/python3.6/dist-packages/numpy/ma/core.py:711: UserWarning: Warning: converting a masked element to nan.\n",
            "  data = np.array(a, copy=False, subok=subok)\n"
          ],
          "name": "stderr"
        },
        {
          "output_type": "stream",
          "text": [
            "Processing T8 channel of file S028E02.edf part 33.\n",
            "Processing FC6 channel of file S028E02.edf part 33.\n",
            "Processing F4 channel of file S028E02.edf part 33.\n",
            "Processing F8 channel of file S028E02.edf part 33.\n",
            "Processing AF4 channel of file S028E02.edf part 33.\n",
            "Processing AF3 channel of file S028E02.edf part 34.\n",
            "creating folder S028E02_34.\n",
            "Processing F7 channel of file S028E02.edf part 34.\n",
            "Processing F3 channel of file S028E02.edf part 34.\n",
            "Processing FC5 channel of file S028E02.edf part 34.\n",
            "Processing T7 channel of file S028E02.edf part 34.\n",
            "Processing P7 channel of file S028E02.edf part 34.\n",
            "Processing O1 channel of file S028E02.edf part 34.\n",
            "Processing O2 channel of file S028E02.edf part 34.\n",
            "Processing P8 channel of file S028E02.edf part 34.\n"
          ],
          "name": "stdout"
        },
        {
          "output_type": "stream",
          "text": [
            "/usr/local/lib/python3.6/dist-packages/ipykernel_launcher.py:69: RuntimeWarning: divide by zero encountered in log10\n",
            "<string>:6: UserWarning: Warning: converting a masked element to nan.\n",
            "/usr/local/lib/python3.6/dist-packages/numpy/ma/core.py:711: UserWarning: Warning: converting a masked element to nan.\n",
            "  data = np.array(a, copy=False, subok=subok)\n"
          ],
          "name": "stderr"
        },
        {
          "output_type": "stream",
          "text": [
            "Processing T8 channel of file S028E02.edf part 34.\n",
            "Processing FC6 channel of file S028E02.edf part 34.\n",
            "Processing F4 channel of file S028E02.edf part 34.\n",
            "Processing F8 channel of file S028E02.edf part 34.\n",
            "Processing AF4 channel of file S028E02.edf part 34.\n",
            "Processing AF3 channel of file S028E02.edf part 35.\n",
            "creating folder S028E02_35.\n",
            "Processing F7 channel of file S028E02.edf part 35.\n",
            "Processing F3 channel of file S028E02.edf part 35.\n",
            "Processing FC5 channel of file S028E02.edf part 35.\n",
            "Processing T7 channel of file S028E02.edf part 35.\n",
            "Processing P7 channel of file S028E02.edf part 35.\n",
            "Processing O1 channel of file S028E02.edf part 35.\n",
            "Processing O2 channel of file S028E02.edf part 35.\n",
            "Processing P8 channel of file S028E02.edf part 35.\n"
          ],
          "name": "stdout"
        },
        {
          "output_type": "stream",
          "text": [
            "/usr/local/lib/python3.6/dist-packages/ipykernel_launcher.py:69: RuntimeWarning: divide by zero encountered in log10\n",
            "<string>:6: UserWarning: Warning: converting a masked element to nan.\n",
            "/usr/local/lib/python3.6/dist-packages/numpy/ma/core.py:711: UserWarning: Warning: converting a masked element to nan.\n",
            "  data = np.array(a, copy=False, subok=subok)\n"
          ],
          "name": "stderr"
        },
        {
          "output_type": "stream",
          "text": [
            "Processing T8 channel of file S028E02.edf part 35.\n",
            "Processing FC6 channel of file S028E02.edf part 35.\n",
            "Processing F4 channel of file S028E02.edf part 35.\n",
            "Processing F8 channel of file S028E02.edf part 35.\n",
            "Processing AF4 channel of file S028E02.edf part 35.\n",
            "Extracting EDF parameters from /content/gdrive/My Drive/CSE 240/Project/Data/EEG/S028E03.edf...\n",
            "EDF file detected\n",
            "Setting channel info structure...\n",
            "Creating raw.info structure...\n"
          ],
          "name": "stdout"
        },
        {
          "output_type": "stream",
          "text": [
            "<ipython-input-29-0387420c57ef>:26: RuntimeWarning: Physical range is not defined in following channels:\n",
            "P8\n",
            "  data = mne.io.read_raw_edf(file_name)\n"
          ],
          "name": "stderr"
        },
        {
          "output_type": "stream",
          "text": [
            "Processing AF3 channel of file S028E03.edf part 0.\n",
            "Processing F7 channel of file S028E03.edf part 0.\n",
            "Processing F3 channel of file S028E03.edf part 0.\n",
            "Processing FC5 channel of file S028E03.edf part 0.\n",
            "Processing T7 channel of file S028E03.edf part 0.\n",
            "Processing P7 channel of file S028E03.edf part 0.\n",
            "Processing O1 channel of file S028E03.edf part 0.\n",
            "Processing O2 channel of file S028E03.edf part 0.\n",
            "Processing P8 channel of file S028E03.edf part 0.\n"
          ],
          "name": "stdout"
        },
        {
          "output_type": "stream",
          "text": [
            "/usr/local/lib/python3.6/dist-packages/ipykernel_launcher.py:69: RuntimeWarning: divide by zero encountered in log10\n",
            "<string>:6: UserWarning: Warning: converting a masked element to nan.\n",
            "/usr/local/lib/python3.6/dist-packages/numpy/ma/core.py:711: UserWarning: Warning: converting a masked element to nan.\n",
            "  data = np.array(a, copy=False, subok=subok)\n"
          ],
          "name": "stderr"
        },
        {
          "output_type": "stream",
          "text": [
            "Processing T8 channel of file S028E03.edf part 0.\n",
            "Processing FC6 channel of file S028E03.edf part 0.\n",
            "Processing F4 channel of file S028E03.edf part 0.\n",
            "Processing F8 channel of file S028E03.edf part 0.\n",
            "Processing AF4 channel of file S028E03.edf part 0.\n",
            "Processing AF3 channel of file S028E03.edf part 1.\n",
            "Processing F7 channel of file S028E03.edf part 1.\n",
            "Processing F3 channel of file S028E03.edf part 1.\n",
            "Processing FC5 channel of file S028E03.edf part 1.\n",
            "Processing T7 channel of file S028E03.edf part 1.\n",
            "Processing P7 channel of file S028E03.edf part 1.\n",
            "Processing O1 channel of file S028E03.edf part 1.\n",
            "Processing O2 channel of file S028E03.edf part 1.\n",
            "Processing P8 channel of file S028E03.edf part 1.\n"
          ],
          "name": "stdout"
        },
        {
          "output_type": "stream",
          "text": [
            "/usr/local/lib/python3.6/dist-packages/ipykernel_launcher.py:69: RuntimeWarning: divide by zero encountered in log10\n",
            "<string>:6: UserWarning: Warning: converting a masked element to nan.\n",
            "/usr/local/lib/python3.6/dist-packages/numpy/ma/core.py:711: UserWarning: Warning: converting a masked element to nan.\n",
            "  data = np.array(a, copy=False, subok=subok)\n"
          ],
          "name": "stderr"
        },
        {
          "output_type": "stream",
          "text": [
            "Processing T8 channel of file S028E03.edf part 1.\n",
            "Processing FC6 channel of file S028E03.edf part 1.\n",
            "Processing F4 channel of file S028E03.edf part 1.\n",
            "Processing F8 channel of file S028E03.edf part 1.\n",
            "Processing AF4 channel of file S028E03.edf part 1.\n",
            "Processing AF3 channel of file S028E03.edf part 2.\n",
            "Processing F7 channel of file S028E03.edf part 2.\n",
            "Processing F3 channel of file S028E03.edf part 2.\n",
            "Processing FC5 channel of file S028E03.edf part 2.\n",
            "Processing T7 channel of file S028E03.edf part 2.\n",
            "Processing P7 channel of file S028E03.edf part 2.\n",
            "Processing O1 channel of file S028E03.edf part 2.\n",
            "Processing O2 channel of file S028E03.edf part 2.\n",
            "Processing P8 channel of file S028E03.edf part 2.\n"
          ],
          "name": "stdout"
        },
        {
          "output_type": "stream",
          "text": [
            "/usr/local/lib/python3.6/dist-packages/ipykernel_launcher.py:69: RuntimeWarning: divide by zero encountered in log10\n",
            "<string>:6: UserWarning: Warning: converting a masked element to nan.\n",
            "/usr/local/lib/python3.6/dist-packages/numpy/ma/core.py:711: UserWarning: Warning: converting a masked element to nan.\n",
            "  data = np.array(a, copy=False, subok=subok)\n"
          ],
          "name": "stderr"
        },
        {
          "output_type": "stream",
          "text": [
            "Processing T8 channel of file S028E03.edf part 2.\n",
            "Processing FC6 channel of file S028E03.edf part 2.\n",
            "Processing F4 channel of file S028E03.edf part 2.\n",
            "Processing F8 channel of file S028E03.edf part 2.\n",
            "Processing AF4 channel of file S028E03.edf part 2.\n",
            "Processing AF3 channel of file S028E03.edf part 3.\n",
            "Processing F7 channel of file S028E03.edf part 3.\n",
            "Processing F3 channel of file S028E03.edf part 3.\n",
            "Processing FC5 channel of file S028E03.edf part 3.\n",
            "Processing T7 channel of file S028E03.edf part 3.\n",
            "Processing P7 channel of file S028E03.edf part 3.\n",
            "Processing O1 channel of file S028E03.edf part 3.\n",
            "Processing O2 channel of file S028E03.edf part 3.\n",
            "Processing P8 channel of file S028E03.edf part 3.\n"
          ],
          "name": "stdout"
        },
        {
          "output_type": "stream",
          "text": [
            "/usr/local/lib/python3.6/dist-packages/ipykernel_launcher.py:69: RuntimeWarning: divide by zero encountered in log10\n",
            "<string>:6: UserWarning: Warning: converting a masked element to nan.\n",
            "/usr/local/lib/python3.6/dist-packages/numpy/ma/core.py:711: UserWarning: Warning: converting a masked element to nan.\n",
            "  data = np.array(a, copy=False, subok=subok)\n"
          ],
          "name": "stderr"
        },
        {
          "output_type": "stream",
          "text": [
            "Processing T8 channel of file S028E03.edf part 3.\n",
            "Processing FC6 channel of file S028E03.edf part 3.\n",
            "Processing F4 channel of file S028E03.edf part 3.\n",
            "Processing F8 channel of file S028E03.edf part 3.\n",
            "Processing AF4 channel of file S028E03.edf part 3.\n",
            "Processing AF3 channel of file S028E03.edf part 4.\n",
            "Processing F7 channel of file S028E03.edf part 4.\n",
            "Processing F3 channel of file S028E03.edf part 4.\n",
            "Processing FC5 channel of file S028E03.edf part 4.\n",
            "Processing T7 channel of file S028E03.edf part 4.\n",
            "Processing P7 channel of file S028E03.edf part 4.\n",
            "Processing O1 channel of file S028E03.edf part 4.\n",
            "Processing O2 channel of file S028E03.edf part 4.\n",
            "Processing P8 channel of file S028E03.edf part 4.\n"
          ],
          "name": "stdout"
        },
        {
          "output_type": "stream",
          "text": [
            "/usr/local/lib/python3.6/dist-packages/ipykernel_launcher.py:69: RuntimeWarning: divide by zero encountered in log10\n",
            "<string>:6: UserWarning: Warning: converting a masked element to nan.\n",
            "/usr/local/lib/python3.6/dist-packages/numpy/ma/core.py:711: UserWarning: Warning: converting a masked element to nan.\n",
            "  data = np.array(a, copy=False, subok=subok)\n"
          ],
          "name": "stderr"
        },
        {
          "output_type": "stream",
          "text": [
            "Processing T8 channel of file S028E03.edf part 4.\n",
            "Processing FC6 channel of file S028E03.edf part 4.\n",
            "Processing F4 channel of file S028E03.edf part 4.\n",
            "Processing F8 channel of file S028E03.edf part 4.\n",
            "Processing AF4 channel of file S028E03.edf part 4.\n",
            "Processing AF3 channel of file S028E03.edf part 5.\n",
            "Processing F7 channel of file S028E03.edf part 5.\n",
            "Processing F3 channel of file S028E03.edf part 5.\n",
            "Processing FC5 channel of file S028E03.edf part 5.\n",
            "Processing T7 channel of file S028E03.edf part 5.\n",
            "Processing P7 channel of file S028E03.edf part 5.\n",
            "Processing O1 channel of file S028E03.edf part 5.\n",
            "Processing O2 channel of file S028E03.edf part 5.\n",
            "Processing P8 channel of file S028E03.edf part 5.\n"
          ],
          "name": "stdout"
        },
        {
          "output_type": "stream",
          "text": [
            "/usr/local/lib/python3.6/dist-packages/ipykernel_launcher.py:69: RuntimeWarning: divide by zero encountered in log10\n",
            "<string>:6: UserWarning: Warning: converting a masked element to nan.\n",
            "/usr/local/lib/python3.6/dist-packages/numpy/ma/core.py:711: UserWarning: Warning: converting a masked element to nan.\n",
            "  data = np.array(a, copy=False, subok=subok)\n"
          ],
          "name": "stderr"
        },
        {
          "output_type": "stream",
          "text": [
            "Processing T8 channel of file S028E03.edf part 5.\n",
            "Processing FC6 channel of file S028E03.edf part 5.\n",
            "Processing F4 channel of file S028E03.edf part 5.\n",
            "Processing F8 channel of file S028E03.edf part 5.\n",
            "Processing AF4 channel of file S028E03.edf part 5.\n",
            "Processing AF3 channel of file S028E03.edf part 6.\n",
            "Processing F7 channel of file S028E03.edf part 6.\n",
            "Processing F3 channel of file S028E03.edf part 6.\n",
            "Processing FC5 channel of file S028E03.edf part 6.\n",
            "Processing T7 channel of file S028E03.edf part 6.\n",
            "Processing P7 channel of file S028E03.edf part 6.\n",
            "Processing O1 channel of file S028E03.edf part 6.\n",
            "Processing O2 channel of file S028E03.edf part 6.\n",
            "Processing P8 channel of file S028E03.edf part 6.\n"
          ],
          "name": "stdout"
        },
        {
          "output_type": "stream",
          "text": [
            "/usr/local/lib/python3.6/dist-packages/ipykernel_launcher.py:69: RuntimeWarning: divide by zero encountered in log10\n",
            "<string>:6: UserWarning: Warning: converting a masked element to nan.\n",
            "/usr/local/lib/python3.6/dist-packages/numpy/ma/core.py:711: UserWarning: Warning: converting a masked element to nan.\n",
            "  data = np.array(a, copy=False, subok=subok)\n"
          ],
          "name": "stderr"
        },
        {
          "output_type": "stream",
          "text": [
            "Processing T8 channel of file S028E03.edf part 6.\n",
            "Processing FC6 channel of file S028E03.edf part 6.\n",
            "Processing F4 channel of file S028E03.edf part 6.\n",
            "Processing F8 channel of file S028E03.edf part 6.\n",
            "Processing AF4 channel of file S028E03.edf part 6.\n",
            "Processing AF3 channel of file S028E03.edf part 7.\n",
            "Processing F7 channel of file S028E03.edf part 7.\n",
            "Processing F3 channel of file S028E03.edf part 7.\n",
            "Processing FC5 channel of file S028E03.edf part 7.\n",
            "Processing T7 channel of file S028E03.edf part 7.\n",
            "Processing P7 channel of file S028E03.edf part 7.\n",
            "Processing O1 channel of file S028E03.edf part 7.\n",
            "Processing O2 channel of file S028E03.edf part 7.\n",
            "Processing P8 channel of file S028E03.edf part 7.\n"
          ],
          "name": "stdout"
        },
        {
          "output_type": "stream",
          "text": [
            "/usr/local/lib/python3.6/dist-packages/ipykernel_launcher.py:69: RuntimeWarning: divide by zero encountered in log10\n",
            "<string>:6: UserWarning: Warning: converting a masked element to nan.\n",
            "/usr/local/lib/python3.6/dist-packages/numpy/ma/core.py:711: UserWarning: Warning: converting a masked element to nan.\n",
            "  data = np.array(a, copy=False, subok=subok)\n"
          ],
          "name": "stderr"
        },
        {
          "output_type": "stream",
          "text": [
            "Processing T8 channel of file S028E03.edf part 7.\n",
            "Processing FC6 channel of file S028E03.edf part 7.\n",
            "Processing F4 channel of file S028E03.edf part 7.\n",
            "Processing F8 channel of file S028E03.edf part 7.\n",
            "Processing AF4 channel of file S028E03.edf part 7.\n",
            "Processing AF3 channel of file S028E03.edf part 8.\n",
            "Processing F7 channel of file S028E03.edf part 8.\n",
            "Processing F3 channel of file S028E03.edf part 8.\n",
            "Processing FC5 channel of file S028E03.edf part 8.\n",
            "Processing T7 channel of file S028E03.edf part 8.\n",
            "Processing P7 channel of file S028E03.edf part 8.\n",
            "Processing O1 channel of file S028E03.edf part 8.\n",
            "Processing O2 channel of file S028E03.edf part 8.\n",
            "Processing P8 channel of file S028E03.edf part 8.\n"
          ],
          "name": "stdout"
        },
        {
          "output_type": "stream",
          "text": [
            "/usr/local/lib/python3.6/dist-packages/ipykernel_launcher.py:69: RuntimeWarning: divide by zero encountered in log10\n",
            "<string>:6: UserWarning: Warning: converting a masked element to nan.\n",
            "/usr/local/lib/python3.6/dist-packages/numpy/ma/core.py:711: UserWarning: Warning: converting a masked element to nan.\n",
            "  data = np.array(a, copy=False, subok=subok)\n"
          ],
          "name": "stderr"
        },
        {
          "output_type": "stream",
          "text": [
            "Processing T8 channel of file S028E03.edf part 8.\n",
            "Processing FC6 channel of file S028E03.edf part 8.\n",
            "Processing F4 channel of file S028E03.edf part 8.\n",
            "Processing F8 channel of file S028E03.edf part 8.\n",
            "Processing AF4 channel of file S028E03.edf part 8.\n",
            "Processing AF3 channel of file S028E03.edf part 9.\n",
            "Processing F7 channel of file S028E03.edf part 9.\n",
            "Processing F3 channel of file S028E03.edf part 9.\n",
            "Processing FC5 channel of file S028E03.edf part 9.\n",
            "Processing T7 channel of file S028E03.edf part 9.\n",
            "Processing P7 channel of file S028E03.edf part 9.\n",
            "Processing O1 channel of file S028E03.edf part 9.\n",
            "Processing O2 channel of file S028E03.edf part 9.\n",
            "Processing P8 channel of file S028E03.edf part 9.\n"
          ],
          "name": "stdout"
        },
        {
          "output_type": "stream",
          "text": [
            "/usr/local/lib/python3.6/dist-packages/ipykernel_launcher.py:69: RuntimeWarning: divide by zero encountered in log10\n",
            "<string>:6: UserWarning: Warning: converting a masked element to nan.\n",
            "/usr/local/lib/python3.6/dist-packages/numpy/ma/core.py:711: UserWarning: Warning: converting a masked element to nan.\n",
            "  data = np.array(a, copy=False, subok=subok)\n"
          ],
          "name": "stderr"
        },
        {
          "output_type": "stream",
          "text": [
            "Processing T8 channel of file S028E03.edf part 9.\n",
            "Processing FC6 channel of file S028E03.edf part 9.\n",
            "Processing F4 channel of file S028E03.edf part 9.\n",
            "Processing F8 channel of file S028E03.edf part 9.\n",
            "Processing AF4 channel of file S028E03.edf part 9.\n",
            "Processing AF3 channel of file S028E03.edf part 10.\n",
            "Processing F7 channel of file S028E03.edf part 10.\n",
            "Processing F3 channel of file S028E03.edf part 10.\n",
            "Processing FC5 channel of file S028E03.edf part 10.\n",
            "Processing T7 channel of file S028E03.edf part 10.\n",
            "Processing P7 channel of file S028E03.edf part 10.\n",
            "Processing O1 channel of file S028E03.edf part 10.\n",
            "Processing O2 channel of file S028E03.edf part 10.\n",
            "Processing P8 channel of file S028E03.edf part 10.\n"
          ],
          "name": "stdout"
        },
        {
          "output_type": "stream",
          "text": [
            "/usr/local/lib/python3.6/dist-packages/ipykernel_launcher.py:69: RuntimeWarning: divide by zero encountered in log10\n",
            "<string>:6: UserWarning: Warning: converting a masked element to nan.\n",
            "/usr/local/lib/python3.6/dist-packages/numpy/ma/core.py:711: UserWarning: Warning: converting a masked element to nan.\n",
            "  data = np.array(a, copy=False, subok=subok)\n"
          ],
          "name": "stderr"
        },
        {
          "output_type": "stream",
          "text": [
            "Processing T8 channel of file S028E03.edf part 10.\n",
            "Processing FC6 channel of file S028E03.edf part 10.\n",
            "Processing F4 channel of file S028E03.edf part 10.\n",
            "Processing F8 channel of file S028E03.edf part 10.\n",
            "Processing AF4 channel of file S028E03.edf part 10.\n",
            "Processing AF3 channel of file S028E03.edf part 11.\n",
            "Processing F7 channel of file S028E03.edf part 11.\n",
            "Processing F3 channel of file S028E03.edf part 11.\n",
            "Processing FC5 channel of file S028E03.edf part 11.\n",
            "Processing T7 channel of file S028E03.edf part 11.\n",
            "Processing P7 channel of file S028E03.edf part 11.\n",
            "Processing O1 channel of file S028E03.edf part 11.\n",
            "Processing O2 channel of file S028E03.edf part 11.\n",
            "Processing P8 channel of file S028E03.edf part 11.\n"
          ],
          "name": "stdout"
        },
        {
          "output_type": "stream",
          "text": [
            "/usr/local/lib/python3.6/dist-packages/ipykernel_launcher.py:69: RuntimeWarning: divide by zero encountered in log10\n",
            "<string>:6: UserWarning: Warning: converting a masked element to nan.\n",
            "/usr/local/lib/python3.6/dist-packages/numpy/ma/core.py:711: UserWarning: Warning: converting a masked element to nan.\n",
            "  data = np.array(a, copy=False, subok=subok)\n"
          ],
          "name": "stderr"
        },
        {
          "output_type": "stream",
          "text": [
            "Processing T8 channel of file S028E03.edf part 11.\n",
            "Processing FC6 channel of file S028E03.edf part 11.\n",
            "Processing F4 channel of file S028E03.edf part 11.\n",
            "Processing F8 channel of file S028E03.edf part 11.\n",
            "Processing AF4 channel of file S028E03.edf part 11.\n",
            "Processing AF3 channel of file S028E03.edf part 12.\n",
            "Processing F7 channel of file S028E03.edf part 12.\n",
            "Processing F3 channel of file S028E03.edf part 12.\n",
            "Processing FC5 channel of file S028E03.edf part 12.\n",
            "Processing T7 channel of file S028E03.edf part 12.\n",
            "Processing P7 channel of file S028E03.edf part 12.\n",
            "Processing O1 channel of file S028E03.edf part 12.\n",
            "Processing O2 channel of file S028E03.edf part 12.\n",
            "Processing P8 channel of file S028E03.edf part 12.\n"
          ],
          "name": "stdout"
        },
        {
          "output_type": "stream",
          "text": [
            "/usr/local/lib/python3.6/dist-packages/ipykernel_launcher.py:69: RuntimeWarning: divide by zero encountered in log10\n",
            "<string>:6: UserWarning: Warning: converting a masked element to nan.\n",
            "/usr/local/lib/python3.6/dist-packages/numpy/ma/core.py:711: UserWarning: Warning: converting a masked element to nan.\n",
            "  data = np.array(a, copy=False, subok=subok)\n"
          ],
          "name": "stderr"
        },
        {
          "output_type": "stream",
          "text": [
            "Processing T8 channel of file S028E03.edf part 12.\n",
            "Processing FC6 channel of file S028E03.edf part 12.\n",
            "Processing F4 channel of file S028E03.edf part 12.\n",
            "Processing F8 channel of file S028E03.edf part 12.\n",
            "Processing AF4 channel of file S028E03.edf part 12.\n",
            "Processing AF3 channel of file S028E03.edf part 13.\n",
            "Processing F7 channel of file S028E03.edf part 13.\n",
            "Processing F3 channel of file S028E03.edf part 13.\n",
            "Processing FC5 channel of file S028E03.edf part 13.\n",
            "Processing T7 channel of file S028E03.edf part 13.\n",
            "Processing P7 channel of file S028E03.edf part 13.\n",
            "Processing O1 channel of file S028E03.edf part 13.\n",
            "Processing O2 channel of file S028E03.edf part 13.\n",
            "Processing P8 channel of file S028E03.edf part 13.\n"
          ],
          "name": "stdout"
        },
        {
          "output_type": "stream",
          "text": [
            "/usr/local/lib/python3.6/dist-packages/ipykernel_launcher.py:69: RuntimeWarning: divide by zero encountered in log10\n",
            "<string>:6: UserWarning: Warning: converting a masked element to nan.\n",
            "/usr/local/lib/python3.6/dist-packages/numpy/ma/core.py:711: UserWarning: Warning: converting a masked element to nan.\n",
            "  data = np.array(a, copy=False, subok=subok)\n"
          ],
          "name": "stderr"
        },
        {
          "output_type": "stream",
          "text": [
            "Processing T8 channel of file S028E03.edf part 13.\n",
            "Processing FC6 channel of file S028E03.edf part 13.\n",
            "Processing F4 channel of file S028E03.edf part 13.\n",
            "Processing F8 channel of file S028E03.edf part 13.\n",
            "Processing AF4 channel of file S028E03.edf part 13.\n",
            "Processing AF3 channel of file S028E03.edf part 14.\n",
            "Processing F7 channel of file S028E03.edf part 14.\n",
            "Processing F3 channel of file S028E03.edf part 14.\n",
            "Processing FC5 channel of file S028E03.edf part 14.\n",
            "Processing T7 channel of file S028E03.edf part 14.\n",
            "Processing P7 channel of file S028E03.edf part 14.\n",
            "Processing O1 channel of file S028E03.edf part 14.\n",
            "Processing O2 channel of file S028E03.edf part 14.\n",
            "Processing P8 channel of file S028E03.edf part 14.\n"
          ],
          "name": "stdout"
        },
        {
          "output_type": "stream",
          "text": [
            "/usr/local/lib/python3.6/dist-packages/ipykernel_launcher.py:69: RuntimeWarning: divide by zero encountered in log10\n",
            "<string>:6: UserWarning: Warning: converting a masked element to nan.\n",
            "/usr/local/lib/python3.6/dist-packages/numpy/ma/core.py:711: UserWarning: Warning: converting a masked element to nan.\n",
            "  data = np.array(a, copy=False, subok=subok)\n"
          ],
          "name": "stderr"
        },
        {
          "output_type": "stream",
          "text": [
            "Processing T8 channel of file S028E03.edf part 14.\n",
            "Processing FC6 channel of file S028E03.edf part 14.\n",
            "Processing F4 channel of file S028E03.edf part 14.\n",
            "Processing F8 channel of file S028E03.edf part 14.\n",
            "Processing AF4 channel of file S028E03.edf part 14.\n",
            "Processing AF3 channel of file S028E03.edf part 15.\n",
            "Processing F7 channel of file S028E03.edf part 15.\n",
            "Processing F3 channel of file S028E03.edf part 15.\n",
            "Processing FC5 channel of file S028E03.edf part 15.\n",
            "Processing T7 channel of file S028E03.edf part 15.\n",
            "Processing P7 channel of file S028E03.edf part 15.\n",
            "Processing O1 channel of file S028E03.edf part 15.\n",
            "Processing O2 channel of file S028E03.edf part 15.\n",
            "Processing P8 channel of file S028E03.edf part 15.\n"
          ],
          "name": "stdout"
        },
        {
          "output_type": "stream",
          "text": [
            "/usr/local/lib/python3.6/dist-packages/ipykernel_launcher.py:69: RuntimeWarning: divide by zero encountered in log10\n",
            "<string>:6: UserWarning: Warning: converting a masked element to nan.\n",
            "/usr/local/lib/python3.6/dist-packages/numpy/ma/core.py:711: UserWarning: Warning: converting a masked element to nan.\n",
            "  data = np.array(a, copy=False, subok=subok)\n"
          ],
          "name": "stderr"
        },
        {
          "output_type": "stream",
          "text": [
            "Processing T8 channel of file S028E03.edf part 15.\n",
            "Processing FC6 channel of file S028E03.edf part 15.\n",
            "Processing F4 channel of file S028E03.edf part 15.\n",
            "Processing F8 channel of file S028E03.edf part 15.\n",
            "Processing AF4 channel of file S028E03.edf part 15.\n",
            "Processing AF3 channel of file S028E03.edf part 16.\n",
            "Processing F7 channel of file S028E03.edf part 16.\n",
            "Processing F3 channel of file S028E03.edf part 16.\n",
            "Processing FC5 channel of file S028E03.edf part 16.\n",
            "Processing T7 channel of file S028E03.edf part 16.\n",
            "Processing P7 channel of file S028E03.edf part 16.\n",
            "Processing O1 channel of file S028E03.edf part 16.\n",
            "Processing O2 channel of file S028E03.edf part 16.\n",
            "Processing P8 channel of file S028E03.edf part 16.\n"
          ],
          "name": "stdout"
        },
        {
          "output_type": "stream",
          "text": [
            "/usr/local/lib/python3.6/dist-packages/ipykernel_launcher.py:69: RuntimeWarning: divide by zero encountered in log10\n",
            "<string>:6: UserWarning: Warning: converting a masked element to nan.\n",
            "/usr/local/lib/python3.6/dist-packages/numpy/ma/core.py:711: UserWarning: Warning: converting a masked element to nan.\n",
            "  data = np.array(a, copy=False, subok=subok)\n"
          ],
          "name": "stderr"
        },
        {
          "output_type": "stream",
          "text": [
            "Processing T8 channel of file S028E03.edf part 16.\n",
            "Processing FC6 channel of file S028E03.edf part 16.\n",
            "Processing F4 channel of file S028E03.edf part 16.\n",
            "Processing F8 channel of file S028E03.edf part 16.\n",
            "Processing AF4 channel of file S028E03.edf part 16.\n",
            "Processing AF3 channel of file S028E03.edf part 17.\n",
            "Processing F7 channel of file S028E03.edf part 17.\n",
            "Processing F3 channel of file S028E03.edf part 17.\n",
            "Processing FC5 channel of file S028E03.edf part 17.\n",
            "Processing T7 channel of file S028E03.edf part 17.\n",
            "Processing P7 channel of file S028E03.edf part 17.\n",
            "Processing O1 channel of file S028E03.edf part 17.\n",
            "Processing O2 channel of file S028E03.edf part 17.\n",
            "Processing P8 channel of file S028E03.edf part 17.\n"
          ],
          "name": "stdout"
        },
        {
          "output_type": "stream",
          "text": [
            "/usr/local/lib/python3.6/dist-packages/ipykernel_launcher.py:69: RuntimeWarning: divide by zero encountered in log10\n",
            "<string>:6: UserWarning: Warning: converting a masked element to nan.\n",
            "/usr/local/lib/python3.6/dist-packages/numpy/ma/core.py:711: UserWarning: Warning: converting a masked element to nan.\n",
            "  data = np.array(a, copy=False, subok=subok)\n"
          ],
          "name": "stderr"
        },
        {
          "output_type": "stream",
          "text": [
            "Processing T8 channel of file S028E03.edf part 17.\n",
            "Processing FC6 channel of file S028E03.edf part 17.\n",
            "Processing F4 channel of file S028E03.edf part 17.\n",
            "Processing F8 channel of file S028E03.edf part 17.\n",
            "Processing AF4 channel of file S028E03.edf part 17.\n",
            "Processing AF3 channel of file S028E03.edf part 18.\n",
            "Processing F7 channel of file S028E03.edf part 18.\n",
            "Processing F3 channel of file S028E03.edf part 18.\n",
            "Processing FC5 channel of file S028E03.edf part 18.\n",
            "Processing T7 channel of file S028E03.edf part 18.\n",
            "Processing P7 channel of file S028E03.edf part 18.\n",
            "Processing O1 channel of file S028E03.edf part 18.\n",
            "Processing O2 channel of file S028E03.edf part 18.\n",
            "Processing P8 channel of file S028E03.edf part 18.\n"
          ],
          "name": "stdout"
        },
        {
          "output_type": "stream",
          "text": [
            "/usr/local/lib/python3.6/dist-packages/ipykernel_launcher.py:69: RuntimeWarning: divide by zero encountered in log10\n",
            "<string>:6: UserWarning: Warning: converting a masked element to nan.\n",
            "/usr/local/lib/python3.6/dist-packages/numpy/ma/core.py:711: UserWarning: Warning: converting a masked element to nan.\n",
            "  data = np.array(a, copy=False, subok=subok)\n"
          ],
          "name": "stderr"
        },
        {
          "output_type": "stream",
          "text": [
            "Processing T8 channel of file S028E03.edf part 18.\n",
            "Processing FC6 channel of file S028E03.edf part 18.\n",
            "Processing F4 channel of file S028E03.edf part 18.\n",
            "Processing F8 channel of file S028E03.edf part 18.\n",
            "Processing AF4 channel of file S028E03.edf part 18.\n",
            "Processing AF3 channel of file S028E03.edf part 19.\n",
            "Processing F7 channel of file S028E03.edf part 19.\n",
            "Processing F3 channel of file S028E03.edf part 19.\n",
            "Processing FC5 channel of file S028E03.edf part 19.\n",
            "Processing T7 channel of file S028E03.edf part 19.\n",
            "Processing P7 channel of file S028E03.edf part 19.\n",
            "Processing O1 channel of file S028E03.edf part 19.\n",
            "Processing O2 channel of file S028E03.edf part 19.\n",
            "Processing P8 channel of file S028E03.edf part 19.\n"
          ],
          "name": "stdout"
        },
        {
          "output_type": "stream",
          "text": [
            "/usr/local/lib/python3.6/dist-packages/ipykernel_launcher.py:69: RuntimeWarning: divide by zero encountered in log10\n",
            "<string>:6: UserWarning: Warning: converting a masked element to nan.\n",
            "/usr/local/lib/python3.6/dist-packages/numpy/ma/core.py:711: UserWarning: Warning: converting a masked element to nan.\n",
            "  data = np.array(a, copy=False, subok=subok)\n"
          ],
          "name": "stderr"
        },
        {
          "output_type": "stream",
          "text": [
            "Processing T8 channel of file S028E03.edf part 19.\n",
            "Processing FC6 channel of file S028E03.edf part 19.\n",
            "Processing F4 channel of file S028E03.edf part 19.\n",
            "Processing F8 channel of file S028E03.edf part 19.\n",
            "Processing AF4 channel of file S028E03.edf part 19.\n",
            "Processing AF3 channel of file S028E03.edf part 20.\n",
            "Processing F7 channel of file S028E03.edf part 20.\n",
            "Processing F3 channel of file S028E03.edf part 20.\n",
            "Processing FC5 channel of file S028E03.edf part 20.\n",
            "Processing T7 channel of file S028E03.edf part 20.\n",
            "Processing P7 channel of file S028E03.edf part 20.\n",
            "Processing O1 channel of file S028E03.edf part 20.\n",
            "Processing O2 channel of file S028E03.edf part 20.\n",
            "Processing P8 channel of file S028E03.edf part 20.\n"
          ],
          "name": "stdout"
        },
        {
          "output_type": "stream",
          "text": [
            "/usr/local/lib/python3.6/dist-packages/ipykernel_launcher.py:69: RuntimeWarning: divide by zero encountered in log10\n",
            "<string>:6: UserWarning: Warning: converting a masked element to nan.\n",
            "/usr/local/lib/python3.6/dist-packages/numpy/ma/core.py:711: UserWarning: Warning: converting a masked element to nan.\n",
            "  data = np.array(a, copy=False, subok=subok)\n"
          ],
          "name": "stderr"
        },
        {
          "output_type": "stream",
          "text": [
            "Processing T8 channel of file S028E03.edf part 20.\n",
            "Processing FC6 channel of file S028E03.edf part 20.\n",
            "Processing F4 channel of file S028E03.edf part 20.\n",
            "Processing F8 channel of file S028E03.edf part 20.\n",
            "Processing AF4 channel of file S028E03.edf part 20.\n",
            "Processing AF3 channel of file S028E03.edf part 21.\n",
            "Processing F7 channel of file S028E03.edf part 21.\n",
            "Processing F3 channel of file S028E03.edf part 21.\n",
            "Processing FC5 channel of file S028E03.edf part 21.\n",
            "Processing T7 channel of file S028E03.edf part 21.\n",
            "Processing P7 channel of file S028E03.edf part 21.\n",
            "Processing O1 channel of file S028E03.edf part 21.\n",
            "Processing O2 channel of file S028E03.edf part 21.\n",
            "Processing P8 channel of file S028E03.edf part 21.\n"
          ],
          "name": "stdout"
        },
        {
          "output_type": "stream",
          "text": [
            "/usr/local/lib/python3.6/dist-packages/ipykernel_launcher.py:69: RuntimeWarning: divide by zero encountered in log10\n",
            "<string>:6: UserWarning: Warning: converting a masked element to nan.\n",
            "/usr/local/lib/python3.6/dist-packages/numpy/ma/core.py:711: UserWarning: Warning: converting a masked element to nan.\n",
            "  data = np.array(a, copy=False, subok=subok)\n"
          ],
          "name": "stderr"
        },
        {
          "output_type": "stream",
          "text": [
            "Processing T8 channel of file S028E03.edf part 21.\n",
            "Processing FC6 channel of file S028E03.edf part 21.\n",
            "Processing F4 channel of file S028E03.edf part 21.\n",
            "Processing F8 channel of file S028E03.edf part 21.\n",
            "Processing AF4 channel of file S028E03.edf part 21.\n",
            "Processing AF3 channel of file S028E03.edf part 22.\n",
            "Processing F7 channel of file S028E03.edf part 22.\n",
            "Processing F3 channel of file S028E03.edf part 22.\n",
            "Processing FC5 channel of file S028E03.edf part 22.\n",
            "Processing T7 channel of file S028E03.edf part 22.\n",
            "Processing P7 channel of file S028E03.edf part 22.\n",
            "Processing O1 channel of file S028E03.edf part 22.\n",
            "Processing O2 channel of file S028E03.edf part 22.\n",
            "Processing P8 channel of file S028E03.edf part 22.\n"
          ],
          "name": "stdout"
        },
        {
          "output_type": "stream",
          "text": [
            "/usr/local/lib/python3.6/dist-packages/ipykernel_launcher.py:69: RuntimeWarning: divide by zero encountered in log10\n",
            "<string>:6: UserWarning: Warning: converting a masked element to nan.\n",
            "/usr/local/lib/python3.6/dist-packages/numpy/ma/core.py:711: UserWarning: Warning: converting a masked element to nan.\n",
            "  data = np.array(a, copy=False, subok=subok)\n"
          ],
          "name": "stderr"
        },
        {
          "output_type": "stream",
          "text": [
            "Processing T8 channel of file S028E03.edf part 22.\n",
            "Processing FC6 channel of file S028E03.edf part 22.\n",
            "Processing F4 channel of file S028E03.edf part 22.\n",
            "Processing F8 channel of file S028E03.edf part 22.\n",
            "Processing AF4 channel of file S028E03.edf part 22.\n",
            "Processing AF3 channel of file S028E03.edf part 23.\n",
            "Processing F7 channel of file S028E03.edf part 23.\n",
            "Processing F3 channel of file S028E03.edf part 23.\n",
            "Processing FC5 channel of file S028E03.edf part 23.\n",
            "Processing T7 channel of file S028E03.edf part 23.\n",
            "Processing P7 channel of file S028E03.edf part 23.\n",
            "Processing O1 channel of file S028E03.edf part 23.\n",
            "Processing O2 channel of file S028E03.edf part 23.\n",
            "Processing P8 channel of file S028E03.edf part 23.\n"
          ],
          "name": "stdout"
        },
        {
          "output_type": "stream",
          "text": [
            "/usr/local/lib/python3.6/dist-packages/ipykernel_launcher.py:69: RuntimeWarning: divide by zero encountered in log10\n",
            "<string>:6: UserWarning: Warning: converting a masked element to nan.\n",
            "/usr/local/lib/python3.6/dist-packages/numpy/ma/core.py:711: UserWarning: Warning: converting a masked element to nan.\n",
            "  data = np.array(a, copy=False, subok=subok)\n"
          ],
          "name": "stderr"
        },
        {
          "output_type": "stream",
          "text": [
            "Processing T8 channel of file S028E03.edf part 23.\n",
            "Processing FC6 channel of file S028E03.edf part 23.\n",
            "Processing F4 channel of file S028E03.edf part 23.\n",
            "Processing F8 channel of file S028E03.edf part 23.\n",
            "Processing AF4 channel of file S028E03.edf part 23.\n",
            "Processing AF3 channel of file S028E03.edf part 24.\n",
            "Processing F7 channel of file S028E03.edf part 24.\n",
            "Processing F3 channel of file S028E03.edf part 24.\n",
            "Processing FC5 channel of file S028E03.edf part 24.\n",
            "Processing T7 channel of file S028E03.edf part 24.\n",
            "Processing P7 channel of file S028E03.edf part 24.\n",
            "Processing O1 channel of file S028E03.edf part 24.\n",
            "Processing O2 channel of file S028E03.edf part 24.\n",
            "Processing P8 channel of file S028E03.edf part 24.\n"
          ],
          "name": "stdout"
        },
        {
          "output_type": "stream",
          "text": [
            "/usr/local/lib/python3.6/dist-packages/ipykernel_launcher.py:69: RuntimeWarning: divide by zero encountered in log10\n",
            "<string>:6: UserWarning: Warning: converting a masked element to nan.\n",
            "/usr/local/lib/python3.6/dist-packages/numpy/ma/core.py:711: UserWarning: Warning: converting a masked element to nan.\n",
            "  data = np.array(a, copy=False, subok=subok)\n"
          ],
          "name": "stderr"
        },
        {
          "output_type": "stream",
          "text": [
            "Processing T8 channel of file S028E03.edf part 24.\n",
            "Processing FC6 channel of file S028E03.edf part 24.\n",
            "Processing F4 channel of file S028E03.edf part 24.\n",
            "Processing F8 channel of file S028E03.edf part 24.\n",
            "Processing AF4 channel of file S028E03.edf part 24.\n",
            "Processing AF3 channel of file S028E03.edf part 25.\n",
            "Processing F7 channel of file S028E03.edf part 25.\n",
            "Processing F3 channel of file S028E03.edf part 25.\n",
            "Processing FC5 channel of file S028E03.edf part 25.\n",
            "Processing T7 channel of file S028E03.edf part 25.\n",
            "Processing P7 channel of file S028E03.edf part 25.\n",
            "Processing O1 channel of file S028E03.edf part 25.\n",
            "Processing O2 channel of file S028E03.edf part 25.\n",
            "Processing P8 channel of file S028E03.edf part 25.\n"
          ],
          "name": "stdout"
        },
        {
          "output_type": "stream",
          "text": [
            "/usr/local/lib/python3.6/dist-packages/ipykernel_launcher.py:69: RuntimeWarning: divide by zero encountered in log10\n",
            "<string>:6: UserWarning: Warning: converting a masked element to nan.\n",
            "/usr/local/lib/python3.6/dist-packages/numpy/ma/core.py:711: UserWarning: Warning: converting a masked element to nan.\n",
            "  data = np.array(a, copy=False, subok=subok)\n"
          ],
          "name": "stderr"
        },
        {
          "output_type": "stream",
          "text": [
            "Processing T8 channel of file S028E03.edf part 25.\n",
            "Processing FC6 channel of file S028E03.edf part 25.\n",
            "Processing F4 channel of file S028E03.edf part 25.\n",
            "Processing F8 channel of file S028E03.edf part 25.\n",
            "Processing AF4 channel of file S028E03.edf part 25.\n",
            "Processing AF3 channel of file S028E03.edf part 26.\n",
            "Processing F7 channel of file S028E03.edf part 26.\n",
            "Processing F3 channel of file S028E03.edf part 26.\n",
            "Processing FC5 channel of file S028E03.edf part 26.\n",
            "Processing T7 channel of file S028E03.edf part 26.\n",
            "Processing P7 channel of file S028E03.edf part 26.\n",
            "Processing O1 channel of file S028E03.edf part 26.\n",
            "Processing O2 channel of file S028E03.edf part 26.\n",
            "Processing P8 channel of file S028E03.edf part 26.\n"
          ],
          "name": "stdout"
        },
        {
          "output_type": "stream",
          "text": [
            "/usr/local/lib/python3.6/dist-packages/ipykernel_launcher.py:69: RuntimeWarning: divide by zero encountered in log10\n",
            "<string>:6: UserWarning: Warning: converting a masked element to nan.\n",
            "/usr/local/lib/python3.6/dist-packages/numpy/ma/core.py:711: UserWarning: Warning: converting a masked element to nan.\n",
            "  data = np.array(a, copy=False, subok=subok)\n"
          ],
          "name": "stderr"
        },
        {
          "output_type": "stream",
          "text": [
            "Processing T8 channel of file S028E03.edf part 26.\n",
            "Processing FC6 channel of file S028E03.edf part 26.\n",
            "Processing F4 channel of file S028E03.edf part 26.\n",
            "Processing F8 channel of file S028E03.edf part 26.\n",
            "Processing AF4 channel of file S028E03.edf part 26.\n",
            "Processing AF3 channel of file S028E03.edf part 27.\n",
            "Processing F7 channel of file S028E03.edf part 27.\n",
            "Processing F3 channel of file S028E03.edf part 27.\n",
            "Processing FC5 channel of file S028E03.edf part 27.\n",
            "Processing T7 channel of file S028E03.edf part 27.\n",
            "Processing P7 channel of file S028E03.edf part 27.\n",
            "Processing O1 channel of file S028E03.edf part 27.\n",
            "Processing O2 channel of file S028E03.edf part 27.\n",
            "Processing P8 channel of file S028E03.edf part 27.\n"
          ],
          "name": "stdout"
        },
        {
          "output_type": "stream",
          "text": [
            "/usr/local/lib/python3.6/dist-packages/ipykernel_launcher.py:69: RuntimeWarning: divide by zero encountered in log10\n",
            "<string>:6: UserWarning: Warning: converting a masked element to nan.\n",
            "/usr/local/lib/python3.6/dist-packages/numpy/ma/core.py:711: UserWarning: Warning: converting a masked element to nan.\n",
            "  data = np.array(a, copy=False, subok=subok)\n"
          ],
          "name": "stderr"
        },
        {
          "output_type": "stream",
          "text": [
            "Processing T8 channel of file S028E03.edf part 27.\n",
            "Processing FC6 channel of file S028E03.edf part 27.\n",
            "Processing F4 channel of file S028E03.edf part 27.\n",
            "Processing F8 channel of file S028E03.edf part 27.\n",
            "Processing AF4 channel of file S028E03.edf part 27.\n",
            "Processing AF3 channel of file S028E03.edf part 28.\n",
            "Processing F7 channel of file S028E03.edf part 28.\n",
            "Processing F3 channel of file S028E03.edf part 28.\n",
            "Processing FC5 channel of file S028E03.edf part 28.\n",
            "Processing T7 channel of file S028E03.edf part 28.\n",
            "Processing P7 channel of file S028E03.edf part 28.\n",
            "Processing O1 channel of file S028E03.edf part 28.\n",
            "Processing O2 channel of file S028E03.edf part 28.\n",
            "Processing P8 channel of file S028E03.edf part 28.\n"
          ],
          "name": "stdout"
        },
        {
          "output_type": "stream",
          "text": [
            "/usr/local/lib/python3.6/dist-packages/ipykernel_launcher.py:69: RuntimeWarning: divide by zero encountered in log10\n",
            "<string>:6: UserWarning: Warning: converting a masked element to nan.\n",
            "/usr/local/lib/python3.6/dist-packages/numpy/ma/core.py:711: UserWarning: Warning: converting a masked element to nan.\n",
            "  data = np.array(a, copy=False, subok=subok)\n"
          ],
          "name": "stderr"
        },
        {
          "output_type": "stream",
          "text": [
            "Processing T8 channel of file S028E03.edf part 28.\n",
            "Processing FC6 channel of file S028E03.edf part 28.\n",
            "Processing F4 channel of file S028E03.edf part 28.\n",
            "Processing F8 channel of file S028E03.edf part 28.\n",
            "Processing AF4 channel of file S028E03.edf part 28.\n",
            "Processing AF3 channel of file S028E03.edf part 29.\n",
            "Processing F7 channel of file S028E03.edf part 29.\n",
            "Processing F3 channel of file S028E03.edf part 29.\n",
            "Processing FC5 channel of file S028E03.edf part 29.\n",
            "Processing T7 channel of file S028E03.edf part 29.\n",
            "Processing P7 channel of file S028E03.edf part 29.\n",
            "Processing O1 channel of file S028E03.edf part 29.\n",
            "Processing O2 channel of file S028E03.edf part 29.\n",
            "Processing P8 channel of file S028E03.edf part 29.\n"
          ],
          "name": "stdout"
        },
        {
          "output_type": "stream",
          "text": [
            "/usr/local/lib/python3.6/dist-packages/ipykernel_launcher.py:69: RuntimeWarning: divide by zero encountered in log10\n",
            "<string>:6: UserWarning: Warning: converting a masked element to nan.\n",
            "/usr/local/lib/python3.6/dist-packages/numpy/ma/core.py:711: UserWarning: Warning: converting a masked element to nan.\n",
            "  data = np.array(a, copy=False, subok=subok)\n"
          ],
          "name": "stderr"
        },
        {
          "output_type": "stream",
          "text": [
            "Processing T8 channel of file S028E03.edf part 29.\n",
            "Processing FC6 channel of file S028E03.edf part 29.\n",
            "Processing F4 channel of file S028E03.edf part 29.\n",
            "Processing F8 channel of file S028E03.edf part 29.\n",
            "Processing AF4 channel of file S028E03.edf part 29.\n",
            "Processing AF3 channel of file S028E03.edf part 30.\n",
            "Processing F7 channel of file S028E03.edf part 30.\n",
            "Processing F3 channel of file S028E03.edf part 30.\n",
            "Processing FC5 channel of file S028E03.edf part 30.\n",
            "Processing T7 channel of file S028E03.edf part 30.\n",
            "Processing P7 channel of file S028E03.edf part 30.\n",
            "Processing O1 channel of file S028E03.edf part 30.\n",
            "Processing O2 channel of file S028E03.edf part 30.\n",
            "Processing P8 channel of file S028E03.edf part 30.\n"
          ],
          "name": "stdout"
        },
        {
          "output_type": "stream",
          "text": [
            "/usr/local/lib/python3.6/dist-packages/ipykernel_launcher.py:69: RuntimeWarning: divide by zero encountered in log10\n",
            "<string>:6: UserWarning: Warning: converting a masked element to nan.\n",
            "/usr/local/lib/python3.6/dist-packages/numpy/ma/core.py:711: UserWarning: Warning: converting a masked element to nan.\n",
            "  data = np.array(a, copy=False, subok=subok)\n"
          ],
          "name": "stderr"
        },
        {
          "output_type": "stream",
          "text": [
            "Processing T8 channel of file S028E03.edf part 30.\n",
            "Processing FC6 channel of file S028E03.edf part 30.\n",
            "Processing F4 channel of file S028E03.edf part 30.\n",
            "Processing F8 channel of file S028E03.edf part 30.\n",
            "Processing AF4 channel of file S028E03.edf part 30.\n",
            "Processing AF3 channel of file S028E03.edf part 31.\n",
            "Processing F7 channel of file S028E03.edf part 31.\n",
            "Processing F3 channel of file S028E03.edf part 31.\n",
            "Processing FC5 channel of file S028E03.edf part 31.\n",
            "Processing T7 channel of file S028E03.edf part 31.\n",
            "Processing P7 channel of file S028E03.edf part 31.\n",
            "Processing O1 channel of file S028E03.edf part 31.\n",
            "Processing O2 channel of file S028E03.edf part 31.\n",
            "Processing P8 channel of file S028E03.edf part 31.\n"
          ],
          "name": "stdout"
        },
        {
          "output_type": "stream",
          "text": [
            "/usr/local/lib/python3.6/dist-packages/ipykernel_launcher.py:69: RuntimeWarning: divide by zero encountered in log10\n",
            "<string>:6: UserWarning: Warning: converting a masked element to nan.\n",
            "/usr/local/lib/python3.6/dist-packages/numpy/ma/core.py:711: UserWarning: Warning: converting a masked element to nan.\n",
            "  data = np.array(a, copy=False, subok=subok)\n"
          ],
          "name": "stderr"
        },
        {
          "output_type": "stream",
          "text": [
            "Processing T8 channel of file S028E03.edf part 31.\n",
            "Processing FC6 channel of file S028E03.edf part 31.\n",
            "Processing F4 channel of file S028E03.edf part 31.\n",
            "Processing F8 channel of file S028E03.edf part 31.\n",
            "Processing AF4 channel of file S028E03.edf part 31.\n",
            "Processing AF3 channel of file S028E03.edf part 32.\n",
            "Processing F7 channel of file S028E03.edf part 32.\n",
            "Processing F3 channel of file S028E03.edf part 32.\n",
            "Processing FC5 channel of file S028E03.edf part 32.\n",
            "Processing T7 channel of file S028E03.edf part 32.\n",
            "Processing P7 channel of file S028E03.edf part 32.\n",
            "Processing O1 channel of file S028E03.edf part 32.\n",
            "Processing O2 channel of file S028E03.edf part 32.\n",
            "Processing P8 channel of file S028E03.edf part 32.\n"
          ],
          "name": "stdout"
        },
        {
          "output_type": "stream",
          "text": [
            "/usr/local/lib/python3.6/dist-packages/ipykernel_launcher.py:69: RuntimeWarning: divide by zero encountered in log10\n",
            "<string>:6: UserWarning: Warning: converting a masked element to nan.\n",
            "/usr/local/lib/python3.6/dist-packages/numpy/ma/core.py:711: UserWarning: Warning: converting a masked element to nan.\n",
            "  data = np.array(a, copy=False, subok=subok)\n"
          ],
          "name": "stderr"
        },
        {
          "output_type": "stream",
          "text": [
            "Processing T8 channel of file S028E03.edf part 32.\n",
            "Processing FC6 channel of file S028E03.edf part 32.\n",
            "Processing F4 channel of file S028E03.edf part 32.\n",
            "Processing F8 channel of file S028E03.edf part 32.\n",
            "Processing AF4 channel of file S028E03.edf part 32.\n",
            "Processing AF3 channel of file S028E03.edf part 33.\n",
            "Processing F7 channel of file S028E03.edf part 33.\n",
            "Processing F3 channel of file S028E03.edf part 33.\n",
            "Processing FC5 channel of file S028E03.edf part 33.\n",
            "Processing T7 channel of file S028E03.edf part 33.\n",
            "Processing P7 channel of file S028E03.edf part 33.\n",
            "Processing O1 channel of file S028E03.edf part 33.\n",
            "Processing O2 channel of file S028E03.edf part 33.\n",
            "Processing P8 channel of file S028E03.edf part 33.\n"
          ],
          "name": "stdout"
        },
        {
          "output_type": "stream",
          "text": [
            "/usr/local/lib/python3.6/dist-packages/ipykernel_launcher.py:69: RuntimeWarning: divide by zero encountered in log10\n",
            "<string>:6: UserWarning: Warning: converting a masked element to nan.\n",
            "/usr/local/lib/python3.6/dist-packages/numpy/ma/core.py:711: UserWarning: Warning: converting a masked element to nan.\n",
            "  data = np.array(a, copy=False, subok=subok)\n"
          ],
          "name": "stderr"
        },
        {
          "output_type": "stream",
          "text": [
            "Processing T8 channel of file S028E03.edf part 33.\n",
            "Processing FC6 channel of file S028E03.edf part 33.\n",
            "Processing F4 channel of file S028E03.edf part 33.\n",
            "Processing F8 channel of file S028E03.edf part 33.\n",
            "Processing AF4 channel of file S028E03.edf part 33.\n",
            "Processing AF3 channel of file S028E03.edf part 34.\n",
            "Processing F7 channel of file S028E03.edf part 34.\n",
            "Processing F3 channel of file S028E03.edf part 34.\n",
            "Processing FC5 channel of file S028E03.edf part 34.\n",
            "Processing T7 channel of file S028E03.edf part 34.\n",
            "Processing P7 channel of file S028E03.edf part 34.\n",
            "Processing O1 channel of file S028E03.edf part 34.\n",
            "Processing O2 channel of file S028E03.edf part 34.\n",
            "Processing P8 channel of file S028E03.edf part 34.\n"
          ],
          "name": "stdout"
        },
        {
          "output_type": "stream",
          "text": [
            "/usr/local/lib/python3.6/dist-packages/ipykernel_launcher.py:69: RuntimeWarning: divide by zero encountered in log10\n",
            "<string>:6: UserWarning: Warning: converting a masked element to nan.\n",
            "/usr/local/lib/python3.6/dist-packages/numpy/ma/core.py:711: UserWarning: Warning: converting a masked element to nan.\n",
            "  data = np.array(a, copy=False, subok=subok)\n"
          ],
          "name": "stderr"
        },
        {
          "output_type": "stream",
          "text": [
            "Processing T8 channel of file S028E03.edf part 34.\n",
            "Processing FC6 channel of file S028E03.edf part 34.\n",
            "Processing F4 channel of file S028E03.edf part 34.\n",
            "Processing F8 channel of file S028E03.edf part 34.\n",
            "Processing AF4 channel of file S028E03.edf part 34.\n",
            "Processing AF3 channel of file S028E03.edf part 35.\n",
            "Processing F7 channel of file S028E03.edf part 35.\n",
            "Processing F3 channel of file S028E03.edf part 35.\n",
            "Processing FC5 channel of file S028E03.edf part 35.\n",
            "Processing T7 channel of file S028E03.edf part 35.\n",
            "Processing P7 channel of file S028E03.edf part 35.\n",
            "Processing O1 channel of file S028E03.edf part 35.\n",
            "Processing O2 channel of file S028E03.edf part 35.\n",
            "Processing P8 channel of file S028E03.edf part 35.\n"
          ],
          "name": "stdout"
        },
        {
          "output_type": "stream",
          "text": [
            "/usr/local/lib/python3.6/dist-packages/ipykernel_launcher.py:69: RuntimeWarning: divide by zero encountered in log10\n",
            "<string>:6: UserWarning: Warning: converting a masked element to nan.\n",
            "/usr/local/lib/python3.6/dist-packages/numpy/ma/core.py:711: UserWarning: Warning: converting a masked element to nan.\n",
            "  data = np.array(a, copy=False, subok=subok)\n"
          ],
          "name": "stderr"
        },
        {
          "output_type": "stream",
          "text": [
            "Processing T8 channel of file S028E03.edf part 35.\n",
            "Processing FC6 channel of file S028E03.edf part 35.\n",
            "Processing F4 channel of file S028E03.edf part 35.\n",
            "Processing F8 channel of file S028E03.edf part 35.\n",
            "Processing AF4 channel of file S028E03.edf part 35.\n",
            "Extracting EDF parameters from /content/gdrive/My Drive/CSE 240/Project/Data/EEG/S028E04.edf...\n",
            "EDF file detected\n",
            "Setting channel info structure...\n",
            "Creating raw.info structure...\n"
          ],
          "name": "stdout"
        },
        {
          "output_type": "stream",
          "text": [
            "<ipython-input-29-0387420c57ef>:26: RuntimeWarning: Physical range is not defined in following channels:\n",
            "P8\n",
            "  data = mne.io.read_raw_edf(file_name)\n"
          ],
          "name": "stderr"
        },
        {
          "output_type": "stream",
          "text": [
            "Processing AF3 channel of file S028E04.edf part 0.\n",
            "creating folder S028E04_0.\n",
            "Processing F7 channel of file S028E04.edf part 0.\n",
            "Processing F3 channel of file S028E04.edf part 0.\n",
            "Processing FC5 channel of file S028E04.edf part 0.\n",
            "Processing T7 channel of file S028E04.edf part 0.\n",
            "Processing P7 channel of file S028E04.edf part 0.\n",
            "Processing O1 channel of file S028E04.edf part 0.\n",
            "Processing O2 channel of file S028E04.edf part 0.\n",
            "Processing P8 channel of file S028E04.edf part 0.\n"
          ],
          "name": "stdout"
        },
        {
          "output_type": "stream",
          "text": [
            "/usr/local/lib/python3.6/dist-packages/ipykernel_launcher.py:69: RuntimeWarning: divide by zero encountered in log10\n",
            "<string>:6: UserWarning: Warning: converting a masked element to nan.\n",
            "/usr/local/lib/python3.6/dist-packages/numpy/ma/core.py:711: UserWarning: Warning: converting a masked element to nan.\n",
            "  data = np.array(a, copy=False, subok=subok)\n"
          ],
          "name": "stderr"
        },
        {
          "output_type": "stream",
          "text": [
            "Processing T8 channel of file S028E04.edf part 0.\n",
            "Processing FC6 channel of file S028E04.edf part 0.\n",
            "Processing F4 channel of file S028E04.edf part 0.\n",
            "Processing F8 channel of file S028E04.edf part 0.\n",
            "Processing AF4 channel of file S028E04.edf part 0.\n",
            "Processing AF3 channel of file S028E04.edf part 1.\n",
            "creating folder S028E04_1.\n",
            "Processing F7 channel of file S028E04.edf part 1.\n",
            "Processing F3 channel of file S028E04.edf part 1.\n",
            "Processing FC5 channel of file S028E04.edf part 1.\n",
            "Processing T7 channel of file S028E04.edf part 1.\n",
            "Processing P7 channel of file S028E04.edf part 1.\n",
            "Processing O1 channel of file S028E04.edf part 1.\n",
            "Processing O2 channel of file S028E04.edf part 1.\n",
            "Processing P8 channel of file S028E04.edf part 1.\n"
          ],
          "name": "stdout"
        },
        {
          "output_type": "stream",
          "text": [
            "/usr/local/lib/python3.6/dist-packages/ipykernel_launcher.py:69: RuntimeWarning: divide by zero encountered in log10\n",
            "<string>:6: UserWarning: Warning: converting a masked element to nan.\n",
            "/usr/local/lib/python3.6/dist-packages/numpy/ma/core.py:711: UserWarning: Warning: converting a masked element to nan.\n",
            "  data = np.array(a, copy=False, subok=subok)\n"
          ],
          "name": "stderr"
        },
        {
          "output_type": "stream",
          "text": [
            "Processing T8 channel of file S028E04.edf part 1.\n",
            "Processing FC6 channel of file S028E04.edf part 1.\n",
            "Processing F4 channel of file S028E04.edf part 1.\n",
            "Processing F8 channel of file S028E04.edf part 1.\n",
            "Processing AF4 channel of file S028E04.edf part 1.\n",
            "Processing AF3 channel of file S028E04.edf part 2.\n",
            "creating folder S028E04_2.\n",
            "Processing F7 channel of file S028E04.edf part 2.\n",
            "Processing F3 channel of file S028E04.edf part 2.\n",
            "Processing FC5 channel of file S028E04.edf part 2.\n",
            "Processing T7 channel of file S028E04.edf part 2.\n",
            "Processing P7 channel of file S028E04.edf part 2.\n",
            "Processing O1 channel of file S028E04.edf part 2.\n",
            "Processing O2 channel of file S028E04.edf part 2.\n",
            "Processing P8 channel of file S028E04.edf part 2.\n"
          ],
          "name": "stdout"
        },
        {
          "output_type": "stream",
          "text": [
            "/usr/local/lib/python3.6/dist-packages/ipykernel_launcher.py:69: RuntimeWarning: divide by zero encountered in log10\n",
            "<string>:6: UserWarning: Warning: converting a masked element to nan.\n",
            "/usr/local/lib/python3.6/dist-packages/numpy/ma/core.py:711: UserWarning: Warning: converting a masked element to nan.\n",
            "  data = np.array(a, copy=False, subok=subok)\n"
          ],
          "name": "stderr"
        },
        {
          "output_type": "stream",
          "text": [
            "Processing T8 channel of file S028E04.edf part 2.\n",
            "Processing FC6 channel of file S028E04.edf part 2.\n",
            "Processing F4 channel of file S028E04.edf part 2.\n",
            "Processing F8 channel of file S028E04.edf part 2.\n",
            "Processing AF4 channel of file S028E04.edf part 2.\n",
            "Processing AF3 channel of file S028E04.edf part 3.\n",
            "creating folder S028E04_3.\n",
            "Processing F7 channel of file S028E04.edf part 3.\n",
            "Processing F3 channel of file S028E04.edf part 3.\n",
            "Processing FC5 channel of file S028E04.edf part 3.\n",
            "Processing T7 channel of file S028E04.edf part 3.\n",
            "Processing P7 channel of file S028E04.edf part 3.\n",
            "Processing O1 channel of file S028E04.edf part 3.\n",
            "Processing O2 channel of file S028E04.edf part 3.\n",
            "Processing P8 channel of file S028E04.edf part 3.\n"
          ],
          "name": "stdout"
        },
        {
          "output_type": "stream",
          "text": [
            "/usr/local/lib/python3.6/dist-packages/ipykernel_launcher.py:69: RuntimeWarning: divide by zero encountered in log10\n",
            "<string>:6: UserWarning: Warning: converting a masked element to nan.\n",
            "/usr/local/lib/python3.6/dist-packages/numpy/ma/core.py:711: UserWarning: Warning: converting a masked element to nan.\n",
            "  data = np.array(a, copy=False, subok=subok)\n"
          ],
          "name": "stderr"
        },
        {
          "output_type": "stream",
          "text": [
            "Processing T8 channel of file S028E04.edf part 3.\n",
            "Processing FC6 channel of file S028E04.edf part 3.\n",
            "Processing F4 channel of file S028E04.edf part 3.\n",
            "Processing F8 channel of file S028E04.edf part 3.\n",
            "Processing AF4 channel of file S028E04.edf part 3.\n",
            "Processing AF3 channel of file S028E04.edf part 4.\n",
            "creating folder S028E04_4.\n",
            "Processing F7 channel of file S028E04.edf part 4.\n",
            "Processing F3 channel of file S028E04.edf part 4.\n",
            "Processing FC5 channel of file S028E04.edf part 4.\n",
            "Processing T7 channel of file S028E04.edf part 4.\n",
            "Processing P7 channel of file S028E04.edf part 4.\n",
            "Processing O1 channel of file S028E04.edf part 4.\n",
            "Processing O2 channel of file S028E04.edf part 4.\n",
            "Processing P8 channel of file S028E04.edf part 4.\n"
          ],
          "name": "stdout"
        },
        {
          "output_type": "stream",
          "text": [
            "/usr/local/lib/python3.6/dist-packages/ipykernel_launcher.py:69: RuntimeWarning: divide by zero encountered in log10\n",
            "<string>:6: UserWarning: Warning: converting a masked element to nan.\n",
            "/usr/local/lib/python3.6/dist-packages/numpy/ma/core.py:711: UserWarning: Warning: converting a masked element to nan.\n",
            "  data = np.array(a, copy=False, subok=subok)\n"
          ],
          "name": "stderr"
        },
        {
          "output_type": "stream",
          "text": [
            "Processing T8 channel of file S028E04.edf part 4.\n",
            "Processing FC6 channel of file S028E04.edf part 4.\n",
            "Processing F4 channel of file S028E04.edf part 4.\n",
            "Processing F8 channel of file S028E04.edf part 4.\n",
            "Processing AF4 channel of file S028E04.edf part 4.\n",
            "Processing AF3 channel of file S028E04.edf part 5.\n",
            "creating folder S028E04_5.\n",
            "Processing F7 channel of file S028E04.edf part 5.\n",
            "Processing F3 channel of file S028E04.edf part 5.\n",
            "Processing FC5 channel of file S028E04.edf part 5.\n",
            "Processing T7 channel of file S028E04.edf part 5.\n",
            "Processing P7 channel of file S028E04.edf part 5.\n",
            "Processing O1 channel of file S028E04.edf part 5.\n",
            "Processing O2 channel of file S028E04.edf part 5.\n",
            "Processing P8 channel of file S028E04.edf part 5.\n"
          ],
          "name": "stdout"
        },
        {
          "output_type": "stream",
          "text": [
            "/usr/local/lib/python3.6/dist-packages/ipykernel_launcher.py:69: RuntimeWarning: divide by zero encountered in log10\n",
            "<string>:6: UserWarning: Warning: converting a masked element to nan.\n",
            "/usr/local/lib/python3.6/dist-packages/numpy/ma/core.py:711: UserWarning: Warning: converting a masked element to nan.\n",
            "  data = np.array(a, copy=False, subok=subok)\n"
          ],
          "name": "stderr"
        },
        {
          "output_type": "stream",
          "text": [
            "Processing T8 channel of file S028E04.edf part 5.\n",
            "Processing FC6 channel of file S028E04.edf part 5.\n",
            "Processing F4 channel of file S028E04.edf part 5.\n",
            "Processing F8 channel of file S028E04.edf part 5.\n",
            "Processing AF4 channel of file S028E04.edf part 5.\n",
            "Processing AF3 channel of file S028E04.edf part 6.\n",
            "creating folder S028E04_6.\n",
            "Processing F7 channel of file S028E04.edf part 6.\n",
            "Processing F3 channel of file S028E04.edf part 6.\n",
            "Processing FC5 channel of file S028E04.edf part 6.\n",
            "Processing T7 channel of file S028E04.edf part 6.\n",
            "Processing P7 channel of file S028E04.edf part 6.\n",
            "Processing O1 channel of file S028E04.edf part 6.\n",
            "Processing O2 channel of file S028E04.edf part 6.\n",
            "Processing P8 channel of file S028E04.edf part 6.\n"
          ],
          "name": "stdout"
        },
        {
          "output_type": "stream",
          "text": [
            "/usr/local/lib/python3.6/dist-packages/ipykernel_launcher.py:69: RuntimeWarning: divide by zero encountered in log10\n",
            "<string>:6: UserWarning: Warning: converting a masked element to nan.\n",
            "/usr/local/lib/python3.6/dist-packages/numpy/ma/core.py:711: UserWarning: Warning: converting a masked element to nan.\n",
            "  data = np.array(a, copy=False, subok=subok)\n"
          ],
          "name": "stderr"
        },
        {
          "output_type": "stream",
          "text": [
            "Processing T8 channel of file S028E04.edf part 6.\n",
            "Processing FC6 channel of file S028E04.edf part 6.\n",
            "Processing F4 channel of file S028E04.edf part 6.\n",
            "Processing F8 channel of file S028E04.edf part 6.\n",
            "Processing AF4 channel of file S028E04.edf part 6.\n",
            "Processing AF3 channel of file S028E04.edf part 7.\n",
            "creating folder S028E04_7.\n",
            "Processing F7 channel of file S028E04.edf part 7.\n",
            "Processing F3 channel of file S028E04.edf part 7.\n",
            "Processing FC5 channel of file S028E04.edf part 7.\n",
            "Processing T7 channel of file S028E04.edf part 7.\n",
            "Processing P7 channel of file S028E04.edf part 7.\n",
            "Processing O1 channel of file S028E04.edf part 7.\n",
            "Processing O2 channel of file S028E04.edf part 7.\n",
            "Processing P8 channel of file S028E04.edf part 7.\n"
          ],
          "name": "stdout"
        },
        {
          "output_type": "stream",
          "text": [
            "/usr/local/lib/python3.6/dist-packages/ipykernel_launcher.py:69: RuntimeWarning: divide by zero encountered in log10\n",
            "<string>:6: UserWarning: Warning: converting a masked element to nan.\n",
            "/usr/local/lib/python3.6/dist-packages/numpy/ma/core.py:711: UserWarning: Warning: converting a masked element to nan.\n",
            "  data = np.array(a, copy=False, subok=subok)\n"
          ],
          "name": "stderr"
        },
        {
          "output_type": "stream",
          "text": [
            "Processing T8 channel of file S028E04.edf part 7.\n",
            "Processing FC6 channel of file S028E04.edf part 7.\n",
            "Processing F4 channel of file S028E04.edf part 7.\n",
            "Processing F8 channel of file S028E04.edf part 7.\n",
            "Processing AF4 channel of file S028E04.edf part 7.\n",
            "Processing AF3 channel of file S028E04.edf part 8.\n",
            "creating folder S028E04_8.\n",
            "Processing F7 channel of file S028E04.edf part 8.\n",
            "Processing F3 channel of file S028E04.edf part 8.\n",
            "Processing FC5 channel of file S028E04.edf part 8.\n",
            "Processing T7 channel of file S028E04.edf part 8.\n",
            "Processing P7 channel of file S028E04.edf part 8.\n",
            "Processing O1 channel of file S028E04.edf part 8.\n",
            "Processing O2 channel of file S028E04.edf part 8.\n",
            "Processing P8 channel of file S028E04.edf part 8.\n"
          ],
          "name": "stdout"
        },
        {
          "output_type": "stream",
          "text": [
            "/usr/local/lib/python3.6/dist-packages/ipykernel_launcher.py:69: RuntimeWarning: divide by zero encountered in log10\n",
            "<string>:6: UserWarning: Warning: converting a masked element to nan.\n",
            "/usr/local/lib/python3.6/dist-packages/numpy/ma/core.py:711: UserWarning: Warning: converting a masked element to nan.\n",
            "  data = np.array(a, copy=False, subok=subok)\n"
          ],
          "name": "stderr"
        },
        {
          "output_type": "stream",
          "text": [
            "Processing T8 channel of file S028E04.edf part 8.\n",
            "Processing FC6 channel of file S028E04.edf part 8.\n",
            "Processing F4 channel of file S028E04.edf part 8.\n",
            "Processing F8 channel of file S028E04.edf part 8.\n",
            "Processing AF4 channel of file S028E04.edf part 8.\n",
            "Processing AF3 channel of file S028E04.edf part 9.\n",
            "creating folder S028E04_9.\n",
            "Processing F7 channel of file S028E04.edf part 9.\n",
            "Processing F3 channel of file S028E04.edf part 9.\n",
            "Processing FC5 channel of file S028E04.edf part 9.\n",
            "Processing T7 channel of file S028E04.edf part 9.\n",
            "Processing P7 channel of file S028E04.edf part 9.\n",
            "Processing O1 channel of file S028E04.edf part 9.\n",
            "Processing O2 channel of file S028E04.edf part 9.\n",
            "Processing P8 channel of file S028E04.edf part 9.\n"
          ],
          "name": "stdout"
        },
        {
          "output_type": "stream",
          "text": [
            "/usr/local/lib/python3.6/dist-packages/ipykernel_launcher.py:69: RuntimeWarning: divide by zero encountered in log10\n",
            "<string>:6: UserWarning: Warning: converting a masked element to nan.\n",
            "/usr/local/lib/python3.6/dist-packages/numpy/ma/core.py:711: UserWarning: Warning: converting a masked element to nan.\n",
            "  data = np.array(a, copy=False, subok=subok)\n"
          ],
          "name": "stderr"
        },
        {
          "output_type": "stream",
          "text": [
            "Processing T8 channel of file S028E04.edf part 9.\n",
            "Processing FC6 channel of file S028E04.edf part 9.\n",
            "Processing F4 channel of file S028E04.edf part 9.\n",
            "Processing F8 channel of file S028E04.edf part 9.\n",
            "Processing AF4 channel of file S028E04.edf part 9.\n",
            "Processing AF3 channel of file S028E04.edf part 10.\n",
            "creating folder S028E04_10.\n",
            "Processing F7 channel of file S028E04.edf part 10.\n",
            "Processing F3 channel of file S028E04.edf part 10.\n",
            "Processing FC5 channel of file S028E04.edf part 10.\n",
            "Processing T7 channel of file S028E04.edf part 10.\n",
            "Processing P7 channel of file S028E04.edf part 10.\n",
            "Processing O1 channel of file S028E04.edf part 10.\n",
            "Processing O2 channel of file S028E04.edf part 10.\n",
            "Processing P8 channel of file S028E04.edf part 10.\n"
          ],
          "name": "stdout"
        },
        {
          "output_type": "stream",
          "text": [
            "/usr/local/lib/python3.6/dist-packages/ipykernel_launcher.py:69: RuntimeWarning: divide by zero encountered in log10\n",
            "<string>:6: UserWarning: Warning: converting a masked element to nan.\n",
            "/usr/local/lib/python3.6/dist-packages/numpy/ma/core.py:711: UserWarning: Warning: converting a masked element to nan.\n",
            "  data = np.array(a, copy=False, subok=subok)\n"
          ],
          "name": "stderr"
        },
        {
          "output_type": "stream",
          "text": [
            "Processing T8 channel of file S028E04.edf part 10.\n",
            "Processing FC6 channel of file S028E04.edf part 10.\n",
            "Processing F4 channel of file S028E04.edf part 10.\n",
            "Processing F8 channel of file S028E04.edf part 10.\n",
            "Processing AF4 channel of file S028E04.edf part 10.\n",
            "Processing AF3 channel of file S028E04.edf part 11.\n",
            "creating folder S028E04_11.\n",
            "Processing F7 channel of file S028E04.edf part 11.\n",
            "Processing F3 channel of file S028E04.edf part 11.\n",
            "Processing FC5 channel of file S028E04.edf part 11.\n",
            "Processing T7 channel of file S028E04.edf part 11.\n",
            "Processing P7 channel of file S028E04.edf part 11.\n",
            "Processing O1 channel of file S028E04.edf part 11.\n",
            "Processing O2 channel of file S028E04.edf part 11.\n",
            "Processing P8 channel of file S028E04.edf part 11.\n"
          ],
          "name": "stdout"
        },
        {
          "output_type": "stream",
          "text": [
            "/usr/local/lib/python3.6/dist-packages/ipykernel_launcher.py:69: RuntimeWarning: divide by zero encountered in log10\n",
            "<string>:6: UserWarning: Warning: converting a masked element to nan.\n",
            "/usr/local/lib/python3.6/dist-packages/numpy/ma/core.py:711: UserWarning: Warning: converting a masked element to nan.\n",
            "  data = np.array(a, copy=False, subok=subok)\n"
          ],
          "name": "stderr"
        },
        {
          "output_type": "stream",
          "text": [
            "Processing T8 channel of file S028E04.edf part 11.\n",
            "Processing FC6 channel of file S028E04.edf part 11.\n",
            "Processing F4 channel of file S028E04.edf part 11.\n",
            "Processing F8 channel of file S028E04.edf part 11.\n",
            "Processing AF4 channel of file S028E04.edf part 11.\n",
            "Processing AF3 channel of file S028E04.edf part 12.\n",
            "creating folder S028E04_12.\n",
            "Processing F7 channel of file S028E04.edf part 12.\n",
            "Processing F3 channel of file S028E04.edf part 12.\n",
            "Processing FC5 channel of file S028E04.edf part 12.\n",
            "Processing T7 channel of file S028E04.edf part 12.\n",
            "Processing P7 channel of file S028E04.edf part 12.\n",
            "Processing O1 channel of file S028E04.edf part 12.\n",
            "Processing O2 channel of file S028E04.edf part 12.\n",
            "Processing P8 channel of file S028E04.edf part 12.\n"
          ],
          "name": "stdout"
        },
        {
          "output_type": "stream",
          "text": [
            "/usr/local/lib/python3.6/dist-packages/ipykernel_launcher.py:69: RuntimeWarning: divide by zero encountered in log10\n",
            "<string>:6: UserWarning: Warning: converting a masked element to nan.\n",
            "/usr/local/lib/python3.6/dist-packages/numpy/ma/core.py:711: UserWarning: Warning: converting a masked element to nan.\n",
            "  data = np.array(a, copy=False, subok=subok)\n"
          ],
          "name": "stderr"
        },
        {
          "output_type": "stream",
          "text": [
            "Processing T8 channel of file S028E04.edf part 12.\n",
            "Processing FC6 channel of file S028E04.edf part 12.\n",
            "Processing F4 channel of file S028E04.edf part 12.\n",
            "Processing F8 channel of file S028E04.edf part 12.\n",
            "Processing AF4 channel of file S028E04.edf part 12.\n",
            "Processing AF3 channel of file S028E04.edf part 13.\n",
            "creating folder S028E04_13.\n",
            "Processing F7 channel of file S028E04.edf part 13.\n",
            "Processing F3 channel of file S028E04.edf part 13.\n",
            "Processing FC5 channel of file S028E04.edf part 13.\n",
            "Processing T7 channel of file S028E04.edf part 13.\n",
            "Processing P7 channel of file S028E04.edf part 13.\n",
            "Processing O1 channel of file S028E04.edf part 13.\n",
            "Processing O2 channel of file S028E04.edf part 13.\n",
            "Processing P8 channel of file S028E04.edf part 13.\n"
          ],
          "name": "stdout"
        },
        {
          "output_type": "stream",
          "text": [
            "/usr/local/lib/python3.6/dist-packages/ipykernel_launcher.py:69: RuntimeWarning: divide by zero encountered in log10\n",
            "<string>:6: UserWarning: Warning: converting a masked element to nan.\n",
            "/usr/local/lib/python3.6/dist-packages/numpy/ma/core.py:711: UserWarning: Warning: converting a masked element to nan.\n",
            "  data = np.array(a, copy=False, subok=subok)\n"
          ],
          "name": "stderr"
        },
        {
          "output_type": "stream",
          "text": [
            "Processing T8 channel of file S028E04.edf part 13.\n",
            "Processing FC6 channel of file S028E04.edf part 13.\n",
            "Processing F4 channel of file S028E04.edf part 13.\n",
            "Processing F8 channel of file S028E04.edf part 13.\n",
            "Processing AF4 channel of file S028E04.edf part 13.\n"
          ],
          "name": "stdout"
        }
      ]
    }
  ]
}