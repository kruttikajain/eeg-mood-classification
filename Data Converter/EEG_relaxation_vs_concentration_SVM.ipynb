{
 "cells": [
  {
   "cell_type": "markdown",
   "metadata": {
    "colab_type": "text",
    "id": "fx4Ce2AOZKcG"
   },
   "source": [
    "## Introduction\n",
    "This notebook originated from the Kaggle bot! However, it only looked at the names of the EEG files in the directory.  Rafael has added the rest."
   ]
  },
  {
   "cell_type": "code",
   "execution_count": 2,
   "metadata": {
    "colab": {
     "base_uri": "https://localhost:8080/",
     "height": 52
    },
    "colab_type": "code",
    "id": "i392ddOAZQRz",
    "outputId": "b27a03a8-948c-4fbe-b3bd-e74088008c3f"
   },
   "outputs": [
    {
     "ename": "ModuleNotFoundError",
     "evalue": "No module named 'google.colab'",
     "output_type": "error",
     "traceback": [
      "\u001b[0;31m---------------------------------------------------------------------------\u001b[0m",
      "\u001b[0;31mModuleNotFoundError\u001b[0m                       Traceback (most recent call last)",
      "\u001b[0;32m<ipython-input-2-5147ac708939>\u001b[0m in \u001b[0;36m<module>\u001b[0;34m\u001b[0m\n\u001b[1;32m      1\u001b[0m \u001b[0;31m# Colab settings/mount\u001b[0m\u001b[0;34m\u001b[0m\u001b[0;34m\u001b[0m\u001b[0;34m\u001b[0m\u001b[0m\n\u001b[0;32m----> 2\u001b[0;31m \u001b[0;32mfrom\u001b[0m \u001b[0mgoogle\u001b[0m\u001b[0;34m.\u001b[0m\u001b[0mcolab\u001b[0m \u001b[0;32mimport\u001b[0m \u001b[0mdrive\u001b[0m\u001b[0;34m\u001b[0m\u001b[0;34m\u001b[0m\u001b[0m\n\u001b[0m\u001b[1;32m      3\u001b[0m \u001b[0mdrive\u001b[0m\u001b[0;34m.\u001b[0m\u001b[0mmount\u001b[0m\u001b[0;34m(\u001b[0m\u001b[0;34m'/content/gdrive'\u001b[0m\u001b[0;34m)\u001b[0m\u001b[0;34m\u001b[0m\u001b[0;34m\u001b[0m\u001b[0m\n\u001b[1;32m      4\u001b[0m \u001b[0mget_ipython\u001b[0m\u001b[0;34m(\u001b[0m\u001b[0;34m)\u001b[0m\u001b[0;34m.\u001b[0m\u001b[0mrun_line_magic\u001b[0m\u001b[0;34m(\u001b[0m\u001b[0;34m'cd'\u001b[0m\u001b[0;34m,\u001b[0m \u001b[0;34m'gdrive/My\\\\ Drive/CSE\\\\ 240/Project/Data/EEG'\u001b[0m\u001b[0;34m)\u001b[0m\u001b[0;34m\u001b[0m\u001b[0;34m\u001b[0m\u001b[0m\n",
      "\u001b[0;31mModuleNotFoundError\u001b[0m: No module named 'google.colab'"
     ]
    }
   ],
   "source": [
    "# Colab settings/mount\n",
    "from google.colab import drive\n",
    "drive.mount('/content/gdrive')\n",
    "%cd gdrive/My\\ Drive/CSE\\ 240/Project/Data/EEG"
   ]
  },
  {
   "cell_type": "code",
   "execution_count": 2,
   "metadata": {
    "colab": {
     "base_uri": "https://localhost:8080/",
     "height": 334
    },
    "colab_type": "code",
    "id": "4j_5IDIMZTbf",
    "outputId": "fff4e314-388e-4566-a577-154e134ffd5d"
   },
   "outputs": [
    {
     "name": "stdout",
     "output_type": "stream",
     "text": [
      "eeg_small.png  S006E04.edf  S011E02.edf  S015E04.edf  S020E02.edf  S024E04.edf\n",
      "S002E03.edf    S007E01.edf  S011E03.edf  S016E01.edf  S020E03.edf  S025E01.edf\n",
      "S002E04.edf    S007E02.edf  S011E04.edf  S016E02.edf  S020E04.edf  S025E02.edf\n",
      "S003E01.edf    S007E03.edf  S012E01.edf  S016E03.edf  S021E01.edf  S025E03.edf\n",
      "S003E02.edf    S007E04.edf  S012E02.edf  S016E04.edf  S021E02.edf  S025E04.edf\n",
      "S003E03.edf    S008E01.edf  S012E03.edf  S017E01.edf  S021E03.edf  S026E01.edf\n",
      "S003E04.edf    S008E02.edf  S012E04.edf  S017E02.edf  S021E04.edf  S026E02.edf\n",
      "S004E01.edf    S008E03.edf  S013E01.edf  S017E03.edf  S022E01.edf  S026E03.edf\n",
      "S004E02.edf    S008E04.edf  S013E02.edf  S017E04.edf  S022E02.edf  S026E04.edf\n",
      "S004E03.edf    S009E01.edf  S013E03.edf  S018E01.edf  S022E03.edf  S027E01.edf\n",
      "S004E04.edf    S009E02.edf  S013E04.edf  S018E02.edf  S022E04.edf  S027E02.edf\n",
      "S005E01.edf    S009E03.edf  S014E01.edf  S018E03.edf  S023E01.edf  S027E03.edf\n",
      "S005E02.edf    S009E04.edf  S014E02.edf  S018E04.edf  S023E02.edf  S027E04.edf\n",
      "S005E03.edf    S010E01.edf  S014E03.edf  S019E01.edf  S023E03.edf\n",
      "S005E04.edf    S010E02.edf  S014E04.edf  S019E02.edf  S023E04.edf\n",
      "S006E01.edf    S010E03.edf  S015E01.edf  S019E03.edf  S024E01.edf\n",
      "S006E02.edf    S010E04.edf  S015E02.edf  S019E04.edf  S024E02.edf\n",
      "S006E03.edf    S011E01.edf  S015E03.edf  S020E01.edf  S024E03.edf\n"
     ]
    }
   ],
   "source": [
    "!ls"
   ]
  },
  {
   "cell_type": "code",
   "execution_count": 3,
   "metadata": {
    "colab": {
     "base_uri": "https://localhost:8080/",
     "height": 140
    },
    "colab_type": "code",
    "id": "kmKIM7K71i4t",
    "outputId": "7e1b8621-32ee-46d8-acbe-3870dd7862b5"
   },
   "outputs": [
    {
     "name": "stdout",
     "output_type": "stream",
     "text": [
      "Requirement already satisfied: mne in /Library/Frameworks/Python.framework/Versions/3.8/lib/python3.8/site-packages (0.19.2)\r\n",
      "Requirement already satisfied: scipy>=0.17.1 in /Library/Frameworks/Python.framework/Versions/3.8/lib/python3.8/site-packages (from mne) (1.4.1)\r\n",
      "Requirement already satisfied: numpy>=1.11.3 in /Library/Frameworks/Python.framework/Versions/3.8/lib/python3.8/site-packages (from mne) (1.18.1)\r\n"
     ]
    }
   ],
   "source": [
    "!pip install mne"
   ]
  },
  {
   "cell_type": "code",
   "execution_count": 4,
   "metadata": {
    "colab": {},
    "colab_type": "code",
    "id": "cMDWpuKzZKcM"
   },
   "outputs": [],
   "source": [
    "import mne    # for reading .edf files (and much else)"
   ]
  },
  {
   "cell_type": "code",
   "execution_count": 11,
   "metadata": {
    "colab": {
     "base_uri": "https://localhost:8080/",
     "height": 455
    },
    "colab_type": "code",
    "id": "Ng5_fguOZKcV",
    "outputId": "66a07c28-4414-4f6f-d1de-f4cbf2081441"
   },
   "outputs": [
    {
     "name": "stdout",
     "output_type": "stream",
     "text": [
      "Extracting EDF parameters from /Users/rishikasingh/Downloads/eeg-mood-classification-master 2/Data Exploration/S001E01.edf...\n",
      "EDF file detected\n",
      "Setting channel info structure...\n",
      "Creating raw.info structure...\n"
     ]
    }
   ],
   "source": [
    "file = \"/Users/rishikasingh/Downloads/eeg-mood-classification-master 2/Data Exploration/S001E01.edf\"\n",
    "data = mne.io.read_raw_edf(file)\n",
    "raw_data = data.get_data()\n",
    "# you can get the metadata included in the file and a list of all channels:\n",
    "info = data.info\n",
    "channels = data.ch_names"
   ]
  },
  {
   "cell_type": "code",
   "execution_count": 12,
   "metadata": {
    "colab": {
     "base_uri": "https://localhost:8080/",
     "height": 686
    },
    "colab_type": "code",
    "id": "XjVJzVkVZKce",
    "outputId": "da3a44c8-5530-4f74-fc73-04995f444695"
   },
   "outputs": [
    {
     "data": {
      "text/plain": [
       "<Info | 16 non-empty fields\n",
       "    bads : list | 0 items\n",
       "    ch_names : list | AF3, F7, F3, FC5, T7, P7, O1, O2, P8, ...\n",
       "    chs : list | 14 items (EEG: 14)\n",
       "    comps : list | 0 items\n",
       "    custom_ref_applied : bool | False\n",
       "    dev_head_t : Transform | 3 items\n",
       "    events : list | 0 items\n",
       "    highpass : float | 0.0 Hz\n",
       "    hpi_meas : list | 0 items\n",
       "    hpi_results : list | 0 items\n",
       "    lowpass : float | 128.0 Hz\n",
       "    meas_date : tuple | 2018-06-13 14:34:37 GMT\n",
       "    nchan : int | 14\n",
       "    proc_history : list | 0 items\n",
       "    projs : list | 0 items\n",
       "    sfreq : float | 256.0 Hz\n",
       "    acq_pars : NoneType\n",
       "    acq_stim : NoneType\n",
       "    ctf_head_t : NoneType\n",
       "    description : NoneType\n",
       "    dev_ctf_t : NoneType\n",
       "    device_info : NoneType\n",
       "    dig : NoneType\n",
       "    experimenter : NoneType\n",
       "    file_id : NoneType\n",
       "    gantry_angle : NoneType\n",
       "    helium_info : NoneType\n",
       "    hpi_subsystem : NoneType\n",
       "    kit_system_id : NoneType\n",
       "    line_freq : NoneType\n",
       "    meas_id : NoneType\n",
       "    proj_id : NoneType\n",
       "    proj_name : NoneType\n",
       "    subject_info : NoneType\n",
       "    utc_offset : NoneType\n",
       "    xplotter_layout : NoneType\n",
       ">"
      ]
     },
     "execution_count": 12,
     "metadata": {},
     "output_type": "execute_result"
    }
   ],
   "source": [
    "info"
   ]
  },
  {
   "cell_type": "code",
   "execution_count": 13,
   "metadata": {
    "colab": {
     "base_uri": "https://localhost:8080/",
     "height": 263
    },
    "colab_type": "code",
    "id": "1bJRcylaZKcm",
    "outputId": "4a5eaf9b-bdb5-46a2-8d63-d387bba2a274"
   },
   "outputs": [
    {
     "data": {
      "text/plain": [
       "['AF3',\n",
       " 'F7',\n",
       " 'F3',\n",
       " 'FC5',\n",
       " 'T7',\n",
       " 'P7',\n",
       " 'O1',\n",
       " 'O2',\n",
       " 'P8',\n",
       " 'T8',\n",
       " 'FC6',\n",
       " 'F4',\n",
       " 'F8',\n",
       " 'AF4']"
      ]
     },
     "execution_count": 13,
     "metadata": {},
     "output_type": "execute_result"
    }
   ],
   "source": [
    "channels"
   ]
  },
  {
   "cell_type": "code",
   "execution_count": 14,
   "metadata": {
    "colab": {
     "base_uri": "https://localhost:8080/",
     "height": 35
    },
    "colab_type": "code",
    "id": "VBF7wvlyZKcu",
    "outputId": "7f1704f5-c579-4ab2-c8c5-34f8abec5cd2"
   },
   "outputs": [
    {
     "data": {
      "text/plain": [
       "(14, 46080)"
      ]
     },
     "execution_count": 14,
     "metadata": {},
     "output_type": "execute_result"
    }
   ],
   "source": [
    "raw_data.shape"
   ]
  },
  {
   "cell_type": "markdown",
   "metadata": {
    "colab_type": "text",
    "id": "BM_jwwcjZKc1"
   },
   "source": [
    "## Exploratory Analysis\n",
    "The following packages are often useful."
   ]
  },
  {
   "cell_type": "code",
   "execution_count": 15,
   "metadata": {
    "_kg_hide-input": false,
    "colab": {},
    "colab_type": "code",
    "id": "94-S8mj-ZKc3"
   },
   "outputs": [],
   "source": [
    "#from mpl_toolkits.mplot3d import Axes3D\n",
    "from sklearn.preprocessing import StandardScaler\n",
    "import matplotlib.pyplot as plt # plotting\n",
    "import numpy as np # linear algebra\n",
    "#import os # accessing directory structure\n",
    "#import pandas as pd # data processing, CSV file I/O (e.g. pd.read_csv)\n",
    "#from scipy.io import loadmat   # this function imports .MAT files (MatLab files) into Python (as directories)"
   ]
  },
  {
   "cell_type": "markdown",
   "metadata": {
    "colab_type": "text",
    "id": "dqbpTX1qZKc_"
   },
   "source": [
    "### EEG Data\n",
    "\n",
    "The actual surface electrode readings are given in the dat6 array. For example, at time 1000 we have the following microvolt measurments at each of the 25 leads."
   ]
  },
  {
   "cell_type": "code",
   "execution_count": 16,
   "metadata": {
    "colab": {
     "base_uri": "https://localhost:8080/",
     "height": 87
    },
    "colab_type": "code",
    "id": "I1mU7sBPZKdB",
    "outputId": "14ee4c13-dbe0-4ec2-f351-b248d363d172",
    "scrolled": true
   },
   "outputs": [
    {
     "data": {
      "text/plain": [
       "array([4.27519883e-05, 4.65109476e-05, 2.76258476e-05, 5.37701260e-05,\n",
       "       1.93465649e-05, 1.24181482e-05, 1.06720265e-05, 1.67187913e-05,\n",
       "       8.44941075e-05, 2.36010758e-05, 4.19182986e-05, 2.76447411e-05,\n",
       "       2.96294392e-05, 1.54665940e-04])"
      ]
     },
     "execution_count": 16,
     "metadata": {},
     "output_type": "execute_result"
    }
   ],
   "source": [
    "raw_data[:, 1000]"
   ]
  },
  {
   "cell_type": "markdown",
   "metadata": {
    "colab_type": "text",
    "id": "ekD2wJKJZKdI"
   },
   "source": [
    "Lets take a look at lead 10."
   ]
  },
  {
   "cell_type": "code",
   "execution_count": 17,
   "metadata": {
    "colab": {
     "base_uri": "https://localhost:8080/",
     "height": 246
    },
    "colab_type": "code",
    "id": "X8iqSDkmZKdK",
    "outputId": "a88c511a-ac16-4474-fa48-692afd1baac2"
   },
   "outputs": [
    {
     "data": {
      "text/plain": [
       "array([ 8.65048524e-07,  2.36749975e-06,  2.36749975e-06,  8.65048524e-07,\n",
       "       -1.71058215e-06, -2.71221630e-06, -2.21139922e-06, -7.08947997e-07,\n",
       "       -2.08130922e-07, -7.08947997e-07, -1.71058215e-06, -2.21139922e-06,\n",
       "       -2.21139922e-06, -1.71058215e-06, -2.71221630e-06, -2.71221630e-06,\n",
       "       -1.20976507e-06,  2.36749975e-06,  4.44231334e-06,  1.86668267e-06,\n",
       "       -5.28784697e-06, -1.25139219e-05, -1.55903696e-05, -1.14407425e-05,\n",
       "       -3.28457867e-06,  5.44394749e-06,  1.10960259e-05,  1.20976601e-05,\n",
       "        1.00943918e-05,  7.01794401e-06,  3.94149627e-06,  2.36749975e-06,\n",
       "        1.86668267e-06,  2.36749975e-06,  3.94149627e-06,  5.44394749e-06,\n",
       "        5.94476457e-06,  4.44231334e-06, -2.08130922e-07, -6.36102641e-06,\n",
       "       -1.04391083e-05, -9.93829123e-06, -5.78866404e-06,  8.65048524e-07,\n",
       "        5.44394749e-06,  5.94476457e-06,  3.44067919e-06, -2.08130922e-07,\n",
       "       -3.28457867e-06, -5.28784697e-06])"
      ]
     },
     "execution_count": 17,
     "metadata": {},
     "output_type": "execute_result"
    }
   ],
   "source": [
    "channel = 1   # occipital lead  O1 \n",
    "raw_data[channel, : 50]"
   ]
  },
  {
   "cell_type": "code",
   "execution_count": 18,
   "metadata": {
    "colab": {
     "base_uri": "https://localhost:8080/",
     "height": 35
    },
    "colab_type": "code",
    "id": "AnFZepb5ZKdR",
    "outputId": "a997a917-3537-4614-b9b2-b5d36e16c9c6"
   },
   "outputs": [
    {
     "data": {
      "text/plain": [
       "'F7'"
      ]
     },
     "execution_count": 18,
     "metadata": {},
     "output_type": "execute_result"
    }
   ],
   "source": [
    "channels[channel]"
   ]
  },
  {
   "cell_type": "code",
   "execution_count": 19,
   "metadata": {
    "colab": {
     "base_uri": "https://localhost:8080/",
     "height": 52
    },
    "colab_type": "code",
    "id": "oyl96jPjZKdY",
    "outputId": "8d5f8c29-f8fb-48f5-ac11-73268f7eba0e"
   },
   "outputs": [
    {
     "data": {
      "text/plain": [
       "array([8.65048524e-07, 2.36749975e-06, 2.36749975e-06, ...,\n",
       "       9.41601150e-05, 9.31584809e-05, 8.95812161e-05])"
      ]
     },
     "execution_count": 19,
     "metadata": {},
     "output_type": "execute_result"
    }
   ],
   "source": [
    "raw_data[channel,:]"
   ]
  },
  {
   "cell_type": "code",
   "execution_count": 20,
   "metadata": {
    "colab": {
     "base_uri": "https://localhost:8080/",
     "height": 238
    },
    "colab_type": "code",
    "id": "rfmHNdLoZKdf",
    "outputId": "b7b6004a-d00a-48d4-d39c-80980c5cffbf"
   },
   "outputs": [
    {
     "data": {
      "image/png": "[encoded data removed]",
      "text/plain": [
       "<Figure size 432x288 with 1 Axes>"
      ]
     },
     "metadata": {
      "needs_background": "light"
     },
     "output_type": "display_data"
    }
   ],
   "source": [
    "%matplotlib inline\n",
    "\n",
    "import matplotlib.pyplot as plt\n",
    "\n",
    "x = np.linspace(0, len(raw_data[channel, :]) / 256., len(raw_data[channel, :]))\n",
    "y = raw_data[channel, :]\n",
    "\n",
    "plt.plot(x, y)\n",
    "plt.title('Lead #' + channels[channel]) \n",
    "plt.xlabel('Seconds'); plt.ylabel('microvolts')\n",
    "plt.show()"
   ]
  },
  {
   "cell_type": "markdown",
   "metadata": {
    "colab_type": "text",
    "id": "bTeHQY0YZKdl"
   },
   "source": [
    "Let's create a spectrogram for this lead."
   ]
  },
  {
   "cell_type": "code",
   "execution_count": 21,
   "metadata": {
    "colab": {
     "base_uri": "https://localhost:8080/",
     "height": 255
    },
    "colab_type": "code",
    "id": "3xgaWem9ZKdr",
    "outputId": "e0293e93-21a6-4ccc-e494-d28332b0c256"
   },
   "outputs": [
    {
     "name": "stdout",
     "output_type": "stream",
     "text": [
      "[5.41662943e-05 5.26638431e-05 5.57402909e-05 ... 8.44299547e-05\n",
      " 8.44299547e-05 8.49307718e-05]\n"
     ]
    },
    {
     "data": {
      "image/png": "[encoded data removed]",
      "text/plain": [
       "<Figure size 432x288 with 1 Axes>"
      ]
     },
     "metadata": {
      "needs_background": "light"
     },
     "output_type": "display_data"
    }
   ],
   "source": [
    "from scipy import signal\n",
    "plt.set_cmap('jet')\n",
    "x = raw_data[channel, 1280:2560]\n",
    "print(x)\n",
    "#x = raw_data[channel, 1280:2561]\n",
    "#fs = 256  # Assume 512 Hz sampling rate for now...   # SampFreq[0, 0] \n",
    "#f, t, Sxx = signal.spectrogram(x, fs, window = signal.tukey(512, .25))\n",
    "fs = 256  # Assume 512 Hz sampling rate for now...   # SampFreq[0, 0] \n",
    "f, t, Sxx = signal.spectrogram(x, fs, window = signal.tukey(256), noverlap = 204)\n",
    "\n",
    "plt.pcolormesh(t, f, np.log10(Sxx))\n",
    "plt.ylabel('Frequency [Hz]')\n",
    "plt.xlabel('Time [sec]')\n",
    "plt.title('Lead ' + str(channel)) # + LsEEG[channel]\n",
    "\n",
    "#plt.show()\n",
    "fig, ax = plt.subplots( nrows=1, ncols=1 )\n",
    "fig.figsize= (800, 800)\n",
    "ax.pcolormesh(t, f, np.log10(Sxx))\n",
    "fig.savefig('eeg_small.png')   # save the figure to file\n",
    "plt.close(fig)\n"
   ]
  },
  {
   "cell_type": "code",
   "execution_count": 22,
   "metadata": {
    "colab": {
     "base_uri": "https://localhost:8080/",
     "height": 35
    },
    "colab_type": "code",
    "id": "KG4PynIZZKdw",
    "outputId": "01067f10-044e-49d4-ffb0-0f1ab8559a95"
   },
   "outputs": [
    {
     "name": "stdout",
     "output_type": "stream",
     "text": [
      "20\n"
     ]
    }
   ],
   "source": [
    "print(len(t))"
   ]
  },
  {
   "cell_type": "markdown",
   "metadata": {
    "colab_type": "text",
    "id": "NSrHuewxZKd2"
   },
   "source": [
    "## Run this to generate images"
   ]
  },
  {
   "cell_type": "code",
   "execution_count": 34,
   "metadata": {
    "colab": {
     "base_uri": "https://localhost:8080/",
     "height": 1000
    },
    "colab_type": "code",
    "id": "Ixwol7MjZKd4",
    "outputId": "e9ae4734-bc4e-4a25-82c9-422abfecdf6d"
   },
   "outputs": [],
   "source": [
    "import matplotlib.pyplot as plt # plotting\n",
    "import mne\n",
    "import numpy as np # linear algebra\n",
    "import os\n",
    "from scipy import signal\n",
    "from sklearn.preprocessing import StandardScaler\n",
    "\n",
    "# If folders don't exist already create them in the home directory.\n",
    "if not os.path.exists(\"raw_images\"):\n",
    "    os.mkdir(\"raw_images\")\n",
    "if not os.path.exists(\"raw_images/relaxed\"):\n",
    "    os.mkdir(\"raw_images/relaxed\")\n",
    "if not os.path.exists(\"raw_images/concentration\"):\n",
    "    os.mkdir(\"raw_images/concentration\")\n",
    "if not os.path.exists(\"../spectrogram_images\"):\n",
    "    os.mkdir(\"../spectrogram_images\")\n",
    "if not os.path.exists(\"../spectrogram_images/relaxed\"):\n",
    "    os.mkdir(\"../spectrogram_images/relaxed\")\n",
    "if not os.path.exists(\"../spectrogram_images/concentration\"):\n",
    "    os.mkdir(\"../spectrogram_images/concentration\")\n",
    "\n",
    "for filename in os.listdir('.'):\n",
    "    if not filename.startswith(\"S002\"):\n",
    "      continue\n",
    "    file_name = os.path.join('.',filename)\n",
    "  \n",
    "    file_type = 0 if filename.split(\".\")[0].endswith(\"E01\") or filename.split(\".\")[0].endswith(\"E03\") else 1\n",
    "    data = mne.io.read_raw_edf(file_name)\n",
    "    raw_data = data.get_data()\n",
    "    info = data.info\n",
    "    channels = data.ch_names\n",
    "    for part in range(36):\n",
    "        for index, channel in enumerate(channels):\n",
    "            print(\"Processing %s channel of file %s part %s.\" % (channel, filename, part))\n",
    "            folder_name = filename.split(\".\")[0] + \"_\" + str(part)\n",
    "            '''\n",
    "            folder_path = os.path.join('raw_images/relaxed',folder_name) if file_type == 0 else os.path.join('raw_images/concentration',folder_name)\n",
    "            if not os.path.exists(folder_path):\n",
    "                print(\"creating folder %s.\" % (folder_name))\n",
    "                os.mkdir(folder_path)\n",
    "            new_filename = \"%s_%s.png\" % (folder_name, channel)\n",
    "            # path to store raw time domain images of the signals\n",
    "            # choose folder based on file type\n",
    "            start = part * 1280\n",
    "            end = (part+1) * 1280\n",
    "            new_file_path = os.path.join(folder_path, new_filename)\n",
    "            x = np.linspace(0, len(raw_data[index, start:end]) / 256., len(raw_data[index, start:end]))\n",
    "            y = raw_data[index, start:end]\n",
    "            fig, ax = plt.subplots( nrows=1, ncols=1 )\n",
    "            fig.figsize= (800, 800)\n",
    "            ax.plot(x, y)\n",
    "            #ax.title('Lead #' + channel) \n",
    "            #ax.xlabel('Seconds'); plt.ylabel('microvolts')\n",
    "            fig.savefig(new_file_path)   # save the figure to file\n",
    "            plt.close(fig)\n",
    "            #plt.plot(x, y)\n",
    "            #plt.show()\n",
    "            '''\n",
    "            start = part * 1280\n",
    "            end = (part+1) * 1280\n",
    "            # path to store frequency domain spectrogram images of the signals\n",
    "            folder_path = os.path.join('../spectrogram_images/relaxed',folder_name) if file_type == 0 else os.path.join('../spectrogram_images/concentration',folder_name)\n",
    "            if not os.path.exists(folder_path):\n",
    "                print(\"creating folder %s.\" % (folder_name))\n",
    "                os.mkdir(folder_path)\n",
    "            new_filename = \"%s_%s.png\" % (folder_name, channel)\n",
    "            new_file_path = os.path.join(folder_path, new_filename)\n",
    "            x = raw_data[index, start:end]\n",
    "            fs = 256  # Assume 512 Hz sampling rate for now...   # SampFreq[0, 0] \n",
    "            #f, t, Sxx = signal.spectrogram(x, fs, window = signal.tukey(512, .25))\n",
    "            f, t, Sxx = signal.spectrogram(x, fs, window = signal.tukey(256), noverlap = 204)\n",
    "            fig, ax = plt.subplots( nrows=1, ncols=1 )\n",
    "            fig.figsize= (800, 800)\n",
    "            ax.pcolormesh(t, f, np.log10(Sxx))\n",
    "            #ax.ylabel('Frequency [Hz]')\n",
    "            #ax.xlabel('Time [sec]')\n",
    "            #plt.title('Lead ' + channel) # + LsEEG[channel]\n",
    "            #ax.set_cmap('jet')\n",
    "            #plt.show()\n",
    "            fig.savefig(new_file_path)   # save the figure to file\n",
    "            plt.close(fig)\n",
    "    \n",
    "    '''\n",
    "    f = pyedflib.EdfReader(file_name)\n",
    "    n = f.signals_in_file\n",
    "    signal_labels = f.getSignalLabels()\n",
    "    sigbufs = np.zeros((n, f.getNSamples()[0]))\n",
    "    for i in np.arange(n):\n",
    "        sigbufs[i, :] = f.readSignal(i)\n",
    "    new_filename = filename.replace(\".edf\",\".csv\")\n",
    "    new_file_path = os.path.join('spectrogram_files',new_filename)\n",
    "    os.mkdir(new_file_path)\n",
    "    with open(new_file_path, mode='w') as record_file:\n",
    "        record_writer = csv.writer(record_file, delimiter=',', quotechar='\"', quoting=csv.QUOTE_MINIMAL)\n",
    "        for record in sigbufs:\n",
    "            record_writer.writerow(record)\n",
    "    '''"
   ]
  },
  {
   "cell_type": "markdown",
   "metadata": {},
   "source": [
    "## Convert to SITK"
   ]
  },
  {
   "cell_type": "code",
   "execution_count": 99,
   "metadata": {},
   "outputs": [],
   "source": [
    "'''From audioProcessingUtil.py'''\n",
    "\n",
    "import numpy as np\n",
    "import librosa\n",
    "from scipy import interpolate\n",
    "import pywt\n",
    "from matplotlib.image import imsave\n",
    "from scipy.signal import butter, lfilter, freqz\n",
    "from matplotlib import pyplot as plt\n",
    "#from imageProcessingUtil import ImageProcessing\n",
    "import SimpleITK as sitk"
   ]
  },
  {
   "cell_type": "code",
   "execution_count": 100,
   "metadata": {},
   "outputs": [],
   "source": [
    "'''From imageProcessingUtil.py'''\n",
    "\n",
    "import SimpleITK as sitk\n",
    "import numpy as np\n",
    "import scipy.stats as stats\n",
    "import pandas as pd\n",
    "from skimage.feature import greycomatrix, greycoprops"
   ]
  },
  {
   "cell_type": "code",
   "execution_count": 101,
   "metadata": {},
   "outputs": [],
   "source": [
    "'Convert spectrogram to sitk image'\n",
    "db_sitk = sitk.GetImageFromArray(Sxx)\n",
    "#db_sitk = sitk.GetImageFromArray(ImageProcessing.median_image_filter(db_sitk,radius=(3,3,3)))"
   ]
  },
  {
   "cell_type": "code",
   "execution_count": 103,
   "metadata": {
    "scrolled": true
   },
   "outputs": [
    {
     "name": "stdout",
     "output_type": "stream",
     "text": [
      "Image (0x7fddb6a2a2c0)\n",
      "  RTTI typeinfo:   itk::Image<double, 2u>\n",
      "  Reference Count: 1\n",
      "  Modified Time: 791\n",
      "  Debug: Off\n",
      "  Object Name: \n",
      "  Observers: \n",
      "    none\n",
      "  Source: (none)\n",
      "  Source output name: (none)\n",
      "  Release Data: Off\n",
      "  Data Released: False\n",
      "  Global Release Data: Off\n",
      "  PipelineMTime: 0\n",
      "  UpdateMTime: 0\n",
      "  RealTimeStamp: 0 seconds \n",
      "  LargestPossibleRegion: \n",
      "    Dimension: 2\n",
      "    Index: [0, 0]\n",
      "    Size: [20, 129]\n",
      "  BufferedRegion: \n",
      "    Dimension: 2\n",
      "    Index: [0, 0]\n",
      "    Size: [20, 129]\n",
      "  RequestedRegion: \n",
      "    Dimension: 2\n",
      "    Index: [0, 0]\n",
      "    Size: [20, 129]\n",
      "  Spacing: [1, 1]\n",
      "  Origin: [0, 0]\n",
      "  Direction: \n",
      "1 0\n",
      "0 1\n",
      "\n",
      "  IndexToPointMatrix: \n",
      "1 0\n",
      "0 1\n",
      "\n",
      "  PointToIndexMatrix: \n",
      "1 0\n",
      "0 1\n",
      "\n",
      "  Inverse Direction: \n",
      "1 0\n",
      "0 1\n",
      "\n",
      "  PixelContainer: \n",
      "    ImportImageContainer (0x7fddb5ce20d0)\n",
      "      RTTI typeinfo:   itk::ImportImageContainer<unsigned long, double>\n",
      "      Reference Count: 1\n",
      "      Modified Time: 792\n",
      "      Debug: Off\n",
      "      Object Name: \n",
      "      Observers: \n",
      "        none\n",
      "      Pointer: 0x7fddb3c93800\n",
      "      Container manages memory: true\n",
      "      Size: 2580\n",
      "      Capacity: 2580\n",
      "\n"
     ]
    }
   ],
   "source": [
    "print(db_sitk)"
   ]
  },
  {
   "cell_type": "markdown",
   "metadata": {},
   "source": [
    "## Feature Extraction"
   ]
  },
  {
   "cell_type": "code",
   "execution_count": 104,
   "metadata": {},
   "outputs": [],
   "source": [
    "class ImageProcessing(object):\n",
    "\n",
    "    def __init__(self):\n",
    "        pass\n",
    "\n",
    "    @staticmethod\n",
    "    def rescaleAmplitude(db_sitk,scale_range = (0,1)):\n",
    "        mini = np.min(db_sitk)\n",
    "        maxi = np.max(db_sitk)\n",
    "\n",
    "        new_min = scale_range[0]\n",
    "        new_max = scale_range[1]\n",
    "\n",
    "        new_data = ((new_max - new_min)*(image - mini)/(maxi - mini)) + new_min\n",
    "        # print(\"Old min-max :{}-{}, New min-max: {}:{}\".format(mini,maxi,new_min,new_max))\n",
    "        return new_data\n",
    "\n",
    "    @staticmethod\n",
    "    def getEnergy(db_sitk):\n",
    "        return np.sum(np.square(db_sitk))\n",
    "\n",
    "    @staticmethod\n",
    "    def getEntropy(arr):\n",
    "        lg = np.log2(arr)\n",
    "        lg[np.isneginf(lg)] = 0\n",
    "\n",
    "        return np.sum(-1.0*arr*lg)\n",
    "\n",
    "\n",
    "    @staticmethod\n",
    "    def get10Percentile(arr):\n",
    "        return (np.percentile(arr, 10))\n",
    "\n",
    "    @staticmethod\n",
    "    def get90Percentile(arr):\n",
    "        return (np.percentile(arr, 90))\n",
    "    \n",
    "    @staticmethod\n",
    "    def getInterquartileRange(arr):\n",
    "        return np.percentile(arr, 75) - np.percentile(arr, 25)\n",
    "\n",
    "    @staticmethod\n",
    "    def getMeanAbsoluteDeviation(arr):\n",
    "        return (np.mean(np.absolute((np.mean(arr) - arr))))\n",
    "    @staticmethod\n",
    "    def getRobustMeanAbsoluteDeviation(arr):\n",
    "        prcnt10 = ImageProcessing.get10Percentile(arr)\n",
    "        prcnt90 = ImageProcessing.get90Percentile(arr)\n",
    "        percentileArray = arr[(arr >= prcnt10) * (arr <= prcnt90)]\n",
    "\n",
    "        return np.mean(np.absolute(percentileArray - np.mean(percentileArray)))\n",
    "\n",
    "    @staticmethod\n",
    "    def getRootMeanSquareError(arr):\n",
    "        return (np.sqrt((np.sum(arr ** 2)) / float(arr.size)))\n",
    "\n",
    "\n",
    "    @staticmethod\n",
    "    def getRange(arr):\n",
    "        return np.max(arr) - np.min(arr)\n",
    "    \n",
    "    @staticmethod\n",
    "    def getArrayHistogram(arr,bins=np.arange(256),density = True):\n",
    "\n",
    "        hist,bins =  np.histogram(arr,bins=bins)\n",
    "        if density == True:\n",
    "            hist = hist/float(np.sum(hist))\n",
    "\n",
    "        return hist,bins"
   ]
  },
  {
   "cell_type": "code",
   "execution_count": 105,
   "metadata": {},
   "outputs": [],
   "source": [
    "def getShapeFeatures(labelled_image):\n",
    "\n",
    "        \"\"\"\n",
    "        :param labelled_image: Image with different labels for which the features are to be extracted.\n",
    "                (sitk image or numpy array)\n",
    "        :return:\n",
    "        \"\"\"\n",
    "\n",
    "        if isinstance(labelled_image,(np.ndarray)):\n",
    "            labelled_image = sitk.GetImageFromArray(labelled_image)\n",
    "\n",
    "        labelShapeStatisticsImageFilter = sitk.LabelShapeStatisticsImageFilter()\n",
    "        labelShapeStatisticsImageFilter.Execute(labelled_image)\n",
    "\n",
    "\n",
    "        labelled_image = sitk.GetArrayFromImage(labelled_image)\n",
    "        max_label = np.max(labelled_image)\n",
    "\n",
    "        labels = labelShapeStatisticsImageFilter.GetLabels()\n",
    "\n",
    "        centroidy = []\n",
    "        roundness = []\n",
    "        flatness = []\n",
    "        \n",
    "        for i in range(1,max_label+1):\n",
    "            centroid = labelShapeStatisticsImageFilter.GetCentroid(i)\n",
    "            centroidy.append(centroid[0])\n",
    "            roundness.append(labelShapeStatisticsImageFilter.GetRoundness(i))\n",
    "            flatness.append(labelShapeStatisticsImageFilter.GetFlatness(i))\n",
    "\n",
    "        shapeFeatures = np.column_stack((centroidy,roundness,flatness))\n",
    "\n",
    "        return shapeFeatures"
   ]
  },
  {
   "cell_type": "code",
   "execution_count": 106,
   "metadata": {},
   "outputs": [
    {
     "ename": "NameError",
     "evalue": "name 'labelled_image' is not defined",
     "output_type": "error",
     "traceback": [
      "\u001b[0;31m---------------------------------------------------------------------------\u001b[0m",
      "\u001b[0;31mNameError\u001b[0m                                 Traceback (most recent call last)",
      "\u001b[0;32m<ipython-input-106-0041618e3b95>\u001b[0m in \u001b[0;36m<module>\u001b[0;34m\u001b[0m\n\u001b[1;32m      3\u001b[0m     \u001b[0;32mif\u001b[0m \u001b[0misinstance\u001b[0m\u001b[0;34m(\u001b[0m\u001b[0mimage\u001b[0m\u001b[0;34m,\u001b[0m\u001b[0;34m(\u001b[0m\u001b[0msitk\u001b[0m\u001b[0;34m.\u001b[0m\u001b[0mImage\u001b[0m\u001b[0;34m)\u001b[0m\u001b[0;34m)\u001b[0m\u001b[0;34m:\u001b[0m\u001b[0;34m\u001b[0m\u001b[0;34m\u001b[0m\u001b[0m\n\u001b[1;32m      4\u001b[0m         \u001b[0mimage\u001b[0m \u001b[0;34m=\u001b[0m \u001b[0msitk\u001b[0m\u001b[0;34m.\u001b[0m\u001b[0mGetArrayFromImage\u001b[0m\u001b[0;34m(\u001b[0m\u001b[0mimage\u001b[0m\u001b[0;34m)\u001b[0m\u001b[0;34m\u001b[0m\u001b[0;34m\u001b[0m\u001b[0m\n\u001b[0;32m----> 5\u001b[0;31m \u001b[0;32mif\u001b[0m \u001b[0misinstance\u001b[0m\u001b[0;34m(\u001b[0m\u001b[0mlabelled_image\u001b[0m\u001b[0;34m,\u001b[0m\u001b[0;34m(\u001b[0m\u001b[0msitk\u001b[0m\u001b[0;34m.\u001b[0m\u001b[0mImage\u001b[0m\u001b[0;34m)\u001b[0m\u001b[0;34m)\u001b[0m\u001b[0;34m:\u001b[0m\u001b[0;34m\u001b[0m\u001b[0;34m\u001b[0m\u001b[0m\n\u001b[0m\u001b[1;32m      6\u001b[0m     \u001b[0mlabelled_image\u001b[0m \u001b[0;34m=\u001b[0m \u001b[0msitk\u001b[0m\u001b[0;34m.\u001b[0m\u001b[0mGetArrayFromImage\u001b[0m\u001b[0;34m(\u001b[0m\u001b[0mlabelled_image\u001b[0m\u001b[0;34m)\u001b[0m\u001b[0;34m\u001b[0m\u001b[0;34m\u001b[0m\u001b[0m\n\u001b[1;32m      7\u001b[0m \u001b[0;34m\u001b[0m\u001b[0m\n",
      "\u001b[0;31mNameError\u001b[0m: name 'labelled_image' is not defined"
     ]
    }
   ],
   "source": [
    "@staticmethod\n",
    "def getPixelFeatures(Sxx,labelled_image,file_name,cls_label,histogram_bins = np.arange(256),histogram_density = True):\n",
    "    if isinstance(image,(sitk.Image)):\n",
    "        image = sitk.GetArrayFromImage(image)\n",
    "if isinstance(labelled_image,(sitk.Image)):\n",
    "    labelled_image = sitk.GetArrayFromImage(labelled_image)\n",
    "\n",
    "\n",
    "minimums = []\n",
    "maximums = []\n",
    "means = []\n",
    "medians = []\n",
    "variances = []\n",
    "energies = []\n",
    "entropies = []\n",
    "tenPercentiles = []\n",
    "nintyPercentiles = []\n",
    "interquartileRanges = []\n",
    "ranges = []\n",
    "meanAbsoluteDeviations = []\n",
    "robustMeanAbsoluteDeviations = []\n",
    "rootMeanSquareErrors = []\n",
    "skewness = []\n",
    "kurtosis = []\n",
    "cls_labels = []\n",
    "file_names = []\n",
    "\n",
    "max_label = np.max(labelled_image)"
   ]
  },
  {
   "cell_type": "code",
   "execution_count": 107,
   "metadata": {},
   "outputs": [
    {
     "ename": "NameError",
     "evalue": "name 'max_label' is not defined",
     "output_type": "error",
     "traceback": [
      "\u001b[0;31m---------------------------------------------------------------------------\u001b[0m",
      "\u001b[0;31mNameError\u001b[0m                                 Traceback (most recent call last)",
      "\u001b[0;32m<ipython-input-107-e77ba7124526>\u001b[0m in \u001b[0;36m<module>\u001b[0;34m\u001b[0m\n\u001b[0;32m----> 1\u001b[0;31m \u001b[0;32mfor\u001b[0m \u001b[0mi\u001b[0m \u001b[0;32min\u001b[0m \u001b[0mrange\u001b[0m\u001b[0;34m(\u001b[0m\u001b[0;36m1\u001b[0m\u001b[0;34m,\u001b[0m\u001b[0mmax_label\u001b[0m\u001b[0;34m+\u001b[0m\u001b[0;36m1\u001b[0m\u001b[0;34m)\u001b[0m\u001b[0;34m:\u001b[0m\u001b[0;34m\u001b[0m\u001b[0;34m\u001b[0m\u001b[0m\n\u001b[0m\u001b[1;32m      2\u001b[0m     \u001b[0mlabel\u001b[0m \u001b[0;34m=\u001b[0m \u001b[0mi\u001b[0m\u001b[0;34m\u001b[0m\u001b[0;34m\u001b[0m\u001b[0m\n\u001b[1;32m      3\u001b[0m     \u001b[0mlabel_indices\u001b[0m \u001b[0;34m=\u001b[0m \u001b[0mnp\u001b[0m\u001b[0;34m.\u001b[0m\u001b[0mwhere\u001b[0m\u001b[0;34m(\u001b[0m\u001b[0mlabelled_image\u001b[0m \u001b[0;34m==\u001b[0m \u001b[0mlabel\u001b[0m\u001b[0;34m)\u001b[0m\u001b[0;34m\u001b[0m\u001b[0;34m\u001b[0m\u001b[0m\n\u001b[1;32m      4\u001b[0m     \u001b[0mlabel_pixels\u001b[0m \u001b[0;34m=\u001b[0m \u001b[0mimage\u001b[0m\u001b[0;34m[\u001b[0m\u001b[0mlabel_indices\u001b[0m\u001b[0;34m]\u001b[0m\u001b[0;34m\u001b[0m\u001b[0;34m\u001b[0m\u001b[0m\n\u001b[1;32m      5\u001b[0m     \u001b[0mminimums\u001b[0m\u001b[0;34m.\u001b[0m\u001b[0mappend\u001b[0m\u001b[0;34m(\u001b[0m\u001b[0mnp\u001b[0m\u001b[0;34m.\u001b[0m\u001b[0mmin\u001b[0m\u001b[0;34m(\u001b[0m\u001b[0mlabel_pixels\u001b[0m\u001b[0;34m)\u001b[0m\u001b[0;34m)\u001b[0m\u001b[0;34m\u001b[0m\u001b[0;34m\u001b[0m\u001b[0m\n",
      "\u001b[0;31mNameError\u001b[0m: name 'max_label' is not defined"
     ]
    }
   ],
   "source": [
    "for i in range(1,max_label+1):\n",
    "    label = i\n",
    "    label_indices = np.where(labelled_image == label)\n",
    "    label_pixels = image[label_indices]\n",
    "    minimums.append(np.min(label_pixels))\n",
    "    maximums.append(np.max(label_pixels))\n",
    "    means.append(np.mean(label_pixels))\n",
    "    medians.append(np.median(label_pixels))\n",
    "    variances.append(np.var(label_pixels))\n",
    "\n",
    "    pdf,bins = ImageProcessing.getArrayHistogram(label_pixels,bins = histogram_bins,density = histogram_density)\n",
    "    \n",
    "    energies.append(ImageProcessing.getEnergy(pdf))\n",
    "    entropies.append(ImageProcessing.getEntropy(pdf))\n",
    "\n",
    "    tenPercentiles.append(ImageProcessing.get10Percentile(label_pixels))\n",
    "    nintyPercentiles.append(ImageProcessing.get90Percentile(label_pixels))\n",
    "    interquartileRanges.append(ImageProcessing.getInterquartileRange(label_pixels))\n",
    "    ranges.append(ImageProcessing.getRange(label_pixels))\n",
    "    meanAbsoluteDeviations.append(ImageProcessing.getMeanAbsoluteDeviation(label_pixels))\n",
    "    robustMeanAbsoluteDeviations.append(ImageProcessing.getRobustMeanAbsoluteDeviation(label_pixels))\n",
    "    rootMeanSquareErrors.append(ImageProcessing.getRootMeanSquareError(label_pixels))\n",
    "    skewness.append(stats.skew(label_pixels))\n",
    "    kurtosis.append(stats.kurtosis(label_pixels))\n",
    "    cls_labels.append(cls_label)\n",
    "    file_names.append(file_name)\n",
    "\n",
    "pixelFeatures = np.column_stack((file_names,cls_labels,minimums,maximums,means,medians,variances,energies,\n",
    "                                 entropies,tenPercentiles,nintyPercentiles,\n",
    "                                 interquartileRanges,ranges,meanAbsoluteDeviations,robustMeanAbsoluteDeviations,\n",
    "                                 rootMeanSquareErrors, skewness,kurtosis))\n",
    "return pixelFeatures"
   ]
  },
  {
   "cell_type": "code",
   "execution_count": 108,
   "metadata": {},
   "outputs": [],
   "source": [
    "@staticmethod\n",
    "def getPixelFeatureVector(image,histogram_bins = np.arange(256),histogram_density = True):\n",
    "    if isinstance(image,(sitk.Image)):\n",
    "        image = sitk.GetArrayFromImage(image)\n",
    "\n",
    "\n",
    "        # dividing the image into 4 parts wrt y axis\n",
    "    seg_size = int(image.shape[0]/4)\n",
    "\n",
    "    pixelFeatures = None\n",
    "\n",
    "    for i in range(4):\n",
    "\n",
    "        seg_image = image[int(i*seg_size):int((i+1)*seg_size),:]\n",
    "\n",
    "        minimums = []\n",
    "        maximums = []\n",
    "        means = []\n",
    "        medians = []\n",
    "        variances = []\n",
    "        energies = []\n",
    "        entropies = []\n",
    "        tenPercentiles = []\n",
    "        nintyPercentiles = []\n",
    "        interquartileRanges = []\n",
    "        ranges = []\n",
    "        meanAbsoluteDeviations = []\n",
    "        robustMeanAbsoluteDeviations = []\n",
    "        rootMeanSquareErrors = []\n",
    "        skewness = []\n",
    "        kurtosis = []\n",
    "\n",
    "        label_pixels = seg_image.ravel()\n",
    "\n",
    "        minimums.append(np.min(label_pixels))\n",
    "        maximums.append(np.max(label_pixels))\n",
    "        means.append(np.mean(label_pixels))\n",
    "        medians.append(np.median(label_pixels))\n",
    "        variances.append(np.var(label_pixels))\n",
    "\n",
    "        pdf,bins = ImageProcessing.getArrayHistogram(label_pixels,bins = histogram_bins,density = histogram_density)\n",
    "\n",
    "        energies.append(ImageProcessing.getEnergy(pdf))\n",
    "        entropies.append(ImageProcessing.getEntropy(pdf))\n",
    "        \n",
    "        tenPercentiles.append(ImageProcessing.get10Percentile(label_pixels))\n",
    "        nintyPercentiles.append(ImageProcessing.get90Percentile(label_pixels))\n",
    "        interquartileRanges.append(ImageProcessing.getInterquartileRange(label_pixels))\n",
    "        ranges.append(ImageProcessing.getRange(label_pixels))\n",
    "        meanAbsoluteDeviations.append(ImageProcessing.getMeanAbsoluteDeviation(label_pixels))\n",
    "        robustMeanAbsoluteDeviations.append(ImageProcessing.getRobustMeanAbsoluteDeviation(label_pixels))\n",
    "        rootMeanSquareErrors.append(ImageProcessing.getRootMeanSquareError(label_pixels))            \n",
    "        skewness.append(stats.skew(label_pixels))\n",
    "        kurtosis.append(stats.kurtosis(label_pixels))\n",
    "\n",
    "\n",
    "        pixelFeatureVector = np.column_stack((minimums,maximums,means,medians,variances,energies,entropies,\n",
    "                                              tenPercentiles,nintyPercentiles,interquartileRanges,ranges,\n",
    "                                              meanAbsoluteDeviations,robustMeanAbsoluteDeviations,rootMeanSquareErrors,\n",
    "                                              skewness,kurtosis))\n",
    "\n",
    "        if pixelFeatures is None:\n",
    "            pixelFeatures = pixelFeatureVector\n",
    "        else:\n",
    "            pixelFeatures = np.concatenate((pixelFeatures,pixelFeatureVector),axis = 1)\n",
    "\n",
    "    return pixelFeatures"
   ]
  },
  {
   "cell_type": "code",
   "execution_count": 109,
   "metadata": {},
   "outputs": [],
   "source": [
    "@staticmethod\n",
    "def getPixelFeatureVectorColumns():\n",
    "    pixel_cols = []\n",
    "    features = ['Minimum','Maximum','Mean','Median','Variance','Energy','Entropy','TenPentile','NintyPercentile',\n",
    "                                   'InterQuartileRange','Range','MeanAbsoluteDeviation','RobustMeanAbsoluteDeviation',\n",
    "                                    'RootMeanSquareError','Skewness','Kurtosis']\n",
    "\n",
    "    for i in range(4):\n",
    "        for feature in features:\n",
    "            pixel_cols.append(\"{}_{}_{}\".format(\"FirstOrder\",feature,i))\n",
    "\n",
    "    return pixel_cols"
   ]
  },
  {
   "cell_type": "code",
   "execution_count": 110,
   "metadata": {},
   "outputs": [],
   "source": [
    "@staticmethod\n",
    "def _entropy(p):\n",
    "    p = p.ravel()\n",
    "    return -np.dot(np.log2(p+(p==0)),p)"
   ]
  },
  {
   "cell_type": "code",
   "execution_count": 111,
   "metadata": {},
   "outputs": [],
   "source": [
    "@staticmethod\n",
    "def getGLCMFeatureVector(image,distances = [1,3,5],angles =[0,np.pi/4.0,np.pi/2.0, 3*np.pi/4.0]):\n",
    "    if isinstance(image,(sitk.Image)):\n",
    "        image = sitk.GetArrayFromImage(image)\n",
    "\n",
    "    feature_vector = None\n",
    "\n",
    "        # dividing the image into 4 parts wrt y axis\n",
    "    seg_size = image.shape[0]/4\n",
    "    \n",
    "    for i in range(4):\n",
    "\n",
    "        seg_image = image[int(i*seg_size):int((i+1)*seg_size),:]\n",
    "\n",
    "        glcm = greycomatrix(seg_image,distances, angles, 256, symmetric=True, normed=True)\n",
    "\n",
    "        for d in range(len(distances)):\n",
    "            for a in range(len(angles)):\n",
    "                p = glcm[:,:,d,a]\n",
    "\n",
    "                feats = np.zeros(13,np.double)\n",
    "                maxv = len(p)\n",
    "                k = np.arange(maxv)\n",
    "                k2 = k**2\n",
    "                tk = np.arange(2*maxv)\n",
    "                tk2 = tk**2\n",
    "                i,j = np.mgrid[:maxv,:maxv]\n",
    "                ij = i*j\n",
    "                i_j2_p1 = (i - j)**2\n",
    "                i_j2_p1 += 1\n",
    "                i_j2_p1 = 1. / i_j2_p1\n",
    "                i_j2_p1 = i_j2_p1.ravel()\n",
    "                px_plus_y = np.empty(2*maxv, np.double)\n",
    "                px_minus_y = np.empty(maxv, np.double)\n",
    "                pravel = p.ravel()\n",
    "                px = p.sum(0)\n",
    "                py = p.sum(1)\n",
    "                ux = np.dot(px, k)\n",
    "                uy = np.dot(py, k)\n",
    "                vx = np.dot(px, k2) - ux**2\n",
    "                vy = np.dot(py, k2) - uy**2\n",
    "                sx = np.sqrt(vx)\n",
    "                sy = np.sqrt(vy)\n",
    "                px_plus_y = np.zeros(shape=(2*p.shape[0] ))\n",
    "                px_minus_y = np.zeros(shape=(p.shape[0]))\n",
    "                for i in range(p.shape[0]):\n",
    "                    for j in range(p.shape[0]):\n",
    "                        p_ij = p[i,j]\n",
    "                        px_plus_y[i+j] += p_ij\n",
    "                        px_minus_y[np.abs(i-j)] += p_ij\n",
    "                feats[0] = np.sqrt(np.dot(pravel, pravel))                        # Energy\n",
    "                feats[1] = np.dot(k2, px_minus_y)                                 # Contrast\n",
    "                if sx == 0. or sy == 0.:\n",
    "                    feats[2] = 1.\n",
    "                else:\n",
    "                    feats[2] = (1. / sx / sy) * (np.dot(ij.ravel(), pravel) - ux * uy) # Correlation\n",
    "                feats[3] = vx                                                     #Sum of Squares: Variance\n",
    "                feats[4] = np.dot(i_j2_p1, pravel)                                # Inverse of Difference Moment\n",
    "                feats[5] = np.dot(tk, px_plus_y)                                  # Sum Average\n",
    "                feats[7] = ImageProcessing._entropy(px_plus_y)                                    # Sum Entropy\n",
    "                feats[6] = ((tk-feats[7])**2*px_plus_y).sum()                     # Sum Variance                    feats[8] = ImageProcessing._entropy(pravel)                                       # Entropy\n",
    "                feats[9] = px_minus_y.var()                                       # Difference Variance\n",
    "                feats[10] = ImageProcessing._entropy(px_minus_y)                                  # Difference Entropy\n",
    "                HX = ImageProcessing._entropy(px)\n",
    "                HY = ImageProcessing._entropy(py)\n",
    "                crosspxpy = np.outer(px,py)\n",
    "                crosspxpy += (crosspxpy == 0)\n",
    "                crosspxpy = crosspxpy.ravel()\n",
    "                HXY1 = -np.dot(pravel, np.log2(crosspxpy))\n",
    "                HXY2 = ImageProcessing._entropy(crosspxpy)\n",
    "                if max(HX, HY) == 0.:\n",
    "                    feats[11] = (feats[8]-HXY1)                                    # Information Measure of Correlation 1\n",
    "                else:\n",
    "                    feats[11] = (feats[8]-HXY1)/max(HX,HY)\n",
    "                feats[12] = np.sqrt(max(0,1 - np.exp( -2. * (HXY2 - feats[8]))))  # Information Measure of Correlation 2\n",
    "\n",
    "                feats = np.column_stack(feats)\n",
    "                if feature_vector is None:\n",
    "                    feature_vector = feats\n",
    "                else:\n",
    "                    feature_vector = np.concatenate((feature_vector,feats),axis=1)\n",
    "        return feature_vector"
   ]
  },
  {
   "cell_type": "code",
   "execution_count": 112,
   "metadata": {},
   "outputs": [],
   "source": [
    "@staticmethod\n",
    "def getGLCMColumnNames(distances = [1,3,5],angles =[0,np.pi/4.0,np.pi/2.0, 3*np.pi/4.0]):\n",
    "    glcm_columns = []\n",
    "\n",
    "    for i in range(4):\n",
    "        for j in range(len(distances)):\n",
    "            for k in range(len(angles)):\n",
    "                glcm_columns.append('Glcm_ENERGY_{}_{}_seg_{}'.format(distances[j],angles[k],i))\n",
    "                glcm_columns.append('Glcm_CONTRAST_{}_{}_seg_{}'.format(distances[j],angles[k],i))\n",
    "                glcm_columns.append('Glcm_CORRELATION_{}_{}_seg_{}'.format(distances[j],angles[k],i))\n",
    "                glcm_columns.append('Glcm_VARIANCE_{}_{}_seg_{}'.format(distances[j],angles[k],i))\n",
    "                glcm_columns.append('Glcm_INVERSE_DIFFERENCE_OF_MOMENT_{}_{}_seg_{}'.format(distances[j],angles[k],i))\n",
    "                glcm_columns.append('Glcm_SUM_AVERAGE_{}_{}_seg_{}'.format(distances[j],angles[k],i))\n",
    "                glcm_columns.append('Glcm_SUM_ENTROPY_{}_{}_seg_{}'.format(distances[j],angles[k],i))\n",
    "                glcm_columns.append('Glcm_SUM_VARIANCE_{}_{}_seg_{}'.format(distances[j],angles[k],i))\n",
    "                glcm_columns.append('Glcm_ENTROPY_{}_{}_seg_{}'.format(distances[j],angles[k],i))\n",
    "                glcm_columns.append('Glcm_DIFFERENCE_VARIANCE_{}_{}_seg_{}'.format(distances[j],angles[k],i))\n",
    "                glcm_columns.append('Glcm_DIFFERENCE_ENTROPY_{}_{}_seg_{}'.format(distances[j],angles[k],i))\n",
    "                glcm_columns.append('Glcm_INFORMATION_MEASURE_CORRELATION_1_{}_{}_seg_{}'.format(distances[j],angles[k],i))\n",
    "                glcm_columns.append('Glcm_INFORMATION_MEASURE_CORRELATION_2_{}_{}_seg_{}'.format(distances[j],angles[k],i))\n",
    "\n",
    "    return glcm_columns\n",
    "\n",
    "\n",
    "@staticmethod\n",
    "def getPixelFeaturesHeaders():\n",
    "    return ['FileName','ClassLabel','Minimum','Maximum','Mean','Median','Variance','Energy','Entropy','TenPentile',\n",
    "            'NintyPercentile','InterQuartileRange','Range','MeanAbsoluteDeviation','RobustMeanAbsoluteDeviation',\n",
    "            'RootMeanSquareError','Skewness','Kurtosis']"
   ]
  },
  {
   "cell_type": "code",
   "execution_count": 113,
   "metadata": {},
   "outputs": [],
   "source": [
    "@staticmethod\n",
    "def histogram_equalize(image,radius = (1,1,1), alpha = 0.6, beta = 0.3):\n",
    "    if isinstance(image,(np.ndarray)):\n",
    "        image = sitk.GetImageFromArray(image)\n",
    "\n",
    "\n",
    "    filter = sitk.AdaptiveHistogramEqualizationImageFilter()\n",
    "\n",
    "    heq = sitk.AdaptiveHistogramEqualization(image,radius,alpha = alpha, beta = beta)\n",
    "        # mean = sitk.Mean(heq,(1,1))\n",
    "\n",
    "    return sitk.GetArrayFromImage(heq)\n",
    "\n",
    "\n",
    "@staticmethod\n",
    "def median_image_filter(image,radius = (1,1,1)):\n",
    "    if isinstance(image,(np.ndarray)):\n",
    "        image = sitk.GetImageFromArray(image)\n",
    "\n",
    "    med = sitk.Median(image,radius)\n",
    "    \n",
    "    return sitk.GetArrayFromImage(med)"
   ]
  },
  {
   "cell_type": "markdown",
   "metadata": {},
   "source": [
    "## SVM Classifier"
   ]
  },
  {
   "cell_type": "code",
   "execution_count": 114,
   "metadata": {},
   "outputs": [],
   "source": [
    "#from imageProcessingUtil import ImageProcessing\n",
    "import sys\n",
    "import numpy as np\n",
    "import pandas as pd\n",
    "#from audio import Audio\n",
    "#from audioProcessingUtil import AudioProcessing\n",
    "from time import time\n",
    "import librosa"
   ]
  },
  {
   "cell_type": "code",
   "execution_count": 115,
   "metadata": {},
   "outputs": [],
   "source": [
    "def svm_predict(training_samples, training_labels, test_samples, test_lables):\n",
    "    from sklearn.svm import SVC\n",
    "    from sklearn.svm import LinearSVC\n",
    "    from sklearn.model_selection import GridSearchCV\n",
    "\n",
    "    parameters = {'kernel':('linear','rbf','poly','sigmoid'), 'C':(1, 10,100,1000,10000)}\n",
    "\n",
    "    # clf = GridSearchCV(SVC(probability=True), parameters)\n",
    "    # clf.fit(training_samples,training_labels)\n",
    "    # pred = clf.predict_proba(test_samples)\n",
    "    # return pred\n",
    "\n",
    "    clf = GridSearchCV(SVC(probability=False), parameters)\n",
    "    clf.fit(training_samples,training_labels)\n",
    "    pred = clf.predict(test_samples)\n",
    "    from sklearn.metrics import accuracy_score\n",
    "    acc = accuracy_score(test_lables,pred)\n",
    "\n",
    "    with open(\"result_labels.csv\",\"wb\") as outfile:\n",
    "        np.savetxt(outfile,pred)\n",
    "\n",
    "    return acc"
   ]
  },
  {
   "cell_type": "code",
   "execution_count": 116,
   "metadata": {},
   "outputs": [],
   "source": [
    "def svm_best_parameters(X,y,Cs  = [0.001,0.01,0.1,1,10,100,1000,10000,100000], kernels = ['rbf','linear','poly','sigmoid'], nfolds = 5):\n",
    "    from sklearn.model_selection import GridSearchCV\n",
    "    from sklearn import svm\n",
    "\n",
    "    param_grid = {'C': Cs, 'kernel' : kernels}\n",
    "    grid_search = GridSearchCV(svm.SVC(), param_grid, cv=nfolds)\n",
    "    grid_search.fit(X, y)\n",
    "    return grid_search.best_params_"
   ]
  },
  {
   "cell_type": "code",
   "execution_count": 117,
   "metadata": {},
   "outputs": [],
   "source": [
    "class SoundClassifier(object):\n",
    "    def __init__(self,database,featuresPath = None):\n",
    "        self.database = database\n",
    "        self.filenames = None\n",
    "        self.features = None\n",
    "        self.cluster_features = None\n",
    "        self.cluster_normalizer = None\n",
    "        self.normalized_data = None\n",
    "        self.cluster_model = None\n",
    "        self.labels  = None\n",
    "        self.bag_of_features = None\n",
    "        self.feature_columns = None\n",
    "\n",
    "        if featuresPath is not None:\n",
    "            features = pd.read_excel(featuresPath)\n",
    "            self.features = features"
   ]
  },
  {
   "cell_type": "code",
   "execution_count": 118,
   "metadata": {},
   "outputs": [],
   "source": [
    "class SpectrogramClassifier(SoundClassifier):\n",
    "    def __init__(self,database,featuresPath = None):\n",
    "        super(SpectrogramClassifier,self).__init__(database,featuresPath)\n",
    "\n",
    "        self.feature_columns = ['FileName','ClassLabel','SegmentLabel']\n",
    "\n",
    "    def extractFeatures(self,fs = 24000,n_fft = 512,win_length = 480,hop_length = 120,\n",
    "                              spec_range = (0,255),spec_pixel_type = np.uint8,spec_log_amplitude = True,\n",
    "                              spec_label_range = (0,255),spec_label_pixel_type = np.uint8,spec_label_log_amplitude = True,\n",
    "                              initial_labels = [25,50,75,100,125,150,175,200,225,250], no_labels = 2 ,\n",
    "                              histogram_bins = np.arange(256),histogram_density = True,\n",
    "                              glcm_distances = [1,3,5], glcm_angles = [0,np.pi/4.0,np.pi/2.0, 3*np.pi/4.0],\n",
    "                              n_mfcc = 60,lpc_order = 25,max_segments_per_file = 5 ):\n",
    "        features = None\n",
    "\n",
    "        # iterating through all categories\n",
    "        for cls in self.database.classes:\n",
    "            print(\"Class : {}\".format(cls))\n",
    "\n",
    "            # iterating through files of one particular category\n",
    "            for file in self.database.get_files(cls):\n",
    "                print(\"File : {}\".format(file))\n",
    "\n",
    "                # resampling segment to 24000 khz\n",
    "                #audio = Audio(file,sampling_rate=fs)\n",
    "\n",
    "                # removing low frequence components below 500Hz\n",
    "                #data = AudioProcessing.butter_highpass_filter(audio.data,500,fs)\n",
    "                \n",
    "                # Applying k-means and obtianing labels from the spectrogram\n",
    "               # spec_labels = AudioProcessing.get_spectrogram_label(data,n_fft=n_fft,\n",
    "                                                        #  win_length=win_length,\n",
    "                                                         # hop_length=hop_length,\n",
    "                                                         # range=spec_label_range,\n",
    "                                                          #pixel_type = spec_label_pixel_type,\n",
    "                                                          #log_amplitude=spec_label_log_amplitude,\n",
    "                                                          #initial_labels=initial_labels,\n",
    "                                                          #no_labels=no_labels)\n",
    "\n",
    "                # obtaining segments from audio file using the labels obtained from spectrogram segmentation\n",
    "                segments = AudioProcessing.segmentAudioBySpectrograms(data,spec_labels,win_length,hop_length,max_segments=max_segments_per_file)\n",
    "\n",
    "                # extracting different features\n",
    "                print(\"Extracting features..\")\n",
    "                i = 0\n",
    "                \n",
    "                 # iterating through all segments to obtain features\n",
    "                for segment in segments:\n",
    "                    seg_data = data[segment[0]:segment[1]]\n",
    "\n",
    "                    # obtaining spectrogram with higher resolution of the segment\n",
    "                    seg_spec = AudioProcessing.get_spectrogram(seg_data,n_fft=2*n_fft,win_length=win_length,hop_length=int(hop_length/2),range=spec_range,pixel_type = spec_pixel_type,log_amplitude=spec_log_amplitude)\n",
    "\n",
    "                    # median filtering with radius - 3\n",
    "                    med = ImageProcessing.median_image_filter(seg_spec,radius=(3,3,3))\n",
    "\n",
    "                    general_info = np.column_stack([file,cls,i])\n",
    "\n",
    "                    # first order statistics of the spectrogram image\n",
    "                    pixelFeatures = ImageProcessing.getPixelFeatureVector(med,histogram_bins=histogram_bins,histogram_density = histogram_density)\n",
    "\n",
    "                    # extracting acoustic features\n",
    "                    audio_features = AudioProcessing.get_audio_features(seg_data,fs,n_fft,hop_length,n_mfcc)\n",
    "                    audio_features_mean = np.mean(audio_features,axis=0)\n",
    "                    audio_features_mean = np.column_stack(audio_features_mean)\n",
    "                    audio_features_var = np.var(audio_features,axis=0)\n",
    "                    audio_features_var = np.column_stack(audio_features_var)\n",
    "\n",
    "                    # obtaining glcm features\n",
    "                    glcmFeatures = ImageProcessing.getGLCMFeatureVector(med,distances=glcm_distances,angles=glcm_angles)\n",
    "\n",
    "                    # concatenating all the features to obtain feature vector of a segment\n",
    "                    singleSegFeatures = np.concatenate((general_info,pixelFeatures,audio_features_mean,audio_features_var,glcmFeatures),axis = 1)\n",
    "\n",
    "\n",
    "                    if features is None:\n",
    "                        features = singleSegFeatures\n",
    "\n",
    "                    else:\n",
    "                        features = np.concatenate((features,singleSegFeatures))\n",
    "\n",
    "                    i = i + 1\n",
    "                    \n",
    "        # forming header columns for the dataframe\n",
    "        pixelColumns = ImageProcessing.getPixelFeatureVectorColumns()\n",
    "\n",
    "        glcmColumns = ImageProcessing.getGLCMColumnNames(distances=glcm_distances,angles=glcm_angles)\n",
    "\n",
    "        self.feature_columns.extend(pixelColumns)\n",
    "\n",
    "        audio_feature_mean_columns = AudioProcessing.get_audio_feature_columns(n_mfcc,'mean')\n",
    "        audio_feature_var_columns = AudioProcessing.get_audio_feature_columns(n_mfcc,'var')\n",
    "        self.feature_columns.extend(audio_feature_mean_columns)\n",
    "        self.feature_columns.extend(audio_feature_var_columns)\n",
    "\n",
    "        self.feature_columns.extend(glcmColumns)\n",
    "        self.features = features\n",
    "\n",
    "        return features\n",
    "\n",
    "    def save_features(self,featuresPath):\n",
    "        df = pd.DataFrame(self.features,columns= self.feature_columns)\n",
    "        df.to_excel(featuresPath)\n",
    "    def train(self,featuresPath,validationNo = 1):\n",
    "        df = pd.read_excel(featuresPath)\n",
    "\n",
    "        # if self.database.db_name == 'esc10' or self.database.db_name == 'esc50':\n",
    "        #     df = df.drop('Maximum',axis = 1)\n",
    "        #     df = df.drop('Range',axis = 1)\n",
    "        #     df = df.drop('SegmentLabel',axis = 1)\n",
    "\n",
    "        # if self.database.db_name == 'freiburg':\n",
    "\n",
    "\n",
    "        try:\n",
    "\n",
    "            df = df.drop('FirstOrder_Maximum_0',axis = 1)\n",
    "            df = df.drop('FirstOrder_Range_0',axis = 1)\n",
    "\n",
    "            df = df.drop('FirstOrder_Maximum_1',axis = 1)\n",
    "            df = df.drop('FirstOrder_Range_1',axis = 1)\n",
    "\n",
    "            df = df.drop('FirstOrder_Maximum_2',axis = 1)\n",
    "            df = df.drop('FirstOrder_Range_2',axis = 1)\n",
    "\n",
    "            df = df.drop('FirstOrder_Maximum_3',axis = 1)\n",
    "            df = df.drop('FirstOrder_Range_3',axis = 1)\n",
    "\n",
    "        except:\n",
    "            pass\n",
    "\n",
    "        df = df.drop('SegmentLabel',axis = 1)\n",
    "        \n",
    "        validationNumbers = []\n",
    "        filenames = df['FileName']\n",
    "\n",
    "\n",
    "        for filename in filenames:\n",
    "\n",
    "            if self.database.db_name == 'freiburg':\n",
    "                f = filename.split('\\\\')[-1].replace('take','')\n",
    "                f = f.replace('.wav','')\n",
    "                f = int(f)\n",
    "\n",
    "                cross_val = 10\n",
    "                r = range(cross_val)\n",
    "\n",
    "                for j in r:\n",
    "                    if (f % cross_val) == j:\n",
    "                        validationNumbers.append('{}'.format(j+1))\n",
    "\n",
    "            else:\n",
    "                validationNumbers.append(filename.split('\\\\')[-1][0])\n",
    "\n",
    "\n",
    "        df['ValidationNo'] = pd.Series(validationNumbers)\n",
    "\n",
    "        validation_groupy = df.groupby(['ValidationNo','ClassLabel'])\n",
    "\n",
    "        features_train = None\n",
    "        features_test = None\n",
    "        labels_train = None\n",
    "        labels_test = None\n",
    "        \n",
    "        print(\"Dividing into cross validating set ...\")\n",
    "        for name,group in validation_groupy:\n",
    "            l = int(name[1])\n",
    "\n",
    "            group_df = group.drop('FileName',axis = 1)\n",
    "            # group_df = group_df.drop('ClassLabel',axis = 1)\n",
    "            group_df = group_df.drop('ValidationNo',axis = 1)\n",
    "\n",
    "            g = group_df.as_matrix()\n",
    "\n",
    "            f = g[:,1:]\n",
    "            l = g[:,0]\n",
    "\n",
    "            if validationNo == int(name[0]):\n",
    "                if features_test is None:\n",
    "                    features_test = f\n",
    "                    labels_test = l\n",
    "                    # labels_test.append(l)\n",
    "                else:\n",
    "                    features_test = np.concatenate((features_test,f))\n",
    "                    labels_test = np.concatenate((labels_test,l))\n",
    "                    # labels_test.append(l)\n",
    "\n",
    "            else:\n",
    "                if features_train is None:\n",
    "                    features_train = f\n",
    "                    labels_train = l\n",
    "                    # labels_train.append(l)\n",
    "                else:\n",
    "                    features_train = np.concatenate((features_train,f))\n",
    "                    labels_train = np.concatenate((labels_train,l))\n",
    "                    # labels_train.append(l)\n",
    "                    from sklearn.preprocessing import MinMaxScaler\n",
    "        from sklearn.preprocessing import StandardScaler\n",
    "        normalizer = MinMaxScaler()\n",
    "        # normalizer = StandardScaler()\n",
    "        normalizer.fit(features_train)\n",
    "        features_train = normalizer.transform(features_train)\n",
    "        features_test = normalizer.transform(features_test)\n",
    "\n",
    "        # print(features_train.shape)\n",
    "        print(\"predicting data...\")\n",
    "        # return svm_predict(features_train,labels_train,features_test,labels_test)\n",
    "        return svm_predict(features_train,labels_train,features_test,labels_test),labels_test"
   ]
  },
  {
   "cell_type": "code",
   "execution_count": null,
   "metadata": {},
   "outputs": [],
   "source": []
  }
 ],
 "metadata": {
  "accelerator": "GPU",
  "colab": {
   "name": "EEG_relaxation_vs_concentration.ipynb",
   "provenance": []
  },
  "kernelspec": {
   "display_name": "Python 3",
   "language": "python",
   "name": "python3"
  },
  "language_info": {
   "codemirror_mode": {
    "name": "ipython",
    "version": 3
   },
   "file_extension": ".py",
   "mimetype": "text/x-python",
   "name": "python",
   "nbconvert_exporter": "python",
   "pygments_lexer": "ipython3",
   "version": "3.8.1"
  }
 },
 "nbformat": 4,
 "nbformat_minor": 1
}
