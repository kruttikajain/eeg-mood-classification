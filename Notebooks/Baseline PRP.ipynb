{
 "cells": [
  {
   "cell_type": "code",
   "execution_count": 4,
   "metadata": {},
   "outputs": [
    {
     "name": "stdout",
     "output_type": "stream",
     "text": [
      "/mood-detection\n"
     ]
    }
   ],
   "source": [
    "%cd /mood-detection"
   ]
  },
  {
   "cell_type": "code",
   "execution_count": 5,
   "metadata": {},
   "outputs": [
    {
     "name": "stdout",
     "output_type": "stream",
     "text": [
      "2.0.0\n"
     ]
    }
   ],
   "source": [
    "import os\n",
    "import numpy as np\n",
    "import pandas as pd\n",
    "\n",
    "from sklearn.model_selection import train_test_split, StratifiedKFold\n",
    "\n",
    "import tensorflow\n",
    "print(tensorflow.__version__)\n",
    "from tensorflow.keras import optimizers\n",
    "from tensorflow.keras.callbacks import ModelCheckpoint\n",
    "from tensorflow.keras.models import Sequential, Model\n",
    "from tensorflow.keras.layers import Input, Flatten, Dense, Dropout, Convolution2D, Conv2D, MaxPooling2D, Lambda, GlobalMaxPooling2D, GlobalAveragePooling2D, BatchNormalization, Activation, AveragePooling2D, Concatenate, SeparableConv2D, MaxPooling3D, Conv3D, DepthwiseConv2D\n",
    "from tensorflow.keras.models import model_from_json"
   ]
  },
  {
   "cell_type": "code",
   "execution_count": null,
   "metadata": {},
   "outputs": [
    {
     "name": "stdout",
     "output_type": "stream",
     "text": [
      "loading data from .npy files...\n",
      "numpy_data_original_size/concentration_array_original59.npy\n",
      "numpy_data_original_size/relaxed_array_original33.npy\n",
      "numpy_data_original_size/concentration_array_original49.npy\n"
     ]
    }
   ],
   "source": [
    "base_path = \"/mood-detection/numpy_data_original_size\"\n",
    "concentration_data_array = None\n",
    "relaxed_data_array = None\n",
    "print(\"loading data from .npy files...\")\n",
    "for filename in os.listdir(base_path):\n",
    "    filename = os.path.join(base_path, filename)\n",
    "    if \"concentration\" in filename:\n",
    "        print(filename)\n",
    "        concentration_data_array = np.concatenate((concentration_data_array, np.load(filename))) if concentration_data_array is not None else np.load(filename)\n",
    "    if \"relaxed_array\" in filename:\n",
    "        print(filename)\n",
    "        relaxed_data_array = np.concatenate((relaxed_data_array, np.load(filename))) if relaxed_data_array is not None else np.load(filename)\n",
    "print(concentration_data_array.shape, relaxed_data_array.shape)\n",
    "print(len(concentration_data_array), len(relaxed_data_array))"
   ]
  },
  {
   "cell_type": "code",
   "execution_count": 2,
   "metadata": {
    "scrolled": true
   },
   "outputs": [
    {
     "name": "stdout",
     "output_type": "stream",
     "text": [
      "'1e0fYpZN5Uvoq30-hf4mtmSc8Mw9tBLpE?usp=sharing'   Notebooks\r\n",
      " 8c26dn6c7w-1.zip\t\t\t\t  numpy_data_10_percent_size\r\n",
      " EEG\t\t\t\t\t\t  numpy_data_original_size\r\n",
      " eeg2spectrogram_converter.py\t\t\t  scripts\r\n",
      "'Emotiv 30s EDF'\t\t\t\t  spectrogram_images\r\n"
     ]
    }
   ],
   "source": [
    "!ls .."
   ]
  }
 ],
 "metadata": {
  "kernelspec": {
   "display_name": "Python 3",
   "language": "python",
   "name": "python3"
  },
  "language_info": {
   "codemirror_mode": {
    "name": "ipython",
    "version": 3
   },
   "file_extension": ".py",
   "mimetype": "text/x-python",
   "name": "python",
   "nbconvert_exporter": "python",
   "pygments_lexer": "ipython3",
   "version": "3.7.3"
  }
 },
 "nbformat": 4,
 "nbformat_minor": 2
}
