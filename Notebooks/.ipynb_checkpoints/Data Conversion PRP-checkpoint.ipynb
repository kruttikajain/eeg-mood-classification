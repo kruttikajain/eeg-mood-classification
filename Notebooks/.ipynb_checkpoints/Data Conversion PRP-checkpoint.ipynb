{
 "cells": [
  {
   "cell_type": "code",
   "execution_count": 1,
   "metadata": {},
   "outputs": [
    {
     "name": "stdout",
     "output_type": "stream",
     "text": [
      "/mood-detection/EEG\n"
     ]
    }
   ],
   "source": [
    "%cd /mood-detection/EEG"
   ]
  },
  {
   "cell_type": "code",
   "execution_count": 2,
   "metadata": {},
   "outputs": [
    {
     "name": "stdout",
     "output_type": "stream",
     "text": [
      "Collecting mne\n",
      "\u001b[?25l  Downloading https://files.pythonhosted.org/packages/a1/7c/ad1b52a3fdd4be8f55e183f1eff7d76f48cd1bee83c5630f9c26770e032e/mne-0.19.2-py3-none-any.whl (6.4MB)\n",
      "\u001b[K     |████████████████████████████████| 6.4MB 8.4MB/s eta 0:00:01     |███████████▎                    | 2.2MB 8.4MB/s eta 0:00:01\n",
      "\u001b[?25hRequirement already satisfied: numpy>=1.11.3 in /opt/conda/lib/python3.7/site-packages (from mne) (1.17.2)\n",
      "Requirement already satisfied: scipy>=0.17.1 in /opt/conda/lib/python3.7/site-packages (from mne) (1.3.1)\n",
      "Installing collected packages: mne\n",
      "Successfully installed mne-0.19.2\n"
     ]
    }
   ],
   "source": [
    "!pip install mne"
   ]
  },
  {
   "cell_type": "code",
   "execution_count": 3,
   "metadata": {},
   "outputs": [
    {
     "name": "stdout",
     "output_type": "stream",
     "text": [
      "raw_images   S006E01.edf  S011E02.edf  S016E03.edf  S021E04.edf  S027E01.edf\r\n",
      "S001E01.edf  S006E02.edf  S011E03.edf  S016E04.edf  S022E01.edf  S027E02.edf\r\n",
      "S001E02.edf  S006E03.edf  S011E04.edf  S017E01.edf  S022E02.edf  S027E03.edf\r\n",
      "S001E03.edf  S006E04.edf  S012E01.edf  S017E02.edf  S022E03.edf  S027E04.edf\r\n",
      "S001E04.edf  S007E01.edf  S012E02.edf  S017E03.edf  S022E04.edf  S028E01.edf\r\n",
      "S002E01.edf  S007E02.edf  S012E03.edf  S017E04.edf  S023E01.edf  S028E02.edf\r\n",
      "S002E02.edf  S007E03.edf  S012E04.edf  S018E01.edf  S023E02.edf  S028E03.edf\r\n",
      "S002E03.edf  S007E04.edf  S013E01.edf  S018E02.edf  S023E03.edf  S028E04.edf\r\n",
      "S002E04.edf  S008E01.edf  S013E02.edf  S018E03.edf  S023E04.edf  S029E01.edf\r\n",
      "S003E01.edf  S008E02.edf  S013E03.edf  S018E04.edf  S024E01.edf  S029E02.edf\r\n",
      "S003E02.edf  S008E03.edf  S013E04.edf  S019E01.edf  S024E02.edf  S029E03.edf\r\n",
      "S003E03.edf  S008E04.edf  S014E01.edf  S019E02.edf  S024E03.edf  S029E04.edf\r\n",
      "S003E04.edf  S009E01.edf  S014E02.edf  S019E03.edf  S024E04.edf  S030E01.edf\r\n",
      "S004E01.edf  S009E02.edf  S014E03.edf  S019E04.edf  S025E01.edf  S030E02.edf\r\n",
      "S004E02.edf  S009E03.edf  S014E04.edf  S020E01.edf  S025E02.edf  S030E03.edf\r\n",
      "S004E03.edf  S009E04.edf  S015E01.edf  S020E02.edf  S025E03.edf  S030E04.edf\r\n",
      "S004E04.edf  S010E01.edf  S015E02.edf  S020E03.edf  S025E04.edf\r\n",
      "S005E01.edf  S010E02.edf  S015E03.edf  S020E04.edf  S026E01.edf\r\n",
      "S005E02.edf  S010E03.edf  S015E04.edf  S021E01.edf  S026E02.edf\r\n",
      "S005E03.edf  S010E04.edf  S016E01.edf  S021E02.edf  S026E03.edf\r\n",
      "S005E04.edf  S011E01.edf  S016E02.edf  S021E03.edf  S026E04.edf\r\n"
     ]
    }
   ],
   "source": [
    "!ls"
   ]
  },
  {
   "cell_type": "code",
   "execution_count": 4,
   "metadata": {},
   "outputs": [],
   "source": [
    "import matplotlib.pyplot as plt # plotting\n",
    "import mne\n",
    "import numpy as np # linear algebra\n",
    "import os\n",
    "from scipy import signal\n",
    "from sklearn.preprocessing import StandardScaler\n",
    "plt.set_cmap('jet')"
   ]
  },
  {
   "cell_type": "code",
   "execution_count": 4,
   "metadata": {},
   "outputs": [],
   "source": [
    "def create_spectrograms(file_name, file_type, data, channels):\n",
    "    total_time_in_seconds = 180\n",
    "    window_length_in_seconds = 5\n",
    "    number_of_parts = int(total_time_in_seconds / window_length_in_seconds)\n",
    "    overlap_datapoints = False\n",
    "    \n",
    "    for part in range(number_of_parts):\n",
    "            for index, channel in enumerate(channels):\n",
    "                #print(\"Processing %s channel of file %s part %s.\" % (channel, filename, part))\n",
    "                fs = 256  # Assume 512 Hz sampling rate for now...   # SampFreq[0, 0] \n",
    "                folder_name = filename.split(\".\")[0] + \"_\" + str(part)\n",
    "                start = part * fs * window_length_in_seconds\n",
    "                next_part = (part+1) if overlap_datapoints is False else (part+5)\n",
    "                end = (part+1) * fs * window_length_in_seconds\n",
    "                # path to store frequency domain spectrogram images of the signals\n",
    "                folder_path = os.path.join('../spectrogram_images/relaxed',folder_name) if file_type == 0 else os.path.join('../spectrogram_images/concentration',folder_name)\n",
    "                if not os.path.exists(folder_path):\n",
    "                  #print(\"creating folder %s.\" % (folder_name))\n",
    "                  os.mkdir(folder_path)\n",
    "                new_filename = \"%s_%s.png\" % (folder_name, channel)\n",
    "                new_file_path = os.path.join(folder_path, new_filename)\n",
    "                x = data[index, start:end]\n",
    "                f, t, Sxx = signal.spectrogram(x, fs, window = signal.tukey(128), noverlap = 102)\n",
    "                fig, ax = plt.subplots( nrows=1, ncols=1 )\n",
    "                fig.figsize= (400, 400)\n",
    "                fig.gca().set_axis_off()\n",
    "                fig.gca().xaxis.set_major_locator(plt.NullLocator())\n",
    "                fig.gca().yaxis.set_major_locator(plt.NullLocator())\n",
    "                ax.pcolormesh(t, f, np.log10(Sxx))\n",
    "                fig.savefig(new_file_path, bbox_inches = 'tight', pad_inches = 0)   # save the figure to file\n",
    "                plt.close(fig)\n",
    "                x, f, t, Sxx = None, None, None, None\n",
    "                "
   ]
  },
  {
   "cell_type": "code",
   "execution_count": 5,
   "metadata": {
    "scrolled": true
   },
   "outputs": [
    {
     "name": "stdout",
     "output_type": "stream",
     "text": [
      "Extracting EDF parameters from /mood-detection/EEG/S030E01.edf...\n",
      "EDF file detected\n",
      "Setting channel info structure...\n",
      "Creating raw.info structure...\n"
     ]
    },
    {
     "name": "stderr",
     "output_type": "stream",
     "text": [
      "<ipython-input-5-07a921d477de>:22: RuntimeWarning: Physical range is not defined in following channels:\n",
      "P8\n",
      "  data = mne.io.read_raw_edf(file_name)\n"
     ]
    },
    {
     "name": "stdout",
     "output_type": "stream",
     "text": [
      "Loaded file S030E01.edf\n"
     ]
    },
    {
     "name": "stderr",
     "output_type": "stream",
     "text": [
      "/opt/conda/lib/python3.7/site-packages/ipykernel_launcher.py:28: RuntimeWarning: divide by zero encountered in log10\n",
      "<string>:6: UserWarning: Warning: converting a masked element to nan.\n",
      "/opt/conda/lib/python3.7/site-packages/numpy/ma/core.py:711: UserWarning: Warning: converting a masked element to nan.\n",
      "  data = np.array(a, copy=False, subok=subok)\n"
     ]
    },
    {
     "name": "stdout",
     "output_type": "stream",
     "text": [
      "Completed spectrogram generation for file S030E01.edf\n",
      "Extracting EDF parameters from /mood-detection/EEG/S030E04.edf...\n",
      "EDF file detected\n",
      "Setting channel info structure...\n",
      "Creating raw.info structure...\n",
      "Loaded file S030E04.edf\n"
     ]
    },
    {
     "name": "stderr",
     "output_type": "stream",
     "text": [
      "<ipython-input-5-07a921d477de>:22: RuntimeWarning: Physical range is not defined in following channels:\n",
      "P8\n",
      "  data = mne.io.read_raw_edf(file_name)\n"
     ]
    },
    {
     "name": "stdout",
     "output_type": "stream",
     "text": [
      "Completed spectrogram generation for file S030E04.edf\n",
      "Extracting EDF parameters from /mood-detection/EEG/S030E02.edf...\n",
      "EDF file detected\n",
      "Setting channel info structure...\n",
      "Creating raw.info structure...\n",
      "Loaded file S030E02.edf\n",
      "Completed spectrogram generation for file S030E02.edf\n",
      "Extracting EDF parameters from /mood-detection/EEG/S030E03.edf...\n",
      "EDF file detected\n",
      "Setting channel info structure...\n",
      "Creating raw.info structure...\n",
      "Loaded file S030E03.edf\n",
      "Completed spectrogram generation for file S030E03.edf\n"
     ]
    }
   ],
   "source": [
    "# If folders don't exist already create them in the home directory.\n",
    "if not os.path.exists(\"raw_images\"):\n",
    "    os.mkdir(\"raw_images\")\n",
    "if not os.path.exists(\"raw_images/relaxed\"):\n",
    "    os.mkdir(\"raw_images/relaxed\")\n",
    "if not os.path.exists(\"raw_images/concentration\"):\n",
    "    os.mkdir(\"raw_images/concentration\")\n",
    "if not os.path.exists(\"../spectrogram_images\"):\n",
    "    os.mkdir(\"../spectrogram_images\")\n",
    "if not os.path.exists(\"../spectrogram_images/relaxed\"):\n",
    "    os.mkdir(\"../spectrogram_images/relaxed\")\n",
    "if not os.path.exists(\"../spectrogram_images/concentration\"):\n",
    "    os.mkdir(\"../spectrogram_images/concentration\")\n",
    "\n",
    "for file_runner in range(30,31):\n",
    "    for filename in os.listdir('.'):\n",
    "        if not filename.startswith(\"S0\"+str(file_runner)):\n",
    "            continue\n",
    "        file_name = os.path.join('.',filename)\n",
    "\n",
    "        file_type = 0 if filename.split(\".\")[0].endswith(\"E01\") or filename.split(\".\")[0].endswith(\"E03\") else 1\n",
    "        data = mne.io.read_raw_edf(file_name)\n",
    "        raw_data = data.get_data()\n",
    "        info = data.info\n",
    "        channels = data.ch_names\n",
    "        print(\"Loaded file %s\" % (filename))\n",
    "        create_spectrograms(file_name, file_type, raw_data, channels)\n",
    "        print(\"Completed spectrogram generation for file %s\" % (filename))\n",
    "        data, raw_data = None, None"
   ]
  }
 ],
 "metadata": {
  "kernelspec": {
   "display_name": "Python 3",
   "language": "python",
   "name": "python3"
  },
  "language_info": {
   "codemirror_mode": {
    "name": "ipython",
    "version": 3
   },
   "file_extension": ".py",
   "mimetype": "text/x-python",
   "name": "python",
   "nbconvert_exporter": "python",
   "pygments_lexer": "ipython3",
   "version": "3.7.3"
  }
 },
 "nbformat": 4,
 "nbformat_minor": 2
}
